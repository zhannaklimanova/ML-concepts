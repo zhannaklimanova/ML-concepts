{
  "nbformat": 4,
  "nbformat_minor": 0,
  "metadata": {
    "colab": {
      "provenance": [],
      "collapsed_sections": [
        "BCCzGY-qjvoF",
        "xDu72YBqjSoF",
        "4QqrN6sjjc4B",
        "zfg8RMXXjfbM",
        "G_dvR-_Gj7M8",
        "6YH08_Tej_iU",
        "i2yifnmAkLeU",
        "ayZ38ZsyEkLX",
        "sXkyTx8a-ALC",
        "5GAGm2Su_05Q",
        "MOKWoi_6-e6n",
        "rKagQk8c-ooh",
        "KdASfxg2AkCe",
        "bCz65PYJAkyK",
        "0nNufQK9Cuxf"
      ]
    },
    "kernelspec": {
      "name": "python3",
      "display_name": "Python 3"
    },
    "language_info": {
      "name": "python"
    }
  },
  "cells": [
    {
      "cell_type": "markdown",
      "source": [
        "# **SECTION 0: Imports**"
      ],
      "metadata": {
        "id": "kLA7ZVmQhuPV"
      }
    },
    {
      "cell_type": "code",
      "source": [
        "import numpy as np\n",
        "\n",
        "import pandas as pd \n",
        "\n",
        "from collections import Counter\n",
        "\n",
        "from sklearn import model_selection\n",
        "from sklearn.preprocessing import StandardScaler\n",
        "from sklearn.preprocessing import MinMaxScaler\n",
        "\n",
        "from scipy import stats\n",
        "\n",
        "import matplotlib.pyplot as plt\n",
        "\n",
        "\n",
        "import matplotlib.pyplot as plt\n",
        "from IPython.core.debugger import set_trace\n",
        "\n",
        "import pandas as pd \n",
        "from sklearn import model_selection\n",
        "from sklearn.model_selection import train_test_split\n",
        "\n",
        "%matplotlib inline"
      ],
      "metadata": {
        "id": "x3vLqyYViGlL"
      },
      "execution_count": 96,
      "outputs": []
    },
    {
      "cell_type": "markdown",
      "source": [
        "# **SECTION 1: Acquire, preprocess, and analyze data.**"
      ],
      "metadata": {
        "id": "3BhAGyoVhzy8"
      }
    },
    {
      "cell_type": "markdown",
      "source": [
        "## **Data Acquisition Step**"
      ],
      "metadata": {
        "id": "AbdhD2GBiX5S"
      }
    },
    {
      "cell_type": "markdown",
      "source": [
        "### Hepatitis Dataset"
      ],
      "metadata": {
        "id": "MJdu4-LVjtVB"
      }
    },
    {
      "cell_type": "code",
      "source": [
        "hepatitisDataColNames = ['Class', 'AGE', 'SEX', 'STEROID', 'ANTIVIRALS', 'FATIGUE', 'MALAISE', 'ANOREXIA', 'LIVER BIG', 'LIVER FIRM', 'SPLEEN PALPABLE', 'SPIDERS', 'ASCITES', 'VARICES', 'BILIRUBIN', 'ALK PHOSPHATE', 'SGOT', 'ALBUMIN', 'PROTIME', 'HISTOLOGY']\n",
        "hepatitisData = pd.read_csv(\"http://archive.ics.uci.edu/ml/machine-learning-databases/hepatitis/hepatitis.data\", names=hepatitisDataColNames)\n",
        "\n",
        "# Preprocessing Step\n",
        "hepatitisDataFiltered = hepatitisData[~hepatitisData.eq('?').any(1)]\n",
        "hepatitisDataFiltered.reset_index(drop=True, inplace=True) # reset the row indices \n",
        "hepatitisDataFiltered = hepatitisDataFiltered.apply(pd.to_numeric) # convert all row values from string to numberic\n",
        "classColumn = hepatitisDataFiltered.pop('Class')\n",
        "lastIndex = len(hepatitisDataFiltered.columns)\n",
        "hepatitisDataFiltered.insert(lastIndex, 'Class', classColumn)\n",
        "\n",
        "hepatitisDataFiltered"
      ],
      "metadata": {
        "colab": {
          "base_uri": "https://localhost:8080/",
          "height": 0
        },
        "id": "HX127tDPiMTj",
        "outputId": "ab16aed8-19c4-4dfd-855d-502b041c2653"
      },
      "execution_count": 97,
      "outputs": [
        {
          "output_type": "execute_result",
          "data": {
            "text/plain": [
              "    AGE  SEX  STEROID  ANTIVIRALS  FATIGUE  MALAISE  ANOREXIA  LIVER BIG  \\\n",
              "0    34    1        2           2        2        2         2          2   \n",
              "1    39    1        1           1        2        2         2          1   \n",
              "2    32    1        2           1        1        2         2          2   \n",
              "3    41    1        2           1        1        2         2          2   \n",
              "4    30    1        2           2        1        2         2          2   \n",
              "..  ...  ...      ...         ...      ...      ...       ...        ...   \n",
              "75   45    1        2           1        2        2         2          2   \n",
              "76   49    1        1           2        1        1         2          2   \n",
              "77   31    1        1           2        1        2         2          2   \n",
              "78   53    2        1           2        1        2         2          2   \n",
              "79   43    1        2           2        1        2         2          2   \n",
              "\n",
              "    LIVER FIRM  SPLEEN PALPABLE  SPIDERS  ASCITES  VARICES  BILIRUBIN  \\\n",
              "0            2                2        2        2        2        0.9   \n",
              "1            1                2        2        2        2        1.3   \n",
              "2            1                2        1        2        2        1.0   \n",
              "3            1                2        2        2        2        0.9   \n",
              "4            1                2        2        2        2        2.2   \n",
              "..         ...              ...      ...      ...      ...        ...   \n",
              "75           2                2        2        2        2        1.3   \n",
              "76           2                1        1        2        2        1.4   \n",
              "77           2                2        2        2        2        1.2   \n",
              "78           2                1        1        2        1        1.5   \n",
              "79           2                1        1        1        2        1.2   \n",
              "\n",
              "    ALK PHOSPHATE  SGOT  ALBUMIN  PROTIME  HISTOLOGY  Class  \n",
              "0              95    28      4.0       75          1      2  \n",
              "1              78    30      4.4       85          1      2  \n",
              "2              59   249      3.7       54          1      2  \n",
              "3              81    60      3.9       52          1      2  \n",
              "4              57   144      4.9       78          1      2  \n",
              "..            ...   ...      ...      ...        ...    ...  \n",
              "75             85    44      4.2       85          2      2  \n",
              "76             85    70      3.5       35          2      1  \n",
              "77             75   173      4.2       54          2      2  \n",
              "78             81    19      4.1       48          2      2  \n",
              "79            100    19      3.1       42          2      1  \n",
              "\n",
              "[80 rows x 20 columns]"
            ],
            "text/html": [
              "\n",
              "  <div id=\"df-671295ed-064c-45be-99e0-6a50d615b933\">\n",
              "    <div class=\"colab-df-container\">\n",
              "      <div>\n",
              "<style scoped>\n",
              "    .dataframe tbody tr th:only-of-type {\n",
              "        vertical-align: middle;\n",
              "    }\n",
              "\n",
              "    .dataframe tbody tr th {\n",
              "        vertical-align: top;\n",
              "    }\n",
              "\n",
              "    .dataframe thead th {\n",
              "        text-align: right;\n",
              "    }\n",
              "</style>\n",
              "<table border=\"1\" class=\"dataframe\">\n",
              "  <thead>\n",
              "    <tr style=\"text-align: right;\">\n",
              "      <th></th>\n",
              "      <th>AGE</th>\n",
              "      <th>SEX</th>\n",
              "      <th>STEROID</th>\n",
              "      <th>ANTIVIRALS</th>\n",
              "      <th>FATIGUE</th>\n",
              "      <th>MALAISE</th>\n",
              "      <th>ANOREXIA</th>\n",
              "      <th>LIVER BIG</th>\n",
              "      <th>LIVER FIRM</th>\n",
              "      <th>SPLEEN PALPABLE</th>\n",
              "      <th>SPIDERS</th>\n",
              "      <th>ASCITES</th>\n",
              "      <th>VARICES</th>\n",
              "      <th>BILIRUBIN</th>\n",
              "      <th>ALK PHOSPHATE</th>\n",
              "      <th>SGOT</th>\n",
              "      <th>ALBUMIN</th>\n",
              "      <th>PROTIME</th>\n",
              "      <th>HISTOLOGY</th>\n",
              "      <th>Class</th>\n",
              "    </tr>\n",
              "  </thead>\n",
              "  <tbody>\n",
              "    <tr>\n",
              "      <th>0</th>\n",
              "      <td>34</td>\n",
              "      <td>1</td>\n",
              "      <td>2</td>\n",
              "      <td>2</td>\n",
              "      <td>2</td>\n",
              "      <td>2</td>\n",
              "      <td>2</td>\n",
              "      <td>2</td>\n",
              "      <td>2</td>\n",
              "      <td>2</td>\n",
              "      <td>2</td>\n",
              "      <td>2</td>\n",
              "      <td>2</td>\n",
              "      <td>0.9</td>\n",
              "      <td>95</td>\n",
              "      <td>28</td>\n",
              "      <td>4.0</td>\n",
              "      <td>75</td>\n",
              "      <td>1</td>\n",
              "      <td>2</td>\n",
              "    </tr>\n",
              "    <tr>\n",
              "      <th>1</th>\n",
              "      <td>39</td>\n",
              "      <td>1</td>\n",
              "      <td>1</td>\n",
              "      <td>1</td>\n",
              "      <td>2</td>\n",
              "      <td>2</td>\n",
              "      <td>2</td>\n",
              "      <td>1</td>\n",
              "      <td>1</td>\n",
              "      <td>2</td>\n",
              "      <td>2</td>\n",
              "      <td>2</td>\n",
              "      <td>2</td>\n",
              "      <td>1.3</td>\n",
              "      <td>78</td>\n",
              "      <td>30</td>\n",
              "      <td>4.4</td>\n",
              "      <td>85</td>\n",
              "      <td>1</td>\n",
              "      <td>2</td>\n",
              "    </tr>\n",
              "    <tr>\n",
              "      <th>2</th>\n",
              "      <td>32</td>\n",
              "      <td>1</td>\n",
              "      <td>2</td>\n",
              "      <td>1</td>\n",
              "      <td>1</td>\n",
              "      <td>2</td>\n",
              "      <td>2</td>\n",
              "      <td>2</td>\n",
              "      <td>1</td>\n",
              "      <td>2</td>\n",
              "      <td>1</td>\n",
              "      <td>2</td>\n",
              "      <td>2</td>\n",
              "      <td>1.0</td>\n",
              "      <td>59</td>\n",
              "      <td>249</td>\n",
              "      <td>3.7</td>\n",
              "      <td>54</td>\n",
              "      <td>1</td>\n",
              "      <td>2</td>\n",
              "    </tr>\n",
              "    <tr>\n",
              "      <th>3</th>\n",
              "      <td>41</td>\n",
              "      <td>1</td>\n",
              "      <td>2</td>\n",
              "      <td>1</td>\n",
              "      <td>1</td>\n",
              "      <td>2</td>\n",
              "      <td>2</td>\n",
              "      <td>2</td>\n",
              "      <td>1</td>\n",
              "      <td>2</td>\n",
              "      <td>2</td>\n",
              "      <td>2</td>\n",
              "      <td>2</td>\n",
              "      <td>0.9</td>\n",
              "      <td>81</td>\n",
              "      <td>60</td>\n",
              "      <td>3.9</td>\n",
              "      <td>52</td>\n",
              "      <td>1</td>\n",
              "      <td>2</td>\n",
              "    </tr>\n",
              "    <tr>\n",
              "      <th>4</th>\n",
              "      <td>30</td>\n",
              "      <td>1</td>\n",
              "      <td>2</td>\n",
              "      <td>2</td>\n",
              "      <td>1</td>\n",
              "      <td>2</td>\n",
              "      <td>2</td>\n",
              "      <td>2</td>\n",
              "      <td>1</td>\n",
              "      <td>2</td>\n",
              "      <td>2</td>\n",
              "      <td>2</td>\n",
              "      <td>2</td>\n",
              "      <td>2.2</td>\n",
              "      <td>57</td>\n",
              "      <td>144</td>\n",
              "      <td>4.9</td>\n",
              "      <td>78</td>\n",
              "      <td>1</td>\n",
              "      <td>2</td>\n",
              "    </tr>\n",
              "    <tr>\n",
              "      <th>...</th>\n",
              "      <td>...</td>\n",
              "      <td>...</td>\n",
              "      <td>...</td>\n",
              "      <td>...</td>\n",
              "      <td>...</td>\n",
              "      <td>...</td>\n",
              "      <td>...</td>\n",
              "      <td>...</td>\n",
              "      <td>...</td>\n",
              "      <td>...</td>\n",
              "      <td>...</td>\n",
              "      <td>...</td>\n",
              "      <td>...</td>\n",
              "      <td>...</td>\n",
              "      <td>...</td>\n",
              "      <td>...</td>\n",
              "      <td>...</td>\n",
              "      <td>...</td>\n",
              "      <td>...</td>\n",
              "      <td>...</td>\n",
              "    </tr>\n",
              "    <tr>\n",
              "      <th>75</th>\n",
              "      <td>45</td>\n",
              "      <td>1</td>\n",
              "      <td>2</td>\n",
              "      <td>1</td>\n",
              "      <td>2</td>\n",
              "      <td>2</td>\n",
              "      <td>2</td>\n",
              "      <td>2</td>\n",
              "      <td>2</td>\n",
              "      <td>2</td>\n",
              "      <td>2</td>\n",
              "      <td>2</td>\n",
              "      <td>2</td>\n",
              "      <td>1.3</td>\n",
              "      <td>85</td>\n",
              "      <td>44</td>\n",
              "      <td>4.2</td>\n",
              "      <td>85</td>\n",
              "      <td>2</td>\n",
              "      <td>2</td>\n",
              "    </tr>\n",
              "    <tr>\n",
              "      <th>76</th>\n",
              "      <td>49</td>\n",
              "      <td>1</td>\n",
              "      <td>1</td>\n",
              "      <td>2</td>\n",
              "      <td>1</td>\n",
              "      <td>1</td>\n",
              "      <td>2</td>\n",
              "      <td>2</td>\n",
              "      <td>2</td>\n",
              "      <td>1</td>\n",
              "      <td>1</td>\n",
              "      <td>2</td>\n",
              "      <td>2</td>\n",
              "      <td>1.4</td>\n",
              "      <td>85</td>\n",
              "      <td>70</td>\n",
              "      <td>3.5</td>\n",
              "      <td>35</td>\n",
              "      <td>2</td>\n",
              "      <td>1</td>\n",
              "    </tr>\n",
              "    <tr>\n",
              "      <th>77</th>\n",
              "      <td>31</td>\n",
              "      <td>1</td>\n",
              "      <td>1</td>\n",
              "      <td>2</td>\n",
              "      <td>1</td>\n",
              "      <td>2</td>\n",
              "      <td>2</td>\n",
              "      <td>2</td>\n",
              "      <td>2</td>\n",
              "      <td>2</td>\n",
              "      <td>2</td>\n",
              "      <td>2</td>\n",
              "      <td>2</td>\n",
              "      <td>1.2</td>\n",
              "      <td>75</td>\n",
              "      <td>173</td>\n",
              "      <td>4.2</td>\n",
              "      <td>54</td>\n",
              "      <td>2</td>\n",
              "      <td>2</td>\n",
              "    </tr>\n",
              "    <tr>\n",
              "      <th>78</th>\n",
              "      <td>53</td>\n",
              "      <td>2</td>\n",
              "      <td>1</td>\n",
              "      <td>2</td>\n",
              "      <td>1</td>\n",
              "      <td>2</td>\n",
              "      <td>2</td>\n",
              "      <td>2</td>\n",
              "      <td>2</td>\n",
              "      <td>1</td>\n",
              "      <td>1</td>\n",
              "      <td>2</td>\n",
              "      <td>1</td>\n",
              "      <td>1.5</td>\n",
              "      <td>81</td>\n",
              "      <td>19</td>\n",
              "      <td>4.1</td>\n",
              "      <td>48</td>\n",
              "      <td>2</td>\n",
              "      <td>2</td>\n",
              "    </tr>\n",
              "    <tr>\n",
              "      <th>79</th>\n",
              "      <td>43</td>\n",
              "      <td>1</td>\n",
              "      <td>2</td>\n",
              "      <td>2</td>\n",
              "      <td>1</td>\n",
              "      <td>2</td>\n",
              "      <td>2</td>\n",
              "      <td>2</td>\n",
              "      <td>2</td>\n",
              "      <td>1</td>\n",
              "      <td>1</td>\n",
              "      <td>1</td>\n",
              "      <td>2</td>\n",
              "      <td>1.2</td>\n",
              "      <td>100</td>\n",
              "      <td>19</td>\n",
              "      <td>3.1</td>\n",
              "      <td>42</td>\n",
              "      <td>2</td>\n",
              "      <td>1</td>\n",
              "    </tr>\n",
              "  </tbody>\n",
              "</table>\n",
              "<p>80 rows × 20 columns</p>\n",
              "</div>\n",
              "      <button class=\"colab-df-convert\" onclick=\"convertToInteractive('df-671295ed-064c-45be-99e0-6a50d615b933')\"\n",
              "              title=\"Convert this dataframe to an interactive table.\"\n",
              "              style=\"display:none;\">\n",
              "        \n",
              "  <svg xmlns=\"http://www.w3.org/2000/svg\" height=\"24px\"viewBox=\"0 0 24 24\"\n",
              "       width=\"24px\">\n",
              "    <path d=\"M0 0h24v24H0V0z\" fill=\"none\"/>\n",
              "    <path d=\"M18.56 5.44l.94 2.06.94-2.06 2.06-.94-2.06-.94-.94-2.06-.94 2.06-2.06.94zm-11 1L8.5 8.5l.94-2.06 2.06-.94-2.06-.94L8.5 2.5l-.94 2.06-2.06.94zm10 10l.94 2.06.94-2.06 2.06-.94-2.06-.94-.94-2.06-.94 2.06-2.06.94z\"/><path d=\"M17.41 7.96l-1.37-1.37c-.4-.4-.92-.59-1.43-.59-.52 0-1.04.2-1.43.59L10.3 9.45l-7.72 7.72c-.78.78-.78 2.05 0 2.83L4 21.41c.39.39.9.59 1.41.59.51 0 1.02-.2 1.41-.59l7.78-7.78 2.81-2.81c.8-.78.8-2.07 0-2.86zM5.41 20L4 18.59l7.72-7.72 1.47 1.35L5.41 20z\"/>\n",
              "  </svg>\n",
              "      </button>\n",
              "      \n",
              "  <style>\n",
              "    .colab-df-container {\n",
              "      display:flex;\n",
              "      flex-wrap:wrap;\n",
              "      gap: 12px;\n",
              "    }\n",
              "\n",
              "    .colab-df-convert {\n",
              "      background-color: #E8F0FE;\n",
              "      border: none;\n",
              "      border-radius: 50%;\n",
              "      cursor: pointer;\n",
              "      display: none;\n",
              "      fill: #1967D2;\n",
              "      height: 32px;\n",
              "      padding: 0 0 0 0;\n",
              "      width: 32px;\n",
              "    }\n",
              "\n",
              "    .colab-df-convert:hover {\n",
              "      background-color: #E2EBFA;\n",
              "      box-shadow: 0px 1px 2px rgba(60, 64, 67, 0.3), 0px 1px 3px 1px rgba(60, 64, 67, 0.15);\n",
              "      fill: #174EA6;\n",
              "    }\n",
              "\n",
              "    [theme=dark] .colab-df-convert {\n",
              "      background-color: #3B4455;\n",
              "      fill: #D2E3FC;\n",
              "    }\n",
              "\n",
              "    [theme=dark] .colab-df-convert:hover {\n",
              "      background-color: #434B5C;\n",
              "      box-shadow: 0px 1px 3px 1px rgba(0, 0, 0, 0.15);\n",
              "      filter: drop-shadow(0px 1px 2px rgba(0, 0, 0, 0.3));\n",
              "      fill: #FFFFFF;\n",
              "    }\n",
              "  </style>\n",
              "\n",
              "      <script>\n",
              "        const buttonEl =\n",
              "          document.querySelector('#df-671295ed-064c-45be-99e0-6a50d615b933 button.colab-df-convert');\n",
              "        buttonEl.style.display =\n",
              "          google.colab.kernel.accessAllowed ? 'block' : 'none';\n",
              "\n",
              "        async function convertToInteractive(key) {\n",
              "          const element = document.querySelector('#df-671295ed-064c-45be-99e0-6a50d615b933');\n",
              "          const dataTable =\n",
              "            await google.colab.kernel.invokeFunction('convertToInteractive',\n",
              "                                                     [key], {});\n",
              "          if (!dataTable) return;\n",
              "\n",
              "          const docLinkHtml = 'Like what you see? Visit the ' +\n",
              "            '<a target=\"_blank\" href=https://colab.research.google.com/notebooks/data_table.ipynb>data table notebook</a>'\n",
              "            + ' to learn more about interactive tables.';\n",
              "          element.innerHTML = '';\n",
              "          dataTable['output_type'] = 'display_data';\n",
              "          await google.colab.output.renderOutput(dataTable, element);\n",
              "          const docLink = document.createElement('div');\n",
              "          docLink.innerHTML = docLinkHtml;\n",
              "          element.appendChild(docLink);\n",
              "        }\n",
              "      </script>\n",
              "    </div>\n",
              "  </div>\n",
              "  "
            ]
          },
          "metadata": {},
          "execution_count": 97
        }
      ]
    },
    {
      "cell_type": "markdown",
      "source": [
        "### Diabetic Retinopathy Debrecen Dataset"
      ],
      "metadata": {
        "id": "BCCzGY-qjvoF"
      }
    },
    {
      "cell_type": "code",
      "source": [
        "DRDDataColNamesV1 = list(range(0, 20))\n",
        "DRDDataColNamesV2 = [\"Quality Assessment\", \"Pre-Screening Result\", \"MA Detection 1\", \"MA Detection 2\", \"MA Detection 3\", \"MA Detection 4\", \"MA Detection 5\", \"MA Detection 6\", \n",
        "                 \"MA Detection Exudates 1\", \"MA Detection Exudates 2\", \"MA Detection Exudates 3\", \"MA Detection Exudates 4\", \"MA Detection Exudates 5\", \"MA Detection Exudates 6\", \"MA Detection Exudates 7\", \"MA Detection Exudates 8\",\n",
        "                 \"Euclid Distance\", \"Optic Disc Diameter\", \"AM/FM Classification\", \"Class\"]\n",
        "DRDData = pd.read_csv(\"https://archive.ics.uci.edu/ml/machine-learning-databases/00329/messidor_features.arff\", skiprows = 23, names=DRDDataColNamesV2)\n",
        "DRDData = DRDData[~DRDData.eq('@data').any(1)] # Remove the last row containing unnecessary data\n",
        "\n",
        "# Preprocessing Step\n",
        "DRDDataFiltered = DRDData.astype(float)\n",
        "\n",
        "DRDDataFiltered.drop(DRDDataFiltered[DRDDataFiltered['Quality Assessment'] == 0.0].index, inplace=True)\n",
        "DRDDataFiltered.reset_index(drop=True, inplace=True) # reset the row indices\n",
        "DRDDataFiltered['Class'] = DRDDataFiltered['Class'].astype(int)\n",
        "\n",
        "DRDDataFiltered"
      ],
      "metadata": {
        "colab": {
          "base_uri": "https://localhost:8080/",
          "height": 0
        },
        "id": "zEy8C1_ni3Vp",
        "outputId": "1f125069-1330-40af-fb29-2cb15c43667c"
      },
      "execution_count": 98,
      "outputs": [
        {
          "output_type": "execute_result",
          "data": {
            "text/plain": [
              "      Quality Assessment  Pre-Screening Result  MA Detection 1  \\\n",
              "0                    1.0                   1.0            22.0   \n",
              "1                    1.0                   1.0            24.0   \n",
              "2                    1.0                   1.0            62.0   \n",
              "3                    1.0                   1.0            55.0   \n",
              "4                    1.0                   1.0            44.0   \n",
              "...                  ...                   ...             ...   \n",
              "1142                 1.0                   1.0            34.0   \n",
              "1143                 1.0                   1.0            49.0   \n",
              "1144                 1.0                   0.0            49.0   \n",
              "1145                 1.0                   1.0            39.0   \n",
              "1146                 1.0                   1.0             7.0   \n",
              "\n",
              "      MA Detection 2  MA Detection 3  MA Detection 4  MA Detection 5  \\\n",
              "0               22.0            22.0            19.0            18.0   \n",
              "1               24.0            22.0            18.0            16.0   \n",
              "2               60.0            59.0            54.0            47.0   \n",
              "3               53.0            53.0            50.0            43.0   \n",
              "4               44.0            44.0            41.0            39.0   \n",
              "...              ...             ...             ...             ...   \n",
              "1142            34.0            34.0            33.0            31.0   \n",
              "1143            49.0            49.0            49.0            45.0   \n",
              "1144            48.0            48.0            45.0            43.0   \n",
              "1145            36.0            29.0            23.0            13.0   \n",
              "1146             7.0             7.0             7.0             7.0   \n",
              "\n",
              "      MA Detection 6  MA Detection Exudates 1  MA Detection Exudates 2  \\\n",
              "0               14.0                49.895756                17.775994   \n",
              "1               13.0                57.709936                23.799994   \n",
              "2               33.0                55.831441                27.993933   \n",
              "3               31.0                40.467228                18.445954   \n",
              "4               27.0                18.026254                 8.570709   \n",
              "...              ...                      ...                      ...   \n",
              "1142            24.0                 6.071765                 0.937472   \n",
              "1143            37.0                63.197145                27.377668   \n",
              "1144            33.0                30.461898                13.966980   \n",
              "1145             7.0                40.525739                12.604947   \n",
              "1146             5.0                69.423565                 7.031843   \n",
              "\n",
              "      MA Detection Exudates 3  MA Detection Exudates 4  \\\n",
              "0                    5.270920                 0.771761   \n",
              "1                    3.325423                 0.234185   \n",
              "2                   12.687485                 4.852282   \n",
              "3                    9.118901                 3.079428   \n",
              "4                    0.410381                 0.000000   \n",
              "...                       ...                      ...   \n",
              "1142                 0.031145                 0.003115   \n",
              "1143                 8.067688                 0.979548   \n",
              "1144                 1.763305                 0.137858   \n",
              "1145                 4.740919                 1.077570   \n",
              "1146                 1.750548                 0.046597   \n",
              "\n",
              "      MA Detection Exudates 5  MA Detection Exudates 6  \\\n",
              "0                    0.018632                 0.006864   \n",
              "1                    0.003903                 0.003903   \n",
              "2                    1.393889                 0.373252   \n",
              "3                    0.840261                 0.272434   \n",
              "4                    0.000000                 0.000000   \n",
              "...                       ...                      ...   \n",
              "1142                 0.000000                 0.000000   \n",
              "1143                 0.001552                 0.000000   \n",
              "1144                 0.011221                 0.000000   \n",
              "1145                 0.563518                 0.326860   \n",
              "1146                 0.021180                 0.008472   \n",
              "\n",
              "      MA Detection Exudates 7  MA Detection Exudates 8  Euclid Distance  \\\n",
              "0                    0.003923                 0.003923         0.486903   \n",
              "1                    0.003903                 0.003903         0.520908   \n",
              "2                    0.041817                 0.007744         0.530904   \n",
              "3                    0.007653                 0.001531         0.483284   \n",
              "4                    0.000000                 0.000000         0.475935   \n",
              "...                       ...                      ...              ...   \n",
              "1142                 0.000000                 0.000000         0.537470   \n",
              "1143                 0.000000                 0.000000         0.516733   \n",
              "1144                 0.000000                 0.000000         0.560632   \n",
              "1145                 0.239568                 0.174584         0.485972   \n",
              "1146                 0.000000                 0.000000         0.556192   \n",
              "\n",
              "      Optic Disc Diameter  AM/FM Classification  Class  \n",
              "0                0.100025                   1.0      0  \n",
              "1                0.144414                   0.0      0  \n",
              "2                0.128548                   0.0      1  \n",
              "3                0.114790                   0.0      0  \n",
              "4                0.123572                   0.0      1  \n",
              "...                   ...                   ...    ...  \n",
              "1142             0.116795                   0.0      0  \n",
              "1143             0.124190                   0.0      0  \n",
              "1144             0.129843                   0.0      0  \n",
              "1145             0.106690                   1.0      1  \n",
              "1146             0.088957                   0.0      0  \n",
              "\n",
              "[1147 rows x 20 columns]"
            ],
            "text/html": [
              "\n",
              "  <div id=\"df-80e1cf96-66fa-451d-b0ba-ab4f7c19bf0e\">\n",
              "    <div class=\"colab-df-container\">\n",
              "      <div>\n",
              "<style scoped>\n",
              "    .dataframe tbody tr th:only-of-type {\n",
              "        vertical-align: middle;\n",
              "    }\n",
              "\n",
              "    .dataframe tbody tr th {\n",
              "        vertical-align: top;\n",
              "    }\n",
              "\n",
              "    .dataframe thead th {\n",
              "        text-align: right;\n",
              "    }\n",
              "</style>\n",
              "<table border=\"1\" class=\"dataframe\">\n",
              "  <thead>\n",
              "    <tr style=\"text-align: right;\">\n",
              "      <th></th>\n",
              "      <th>Quality Assessment</th>\n",
              "      <th>Pre-Screening Result</th>\n",
              "      <th>MA Detection 1</th>\n",
              "      <th>MA Detection 2</th>\n",
              "      <th>MA Detection 3</th>\n",
              "      <th>MA Detection 4</th>\n",
              "      <th>MA Detection 5</th>\n",
              "      <th>MA Detection 6</th>\n",
              "      <th>MA Detection Exudates 1</th>\n",
              "      <th>MA Detection Exudates 2</th>\n",
              "      <th>MA Detection Exudates 3</th>\n",
              "      <th>MA Detection Exudates 4</th>\n",
              "      <th>MA Detection Exudates 5</th>\n",
              "      <th>MA Detection Exudates 6</th>\n",
              "      <th>MA Detection Exudates 7</th>\n",
              "      <th>MA Detection Exudates 8</th>\n",
              "      <th>Euclid Distance</th>\n",
              "      <th>Optic Disc Diameter</th>\n",
              "      <th>AM/FM Classification</th>\n",
              "      <th>Class</th>\n",
              "    </tr>\n",
              "  </thead>\n",
              "  <tbody>\n",
              "    <tr>\n",
              "      <th>0</th>\n",
              "      <td>1.0</td>\n",
              "      <td>1.0</td>\n",
              "      <td>22.0</td>\n",
              "      <td>22.0</td>\n",
              "      <td>22.0</td>\n",
              "      <td>19.0</td>\n",
              "      <td>18.0</td>\n",
              "      <td>14.0</td>\n",
              "      <td>49.895756</td>\n",
              "      <td>17.775994</td>\n",
              "      <td>5.270920</td>\n",
              "      <td>0.771761</td>\n",
              "      <td>0.018632</td>\n",
              "      <td>0.006864</td>\n",
              "      <td>0.003923</td>\n",
              "      <td>0.003923</td>\n",
              "      <td>0.486903</td>\n",
              "      <td>0.100025</td>\n",
              "      <td>1.0</td>\n",
              "      <td>0</td>\n",
              "    </tr>\n",
              "    <tr>\n",
              "      <th>1</th>\n",
              "      <td>1.0</td>\n",
              "      <td>1.0</td>\n",
              "      <td>24.0</td>\n",
              "      <td>24.0</td>\n",
              "      <td>22.0</td>\n",
              "      <td>18.0</td>\n",
              "      <td>16.0</td>\n",
              "      <td>13.0</td>\n",
              "      <td>57.709936</td>\n",
              "      <td>23.799994</td>\n",
              "      <td>3.325423</td>\n",
              "      <td>0.234185</td>\n",
              "      <td>0.003903</td>\n",
              "      <td>0.003903</td>\n",
              "      <td>0.003903</td>\n",
              "      <td>0.003903</td>\n",
              "      <td>0.520908</td>\n",
              "      <td>0.144414</td>\n",
              "      <td>0.0</td>\n",
              "      <td>0</td>\n",
              "    </tr>\n",
              "    <tr>\n",
              "      <th>2</th>\n",
              "      <td>1.0</td>\n",
              "      <td>1.0</td>\n",
              "      <td>62.0</td>\n",
              "      <td>60.0</td>\n",
              "      <td>59.0</td>\n",
              "      <td>54.0</td>\n",
              "      <td>47.0</td>\n",
              "      <td>33.0</td>\n",
              "      <td>55.831441</td>\n",
              "      <td>27.993933</td>\n",
              "      <td>12.687485</td>\n",
              "      <td>4.852282</td>\n",
              "      <td>1.393889</td>\n",
              "      <td>0.373252</td>\n",
              "      <td>0.041817</td>\n",
              "      <td>0.007744</td>\n",
              "      <td>0.530904</td>\n",
              "      <td>0.128548</td>\n",
              "      <td>0.0</td>\n",
              "      <td>1</td>\n",
              "    </tr>\n",
              "    <tr>\n",
              "      <th>3</th>\n",
              "      <td>1.0</td>\n",
              "      <td>1.0</td>\n",
              "      <td>55.0</td>\n",
              "      <td>53.0</td>\n",
              "      <td>53.0</td>\n",
              "      <td>50.0</td>\n",
              "      <td>43.0</td>\n",
              "      <td>31.0</td>\n",
              "      <td>40.467228</td>\n",
              "      <td>18.445954</td>\n",
              "      <td>9.118901</td>\n",
              "      <td>3.079428</td>\n",
              "      <td>0.840261</td>\n",
              "      <td>0.272434</td>\n",
              "      <td>0.007653</td>\n",
              "      <td>0.001531</td>\n",
              "      <td>0.483284</td>\n",
              "      <td>0.114790</td>\n",
              "      <td>0.0</td>\n",
              "      <td>0</td>\n",
              "    </tr>\n",
              "    <tr>\n",
              "      <th>4</th>\n",
              "      <td>1.0</td>\n",
              "      <td>1.0</td>\n",
              "      <td>44.0</td>\n",
              "      <td>44.0</td>\n",
              "      <td>44.0</td>\n",
              "      <td>41.0</td>\n",
              "      <td>39.0</td>\n",
              "      <td>27.0</td>\n",
              "      <td>18.026254</td>\n",
              "      <td>8.570709</td>\n",
              "      <td>0.410381</td>\n",
              "      <td>0.000000</td>\n",
              "      <td>0.000000</td>\n",
              "      <td>0.000000</td>\n",
              "      <td>0.000000</td>\n",
              "      <td>0.000000</td>\n",
              "      <td>0.475935</td>\n",
              "      <td>0.123572</td>\n",
              "      <td>0.0</td>\n",
              "      <td>1</td>\n",
              "    </tr>\n",
              "    <tr>\n",
              "      <th>...</th>\n",
              "      <td>...</td>\n",
              "      <td>...</td>\n",
              "      <td>...</td>\n",
              "      <td>...</td>\n",
              "      <td>...</td>\n",
              "      <td>...</td>\n",
              "      <td>...</td>\n",
              "      <td>...</td>\n",
              "      <td>...</td>\n",
              "      <td>...</td>\n",
              "      <td>...</td>\n",
              "      <td>...</td>\n",
              "      <td>...</td>\n",
              "      <td>...</td>\n",
              "      <td>...</td>\n",
              "      <td>...</td>\n",
              "      <td>...</td>\n",
              "      <td>...</td>\n",
              "      <td>...</td>\n",
              "      <td>...</td>\n",
              "    </tr>\n",
              "    <tr>\n",
              "      <th>1142</th>\n",
              "      <td>1.0</td>\n",
              "      <td>1.0</td>\n",
              "      <td>34.0</td>\n",
              "      <td>34.0</td>\n",
              "      <td>34.0</td>\n",
              "      <td>33.0</td>\n",
              "      <td>31.0</td>\n",
              "      <td>24.0</td>\n",
              "      <td>6.071765</td>\n",
              "      <td>0.937472</td>\n",
              "      <td>0.031145</td>\n",
              "      <td>0.003115</td>\n",
              "      <td>0.000000</td>\n",
              "      <td>0.000000</td>\n",
              "      <td>0.000000</td>\n",
              "      <td>0.000000</td>\n",
              "      <td>0.537470</td>\n",
              "      <td>0.116795</td>\n",
              "      <td>0.0</td>\n",
              "      <td>0</td>\n",
              "    </tr>\n",
              "    <tr>\n",
              "      <th>1143</th>\n",
              "      <td>1.0</td>\n",
              "      <td>1.0</td>\n",
              "      <td>49.0</td>\n",
              "      <td>49.0</td>\n",
              "      <td>49.0</td>\n",
              "      <td>49.0</td>\n",
              "      <td>45.0</td>\n",
              "      <td>37.0</td>\n",
              "      <td>63.197145</td>\n",
              "      <td>27.377668</td>\n",
              "      <td>8.067688</td>\n",
              "      <td>0.979548</td>\n",
              "      <td>0.001552</td>\n",
              "      <td>0.000000</td>\n",
              "      <td>0.000000</td>\n",
              "      <td>0.000000</td>\n",
              "      <td>0.516733</td>\n",
              "      <td>0.124190</td>\n",
              "      <td>0.0</td>\n",
              "      <td>0</td>\n",
              "    </tr>\n",
              "    <tr>\n",
              "      <th>1144</th>\n",
              "      <td>1.0</td>\n",
              "      <td>0.0</td>\n",
              "      <td>49.0</td>\n",
              "      <td>48.0</td>\n",
              "      <td>48.0</td>\n",
              "      <td>45.0</td>\n",
              "      <td>43.0</td>\n",
              "      <td>33.0</td>\n",
              "      <td>30.461898</td>\n",
              "      <td>13.966980</td>\n",
              "      <td>1.763305</td>\n",
              "      <td>0.137858</td>\n",
              "      <td>0.011221</td>\n",
              "      <td>0.000000</td>\n",
              "      <td>0.000000</td>\n",
              "      <td>0.000000</td>\n",
              "      <td>0.560632</td>\n",
              "      <td>0.129843</td>\n",
              "      <td>0.0</td>\n",
              "      <td>0</td>\n",
              "    </tr>\n",
              "    <tr>\n",
              "      <th>1145</th>\n",
              "      <td>1.0</td>\n",
              "      <td>1.0</td>\n",
              "      <td>39.0</td>\n",
              "      <td>36.0</td>\n",
              "      <td>29.0</td>\n",
              "      <td>23.0</td>\n",
              "      <td>13.0</td>\n",
              "      <td>7.0</td>\n",
              "      <td>40.525739</td>\n",
              "      <td>12.604947</td>\n",
              "      <td>4.740919</td>\n",
              "      <td>1.077570</td>\n",
              "      <td>0.563518</td>\n",
              "      <td>0.326860</td>\n",
              "      <td>0.239568</td>\n",
              "      <td>0.174584</td>\n",
              "      <td>0.485972</td>\n",
              "      <td>0.106690</td>\n",
              "      <td>1.0</td>\n",
              "      <td>1</td>\n",
              "    </tr>\n",
              "    <tr>\n",
              "      <th>1146</th>\n",
              "      <td>1.0</td>\n",
              "      <td>1.0</td>\n",
              "      <td>7.0</td>\n",
              "      <td>7.0</td>\n",
              "      <td>7.0</td>\n",
              "      <td>7.0</td>\n",
              "      <td>7.0</td>\n",
              "      <td>5.0</td>\n",
              "      <td>69.423565</td>\n",
              "      <td>7.031843</td>\n",
              "      <td>1.750548</td>\n",
              "      <td>0.046597</td>\n",
              "      <td>0.021180</td>\n",
              "      <td>0.008472</td>\n",
              "      <td>0.000000</td>\n",
              "      <td>0.000000</td>\n",
              "      <td>0.556192</td>\n",
              "      <td>0.088957</td>\n",
              "      <td>0.0</td>\n",
              "      <td>0</td>\n",
              "    </tr>\n",
              "  </tbody>\n",
              "</table>\n",
              "<p>1147 rows × 20 columns</p>\n",
              "</div>\n",
              "      <button class=\"colab-df-convert\" onclick=\"convertToInteractive('df-80e1cf96-66fa-451d-b0ba-ab4f7c19bf0e')\"\n",
              "              title=\"Convert this dataframe to an interactive table.\"\n",
              "              style=\"display:none;\">\n",
              "        \n",
              "  <svg xmlns=\"http://www.w3.org/2000/svg\" height=\"24px\"viewBox=\"0 0 24 24\"\n",
              "       width=\"24px\">\n",
              "    <path d=\"M0 0h24v24H0V0z\" fill=\"none\"/>\n",
              "    <path d=\"M18.56 5.44l.94 2.06.94-2.06 2.06-.94-2.06-.94-.94-2.06-.94 2.06-2.06.94zm-11 1L8.5 8.5l.94-2.06 2.06-.94-2.06-.94L8.5 2.5l-.94 2.06-2.06.94zm10 10l.94 2.06.94-2.06 2.06-.94-2.06-.94-.94-2.06-.94 2.06-2.06.94z\"/><path d=\"M17.41 7.96l-1.37-1.37c-.4-.4-.92-.59-1.43-.59-.52 0-1.04.2-1.43.59L10.3 9.45l-7.72 7.72c-.78.78-.78 2.05 0 2.83L4 21.41c.39.39.9.59 1.41.59.51 0 1.02-.2 1.41-.59l7.78-7.78 2.81-2.81c.8-.78.8-2.07 0-2.86zM5.41 20L4 18.59l7.72-7.72 1.47 1.35L5.41 20z\"/>\n",
              "  </svg>\n",
              "      </button>\n",
              "      \n",
              "  <style>\n",
              "    .colab-df-container {\n",
              "      display:flex;\n",
              "      flex-wrap:wrap;\n",
              "      gap: 12px;\n",
              "    }\n",
              "\n",
              "    .colab-df-convert {\n",
              "      background-color: #E8F0FE;\n",
              "      border: none;\n",
              "      border-radius: 50%;\n",
              "      cursor: pointer;\n",
              "      display: none;\n",
              "      fill: #1967D2;\n",
              "      height: 32px;\n",
              "      padding: 0 0 0 0;\n",
              "      width: 32px;\n",
              "    }\n",
              "\n",
              "    .colab-df-convert:hover {\n",
              "      background-color: #E2EBFA;\n",
              "      box-shadow: 0px 1px 2px rgba(60, 64, 67, 0.3), 0px 1px 3px 1px rgba(60, 64, 67, 0.15);\n",
              "      fill: #174EA6;\n",
              "    }\n",
              "\n",
              "    [theme=dark] .colab-df-convert {\n",
              "      background-color: #3B4455;\n",
              "      fill: #D2E3FC;\n",
              "    }\n",
              "\n",
              "    [theme=dark] .colab-df-convert:hover {\n",
              "      background-color: #434B5C;\n",
              "      box-shadow: 0px 1px 3px 1px rgba(0, 0, 0, 0.15);\n",
              "      filter: drop-shadow(0px 1px 2px rgba(0, 0, 0, 0.3));\n",
              "      fill: #FFFFFF;\n",
              "    }\n",
              "  </style>\n",
              "\n",
              "      <script>\n",
              "        const buttonEl =\n",
              "          document.querySelector('#df-80e1cf96-66fa-451d-b0ba-ab4f7c19bf0e button.colab-df-convert');\n",
              "        buttonEl.style.display =\n",
              "          google.colab.kernel.accessAllowed ? 'block' : 'none';\n",
              "\n",
              "        async function convertToInteractive(key) {\n",
              "          const element = document.querySelector('#df-80e1cf96-66fa-451d-b0ba-ab4f7c19bf0e');\n",
              "          const dataTable =\n",
              "            await google.colab.kernel.invokeFunction('convertToInteractive',\n",
              "                                                     [key], {});\n",
              "          if (!dataTable) return;\n",
              "\n",
              "          const docLinkHtml = 'Like what you see? Visit the ' +\n",
              "            '<a target=\"_blank\" href=https://colab.research.google.com/notebooks/data_table.ipynb>data table notebook</a>'\n",
              "            + ' to learn more about interactive tables.';\n",
              "          element.innerHTML = '';\n",
              "          dataTable['output_type'] = 'display_data';\n",
              "          await google.colab.output.renderOutput(dataTable, element);\n",
              "          const docLink = document.createElement('div');\n",
              "          docLink.innerHTML = docLinkHtml;\n",
              "          element.appendChild(docLink);\n",
              "        }\n",
              "      </script>\n",
              "    </div>\n",
              "  </div>\n",
              "  "
            ]
          },
          "metadata": {},
          "execution_count": 98
        }
      ]
    },
    {
      "cell_type": "markdown",
      "source": [
        "## **Data Analysis**"
      ],
      "metadata": {
        "id": "xDu72YBqjSoF"
      }
    },
    {
      "cell_type": "markdown",
      "source": [
        "### Hepatitis Dataset"
      ],
      "metadata": {
        "id": "4QqrN6sjjc4B"
      }
    },
    {
      "cell_type": "code",
      "source": [
        "age_sexStats = hepatitisDataFiltered[[\"AGE\", \"SEX\"]].groupby(\"SEX\").mean()\n",
        "\n",
        "print(\"Old class distribution: LIVE: %d, DIE: %d\" % ((hepatitisData['Class'].values == 2).sum(), (hepatitisData['Class'].values == 1).sum()))\n",
        "print(\"Old class distribution: LIVE: %d, DIE: %d\" % ((hepatitisDataFiltered['Class'].values == 2).sum(), (hepatitisDataFiltered['Class'].values == 1).sum()))\n",
        "\n",
        "print(\"Mean age of death from hepatitis: %2d\" % round(hepatitisDataFiltered.groupby(['Class'])['AGE'].mean()[1]))\n",
        "print(\"Average of male hepatitis patients: %2d\" % round(age_sexStats.at[1, 'AGE']))\n",
        "print(\"Average of female hepatitis patients: %2d\" % round(age_sexStats.at[2, 'AGE']))\n",
        "\n",
        "print(\"________________________________________\")\n",
        "\n",
        "print(\"MEASURES OF CENTRAL TENDENCY\")\n",
        "print(\"Maximum in each class: \")\n",
        "print(str(hepatitisDataFiltered.max()) + \"\\n\")\n",
        "print(\"Minimum in each class: \")\n",
        "print(str(hepatitisDataFiltered.min()) + \"\\n\")\n",
        "print(\"Average in each class: \")\n",
        "print(str(hepatitisDataFiltered.mean().round(0)) + \"\\n\")\n",
        "\n",
        "print(\"________________________________________\")\n",
        "\n",
        "print(\"MEASURES OF VARIABILITY\\n\")\n",
        "print(\"Variance in each class: \")\n",
        "print(str(hepatitisDataFiltered.var().round(0)) + \"\\n\")\n",
        "print(\"Standard deviation in each class: \")\n",
        "print(str(hepatitisDataFiltered.std().round(0)) + \"\\n\")\n",
        "print(\"Skewness in each class: \")\n",
        "print(str(hepatitisDataFiltered.skew().round(0)) + \"\\n\")\n",
        "\n",
        "print(\"________________________________________\")\n",
        "print(\"MEASURES OF CORRELATION BETWEEN PAIRS OF DATA \\n\")\n",
        "print(\"Correlation of AGE and BILIRUBIN count: %f\" % (hepatitisDataFiltered['AGE'].corr(hepatitisDataFiltered['BILIRUBIN'])))\n",
        "print(\"Correlation of AGE and SEX count: %f\" % (hepatitisDataFiltered['AGE'].corr(hepatitisDataFiltered['SEX'])))\n",
        "print(\"Correlation of AGE and Class count: %f\" % (hepatitisDataFiltered['AGE'].corr(hepatitisDataFiltered['Class'])))\n",
        "print(\"Correlation of SEX and Class count: %f\" % (hepatitisDataFiltered['SEX'].corr(hepatitisDataFiltered['Class'])))\n",
        "print(\"Correlation of BILIRUBIN and PROTIME: %f\" % (hepatitisDataFiltered['BILIRUBIN'].corr(hepatitisDataFiltered['PROTIME'])))\n",
        "print(\"Correlation of SPIDERS and ASCITES: %f\" % (hepatitisDataFiltered['SPIDERS'].corr(hepatitisDataFiltered['ASCITES'])))\n",
        "print(\"Correlation of ASCITES and VARICES: %f\" % (hepatitisDataFiltered['ASCITES'].corr(hepatitisDataFiltered['VARICES'])))"
      ],
      "metadata": {
        "colab": {
          "base_uri": "https://localhost:8080/"
        },
        "id": "GadZaaT0jW6E",
        "outputId": "b996c6f7-9773-4057-cd47-155f64f4bf09"
      },
      "execution_count": 99,
      "outputs": [
        {
          "output_type": "stream",
          "name": "stdout",
          "text": [
            "Old class distribution: LIVE: 123, DIE: 32\n",
            "Old class distribution: LIVE: 67, DIE: 13\n",
            "Mean age of death from hepatitis: 46\n",
            "Average of male hepatitis patients: 41\n",
            "Average of female hepatitis patients: 39\n",
            "________________________________________\n",
            "MEASURES OF CENTRAL TENDENCY\n",
            "Maximum in each class: \n",
            "AGE                 72.0\n",
            "SEX                  2.0\n",
            "STEROID              2.0\n",
            "ANTIVIRALS           2.0\n",
            "FATIGUE              2.0\n",
            "MALAISE              2.0\n",
            "ANOREXIA             2.0\n",
            "LIVER BIG            2.0\n",
            "LIVER FIRM           2.0\n",
            "SPLEEN PALPABLE      2.0\n",
            "SPIDERS              2.0\n",
            "ASCITES              2.0\n",
            "VARICES              2.0\n",
            "BILIRUBIN            4.8\n",
            "ALK PHOSPHATE      280.0\n",
            "SGOT               420.0\n",
            "ALBUMIN              5.0\n",
            "PROTIME            100.0\n",
            "HISTOLOGY            2.0\n",
            "Class                2.0\n",
            "dtype: float64\n",
            "\n",
            "Minimum in each class: \n",
            "AGE                20.0\n",
            "SEX                 1.0\n",
            "STEROID             1.0\n",
            "ANTIVIRALS          1.0\n",
            "FATIGUE             1.0\n",
            "MALAISE             1.0\n",
            "ANOREXIA            1.0\n",
            "LIVER BIG           1.0\n",
            "LIVER FIRM          1.0\n",
            "SPLEEN PALPABLE     1.0\n",
            "SPIDERS             1.0\n",
            "ASCITES             1.0\n",
            "VARICES             1.0\n",
            "BILIRUBIN           0.3\n",
            "ALK PHOSPHATE      26.0\n",
            "SGOT               14.0\n",
            "ALBUMIN             2.1\n",
            "PROTIME             0.0\n",
            "HISTOLOGY           1.0\n",
            "Class               1.0\n",
            "dtype: float64\n",
            "\n",
            "Average in each class: \n",
            "AGE                 41.0\n",
            "SEX                  1.0\n",
            "STEROID              2.0\n",
            "ANTIVIRALS           2.0\n",
            "FATIGUE              1.0\n",
            "MALAISE              2.0\n",
            "ANOREXIA             2.0\n",
            "LIVER BIG            2.0\n",
            "LIVER FIRM           2.0\n",
            "SPLEEN PALPABLE      2.0\n",
            "SPIDERS              2.0\n",
            "ASCITES              2.0\n",
            "VARICES              2.0\n",
            "BILIRUBIN            1.0\n",
            "ALK PHOSPHATE      103.0\n",
            "SGOT                82.0\n",
            "ALBUMIN              4.0\n",
            "PROTIME             63.0\n",
            "HISTOLOGY            1.0\n",
            "Class                2.0\n",
            "dtype: float64\n",
            "\n",
            "________________________________________\n",
            "MEASURES OF VARIABILITY\n",
            "\n",
            "Variance in each class: \n",
            "AGE                 127.0\n",
            "SEX                   0.0\n",
            "STEROID               0.0\n",
            "ANTIVIRALS            0.0\n",
            "FATIGUE               0.0\n",
            "MALAISE               0.0\n",
            "ANOREXIA              0.0\n",
            "LIVER BIG             0.0\n",
            "LIVER FIRM            0.0\n",
            "SPLEEN PALPABLE       0.0\n",
            "SPIDERS               0.0\n",
            "ASCITES               0.0\n",
            "VARICES               0.0\n",
            "BILIRUBIN             1.0\n",
            "ALK PHOSPHATE      2882.0\n",
            "SGOT               5127.0\n",
            "ALBUMIN               0.0\n",
            "PROTIME             549.0\n",
            "HISTOLOGY             0.0\n",
            "Class                 0.0\n",
            "dtype: float64\n",
            "\n",
            "Standard deviation in each class: \n",
            "AGE                11.0\n",
            "SEX                 0.0\n",
            "STEROID             1.0\n",
            "ANTIVIRALS          0.0\n",
            "FATIGUE             0.0\n",
            "MALAISE             0.0\n",
            "ANOREXIA            0.0\n",
            "LIVER BIG           0.0\n",
            "LIVER FIRM          1.0\n",
            "SPLEEN PALPABLE     0.0\n",
            "SPIDERS             0.0\n",
            "ASCITES             0.0\n",
            "VARICES             0.0\n",
            "BILIRUBIN           1.0\n",
            "ALK PHOSPHATE      54.0\n",
            "SGOT               72.0\n",
            "ALBUMIN             1.0\n",
            "PROTIME            23.0\n",
            "HISTOLOGY           0.0\n",
            "Class               0.0\n",
            "dtype: float64\n",
            "\n",
            "Skewness in each class: \n",
            "AGE                1.0\n",
            "SEX                2.0\n",
            "STEROID           -0.0\n",
            "ANTIVIRALS        -1.0\n",
            "FATIGUE            1.0\n",
            "MALAISE           -0.0\n",
            "ANOREXIA          -2.0\n",
            "LIVER BIG         -2.0\n",
            "LIVER FIRM        -0.0\n",
            "SPLEEN PALPABLE   -2.0\n",
            "SPIDERS           -1.0\n",
            "ASCITES           -2.0\n",
            "VARICES           -2.0\n",
            "BILIRUBIN          3.0\n",
            "ALK PHOSPHATE      1.0\n",
            "SGOT               2.0\n",
            "ALBUMIN           -1.0\n",
            "PROTIME           -0.0\n",
            "HISTOLOGY          0.0\n",
            "Class             -2.0\n",
            "dtype: float64\n",
            "\n",
            "________________________________________\n",
            "MEASURES OF CORRELATION BETWEEN PAIRS OF DATA \n",
            "\n",
            "Correlation of AGE and BILIRUBIN count: 0.160752\n",
            "Correlation of AGE and SEX count: -0.046265\n",
            "Correlation of AGE and Class count: -0.212769\n",
            "Correlation of SEX and Class count: 0.175876\n",
            "Correlation of BILIRUBIN and PROTIME: -0.362055\n",
            "Correlation of SPIDERS and ASCITES: 0.245458\n",
            "Correlation of ASCITES and VARICES: 0.370479\n"
          ]
        }
      ]
    },
    {
      "cell_type": "markdown",
      "source": [
        "### Diabetic Retinopathy Debrecen Dataset"
      ],
      "metadata": {
        "id": "zfg8RMXXjfbM"
      }
    },
    {
      "cell_type": "code",
      "source": [
        "print(\"Class distribution: Signs of DR: %d, No signs of DR: %d\" % ((DRDDataFiltered['Class'].values == 1.0).sum(), (DRDDataFiltered['Class'].values == 0.0).sum()))\n",
        "print(\"Pre-Screening Result distribution: Signs of DR: %d, No signs of DR: %d\" % ((DRDDataFiltered['Pre-Screening Result'].values == 1.0).sum(), (DRDDataFiltered['Pre-Screening Result'].values == 0.0).sum()))\n",
        "print(\"Quality Assessment distribution before filtering: Sufficient quality: %d, Bad quality: %d\" % ((DRDData['Quality Assessment'].values == '1').sum(), (DRDData['Quality Assessment'].values == '0').sum()))\n",
        "print(\"Quality Assessment distribution after filtering: Sufficient quality: %d, Bad quality: %d \\n\" % ((DRDDataFiltered['Quality Assessment'].values == 1.0).sum(), (DRDDataFiltered['Quality Assessment'].values == 0.0).sum()))\n",
        "\n",
        "print(\"________________________________________\")\n",
        "\n",
        "print(\"MEASURES OF CENTRAL TENDENCY\\n\")\n",
        "print(\"Maximum in each class: \")\n",
        "print(str(DRDDataFiltered.max().round(0)) + \"\\n\")\n",
        "print(\"Minimum in each class: \")\n",
        "print(str(DRDDataFiltered.min().round(0)) + \"\\n\")\n",
        "print(\"Mean in each class: \")\n",
        "print(str(DRDDataFiltered.mean().round(0)) + \"\\n\")\n",
        "\n",
        "print(\"________________________________________\")\n",
        "\n",
        "print(\"MEASURES OF VARIABILITY\\n\")\n",
        "print(\"Variance in each class: \")\n",
        "print(str(DRDDataFiltered.var().round(0)) + \"\\n\")\n",
        "print(\"Standard deviation in each class: \")\n",
        "print(str(DRDDataFiltered.std().round(0)) + \"\\n\")\n",
        "print(\"Skewness in each class: \")\n",
        "print(str(DRDDataFiltered.skew().round(0)) + \"\\n\")\n",
        "\n",
        "print(\"________________________________________\")\n",
        "\n",
        "print(\"MEASURES OF CORRELATION BETWEEN PAIRS OF DATA \\n\")\n",
        "print(\"Correlation of MA Detection 1 and MA Detection Exudates 1: %f\" % (DRDDataFiltered['MA Detection 1'].corr(DRDDataFiltered['MA Detection Exudates 1'])))\n",
        "print(\"Correlation of MA Detection 1 and MA Detection 2: %f\" % (DRDDataFiltered['MA Detection 1'].corr(DRDDataFiltered['MA Detection 2'])))\n",
        "print(\"Correlation of MA Detection Exudates 4 and MA Detection Exudates 5: %f\" % (DRDDataFiltered['MA Detection Exudates 4'].corr(DRDDataFiltered['MA Detection Exudates 5'])))\n",
        "print(\"Correlation of Optic Disc Diameter and AM/FM Classification: %f\" % (DRDDataFiltered['Optic Disc Diameter'].corr(DRDDataFiltered['AM/FM Classification'])))\n"
      ],
      "metadata": {
        "colab": {
          "base_uri": "https://localhost:8080/"
        },
        "id": "IqN9OAXUjjvs",
        "outputId": "5846bb13-f328-47fd-d1b6-e8c172fcdcff"
      },
      "execution_count": 100,
      "outputs": [
        {
          "output_type": "stream",
          "name": "stdout",
          "text": [
            "Class distribution: Signs of DR: 611, No signs of DR: 536\n",
            "Pre-Screening Result distribution: Signs of DR: 1053, No signs of DR: 94\n",
            "Quality Assessment distribution before filtering: Sufficient quality: 1147, Bad quality: 4\n",
            "Quality Assessment distribution after filtering: Sufficient quality: 1147, Bad quality: 0 \n",
            "\n",
            "________________________________________\n",
            "MEASURES OF CENTRAL TENDENCY\n",
            "\n",
            "Maximum in each class: \n",
            "Quality Assessment           1.0\n",
            "Pre-Screening Result         1.0\n",
            "MA Detection 1             151.0\n",
            "MA Detection 2             132.0\n",
            "MA Detection 3             120.0\n",
            "MA Detection 4             105.0\n",
            "MA Detection 5              97.0\n",
            "MA Detection 6              89.0\n",
            "MA Detection Exudates 1    404.0\n",
            "MA Detection Exudates 2    167.0\n",
            "MA Detection Exudates 3    106.0\n",
            "MA Detection Exudates 4     60.0\n",
            "MA Detection Exudates 5     51.0\n",
            "MA Detection Exudates 6     20.0\n",
            "MA Detection Exudates 7      6.0\n",
            "MA Detection Exudates 8      3.0\n",
            "Euclid Distance              1.0\n",
            "Optic Disc Diameter          0.0\n",
            "AM/FM Classification         1.0\n",
            "Class                        1.0\n",
            "dtype: float64\n",
            "\n",
            "Minimum in each class: \n",
            "Quality Assessment         1.0\n",
            "Pre-Screening Result       0.0\n",
            "MA Detection 1             1.0\n",
            "MA Detection 2             1.0\n",
            "MA Detection 3             1.0\n",
            "MA Detection 4             1.0\n",
            "MA Detection 5             1.0\n",
            "MA Detection 6             1.0\n",
            "MA Detection Exudates 1    1.0\n",
            "MA Detection Exudates 2    0.0\n",
            "MA Detection Exudates 3    0.0\n",
            "MA Detection Exudates 4    0.0\n",
            "MA Detection Exudates 5    0.0\n",
            "MA Detection Exudates 6    0.0\n",
            "MA Detection Exudates 7    0.0\n",
            "MA Detection Exudates 8    0.0\n",
            "Euclid Distance            0.0\n",
            "Optic Disc Diameter        0.0\n",
            "AM/FM Classification       0.0\n",
            "Class                      0.0\n",
            "dtype: float64\n",
            "\n",
            "Mean in each class: \n",
            "Quality Assessment          1.0\n",
            "Pre-Screening Result        1.0\n",
            "MA Detection 1             38.0\n",
            "MA Detection 2             37.0\n",
            "MA Detection 3             35.0\n",
            "MA Detection 4             32.0\n",
            "MA Detection 5             29.0\n",
            "MA Detection 6             21.0\n",
            "MA Detection Exudates 1    64.0\n",
            "MA Detection Exudates 2    23.0\n",
            "MA Detection Exudates 3     9.0\n",
            "MA Detection Exudates 4     2.0\n",
            "MA Detection Exudates 5     1.0\n",
            "MA Detection Exudates 6     0.0\n",
            "MA Detection Exudates 7     0.0\n",
            "MA Detection Exudates 8     0.0\n",
            "Euclid Distance             1.0\n",
            "Optic Disc Diameter         0.0\n",
            "AM/FM Classification        0.0\n",
            "Class                       1.0\n",
            "dtype: float64\n",
            "\n",
            "________________________________________\n",
            "MEASURES OF VARIABILITY\n",
            "\n",
            "Variance in each class: \n",
            "Quality Assessment            0.0\n",
            "Pre-Screening Result          0.0\n",
            "MA Detection 1              658.0\n",
            "MA Detection 2              582.0\n",
            "MA Detection 3              521.0\n",
            "MA Detection 4              447.0\n",
            "MA Detection 5              381.0\n",
            "MA Detection 6              228.0\n",
            "MA Detection Exudates 1    3419.0\n",
            "MA Detection Exudates 2     466.0\n",
            "MA Detection Exudates 3     134.0\n",
            "MA Detection Exudates 4      15.0\n",
            "MA Detection Exudates 5       6.0\n",
            "MA Detection Exudates 6       1.0\n",
            "MA Detection Exudates 7       0.0\n",
            "MA Detection Exudates 8       0.0\n",
            "Euclid Distance               0.0\n",
            "Optic Disc Diameter           0.0\n",
            "AM/FM Classification          0.0\n",
            "Class                         0.0\n",
            "dtype: float64\n",
            "\n",
            "Standard deviation in each class: \n",
            "Quality Assessment          0.0\n",
            "Pre-Screening Result        0.0\n",
            "MA Detection 1             26.0\n",
            "MA Detection 2             24.0\n",
            "MA Detection 3             23.0\n",
            "MA Detection 4             21.0\n",
            "MA Detection 5             20.0\n",
            "MA Detection 6             15.0\n",
            "MA Detection Exudates 1    58.0\n",
            "MA Detection Exudates 2    22.0\n",
            "MA Detection Exudates 3    12.0\n",
            "MA Detection Exudates 4     4.0\n",
            "MA Detection Exudates 5     2.0\n",
            "MA Detection Exudates 6     1.0\n",
            "MA Detection Exudates 7     0.0\n",
            "MA Detection Exudates 8     0.0\n",
            "Euclid Distance             0.0\n",
            "Optic Disc Diameter         0.0\n",
            "AM/FM Classification        0.0\n",
            "Class                       0.0\n",
            "dtype: float64\n",
            "\n",
            "Skewness in each class: \n",
            "Quality Assessment          0.0\n",
            "Pre-Screening Result       -3.0\n",
            "MA Detection 1              1.0\n",
            "MA Detection 2              1.0\n",
            "MA Detection 3              1.0\n",
            "MA Detection 4              0.0\n",
            "MA Detection 5              1.0\n",
            "MA Detection 6              1.0\n",
            "MA Detection Exudates 1     2.0\n",
            "MA Detection Exudates 2     2.0\n",
            "MA Detection Exudates 3     3.0\n",
            "MA Detection Exudates 4     6.0\n",
            "MA Detection Exudates 5    12.0\n",
            "MA Detection Exudates 6    12.0\n",
            "MA Detection Exudates 7     8.0\n",
            "MA Detection Exudates 8     9.0\n",
            "Euclid Distance            -0.0\n",
            "Optic Disc Diameter         1.0\n",
            "AM/FM Classification        1.0\n",
            "Class                      -0.0\n",
            "dtype: float64\n",
            "\n",
            "________________________________________\n",
            "MEASURES OF CORRELATION BETWEEN PAIRS OF DATA \n",
            "\n",
            "Correlation of MA Detection 1 and MA Detection Exudates 1: -0.232577\n",
            "Correlation of MA Detection 1 and MA Detection 2: 0.996172\n",
            "Correlation of MA Detection Exudates 4 and MA Detection Exudates 5: 0.825793\n",
            "Correlation of Optic Disc Diameter and AM/FM Classification: -0.087259\n"
          ]
        }
      ]
    },
    {
      "cell_type": "markdown",
      "source": [
        "# **SECTION 2: Machine Learning Algorithm Implementations**"
      ],
      "metadata": {
        "id": "L6CLueMvhz7a"
      }
    },
    {
      "cell_type": "markdown",
      "source": [
        "## **K - Nearest Neighbors**"
      ],
      "metadata": {
        "id": "G_dvR-_Gj7M8"
      }
    },
    {
      "cell_type": "code",
      "source": [
        "# Distance functions\n",
        "def euclidean(x1, x2): return np.sqrt(np.sum(x1 - x2)**2)\n",
        "def manhattan(x1, x2): return np.sum(np.abs(x1 - x2))\n",
        "\n",
        "class KNN:\n",
        "    def __init__(self, K=1, distanceFunction=euclidean):\n",
        "        self.K = K\n",
        "        self.distanceFunction = distanceFunction\n",
        "\n",
        "        return \n",
        "    \n",
        "    # Store the training samples \n",
        "    def fit(self, X_train, y_train):\n",
        "        self.X_train = X_train\n",
        "        self.y_train = y_train\n",
        "\n",
        "    # Perform label prediction for all the test data\n",
        "    def predict(self, X_test):\n",
        "        predictedLabels = [self.predict_single_sample(x_test) for x_test in X_test]\n",
        "\n",
        "        return np.array(predictedLabels)\n",
        "    \n",
        "    # Helper method that predicts the categorical output for a single sample\n",
        "    def predict_single_sample(self, x_test):\n",
        "        # computes distances from the single sample x_test to all the training samples\n",
        "        distances = [self.distanceFunction(x_test, x_train) for x_train in self.X_train]\n",
        "        kNearestNeighborIndices = [distances.index(smallestDistance) for smallestDistance in sorted(distances)[0: self.K]]\n",
        "        kNearestNeighborsLabels = [self.y_train[k_index] for k_index in kNearestNeighborIndices]\n",
        "\n",
        "        # find the most common class label\n",
        "        commonElements = Counter(kNearestNeighborsLabels).most_common()\n",
        "        mostCommon = commonElements[0][0]\n",
        "\n",
        "        return mostCommon\n",
        "\n",
        "    def predict_proba(self, X_test):\n",
        "        predictedProbabilities = [self.predict_proba_single_sample(x_test) for x_test in X_test]\n",
        "\n",
        "        return np.array(predictedProbabilities)\n",
        "\n",
        "    def predict_proba_single_sample(self, x_test):\n",
        "      \n",
        "        distances = [self.distanceFunction(x_test, x_train) for x_train in self.X_train]\n",
        "        kNearestNeighborIndices = [distances.index(smallestDistance) for smallestDistance in sorted(distances)[0: self.K]]\n",
        "        kNearestNeighborsLabels = [self.y_train[k_index] for k_index in kNearestNeighborIndices]\n",
        "\n",
        "        commonElements = Counter(kNearestNeighborsLabels).most_common()\n",
        "        mostCommon = commonElements[0][0]\n",
        "        probability = kNearestNeighborsLabels.count(mostCommon) / len(kNearestNeighborsLabels)\n",
        "        \n",
        "        return probability"
      ],
      "metadata": {
        "id": "t-TkfD-_kNXk"
      },
      "execution_count": 101,
      "outputs": []
    },
    {
      "cell_type": "markdown",
      "source": [
        "## **Weighted K - Nearest Neighbors**"
      ],
      "metadata": {
        "id": "6YH08_Tej_iU"
      }
    },
    {
      "cell_type": "code",
      "source": [
        "def euclidean(x1, x2): return np.sqrt(np.sum(x2 - x1)**2)\n",
        "def manhattan(x1, x2): return np.sum(np.abs(x1 - x2))\n",
        "\n",
        "# K-Nearest Neighbors\n",
        "class WeightedKNN:\n",
        "    def __init__(self, K=1, distanceFunction=euclidean):\n",
        "        self.K = K\n",
        "        self.distanceFunction = distanceFunction\n",
        "        return \n",
        "    \n",
        "    # Store the training samples \n",
        "    def fit(self, X_train, y_train):\n",
        "        self.X_train = X_train\n",
        "        self.y_train = y_train\n",
        "\n",
        "    # Perform label prediction for all the test data\n",
        "    def predict(self, X_test):\n",
        "        predictedLabels = [self.predict_single_sample(x_test) for x_test in X_test]\n",
        "        return np.array(predictedLabels)\n",
        "    \n",
        "    # Helper method that predicts the categorical output for a single sample\n",
        "    def predict_single_sample(self, x_test):\n",
        "        # computes distances from the single sample x_test to all the training samples\n",
        "        distances = [self.distanceFunction(x_test, x_train) for x_train in self.X_train]\n",
        "        kNearestNeighborIndices = [distances.index(smallestDistance) for smallestDistance in sorted(distances)[0: self.K]]\n",
        "        kNearestNeighborsLabels = [self.y_train[k_index] for k_index in kNearestNeighborIndices]\n",
        "\n",
        "        freq1 = 0\n",
        "        freq2 = 0\n",
        "\n",
        "        for i in range(0, self.K):\n",
        "            if kNearestNeighborsLabels[i] == 0 and abs(distances[kNearestNeighborIndices[i]]) > 0:\n",
        "                freq1 += 1/distances[kNearestNeighborIndices[i]]\n",
        "            elif kNearestNeighborsLabels[i] == 1 and abs(distances[kNearestNeighborIndices[i]]) > 0:\n",
        "                freq2 += 1/distances[kNearestNeighborIndices[i]]\n",
        "\n",
        "        return 0 if freq1 > freq2 else 1\n",
        "\n",
        "    def predict_proba(self, X_test):\n",
        "        predictedProbabilities = [self.predict_proba_single_sample(x_test) for x_test in X_test]\n",
        "        return np.array(predictedProbabilities)\n",
        "\n",
        "    def predict_proba_single_sample(self, x_test):\n",
        "        distances = [self.distanceFunction(x_test, x_train) for x_train in self.X_train]\n",
        "        kNearestNeighborIndices = [distances.index(smallestDistance) for smallestDistance in sorted(distances)[0: self.K]]\n",
        "        kNearestNeighborsLabels = [self.y_train[k_index] for k_index in kNearestNeighborIndices]\n",
        "\n",
        "        freq1 = 0\n",
        "        freq2 = 0\n",
        "        for i in range(0, self.K):\n",
        "            if kNearestNeighborsLabels[i] == 0 and abs(distances[kNearestNeighborIndices[i]]) > 0:\n",
        "                freq1 += 1/distances[kNearestNeighborIndices[i]]\n",
        "            elif kNearestNeighborsLabels[i] == 1 and abs(distances[kNearestNeighborIndices[i]]) > 0:\n",
        "                freq2 += 1/distances[kNearestNeighborIndices[i]]\n",
        "\n",
        "        prob1 = freq1 / (freq1 + freq2)\n",
        "        prob2 = freq2 / (freq1 + freq2)\n",
        "\n",
        "        return max(prob1, prob2)"
      ],
      "metadata": {
        "id": "LP-_7gTbkVND"
      },
      "execution_count": 102,
      "outputs": []
    },
    {
      "cell_type": "markdown",
      "source": [
        "## **Decision Tree**"
      ],
      "metadata": {
        "id": "i2yifnmAkLeU"
      }
    },
    {
      "cell_type": "code",
      "source": [
        "#computes misclassification cost by subtracting the maximum probability of any class\n",
        "def cost_misclassification(labels):\n",
        "    counts = np.bincount(labels) \n",
        "    class_probs = counts / np.sum(counts)\n",
        "    #you could compress both the steps above by doing class_probs = np.bincount(labels) / len(labels)\n",
        "    return 1 - np.max(class_probs)\n",
        "\n",
        "#computes entropy of the labels by computing the class probabilities\n",
        "def cost_entropy(labels):\n",
        "    class_probs = np.bincount(labels) / len(labels)\n",
        "    class_probs = class_probs[class_probs > 0]              #this steps is remove 0 probabilities for removing numerical issues while computing log\n",
        "    return -np.sum(class_probs * np.log2(class_probs))       #expression for entropy -\\sigma p(x)log[p(x)]\n",
        "\n",
        "#computes the gini index cost\n",
        "def cost_gini_index(labels):\n",
        "    class_probs = np.bincount(labels) / len(labels)\n",
        "    return 1 - np.sum(np.square(class_probs))               #expression for gini index 1-\\sigma p(x)^2\n",
        "\n",
        "\n",
        "# Determine if the feature is categorical or numeric\n",
        "def type_Of_Feature(featureLabels):\n",
        "    hepatitisDataNumerical = ['AGE', 'BILIRUBIN', 'ALK PHOSPHATE', 'SGOT', 'ALBUMIN', 'PROTIME']\n",
        "    hepatitisDataCategorical = ['Class', 'SEX', 'STEROID', 'ANTIVIRALS', 'FATIGUE', 'MALAISE', 'ANOREXIA', 'LIVER BIG', 'LIVER FIRM', 'SPLEEN PALPABLE', 'SPIDERS', 'ASCITES', 'VARICES', 'HISTOLOGY']\n",
        "    DRDDataNumerical = ['MA Detection 1', 'MA Detection 2', 'MA Detection 3', 'MA Detection 4', 'MA Detection 5', 'MA Detection 6', \n",
        "                 'MA Detection Exudates 1', 'MA Detection Exudates 2', 'MA Detection Exudates 3', 'MA Detection Exudates 4', 'MA Detection Exudates 5', 'MA Detection Exudates 6', 'MA Detection Exudates 7', 'MA Detection Exudates 8',\n",
        "                 'Euclid Distance', 'Optic Disc Diameter']\n",
        "    DRDDataCategorical = ['Quality Assessment', 'Pre-Screening Result', 'AM/FM Classification', 'Class']\n",
        "\n",
        "    feature_types = []\n",
        "    try:\n",
        "      hepatitisDataColNames.index(featureLabels[0])\n",
        "      for i in featureLabels:\n",
        "        if i in hepatitisDataCategorical:\n",
        "          feature_types.append('Categorical')\n",
        "        elif i in hepatitisDataNumerical:\n",
        "          feature_types.append('Continuous')\n",
        "    except:\n",
        "      for i in featureLabels:\n",
        "        if i in DRDDataCategorical:\n",
        "          feature_types.append('Categorical')\n",
        "        elif i in DRDDataNumerical:\n",
        "          feature_types.append('Continuous')\n",
        "\n",
        "    return feature_types\n",
        "\n",
        "class Node:\n",
        "    def __init__(self, data_indices, parent):\n",
        "        self.data_indices = data_indices                    #stores the data indices which are in the region defined by this node\n",
        "        self.left = None                                    #stores the left child of the node \n",
        "        self.right = None                                   #stores the right child of the node\n",
        "        self.split_feature = None                           #the feature for split at this node\n",
        "        self.split_value = None                             #the value of the feature for split at this node\n",
        "        if parent:\n",
        "            self.depth = parent.depth + 1                   #obtain the dept of the node by adding one to dept of the parent \n",
        "            self.num_classes = parent.num_classes           #copies the num classes from the parent \n",
        "            self.data = parent.data                         #copies the data from the parent\n",
        "            self.labels = parent.labels                     #copies the labels from the parent\n",
        "            class_prob = np.bincount(self.labels[data_indices], minlength=self.num_classes) #this is counting frequency of different labels in the region defined by this node\n",
        "            self.class_prob = class_prob / np.sum(class_prob)  #stores the class probability for the node\n",
        "            #note that we'll use the class probabilites of the leaf nodes for making predictions after the tree is built\n",
        "\n",
        "def greedy_test(node, cost_fn, typeOfFeatures):\n",
        "    #initialize the best parameter values\n",
        "    best_cost = np.inf\n",
        "    best_feature, best_value = None, None\n",
        "    num_instances, num_features = node.data.shape\n",
        "    #sort the features to get the test value candidates by taking the average of consecutive sorted feature values \n",
        "    data_sorted = np.sort(node.data[node.data_indices],axis=0)\n",
        "    test_candidates = (data_sorted[1:] + data_sorted[:-1]) / 2.\n",
        "    for f in range(num_features):\n",
        "        #stores the data corresponding to the f-th feature\n",
        "        data_f = node.data[node.data_indices, f]\n",
        "        for test in test_candidates[:,f]:\n",
        "            #Split the indices using the test value of f-th feature\n",
        "            if typeOfFeatures[f] == 'Continuous':\n",
        "              left_indices = node.data_indices[data_f <= test]\n",
        "              right_indices = node.data_indices[data_f > test]\n",
        "            elif typeOfFeatures[f] == 'Categorical':\n",
        "              left_indices = node.data_indices[data_f == test]\n",
        "              right_indices = node.data_indices[data_f != test]\n",
        "            #we can't have a split where a child has zero element\n",
        "            #if this is true over all the test features and their test values  then the function returns the best cost as infinity\n",
        "            if len(left_indices) == 0 or len(right_indices) == 0:                \n",
        "                continue\n",
        "            #compute the left and right cost based on the current split                                                         \n",
        "            left_cost = cost_fn(node.labels[left_indices])\n",
        "            right_cost = cost_fn(node.labels[right_indices])\n",
        "            num_left, num_right = left_indices.shape[0], right_indices.shape[0]\n",
        "            #get the combined cost using the weighted sum of left and right cost\n",
        "            cost = (num_left * left_cost + num_right * right_cost)/num_instances\n",
        "            #update only when a lower cost is encountered\n",
        "            if cost < best_cost:\n",
        "                best_cost = cost\n",
        "                best_feature = f\n",
        "                best_value = test\n",
        "    return best_cost, best_feature, best_value\n",
        "\n",
        "class DecisionTree:\n",
        "    def __init__(self, num_classes=None, max_depth=3, cost_fn=cost_misclassification, min_leaf_instances=1):\n",
        "        self.max_depth = max_depth      #maximum dept for termination \n",
        "        self.root = None                #stores the root of the decision tree \n",
        "        self.cost_fn = cost_fn          #stores the cost function of the decision tree \n",
        "        self.num_classes = num_classes  #stores the total number of classes\n",
        "        self.min_leaf_instances = min_leaf_instances  #minimum number of instances in a leaf for termination\n",
        "\n",
        "        \n",
        "    def fit(self, data, labels, typeOfFeatures):\n",
        "        self.data = data\n",
        "        self.labels = labels\n",
        "        if self.num_classes is None:\n",
        "            self.num_classes = np.max(labels) + 1\n",
        "        #below are initialization of the root of the decision tree\n",
        "        self.root = Node(np.arange(data.shape[0]), None)\n",
        "        self.root.data = data\n",
        "        self.root.labels = labels\n",
        "        self.root.num_classes = self.num_classes\n",
        "        self.root.depth = 0\n",
        "        #to recursively build the rest of the tree\n",
        "        self._fit_tree(self.root, typeOfFeatures)\n",
        "        return self\n",
        "    \n",
        "    def predict(self, data_test):\n",
        "        class_probs = np.zeros((data_test.shape[0], self.num_classes))\n",
        "        for n, x in enumerate(data_test):\n",
        "            node = self.root\n",
        "            #loop along the dept of the tree looking region where the present data sample fall in based on the split feature and value\n",
        "            while node.left:\n",
        "                if x[node.split_feature] <= node.split_value:\n",
        "                    node = node.left\n",
        "                else:\n",
        "                    node = node.right\n",
        "            #the loop terminates when you reach a leaf of the tree and the class probability of that node is taken for prediction\n",
        "            # print(n)\n",
        "            class_probs[n,:] = node.class_prob\n",
        "        return class_probs\n",
        "\n",
        "    def _fit_tree(self, node, typeOfFeatures):\n",
        "        #This gives the condition for termination of the recursion resulting in a leaf node\n",
        "        if node.depth == self.max_depth or len(node.data_indices) <= self.min_leaf_instances:\n",
        "            return\n",
        "        #greedily select the best test by minimizing the cost\n",
        "        cost, split_feature, split_value = greedy_test(node, self.cost_fn, typeOfFeatures)\n",
        "        #if the cost returned is infinity it means that it is not possible to split the node and hence terminate\n",
        "        if np.isinf(cost):\n",
        "            return\n",
        "        #print(f'best feature: {split_feature}, value {split_value}, cost {cost}')\n",
        "        #to get a boolean array suggesting which data indices corresponding to this node are in the left of the split\n",
        "        test = node.data[node.data_indices,split_feature] <= split_value\n",
        "        #store the split feature and value of the node\n",
        "        node.split_feature = split_feature\n",
        "        node.split_value = split_value\n",
        "        #define new nodes which are going to be the left and right child of the present node\n",
        "        left = Node(node.data_indices[test], node)\n",
        "        right = Node(node.data_indices[np.logical_not(test)], node)\n",
        "        #recursive call to the _fit_tree()\n",
        "        self._fit_tree(left, typeOfFeatures)\n",
        "        self._fit_tree(right, typeOfFeatures)\n",
        "        #assign the left and right child to present child\n",
        "        node.left = left\n",
        "        node.right = right\n",
        "\n",
        "    def predict_proba(self, X_test):\n",
        "        probs_test = self.predict(X_test)\n",
        "        return np.max(probs_test, 1)"
      ],
      "metadata": {
        "id": "oGvu4SpQkiTj"
      },
      "execution_count": 103,
      "outputs": []
    },
    {
      "cell_type": "markdown",
      "source": [
        "# **SECTION 3: Experiments**"
      ],
      "metadata": {
        "id": "9C0lwApsh0Cr"
      }
    },
    {
      "cell_type": "markdown",
      "source": [
        "## **Part 0 - Preparing the datasets for expiriments.**\n",
        "\n"
      ],
      "metadata": {
        "id": "Ccce12ad6Pf8"
      }
    },
    {
      "cell_type": "markdown",
      "source": [
        "### Hepatitis Dataset"
      ],
      "metadata": {
        "id": "lKKtlulB6wMI"
      }
    },
    {
      "cell_type": "code",
      "source": [
        "# All features\n",
        "hepatitisDataFiltered\n",
        "\n",
        "# One-hot encoding\n",
        "hepatitisDataOneHotEncoded = hepatitisDataFiltered.copy()\n",
        "hepatitisDataOneHotEncoded.drop(['AGE', 'SEX'], axis=1, inplace=True)\n",
        "hepatitisDataOneHotEncoded[['Class', 'STEROID', 'ANTIVIRALS', 'FATIGUE', 'MALAISE', 'ANOREXIA', 'LIVER BIG', 'LIVER FIRM', 'SPLEEN PALPABLE', 'SPIDERS', 'ASCITES', 'VARICES', 'HISTOLOGY']] \\\n",
        "  = hepatitisDataOneHotEncoded[['Class', 'STEROID', 'ANTIVIRALS', 'FATIGUE', 'MALAISE', 'ANOREXIA', 'LIVER BIG', 'LIVER FIRM', 'SPLEEN PALPABLE', 'SPIDERS', 'ASCITES', 'VARICES', 'HISTOLOGY']].subtract(1)\n",
        "X_hepatitisOneHot, y_hepatitisOneHot = np.array(hepatitisDataOneHotEncoded.loc[:, 'STEROID': 'HISTOLOGY']), np.array(hepatitisDataOneHotEncoded['Class'])\n",
        "\n",
        "hepatitisDataOneHotEncoded"
      ],
      "metadata": {
        "id": "ezo9ATG5j-05",
        "colab": {
          "base_uri": "https://localhost:8080/",
          "height": 467
        },
        "outputId": "627cafd3-0ef8-4738-e5e9-0da3237114d1"
      },
      "execution_count": 104,
      "outputs": [
        {
          "output_type": "execute_result",
          "data": {
            "text/plain": [
              "    STEROID  ANTIVIRALS  FATIGUE  MALAISE  ANOREXIA  LIVER BIG  LIVER FIRM  \\\n",
              "0         1           1        1        1         1          1           1   \n",
              "1         0           0        1        1         1          0           0   \n",
              "2         1           0        0        1         1          1           0   \n",
              "3         1           0        0        1         1          1           0   \n",
              "4         1           1        0        1         1          1           0   \n",
              "..      ...         ...      ...      ...       ...        ...         ...   \n",
              "75        1           0        1        1         1          1           1   \n",
              "76        0           1        0        0         1          1           1   \n",
              "77        0           1        0        1         1          1           1   \n",
              "78        0           1        0        1         1          1           1   \n",
              "79        1           1        0        1         1          1           1   \n",
              "\n",
              "    SPLEEN PALPABLE  SPIDERS  ASCITES  VARICES  BILIRUBIN  ALK PHOSPHATE  \\\n",
              "0                 1        1        1        1        0.9             95   \n",
              "1                 1        1        1        1        1.3             78   \n",
              "2                 1        0        1        1        1.0             59   \n",
              "3                 1        1        1        1        0.9             81   \n",
              "4                 1        1        1        1        2.2             57   \n",
              "..              ...      ...      ...      ...        ...            ...   \n",
              "75                1        1        1        1        1.3             85   \n",
              "76                0        0        1        1        1.4             85   \n",
              "77                1        1        1        1        1.2             75   \n",
              "78                0        0        1        0        1.5             81   \n",
              "79                0        0        0        1        1.2            100   \n",
              "\n",
              "    SGOT  ALBUMIN  PROTIME  HISTOLOGY  Class  \n",
              "0     28      4.0       75          0      1  \n",
              "1     30      4.4       85          0      1  \n",
              "2    249      3.7       54          0      1  \n",
              "3     60      3.9       52          0      1  \n",
              "4    144      4.9       78          0      1  \n",
              "..   ...      ...      ...        ...    ...  \n",
              "75    44      4.2       85          1      1  \n",
              "76    70      3.5       35          1      0  \n",
              "77   173      4.2       54          1      1  \n",
              "78    19      4.1       48          1      1  \n",
              "79    19      3.1       42          1      0  \n",
              "\n",
              "[80 rows x 18 columns]"
            ],
            "text/html": [
              "\n",
              "  <div id=\"df-af6ca2ab-7fa1-4a4f-9256-b5e09693e172\">\n",
              "    <div class=\"colab-df-container\">\n",
              "      <div>\n",
              "<style scoped>\n",
              "    .dataframe tbody tr th:only-of-type {\n",
              "        vertical-align: middle;\n",
              "    }\n",
              "\n",
              "    .dataframe tbody tr th {\n",
              "        vertical-align: top;\n",
              "    }\n",
              "\n",
              "    .dataframe thead th {\n",
              "        text-align: right;\n",
              "    }\n",
              "</style>\n",
              "<table border=\"1\" class=\"dataframe\">\n",
              "  <thead>\n",
              "    <tr style=\"text-align: right;\">\n",
              "      <th></th>\n",
              "      <th>STEROID</th>\n",
              "      <th>ANTIVIRALS</th>\n",
              "      <th>FATIGUE</th>\n",
              "      <th>MALAISE</th>\n",
              "      <th>ANOREXIA</th>\n",
              "      <th>LIVER BIG</th>\n",
              "      <th>LIVER FIRM</th>\n",
              "      <th>SPLEEN PALPABLE</th>\n",
              "      <th>SPIDERS</th>\n",
              "      <th>ASCITES</th>\n",
              "      <th>VARICES</th>\n",
              "      <th>BILIRUBIN</th>\n",
              "      <th>ALK PHOSPHATE</th>\n",
              "      <th>SGOT</th>\n",
              "      <th>ALBUMIN</th>\n",
              "      <th>PROTIME</th>\n",
              "      <th>HISTOLOGY</th>\n",
              "      <th>Class</th>\n",
              "    </tr>\n",
              "  </thead>\n",
              "  <tbody>\n",
              "    <tr>\n",
              "      <th>0</th>\n",
              "      <td>1</td>\n",
              "      <td>1</td>\n",
              "      <td>1</td>\n",
              "      <td>1</td>\n",
              "      <td>1</td>\n",
              "      <td>1</td>\n",
              "      <td>1</td>\n",
              "      <td>1</td>\n",
              "      <td>1</td>\n",
              "      <td>1</td>\n",
              "      <td>1</td>\n",
              "      <td>0.9</td>\n",
              "      <td>95</td>\n",
              "      <td>28</td>\n",
              "      <td>4.0</td>\n",
              "      <td>75</td>\n",
              "      <td>0</td>\n",
              "      <td>1</td>\n",
              "    </tr>\n",
              "    <tr>\n",
              "      <th>1</th>\n",
              "      <td>0</td>\n",
              "      <td>0</td>\n",
              "      <td>1</td>\n",
              "      <td>1</td>\n",
              "      <td>1</td>\n",
              "      <td>0</td>\n",
              "      <td>0</td>\n",
              "      <td>1</td>\n",
              "      <td>1</td>\n",
              "      <td>1</td>\n",
              "      <td>1</td>\n",
              "      <td>1.3</td>\n",
              "      <td>78</td>\n",
              "      <td>30</td>\n",
              "      <td>4.4</td>\n",
              "      <td>85</td>\n",
              "      <td>0</td>\n",
              "      <td>1</td>\n",
              "    </tr>\n",
              "    <tr>\n",
              "      <th>2</th>\n",
              "      <td>1</td>\n",
              "      <td>0</td>\n",
              "      <td>0</td>\n",
              "      <td>1</td>\n",
              "      <td>1</td>\n",
              "      <td>1</td>\n",
              "      <td>0</td>\n",
              "      <td>1</td>\n",
              "      <td>0</td>\n",
              "      <td>1</td>\n",
              "      <td>1</td>\n",
              "      <td>1.0</td>\n",
              "      <td>59</td>\n",
              "      <td>249</td>\n",
              "      <td>3.7</td>\n",
              "      <td>54</td>\n",
              "      <td>0</td>\n",
              "      <td>1</td>\n",
              "    </tr>\n",
              "    <tr>\n",
              "      <th>3</th>\n",
              "      <td>1</td>\n",
              "      <td>0</td>\n",
              "      <td>0</td>\n",
              "      <td>1</td>\n",
              "      <td>1</td>\n",
              "      <td>1</td>\n",
              "      <td>0</td>\n",
              "      <td>1</td>\n",
              "      <td>1</td>\n",
              "      <td>1</td>\n",
              "      <td>1</td>\n",
              "      <td>0.9</td>\n",
              "      <td>81</td>\n",
              "      <td>60</td>\n",
              "      <td>3.9</td>\n",
              "      <td>52</td>\n",
              "      <td>0</td>\n",
              "      <td>1</td>\n",
              "    </tr>\n",
              "    <tr>\n",
              "      <th>4</th>\n",
              "      <td>1</td>\n",
              "      <td>1</td>\n",
              "      <td>0</td>\n",
              "      <td>1</td>\n",
              "      <td>1</td>\n",
              "      <td>1</td>\n",
              "      <td>0</td>\n",
              "      <td>1</td>\n",
              "      <td>1</td>\n",
              "      <td>1</td>\n",
              "      <td>1</td>\n",
              "      <td>2.2</td>\n",
              "      <td>57</td>\n",
              "      <td>144</td>\n",
              "      <td>4.9</td>\n",
              "      <td>78</td>\n",
              "      <td>0</td>\n",
              "      <td>1</td>\n",
              "    </tr>\n",
              "    <tr>\n",
              "      <th>...</th>\n",
              "      <td>...</td>\n",
              "      <td>...</td>\n",
              "      <td>...</td>\n",
              "      <td>...</td>\n",
              "      <td>...</td>\n",
              "      <td>...</td>\n",
              "      <td>...</td>\n",
              "      <td>...</td>\n",
              "      <td>...</td>\n",
              "      <td>...</td>\n",
              "      <td>...</td>\n",
              "      <td>...</td>\n",
              "      <td>...</td>\n",
              "      <td>...</td>\n",
              "      <td>...</td>\n",
              "      <td>...</td>\n",
              "      <td>...</td>\n",
              "      <td>...</td>\n",
              "    </tr>\n",
              "    <tr>\n",
              "      <th>75</th>\n",
              "      <td>1</td>\n",
              "      <td>0</td>\n",
              "      <td>1</td>\n",
              "      <td>1</td>\n",
              "      <td>1</td>\n",
              "      <td>1</td>\n",
              "      <td>1</td>\n",
              "      <td>1</td>\n",
              "      <td>1</td>\n",
              "      <td>1</td>\n",
              "      <td>1</td>\n",
              "      <td>1.3</td>\n",
              "      <td>85</td>\n",
              "      <td>44</td>\n",
              "      <td>4.2</td>\n",
              "      <td>85</td>\n",
              "      <td>1</td>\n",
              "      <td>1</td>\n",
              "    </tr>\n",
              "    <tr>\n",
              "      <th>76</th>\n",
              "      <td>0</td>\n",
              "      <td>1</td>\n",
              "      <td>0</td>\n",
              "      <td>0</td>\n",
              "      <td>1</td>\n",
              "      <td>1</td>\n",
              "      <td>1</td>\n",
              "      <td>0</td>\n",
              "      <td>0</td>\n",
              "      <td>1</td>\n",
              "      <td>1</td>\n",
              "      <td>1.4</td>\n",
              "      <td>85</td>\n",
              "      <td>70</td>\n",
              "      <td>3.5</td>\n",
              "      <td>35</td>\n",
              "      <td>1</td>\n",
              "      <td>0</td>\n",
              "    </tr>\n",
              "    <tr>\n",
              "      <th>77</th>\n",
              "      <td>0</td>\n",
              "      <td>1</td>\n",
              "      <td>0</td>\n",
              "      <td>1</td>\n",
              "      <td>1</td>\n",
              "      <td>1</td>\n",
              "      <td>1</td>\n",
              "      <td>1</td>\n",
              "      <td>1</td>\n",
              "      <td>1</td>\n",
              "      <td>1</td>\n",
              "      <td>1.2</td>\n",
              "      <td>75</td>\n",
              "      <td>173</td>\n",
              "      <td>4.2</td>\n",
              "      <td>54</td>\n",
              "      <td>1</td>\n",
              "      <td>1</td>\n",
              "    </tr>\n",
              "    <tr>\n",
              "      <th>78</th>\n",
              "      <td>0</td>\n",
              "      <td>1</td>\n",
              "      <td>0</td>\n",
              "      <td>1</td>\n",
              "      <td>1</td>\n",
              "      <td>1</td>\n",
              "      <td>1</td>\n",
              "      <td>0</td>\n",
              "      <td>0</td>\n",
              "      <td>1</td>\n",
              "      <td>0</td>\n",
              "      <td>1.5</td>\n",
              "      <td>81</td>\n",
              "      <td>19</td>\n",
              "      <td>4.1</td>\n",
              "      <td>48</td>\n",
              "      <td>1</td>\n",
              "      <td>1</td>\n",
              "    </tr>\n",
              "    <tr>\n",
              "      <th>79</th>\n",
              "      <td>1</td>\n",
              "      <td>1</td>\n",
              "      <td>0</td>\n",
              "      <td>1</td>\n",
              "      <td>1</td>\n",
              "      <td>1</td>\n",
              "      <td>1</td>\n",
              "      <td>0</td>\n",
              "      <td>0</td>\n",
              "      <td>0</td>\n",
              "      <td>1</td>\n",
              "      <td>1.2</td>\n",
              "      <td>100</td>\n",
              "      <td>19</td>\n",
              "      <td>3.1</td>\n",
              "      <td>42</td>\n",
              "      <td>1</td>\n",
              "      <td>0</td>\n",
              "    </tr>\n",
              "  </tbody>\n",
              "</table>\n",
              "<p>80 rows × 18 columns</p>\n",
              "</div>\n",
              "      <button class=\"colab-df-convert\" onclick=\"convertToInteractive('df-af6ca2ab-7fa1-4a4f-9256-b5e09693e172')\"\n",
              "              title=\"Convert this dataframe to an interactive table.\"\n",
              "              style=\"display:none;\">\n",
              "        \n",
              "  <svg xmlns=\"http://www.w3.org/2000/svg\" height=\"24px\"viewBox=\"0 0 24 24\"\n",
              "       width=\"24px\">\n",
              "    <path d=\"M0 0h24v24H0V0z\" fill=\"none\"/>\n",
              "    <path d=\"M18.56 5.44l.94 2.06.94-2.06 2.06-.94-2.06-.94-.94-2.06-.94 2.06-2.06.94zm-11 1L8.5 8.5l.94-2.06 2.06-.94-2.06-.94L8.5 2.5l-.94 2.06-2.06.94zm10 10l.94 2.06.94-2.06 2.06-.94-2.06-.94-.94-2.06-.94 2.06-2.06.94z\"/><path d=\"M17.41 7.96l-1.37-1.37c-.4-.4-.92-.59-1.43-.59-.52 0-1.04.2-1.43.59L10.3 9.45l-7.72 7.72c-.78.78-.78 2.05 0 2.83L4 21.41c.39.39.9.59 1.41.59.51 0 1.02-.2 1.41-.59l7.78-7.78 2.81-2.81c.8-.78.8-2.07 0-2.86zM5.41 20L4 18.59l7.72-7.72 1.47 1.35L5.41 20z\"/>\n",
              "  </svg>\n",
              "      </button>\n",
              "      \n",
              "  <style>\n",
              "    .colab-df-container {\n",
              "      display:flex;\n",
              "      flex-wrap:wrap;\n",
              "      gap: 12px;\n",
              "    }\n",
              "\n",
              "    .colab-df-convert {\n",
              "      background-color: #E8F0FE;\n",
              "      border: none;\n",
              "      border-radius: 50%;\n",
              "      cursor: pointer;\n",
              "      display: none;\n",
              "      fill: #1967D2;\n",
              "      height: 32px;\n",
              "      padding: 0 0 0 0;\n",
              "      width: 32px;\n",
              "    }\n",
              "\n",
              "    .colab-df-convert:hover {\n",
              "      background-color: #E2EBFA;\n",
              "      box-shadow: 0px 1px 2px rgba(60, 64, 67, 0.3), 0px 1px 3px 1px rgba(60, 64, 67, 0.15);\n",
              "      fill: #174EA6;\n",
              "    }\n",
              "\n",
              "    [theme=dark] .colab-df-convert {\n",
              "      background-color: #3B4455;\n",
              "      fill: #D2E3FC;\n",
              "    }\n",
              "\n",
              "    [theme=dark] .colab-df-convert:hover {\n",
              "      background-color: #434B5C;\n",
              "      box-shadow: 0px 1px 3px 1px rgba(0, 0, 0, 0.15);\n",
              "      filter: drop-shadow(0px 1px 2px rgba(0, 0, 0, 0.3));\n",
              "      fill: #FFFFFF;\n",
              "    }\n",
              "  </style>\n",
              "\n",
              "      <script>\n",
              "        const buttonEl =\n",
              "          document.querySelector('#df-af6ca2ab-7fa1-4a4f-9256-b5e09693e172 button.colab-df-convert');\n",
              "        buttonEl.style.display =\n",
              "          google.colab.kernel.accessAllowed ? 'block' : 'none';\n",
              "\n",
              "        async function convertToInteractive(key) {\n",
              "          const element = document.querySelector('#df-af6ca2ab-7fa1-4a4f-9256-b5e09693e172');\n",
              "          const dataTable =\n",
              "            await google.colab.kernel.invokeFunction('convertToInteractive',\n",
              "                                                     [key], {});\n",
              "          if (!dataTable) return;\n",
              "\n",
              "          const docLinkHtml = 'Like what you see? Visit the ' +\n",
              "            '<a target=\"_blank\" href=https://colab.research.google.com/notebooks/data_table.ipynb>data table notebook</a>'\n",
              "            + ' to learn more about interactive tables.';\n",
              "          element.innerHTML = '';\n",
              "          dataTable['output_type'] = 'display_data';\n",
              "          await google.colab.output.renderOutput(dataTable, element);\n",
              "          const docLink = document.createElement('div');\n",
              "          docLink.innerHTML = docLinkHtml;\n",
              "          element.appendChild(docLink);\n",
              "        }\n",
              "      </script>\n",
              "    </div>\n",
              "  </div>\n",
              "  "
            ]
          },
          "metadata": {},
          "execution_count": 104
        }
      ]
    },
    {
      "cell_type": "markdown",
      "source": [
        "### Diabetic Retinopathy Debrecen Dataset"
      ],
      "metadata": {
        "id": "hRrh7MoQ7F1i"
      }
    },
    {
      "cell_type": "code",
      "source": [
        "# All features\n",
        "DRDDataFiltered\n",
        "X_DRD, y_DRD = np.array(DRDDataFiltered.loc[:, 'Quality Assessment': 'AM/FM Classification']), np.array(DRDDataFiltered['Class'].astype(int))\n",
        "\n",
        "# Feature selection - exclude Quality Assessment and Pre-Screening Result columns\n",
        "DRDDataFilteredFeatures = DRDDataFiltered.copy()\n",
        "DRDDataFilteredFeatures = DRDDataFilteredFeatures.iloc[:, 2: 20]\n",
        "X_DRDFilteredFeatures, y_DRDFilteredFeatures = np.array(DRDDataFilteredFeatures.loc[:, 'MA Detection 1': 'AM/FM Classification']), np.array(DRDDataFilteredFeatures['Class'].astype(int))\n",
        "\n",
        "DRDDataFilteredFeatures"
      ],
      "metadata": {
        "id": "DDPWnkqe7N4i",
        "colab": {
          "base_uri": "https://localhost:8080/",
          "height": 539
        },
        "outputId": "27ae0115-8dcc-4b52-ef01-0f819e3314f3"
      },
      "execution_count": 105,
      "outputs": [
        {
          "output_type": "execute_result",
          "data": {
            "text/plain": [
              "      MA Detection 1  MA Detection 2  MA Detection 3  MA Detection 4  \\\n",
              "0               22.0            22.0            22.0            19.0   \n",
              "1               24.0            24.0            22.0            18.0   \n",
              "2               62.0            60.0            59.0            54.0   \n",
              "3               55.0            53.0            53.0            50.0   \n",
              "4               44.0            44.0            44.0            41.0   \n",
              "...              ...             ...             ...             ...   \n",
              "1142            34.0            34.0            34.0            33.0   \n",
              "1143            49.0            49.0            49.0            49.0   \n",
              "1144            49.0            48.0            48.0            45.0   \n",
              "1145            39.0            36.0            29.0            23.0   \n",
              "1146             7.0             7.0             7.0             7.0   \n",
              "\n",
              "      MA Detection 5  MA Detection 6  MA Detection Exudates 1  \\\n",
              "0               18.0            14.0                49.895756   \n",
              "1               16.0            13.0                57.709936   \n",
              "2               47.0            33.0                55.831441   \n",
              "3               43.0            31.0                40.467228   \n",
              "4               39.0            27.0                18.026254   \n",
              "...              ...             ...                      ...   \n",
              "1142            31.0            24.0                 6.071765   \n",
              "1143            45.0            37.0                63.197145   \n",
              "1144            43.0            33.0                30.461898   \n",
              "1145            13.0             7.0                40.525739   \n",
              "1146             7.0             5.0                69.423565   \n",
              "\n",
              "      MA Detection Exudates 2  MA Detection Exudates 3  \\\n",
              "0                   17.775994                 5.270920   \n",
              "1                   23.799994                 3.325423   \n",
              "2                   27.993933                12.687485   \n",
              "3                   18.445954                 9.118901   \n",
              "4                    8.570709                 0.410381   \n",
              "...                       ...                      ...   \n",
              "1142                 0.937472                 0.031145   \n",
              "1143                27.377668                 8.067688   \n",
              "1144                13.966980                 1.763305   \n",
              "1145                12.604947                 4.740919   \n",
              "1146                 7.031843                 1.750548   \n",
              "\n",
              "      MA Detection Exudates 4  MA Detection Exudates 5  \\\n",
              "0                    0.771761                 0.018632   \n",
              "1                    0.234185                 0.003903   \n",
              "2                    4.852282                 1.393889   \n",
              "3                    3.079428                 0.840261   \n",
              "4                    0.000000                 0.000000   \n",
              "...                       ...                      ...   \n",
              "1142                 0.003115                 0.000000   \n",
              "1143                 0.979548                 0.001552   \n",
              "1144                 0.137858                 0.011221   \n",
              "1145                 1.077570                 0.563518   \n",
              "1146                 0.046597                 0.021180   \n",
              "\n",
              "      MA Detection Exudates 6  MA Detection Exudates 7  \\\n",
              "0                    0.006864                 0.003923   \n",
              "1                    0.003903                 0.003903   \n",
              "2                    0.373252                 0.041817   \n",
              "3                    0.272434                 0.007653   \n",
              "4                    0.000000                 0.000000   \n",
              "...                       ...                      ...   \n",
              "1142                 0.000000                 0.000000   \n",
              "1143                 0.000000                 0.000000   \n",
              "1144                 0.000000                 0.000000   \n",
              "1145                 0.326860                 0.239568   \n",
              "1146                 0.008472                 0.000000   \n",
              "\n",
              "      MA Detection Exudates 8  Euclid Distance  Optic Disc Diameter  \\\n",
              "0                    0.003923         0.486903             0.100025   \n",
              "1                    0.003903         0.520908             0.144414   \n",
              "2                    0.007744         0.530904             0.128548   \n",
              "3                    0.001531         0.483284             0.114790   \n",
              "4                    0.000000         0.475935             0.123572   \n",
              "...                       ...              ...                  ...   \n",
              "1142                 0.000000         0.537470             0.116795   \n",
              "1143                 0.000000         0.516733             0.124190   \n",
              "1144                 0.000000         0.560632             0.129843   \n",
              "1145                 0.174584         0.485972             0.106690   \n",
              "1146                 0.000000         0.556192             0.088957   \n",
              "\n",
              "      AM/FM Classification  Class  \n",
              "0                      1.0      0  \n",
              "1                      0.0      0  \n",
              "2                      0.0      1  \n",
              "3                      0.0      0  \n",
              "4                      0.0      1  \n",
              "...                    ...    ...  \n",
              "1142                   0.0      0  \n",
              "1143                   0.0      0  \n",
              "1144                   0.0      0  \n",
              "1145                   1.0      1  \n",
              "1146                   0.0      0  \n",
              "\n",
              "[1147 rows x 18 columns]"
            ],
            "text/html": [
              "\n",
              "  <div id=\"df-d8bb36b4-a2ad-43de-8c5b-b4b1bb9e98da\">\n",
              "    <div class=\"colab-df-container\">\n",
              "      <div>\n",
              "<style scoped>\n",
              "    .dataframe tbody tr th:only-of-type {\n",
              "        vertical-align: middle;\n",
              "    }\n",
              "\n",
              "    .dataframe tbody tr th {\n",
              "        vertical-align: top;\n",
              "    }\n",
              "\n",
              "    .dataframe thead th {\n",
              "        text-align: right;\n",
              "    }\n",
              "</style>\n",
              "<table border=\"1\" class=\"dataframe\">\n",
              "  <thead>\n",
              "    <tr style=\"text-align: right;\">\n",
              "      <th></th>\n",
              "      <th>MA Detection 1</th>\n",
              "      <th>MA Detection 2</th>\n",
              "      <th>MA Detection 3</th>\n",
              "      <th>MA Detection 4</th>\n",
              "      <th>MA Detection 5</th>\n",
              "      <th>MA Detection 6</th>\n",
              "      <th>MA Detection Exudates 1</th>\n",
              "      <th>MA Detection Exudates 2</th>\n",
              "      <th>MA Detection Exudates 3</th>\n",
              "      <th>MA Detection Exudates 4</th>\n",
              "      <th>MA Detection Exudates 5</th>\n",
              "      <th>MA Detection Exudates 6</th>\n",
              "      <th>MA Detection Exudates 7</th>\n",
              "      <th>MA Detection Exudates 8</th>\n",
              "      <th>Euclid Distance</th>\n",
              "      <th>Optic Disc Diameter</th>\n",
              "      <th>AM/FM Classification</th>\n",
              "      <th>Class</th>\n",
              "    </tr>\n",
              "  </thead>\n",
              "  <tbody>\n",
              "    <tr>\n",
              "      <th>0</th>\n",
              "      <td>22.0</td>\n",
              "      <td>22.0</td>\n",
              "      <td>22.0</td>\n",
              "      <td>19.0</td>\n",
              "      <td>18.0</td>\n",
              "      <td>14.0</td>\n",
              "      <td>49.895756</td>\n",
              "      <td>17.775994</td>\n",
              "      <td>5.270920</td>\n",
              "      <td>0.771761</td>\n",
              "      <td>0.018632</td>\n",
              "      <td>0.006864</td>\n",
              "      <td>0.003923</td>\n",
              "      <td>0.003923</td>\n",
              "      <td>0.486903</td>\n",
              "      <td>0.100025</td>\n",
              "      <td>1.0</td>\n",
              "      <td>0</td>\n",
              "    </tr>\n",
              "    <tr>\n",
              "      <th>1</th>\n",
              "      <td>24.0</td>\n",
              "      <td>24.0</td>\n",
              "      <td>22.0</td>\n",
              "      <td>18.0</td>\n",
              "      <td>16.0</td>\n",
              "      <td>13.0</td>\n",
              "      <td>57.709936</td>\n",
              "      <td>23.799994</td>\n",
              "      <td>3.325423</td>\n",
              "      <td>0.234185</td>\n",
              "      <td>0.003903</td>\n",
              "      <td>0.003903</td>\n",
              "      <td>0.003903</td>\n",
              "      <td>0.003903</td>\n",
              "      <td>0.520908</td>\n",
              "      <td>0.144414</td>\n",
              "      <td>0.0</td>\n",
              "      <td>0</td>\n",
              "    </tr>\n",
              "    <tr>\n",
              "      <th>2</th>\n",
              "      <td>62.0</td>\n",
              "      <td>60.0</td>\n",
              "      <td>59.0</td>\n",
              "      <td>54.0</td>\n",
              "      <td>47.0</td>\n",
              "      <td>33.0</td>\n",
              "      <td>55.831441</td>\n",
              "      <td>27.993933</td>\n",
              "      <td>12.687485</td>\n",
              "      <td>4.852282</td>\n",
              "      <td>1.393889</td>\n",
              "      <td>0.373252</td>\n",
              "      <td>0.041817</td>\n",
              "      <td>0.007744</td>\n",
              "      <td>0.530904</td>\n",
              "      <td>0.128548</td>\n",
              "      <td>0.0</td>\n",
              "      <td>1</td>\n",
              "    </tr>\n",
              "    <tr>\n",
              "      <th>3</th>\n",
              "      <td>55.0</td>\n",
              "      <td>53.0</td>\n",
              "      <td>53.0</td>\n",
              "      <td>50.0</td>\n",
              "      <td>43.0</td>\n",
              "      <td>31.0</td>\n",
              "      <td>40.467228</td>\n",
              "      <td>18.445954</td>\n",
              "      <td>9.118901</td>\n",
              "      <td>3.079428</td>\n",
              "      <td>0.840261</td>\n",
              "      <td>0.272434</td>\n",
              "      <td>0.007653</td>\n",
              "      <td>0.001531</td>\n",
              "      <td>0.483284</td>\n",
              "      <td>0.114790</td>\n",
              "      <td>0.0</td>\n",
              "      <td>0</td>\n",
              "    </tr>\n",
              "    <tr>\n",
              "      <th>4</th>\n",
              "      <td>44.0</td>\n",
              "      <td>44.0</td>\n",
              "      <td>44.0</td>\n",
              "      <td>41.0</td>\n",
              "      <td>39.0</td>\n",
              "      <td>27.0</td>\n",
              "      <td>18.026254</td>\n",
              "      <td>8.570709</td>\n",
              "      <td>0.410381</td>\n",
              "      <td>0.000000</td>\n",
              "      <td>0.000000</td>\n",
              "      <td>0.000000</td>\n",
              "      <td>0.000000</td>\n",
              "      <td>0.000000</td>\n",
              "      <td>0.475935</td>\n",
              "      <td>0.123572</td>\n",
              "      <td>0.0</td>\n",
              "      <td>1</td>\n",
              "    </tr>\n",
              "    <tr>\n",
              "      <th>...</th>\n",
              "      <td>...</td>\n",
              "      <td>...</td>\n",
              "      <td>...</td>\n",
              "      <td>...</td>\n",
              "      <td>...</td>\n",
              "      <td>...</td>\n",
              "      <td>...</td>\n",
              "      <td>...</td>\n",
              "      <td>...</td>\n",
              "      <td>...</td>\n",
              "      <td>...</td>\n",
              "      <td>...</td>\n",
              "      <td>...</td>\n",
              "      <td>...</td>\n",
              "      <td>...</td>\n",
              "      <td>...</td>\n",
              "      <td>...</td>\n",
              "      <td>...</td>\n",
              "    </tr>\n",
              "    <tr>\n",
              "      <th>1142</th>\n",
              "      <td>34.0</td>\n",
              "      <td>34.0</td>\n",
              "      <td>34.0</td>\n",
              "      <td>33.0</td>\n",
              "      <td>31.0</td>\n",
              "      <td>24.0</td>\n",
              "      <td>6.071765</td>\n",
              "      <td>0.937472</td>\n",
              "      <td>0.031145</td>\n",
              "      <td>0.003115</td>\n",
              "      <td>0.000000</td>\n",
              "      <td>0.000000</td>\n",
              "      <td>0.000000</td>\n",
              "      <td>0.000000</td>\n",
              "      <td>0.537470</td>\n",
              "      <td>0.116795</td>\n",
              "      <td>0.0</td>\n",
              "      <td>0</td>\n",
              "    </tr>\n",
              "    <tr>\n",
              "      <th>1143</th>\n",
              "      <td>49.0</td>\n",
              "      <td>49.0</td>\n",
              "      <td>49.0</td>\n",
              "      <td>49.0</td>\n",
              "      <td>45.0</td>\n",
              "      <td>37.0</td>\n",
              "      <td>63.197145</td>\n",
              "      <td>27.377668</td>\n",
              "      <td>8.067688</td>\n",
              "      <td>0.979548</td>\n",
              "      <td>0.001552</td>\n",
              "      <td>0.000000</td>\n",
              "      <td>0.000000</td>\n",
              "      <td>0.000000</td>\n",
              "      <td>0.516733</td>\n",
              "      <td>0.124190</td>\n",
              "      <td>0.0</td>\n",
              "      <td>0</td>\n",
              "    </tr>\n",
              "    <tr>\n",
              "      <th>1144</th>\n",
              "      <td>49.0</td>\n",
              "      <td>48.0</td>\n",
              "      <td>48.0</td>\n",
              "      <td>45.0</td>\n",
              "      <td>43.0</td>\n",
              "      <td>33.0</td>\n",
              "      <td>30.461898</td>\n",
              "      <td>13.966980</td>\n",
              "      <td>1.763305</td>\n",
              "      <td>0.137858</td>\n",
              "      <td>0.011221</td>\n",
              "      <td>0.000000</td>\n",
              "      <td>0.000000</td>\n",
              "      <td>0.000000</td>\n",
              "      <td>0.560632</td>\n",
              "      <td>0.129843</td>\n",
              "      <td>0.0</td>\n",
              "      <td>0</td>\n",
              "    </tr>\n",
              "    <tr>\n",
              "      <th>1145</th>\n",
              "      <td>39.0</td>\n",
              "      <td>36.0</td>\n",
              "      <td>29.0</td>\n",
              "      <td>23.0</td>\n",
              "      <td>13.0</td>\n",
              "      <td>7.0</td>\n",
              "      <td>40.525739</td>\n",
              "      <td>12.604947</td>\n",
              "      <td>4.740919</td>\n",
              "      <td>1.077570</td>\n",
              "      <td>0.563518</td>\n",
              "      <td>0.326860</td>\n",
              "      <td>0.239568</td>\n",
              "      <td>0.174584</td>\n",
              "      <td>0.485972</td>\n",
              "      <td>0.106690</td>\n",
              "      <td>1.0</td>\n",
              "      <td>1</td>\n",
              "    </tr>\n",
              "    <tr>\n",
              "      <th>1146</th>\n",
              "      <td>7.0</td>\n",
              "      <td>7.0</td>\n",
              "      <td>7.0</td>\n",
              "      <td>7.0</td>\n",
              "      <td>7.0</td>\n",
              "      <td>5.0</td>\n",
              "      <td>69.423565</td>\n",
              "      <td>7.031843</td>\n",
              "      <td>1.750548</td>\n",
              "      <td>0.046597</td>\n",
              "      <td>0.021180</td>\n",
              "      <td>0.008472</td>\n",
              "      <td>0.000000</td>\n",
              "      <td>0.000000</td>\n",
              "      <td>0.556192</td>\n",
              "      <td>0.088957</td>\n",
              "      <td>0.0</td>\n",
              "      <td>0</td>\n",
              "    </tr>\n",
              "  </tbody>\n",
              "</table>\n",
              "<p>1147 rows × 18 columns</p>\n",
              "</div>\n",
              "      <button class=\"colab-df-convert\" onclick=\"convertToInteractive('df-d8bb36b4-a2ad-43de-8c5b-b4b1bb9e98da')\"\n",
              "              title=\"Convert this dataframe to an interactive table.\"\n",
              "              style=\"display:none;\">\n",
              "        \n",
              "  <svg xmlns=\"http://www.w3.org/2000/svg\" height=\"24px\"viewBox=\"0 0 24 24\"\n",
              "       width=\"24px\">\n",
              "    <path d=\"M0 0h24v24H0V0z\" fill=\"none\"/>\n",
              "    <path d=\"M18.56 5.44l.94 2.06.94-2.06 2.06-.94-2.06-.94-.94-2.06-.94 2.06-2.06.94zm-11 1L8.5 8.5l.94-2.06 2.06-.94-2.06-.94L8.5 2.5l-.94 2.06-2.06.94zm10 10l.94 2.06.94-2.06 2.06-.94-2.06-.94-.94-2.06-.94 2.06-2.06.94z\"/><path d=\"M17.41 7.96l-1.37-1.37c-.4-.4-.92-.59-1.43-.59-.52 0-1.04.2-1.43.59L10.3 9.45l-7.72 7.72c-.78.78-.78 2.05 0 2.83L4 21.41c.39.39.9.59 1.41.59.51 0 1.02-.2 1.41-.59l7.78-7.78 2.81-2.81c.8-.78.8-2.07 0-2.86zM5.41 20L4 18.59l7.72-7.72 1.47 1.35L5.41 20z\"/>\n",
              "  </svg>\n",
              "      </button>\n",
              "      \n",
              "  <style>\n",
              "    .colab-df-container {\n",
              "      display:flex;\n",
              "      flex-wrap:wrap;\n",
              "      gap: 12px;\n",
              "    }\n",
              "\n",
              "    .colab-df-convert {\n",
              "      background-color: #E8F0FE;\n",
              "      border: none;\n",
              "      border-radius: 50%;\n",
              "      cursor: pointer;\n",
              "      display: none;\n",
              "      fill: #1967D2;\n",
              "      height: 32px;\n",
              "      padding: 0 0 0 0;\n",
              "      width: 32px;\n",
              "    }\n",
              "\n",
              "    .colab-df-convert:hover {\n",
              "      background-color: #E2EBFA;\n",
              "      box-shadow: 0px 1px 2px rgba(60, 64, 67, 0.3), 0px 1px 3px 1px rgba(60, 64, 67, 0.15);\n",
              "      fill: #174EA6;\n",
              "    }\n",
              "\n",
              "    [theme=dark] .colab-df-convert {\n",
              "      background-color: #3B4455;\n",
              "      fill: #D2E3FC;\n",
              "    }\n",
              "\n",
              "    [theme=dark] .colab-df-convert:hover {\n",
              "      background-color: #434B5C;\n",
              "      box-shadow: 0px 1px 3px 1px rgba(0, 0, 0, 0.15);\n",
              "      filter: drop-shadow(0px 1px 2px rgba(0, 0, 0, 0.3));\n",
              "      fill: #FFFFFF;\n",
              "    }\n",
              "  </style>\n",
              "\n",
              "      <script>\n",
              "        const buttonEl =\n",
              "          document.querySelector('#df-d8bb36b4-a2ad-43de-8c5b-b4b1bb9e98da button.colab-df-convert');\n",
              "        buttonEl.style.display =\n",
              "          google.colab.kernel.accessAllowed ? 'block' : 'none';\n",
              "\n",
              "        async function convertToInteractive(key) {\n",
              "          const element = document.querySelector('#df-d8bb36b4-a2ad-43de-8c5b-b4b1bb9e98da');\n",
              "          const dataTable =\n",
              "            await google.colab.kernel.invokeFunction('convertToInteractive',\n",
              "                                                     [key], {});\n",
              "          if (!dataTable) return;\n",
              "\n",
              "          const docLinkHtml = 'Like what you see? Visit the ' +\n",
              "            '<a target=\"_blank\" href=https://colab.research.google.com/notebooks/data_table.ipynb>data table notebook</a>'\n",
              "            + ' to learn more about interactive tables.';\n",
              "          element.innerHTML = '';\n",
              "          dataTable['output_type'] = 'display_data';\n",
              "          await google.colab.output.renderOutput(dataTable, element);\n",
              "          const docLink = document.createElement('div');\n",
              "          docLink.innerHTML = docLinkHtml;\n",
              "          element.appendChild(docLink);\n",
              "        }\n",
              "      </script>\n",
              "    </div>\n",
              "  </div>\n",
              "  "
            ]
          },
          "metadata": {},
          "execution_count": 105
        }
      ]
    },
    {
      "cell_type": "markdown",
      "source": [
        "## **Part 1 - Comparing the accuracy of K-Nearest Neighbors and Decision Tree algorithms.**"
      ],
      "metadata": {
        "id": "0vLQpFmV93hA"
      }
    },
    {
      "cell_type": "markdown",
      "source": [
        "### **K - Nearest Neighbors**"
      ],
      "metadata": {
        "id": "LjbZZCWKDrKg"
      }
    },
    {
      "cell_type": "code",
      "source": [
        "def KNN_test_general(X, y, chosenK, chosenDistanceFunction, isWeightedKNN):\n",
        "    classifier = WeightedKNN(K=chosenK, distanceFunction=chosenDistanceFunction) if isWeightedKNN else KNN(K=chosenK, distanceFunction=chosenDistanceFunction)\n",
        "    X_train, X_test, y_train, y_test = model_selection.train_test_split(X, y, test_size=0.4, train_size=0.6, random_state=11, shuffle=True)\n",
        "    X_train = StandardScaler().fit(X_train).transform(X_train)\n",
        "    X_test = StandardScaler().fit(X_test).transform(X_test)\n",
        "    classifier.fit(X_train, y_train)\n",
        "    y_predictions = classifier.predict(X_test)\n",
        "    accuracy = np.sum(y_predictions == y_test) / len(y_test)\n",
        "    return accuracy\n"
      ],
      "metadata": {
        "id": "Cr7j2DPVGtfl"
      },
      "execution_count": 106,
      "outputs": []
    },
    {
      "cell_type": "markdown",
      "source": [
        "Initial Test: best K and best distance function have not yet been selected."
      ],
      "metadata": {
        "id": "ANKeoKulEnMf"
      }
    },
    {
      "cell_type": "code",
      "source": [
        "accuracyHepatitisDataset = KNN_test_general(X_hepatitisOneHot, y_hepatitisOneHot, 1, euclidean, False)\n",
        "accuracyDRDDataset = KNN_test_general(X_DRDFilteredFeatures, y_DRDFilteredFeatures, 1, euclidean, False)\n",
        "\n",
        "print(\"KNN accuracy for the Hepatitis Dataset for K = 1 and distanceFunction = euclidean: %.3f\" % accuracyHepatitisDataset)\n",
        "print(\"KNN accuracy for the DRD Dataset for K = 1 and distanceFunction = euclidean: %.3f\" % accuracyDRDDataset)\n"
      ],
      "metadata": {
        "colab": {
          "base_uri": "https://localhost:8080/"
        },
        "id": "9A4-Nj3oDr1f",
        "outputId": "720eeb8f-8cc9-4b4d-8f9d-0a38bb96394c"
      },
      "execution_count": 107,
      "outputs": [
        {
          "output_type": "stream",
          "name": "stdout",
          "text": [
            "KNN accuracy for the Hepatitis Dataset for K = 1 and distanceFunction = euclidean: 0.719\n",
            "KNN accuracy for the DRD Dataset for K = 1 and distanceFunction = euclidean: 0.536\n"
          ]
        }
      ]
    },
    {
      "cell_type": "markdown",
      "source": [
        "Final Test: best K and best distance function have been selected based on the test below."
      ],
      "metadata": {
        "id": "RW_93ripEpCQ"
      }
    },
    {
      "cell_type": "code",
      "source": [
        "accuracyHepatitisDataset = KNN_test_general(X_hepatitisOneHot, y_hepatitisOneHot, 3, manhattan, False)\n",
        "accuracyDRDDataset = KNN_test_general(X_DRDFilteredFeatures, y_DRDFilteredFeatures, 12, manhattan, False)\n",
        "\n",
        "print(\"KNN accuracy for the Hepatitis Dataset for K = 3 and distanceFunction = manhattan: %.3f\" % accuracyHepatitisDataset)\n",
        "print(\"KNN accuracy for the DRD Dataset for K = 12 and distanceFunction = manhattan: %.3f\" % accuracyDRDDataset)"
      ],
      "metadata": {
        "colab": {
          "base_uri": "https://localhost:8080/"
        },
        "id": "bJ_Fm9VOZ0xI",
        "outputId": "33bb99d8-fc44-4b38-8c59-69fae8a06942"
      },
      "execution_count": 108,
      "outputs": [
        {
          "output_type": "stream",
          "name": "stdout",
          "text": [
            "KNN accuracy for the Hepatitis Dataset for K = 3 and distanceFunction = manhattan: 0.906\n",
            "KNN accuracy for the DRD Dataset for K = 12 and distanceFunction = manhattan: 0.651\n"
          ]
        }
      ]
    },
    {
      "cell_type": "markdown",
      "source": [
        "### **Weighted K-Nearest Neighbors**"
      ],
      "metadata": {
        "id": "vCeadXQ_fpEd"
      }
    },
    {
      "cell_type": "markdown",
      "source": [
        "Initial Test: best K and best distance function have not yet been selected."
      ],
      "metadata": {
        "id": "A0x8-eZggMEj"
      }
    },
    {
      "cell_type": "code",
      "source": [
        "accuracyHepatitisDataset = KNN_test_general(X_hepatitisOneHot, y_hepatitisOneHot, 1, euclidean, True)\n",
        "accuracyDRDDataset = KNN_test_general(X_DRDFilteredFeatures, y_DRDFilteredFeatures, 1, euclidean, True)\n",
        "\n",
        "print(\"Weighted KNN accuracy for the Hepatitis Dataset for K = 1 and distanceFunction = euclidean: %.3f\" % accuracyHepatitisDataset)\n",
        "print(\"Weighted KNN accuracy for the DRD Dataset for K = 1 and distanceFunction = euclidean: %.3f\" % accuracyDRDDataset)\n"
      ],
      "metadata": {
        "colab": {
          "base_uri": "https://localhost:8080/"
        },
        "outputId": "9ff60931-98c7-483f-bdbd-b7d67a60690d",
        "id": "8zUuiVL9gMEk"
      },
      "execution_count": 109,
      "outputs": [
        {
          "output_type": "stream",
          "name": "stdout",
          "text": [
            "Weighted KNN accuracy for the Hepatitis Dataset for K = 1 and distanceFunction = euclidean: 0.719\n",
            "Weighted KNN accuracy for the DRD Dataset for K = 1 and distanceFunction = euclidean: 0.536\n"
          ]
        }
      ]
    },
    {
      "cell_type": "markdown",
      "source": [
        "Final Test: best K and best distance function have been selected based on the test below."
      ],
      "metadata": {
        "id": "uzik7txtgMEl"
      }
    },
    {
      "cell_type": "code",
      "source": [
        "accuracyHepatitisDataset = KNN_test_general(X_hepatitisOneHot, y_hepatitisOneHot, 3, manhattan, True)\n",
        "accuracyDRDDataset = KNN_test_general(X_DRDFilteredFeatures, y_DRDFilteredFeatures, 3, manhattan, True)\n",
        "\n",
        "print(\"Weighted KNN accuracy for the Hepatitis Dataset for K = 3 and distanceFunction = manhattan: %.3f\" % accuracyHepatitisDataset)\n",
        "print(\"Weighted KNN accuracy for the DRD Dataset for K = 3 and distanceFunction = manhattan: %.3f\" % accuracyDRDDataset)\n"
      ],
      "metadata": {
        "colab": {
          "base_uri": "https://localhost:8080/"
        },
        "id": "EO0vi6YcttLp",
        "outputId": "e7af3c43-232b-4981-87f9-ee5ebce28275"
      },
      "execution_count": 110,
      "outputs": [
        {
          "output_type": "stream",
          "name": "stdout",
          "text": [
            "Weighted KNN accuracy for the Hepatitis Dataset for K = 3 and distanceFunction = manhattan: 0.875\n",
            "Weighted KNN accuracy for the DRD Dataset for K = 3 and distanceFunction = manhattan: 0.625\n"
          ]
        }
      ]
    },
    {
      "cell_type": "markdown",
      "source": [
        "### **Decision Tree**"
      ],
      "metadata": {
        "id": "ayZ38ZsyEkLX"
      }
    },
    {
      "cell_type": "code",
      "source": [
        "# Feature labels for each dataset.\n",
        "hepatitisFeatureNames = ['STEROID','ANTIVIRALS','FATIGUE','MALAISE','ANOREXIA','LIVER BIG','LIVER FIRM','SPLEEN PALPABLE','SPIDERS','ASCITES','VARICES','BILIRUBIN','ALK PHOSPHATE','SGOT','ALBUMIN','PROTIME','HISTOLOGY']\n",
        "DRDFeatureNames = ['MA Detection 1', 'MA Detection 2', 'MA Detection 3', 'MA Detection 4', 'MA Detection 5', 'MA Detection 6', 'MA Detection Exudates 1', 'MA Detection Exudates 2', 'MA Detection Exudates 3', 'MA Detection Exudates 4', 'MA Detection Exudates 5', 'MA Detection Exudates 6', 'MA Detection Exudates 7', 'MA Detection Exudates 8', 'Euclid Distance', 'Optic Disc Diameter', 'AM/FM Classification']\n",
        "\n",
        "\n",
        "def DT_test(X, y, chosenDepth, chosenCostFunction, featureLabels):\n",
        "  featureTypes = type_Of_Feature(featureLabels)\n",
        "  classifier = DecisionTree(max_depth=chosenDepth, cost_fn=chosenCostFunction)\n",
        "  X_train, X_test, y_train, y_test = model_selection.train_test_split(X, y, test_size=0.4, train_size=0.6, random_state=11, shuffle=True)\n",
        "  classifier.fit(X_train, y_train, featureTypes) \n",
        "  probs_test = classifier.predict(X_test) # Returns the probability of 0 and probability of 1                   \n",
        "  predictions = np.argmax(probs_test, 1) # This returns the index, but since the Class is on 0/1 the output makes sense\n",
        "  accuracy = np.sum(predictions == y_test) / len(y_test)\n",
        "  \n",
        "  return accuracy"
      ],
      "metadata": {
        "id": "kqfravUXSI8U"
      },
      "execution_count": 111,
      "outputs": []
    },
    {
      "cell_type": "markdown",
      "source": [
        "Initial Test: best depth and best cost function have not yet been selected."
      ],
      "metadata": {
        "id": "4suthsWOEzhz"
      }
    },
    {
      "cell_type": "code",
      "source": [
        "accuracyDT_HepatitisDataset = DT_test(X_hepatitisOneHot, y_hepatitisOneHot, 3, cost_misclassification, hepatitisFeatureNames) # default 3  and cost_misclassification\n",
        "accuracyDT_DRDDataset = DT_test(X_DRDFilteredFeatures, y_DRDFilteredFeatures, 3, cost_misclassification, DRDFeatureNames)\n",
        "print(\"DT accuracy for the Hepatitis Dataset for tree depth = 3 and cost_fn = cost_misclassification: %.3f\" % accuracyDT_HepatitisDataset)\n",
        "print(\"DT accuracy for the DRD Dataset for tree depth = 3 and cost_fn = cost_misclassification: %.3f\" % accuracyDT_DRDDataset)"
      ],
      "metadata": {
        "id": "jyPxiIoIEmzT",
        "colab": {
          "base_uri": "https://localhost:8080/"
        },
        "outputId": "a7ae98f7-4ab2-43b5-bcad-d943412b932a"
      },
      "execution_count": 112,
      "outputs": [
        {
          "output_type": "stream",
          "name": "stdout",
          "text": [
            "DT accuracy for the Hepatitis Dataset for tree depth = 3 and cost_fn = cost_misclassification: 0.875\n",
            "DT accuracy for the DRD Dataset for tree depth = 3 and cost_fn = cost_misclassification: 0.595\n"
          ]
        }
      ]
    },
    {
      "cell_type": "markdown",
      "source": [
        "Final Test: best depth and best cost function have been selected based on the tests below."
      ],
      "metadata": {
        "id": "mvMpe_k5E1bd"
      }
    },
    {
      "cell_type": "code",
      "source": [
        "accuracyDT_HepatitisDataset = DT_test(X_hepatitisOneHot, y_hepatitisOneHot, 2, cost_misclassification, hepatitisFeatureNames) \n",
        "accuracyDT_DRDDataset = DT_test(X_DRDFilteredFeatures, y_DRDFilteredFeatures, 13, cost_misclassification, DRDFeatureNames)\n",
        "print(\"DT accuracy for the Hepatitis Dataset for tree depth = 2 and cost_fn = cost_misclassification: %.3f\" % accuracyDT_HepatitisDataset)\n",
        "print(\"DT accuracy for the DRD Dataset for tree depth = 13 and cost_fn = cost_misclassification: %.3f\" % accuracyDT_DRDDataset)"
      ],
      "metadata": {
        "id": "QwJu8zlaE2QI",
        "colab": {
          "base_uri": "https://localhost:8080/"
        },
        "outputId": "536218f0-5608-4e58-fb26-8d0dfb59e072"
      },
      "execution_count": 113,
      "outputs": [
        {
          "output_type": "stream",
          "name": "stdout",
          "text": [
            "DT accuracy for the Hepatitis Dataset for tree depth = 2 and cost_fn = cost_misclassification: 0.875\n",
            "DT accuracy for the DRD Dataset for tree depth = 13 and cost_fn = cost_misclassification: 0.643\n"
          ]
        }
      ]
    },
    {
      "cell_type": "markdown",
      "source": [
        "## **Part 2: K-Nearest Neighbors: testing different K values and observing the effect on training data accuracy and test data accuracy.**"
      ],
      "metadata": {
        "id": "sXkyTx8a-ALC"
      }
    },
    {
      "cell_type": "markdown",
      "source": [
        "### **K-Nearest Neighbors**"
      ],
      "metadata": {
        "id": "ikTBuQhb_wqw"
      }
    },
    {
      "cell_type": "code",
      "source": [
        "chosenMaximumValueForK = 15\n",
        "X_trainHepatitis, X_testHepatitis, y_trainHepatitis, y_testHepatitis = model_selection.train_test_split(X_hepatitisOneHot, y_hepatitisOneHot, test_size=0.3, train_size=0.7, random_state=11, shuffle=True)\n",
        "X_trainHepatitis, X_validHepatitis, y_trainHepatitis, y_validHepatitis = model_selection.train_test_split(X_trainHepatitis, y_trainHepatitis, test_size=0.3, train_size=0.7,  random_state=11, shuffle=True)\n",
        "X_trainDRD, X_testDRD, y_trainDRD, y_testDRD = model_selection.train_test_split(X_DRDFilteredFeatures, y_DRDFilteredFeatures, test_size=0.3, train_size=0.7,  random_state=11, shuffle=True)\n",
        "X_trainDRD, X_validDRD, y_trainDRD, y_validDRD = model_selection.train_test_split(X_trainDRD, y_trainDRD, test_size=0.3, train_size=0.7,  random_state=11, shuffle=True)\n",
        "\n",
        "def find_best_K(K_max, X_train, y_train, X_valid, y_valid, isWeightedKNN):\n",
        "    validAcc = []\n",
        "    X_train = StandardScaler().fit(X_train).transform(X_train)\n",
        "    X_valid = StandardScaler().fit(X_valid).transform(X_valid)\n",
        "\n",
        "    for k in range(1, K_max):\n",
        "        classifier = WeightedKNN(K=k) if isWeightedKNN else KNN(K=k)\n",
        "        classifier.fit(X_train, y_train)\n",
        "        predictions = classifier.predict(X_valid)\n",
        "        accuracy = np.sum(predictions == y_valid) / len(y_valid)\n",
        "        validAcc.append(accuracy)\n",
        "    return validAcc.index(max(validAcc)) + 1 # best valid K\n",
        "\n",
        "def KNN_test(K_value, distFunction, X_train, y_train, testData, validationData, isWeightedKNN):\n",
        "    X_train = StandardScaler().fit(X_train).transform(X_train)\n",
        "    X_testData = StandardScaler().fit(testData).transform(testData)\n",
        "    classifier = WeightedKNN(K=K_value, distanceFunction=distFunction) if isWeightedKNN else KNN(K=K_value, distanceFunction=distFunction)\n",
        "    classifier.fit(X_train, y_train)\n",
        "    y_predictions = classifier.predict(X_testData)\n",
        "    accuracy = np.sum(y_predictions == validationData) / len(validationData)\n",
        "\n",
        "    return accuracy"
      ],
      "metadata": {
        "id": "DA3B3TQOU9_S"
      },
      "execution_count": 114,
      "outputs": []
    },
    {
      "cell_type": "code",
      "source": [
        "# Passing in testing data\n",
        "\n",
        "bestK_HepatitisDataset = find_best_K(chosenMaximumValueForK, X_trainHepatitis, y_trainHepatitis, X_validHepatitis, y_validHepatitis, False)\n",
        "bestK_DRDDataset = find_best_K(chosenMaximumValueForK, X_trainDRD, y_trainDRD, X_validDRD, y_validDRD, False)\n",
        "\n",
        "accuracyHepatitisDataset = KNN_test(bestK_HepatitisDataset, euclidean, X_trainHepatitis, y_trainHepatitis, X_testHepatitis, y_testHepatitis, False)\n",
        "accuracyDRDDataset = KNN_test(bestK_DRDDataset, euclidean, X_trainDRD, y_trainDRD, X_testDRD, y_testDRD, False)\n",
        "\n",
        "print(\"Testing data passed into predict(): KNN accuracy for the Hepatitis Dataset for K = %d and distanceFunction = euclidean: %.3f\" % (bestK_HepatitisDataset, accuracyHepatitisDataset))\n",
        "print(\"Testing data passed into predict(): KNN accuracy for the DRD Dataset for K = %d and distanceFunction = euclidean: %.3f\" % (bestK_DRDDataset, accuracyDRDDataset))"
      ],
      "metadata": {
        "id": "TXQLj1VlA222",
        "colab": {
          "base_uri": "https://localhost:8080/"
        },
        "outputId": "ab153203-9c6f-437d-f53a-4e1e1206c3de"
      },
      "execution_count": 115,
      "outputs": [
        {
          "output_type": "stream",
          "name": "stdout",
          "text": [
            "Testing data passed into predict(): KNN accuracy for the Hepatitis Dataset for K = 3 and distanceFunction = euclidean: 0.708\n",
            "Testing data passed into predict(): KNN accuracy for the DRD Dataset for K = 12 and distanceFunction = euclidean: 0.583\n"
          ]
        }
      ]
    },
    {
      "cell_type": "code",
      "source": [
        "# Passing in training data\n",
        "\n",
        "accuracyHepatitisDataset = KNN_test(bestK_HepatitisDataset, euclidean, X_trainHepatitis, y_trainHepatitis, X_trainHepatitis, y_trainHepatitis, False)\n",
        "accuracyDRDDataset = KNN_test(bestK_DRDDataset, euclidean, X_trainDRD, y_trainDRD, X_trainDRD, y_trainDRD, False)\n",
        "\n",
        "print(\"Testing data passed into predict(): KNN accuracy for the Hepatitis Dataset for K = %d and distanceFunction = euclidean: %.3f\" % (bestK_HepatitisDataset, accuracyHepatitisDataset))\n",
        "print(\"Testing data passed into predict(): KNN accuracy for the DRD Dataset for K = %d and distanceFunction = euclidean: %.3f\" % (bestK_DRDDataset, accuracyDRDDataset))"
      ],
      "metadata": {
        "colab": {
          "base_uri": "https://localhost:8080/"
        },
        "id": "CpIsoJm8mh8a",
        "outputId": "83035282-5010-4401-aad8-cdb9fab0f8f7"
      },
      "execution_count": 116,
      "outputs": [
        {
          "output_type": "stream",
          "name": "stdout",
          "text": [
            "Testing data passed into predict(): KNN accuracy for the Hepatitis Dataset for K = 3 and distanceFunction = euclidean: 0.872\n",
            "Testing data passed into predict(): KNN accuracy for the DRD Dataset for K = 12 and distanceFunction = euclidean: 0.756\n"
          ]
        }
      ]
    },
    {
      "cell_type": "markdown",
      "source": [
        "### **Weighted K-Nearest Neighbors**"
      ],
      "metadata": {
        "id": "5GAGm2Su_05Q"
      }
    },
    {
      "cell_type": "code",
      "source": [
        "bestWeightedK_HepatitisDataset = find_best_K(chosenMaximumValueForK, X_trainHepatitis, y_trainHepatitis, X_validHepatitis, y_validHepatitis, True)\n",
        "bestWeightedK_DRDDataset = find_best_K(chosenMaximumValueForK, X_trainDRD, y_trainDRD, X_validDRD, y_validDRD, True)\n",
        "\n",
        "accuracyHepatitisDataset = KNN_test(bestWeightedK_HepatitisDataset, euclidean, X_trainHepatitis, y_trainHepatitis, X_testHepatitis, y_testHepatitis, True)\n",
        "accuracyDRDDataset = KNN_test(bestWeightedK_DRDDataset, euclidean, X_trainDRD, y_trainDRD, X_testDRD, y_testDRD, True)\n",
        "\n",
        "print(\"KNN accuracy for the Hepatitis Dataset for K = %d and distanceFunction = euclidean: %.3f\" % (bestWeightedK_HepatitisDataset, accuracyHepatitisDataset))\n",
        "print(\"KNN accuracy for the DRD Dataset for K = %d and distanceFunction = euclidean: %.3f\" % (bestWeightedK_DRDDataset, accuracyDRDDataset))\n"
      ],
      "metadata": {
        "colab": {
          "base_uri": "https://localhost:8080/"
        },
        "id": "fIb6DGHkfORn",
        "outputId": "3fda9462-9f46-4737-dd7a-f5616546a39d"
      },
      "execution_count": 117,
      "outputs": [
        {
          "output_type": "stream",
          "name": "stdout",
          "text": [
            "KNN accuracy for the Hepatitis Dataset for K = 3 and distanceFunction = euclidean: 0.667\n",
            "KNN accuracy for the DRD Dataset for K = 3 and distanceFunction = euclidean: 0.530\n"
          ]
        }
      ]
    },
    {
      "cell_type": "code",
      "source": [
        "# Passing in training data \n",
        "\n",
        "accuracyHepatitisDataset = KNN_test(bestWeightedK_HepatitisDataset, euclidean, X_trainHepatitis, y_trainHepatitis, X_trainHepatitis, y_trainHepatitis, True)\n",
        "accuracyDRDDataset = KNN_test(bestWeightedK_DRDDataset, euclidean, X_trainDRD, y_trainDRD, X_trainDRD, y_trainDRD, True)\n",
        "\n",
        "print(\"KNN accuracy for the Hepatitis Dataset for K = %d and distanceFunction = euclidean: %.3f\" % (bestWeightedK_HepatitisDataset, accuracyHepatitisDataset))\n",
        "print(\"KNN accuracy for the DRD Dataset for K = %d and distanceFunction = euclidean: %.3f\" % (bestWeightedK_DRDDataset, accuracyDRDDataset))"
      ],
      "metadata": {
        "colab": {
          "base_uri": "https://localhost:8080/"
        },
        "id": "1B7HRTFxoqq3",
        "outputId": "b382a817-35ba-4c43-e2e1-cbb088da17f2"
      },
      "execution_count": 118,
      "outputs": [
        {
          "output_type": "stream",
          "name": "stdout",
          "text": [
            "KNN accuracy for the Hepatitis Dataset for K = 3 and distanceFunction = euclidean: 0.718\n",
            "KNN accuracy for the DRD Dataset for K = 3 and distanceFunction = euclidean: 0.538\n"
          ]
        }
      ]
    },
    {
      "cell_type": "markdown",
      "source": [
        "## **Part 3 - Decision Tree: testing how maximum tree depth affects the performance of DT on the provided datasets.**"
      ],
      "metadata": {
        "id": "MOKWoi_6-e6n"
      }
    },
    {
      "cell_type": "markdown",
      "source": [
        "### Testing Function for Decision Trees\n"
      ],
      "metadata": {
        "id": "Mqbomg5ffwCA"
      }
    },
    {
      "cell_type": "code",
      "source": [
        "# Chosen maximum depth.\n",
        "chosenMaximumValueForDepth = 20\n",
        "\n",
        "# Feature labels for each dataset.\n",
        "hepatitisFeatureNames = ['STEROID','ANTIVIRALS','FATIGUE','MALAISE','ANOREXIA','LIVER BIG','LIVER FIRM','SPLEEN PALPABLE','SPIDERS','ASCITES','VARICES','BILIRUBIN','ALK PHOSPHATE','SGOT','ALBUMIN','PROTIME','HISTOLOGY']\n",
        "DRDFeatureNames = ['MA Detection 1', 'MA Detection 2', 'MA Detection 3', 'MA Detection 4', 'MA Detection 5', 'MA Detection 6', 'MA Detection Exudates 1', 'MA Detection Exudates 2', 'MA Detection Exudates 3', 'MA Detection Exudates 4', 'MA Detection Exudates 5', 'MA Detection Exudates 6', 'MA Detection Exudates 7', 'MA Detection Exudates 8', 'Euclid Distance', 'Optic Disc Diameter', 'AM/FM Classification']\n",
        "\n",
        "# Function that returns the accuracy of DT given certain dataset components.\n",
        "def DT_test(X_train, X_test, y_train, y_test, max_depth, cost_fn, featureNames):\n",
        "    featureTypes = type_Of_Feature(featureNames)\n",
        "    tree = DecisionTree(max_depth=max_depth, cost_fn=cost_fn)\n",
        "    probs_test = tree.fit(X_train, y_train, featureTypes).predict(X_test)\n",
        "    y_pred = np.argmax(probs_test,1)\n",
        "    accuracy = np.sum(y_pred == y_test)/y_test.shape[0]\n",
        "    return accuracy\n",
        "  \n",
        "# Function that tests the DT for various depths and outputs the best depth in terms of accuracy.\n",
        "def find_best_depth(X_train, X_valid, y_train, y_valid, max_depth_end, cost_fn, featureNames):\n",
        "  validAcc = []\n",
        "  for d in range(1, max_depth_end + 1):\n",
        "    accuracy = DT_test(X_train, X_valid, y_train, y_valid, d, cost_fn, featureNames)\n",
        "    validAcc.append(accuracy)\n",
        "  return validAcc.index(max(validAcc)) + 1\n",
        "\n",
        "X = X_hepatitisOneHot.copy()\n",
        "Y = y_hepatitisOneHot.copy()\n",
        "\n",
        "X_train_Hepatitis_DT_original, X_test_Hepatitis_DT, y_train_Hepatitis_DT_original, y_test_Hepatitis_DT = model_selection.train_test_split(X, Y, test_size=0.4, train_size=0.6, random_state=1234, shuffle=True)\n",
        "X_train_Hepatitis_DT, X_valid_Hepatitis_DT, y_train_Hepatitis_DT, y_valid_Hepatitis_DT = model_selection.train_test_split(X_train_Hepatitis_DT_original, y_train_Hepatitis_DT_original, test_size=0.25, train_size=0.75, random_state=1234, shuffle=True)\n",
        "\n",
        "X = X_DRDFilteredFeatures.copy()\n",
        "Y = y_DRDFilteredFeatures.copy()\n",
        "\n",
        "X_train_DRD_DT_original, X_test_DRD_DT, y_train_DRD_DT_original, y_test_DRD_DT = model_selection.train_test_split(X, Y, test_size=0.4, train_size=0.6, random_state=1234, shuffle=True)\n",
        "X_train_DRD_DT, X_valid_DRD_DT, y_train_DRD_DT, y_valid_DRD_DT = model_selection.train_test_split(X_train_DRD_DT_original, y_train_DRD_DT_original, test_size=0.25, train_size=0.75, random_state=1234, shuffle=True)"
      ],
      "metadata": {
        "id": "6XsHpQ3IfxxN"
      },
      "execution_count": 119,
      "outputs": []
    },
    {
      "cell_type": "markdown",
      "source": [
        "### Hepatitis Dataset"
      ],
      "metadata": {
        "id": "vP-RSYq0AcP5"
      }
    },
    {
      "cell_type": "code",
      "source": [
        "# Passing in testing data\n",
        "bestDepth_HepatitisDataset_DT = find_best_depth(X_train_Hepatitis_DT, X_valid_Hepatitis_DT, y_train_Hepatitis_DT, y_valid_Hepatitis_DT, chosenMaximumValueForDepth, cost_misclassification, hepatitisFeatureNames)\n",
        "accuracy_HepatitisDataset_DT = DT_test(X_train_Hepatitis_DT_original, X_test_Hepatitis_DT, y_train_Hepatitis_DT_original, y_test_Hepatitis_DT, bestDepth_HepatitisDataset_DT, cost_misclassification, hepatitisFeatureNames)\n",
        "print(\"Test:\\tDT accuracy for the Hepatitis Dataset for Depth = %d and cost_Function = Misclassification: %.3f\" % (bestDepth_HepatitisDataset_DT, accuracy_HepatitisDataset_DT))"
      ],
      "metadata": {
        "id": "IDSFsyRyAwxP",
        "colab": {
          "base_uri": "https://localhost:8080/"
        },
        "outputId": "f31292e2-f02e-4041-d4bd-6f1b205c0d01"
      },
      "execution_count": 120,
      "outputs": [
        {
          "output_type": "stream",
          "name": "stderr",
          "text": [
            "/usr/local/lib/python3.7/dist-packages/ipykernel_launcher.py:59: RuntimeWarning: invalid value encountered in true_divide\n"
          ]
        },
        {
          "output_type": "stream",
          "name": "stdout",
          "text": [
            "Test:\tDT accuracy for the Hepatitis Dataset for Depth = 2 and cost_Function = Misclassification: 0.812\n"
          ]
        }
      ]
    },
    {
      "cell_type": "code",
      "source": [
        "# Passing in training data\n",
        "accuracy_HepatitisDataset_DT = DT_test(X_train_Hepatitis_DT_original, X_train_Hepatitis_DT_original, y_train_Hepatitis_DT_original, y_train_Hepatitis_DT_original, bestDepth_HepatitisDataset_DT, cost_misclassification, hepatitisFeatureNames)\n",
        "print(\"Test:\\tDT accuracy for the Hepatitis Dataset for Depth = %d and cost_Function = Misclassification: %.3f\" % (bestDepth_HepatitisDataset_DT, accuracy_HepatitisDataset_DT))"
      ],
      "metadata": {
        "colab": {
          "base_uri": "https://localhost:8080/"
        },
        "id": "tGi-MzaMZ2ON",
        "outputId": "8133841f-b60b-4979-e141-cbe8cd64535c"
      },
      "execution_count": 121,
      "outputs": [
        {
          "output_type": "stream",
          "name": "stdout",
          "text": [
            "Test:\tDT accuracy for the Hepatitis Dataset for Depth = 2 and cost_Function = Misclassification: 0.958\n"
          ]
        }
      ]
    },
    {
      "cell_type": "markdown",
      "source": [
        "### Diabetic Retinopathy Debrecen Dataset"
      ],
      "metadata": {
        "id": "9hC38utmAcf4"
      }
    },
    {
      "cell_type": "code",
      "source": [
        "# Passing in testing data\n",
        "bestDepth_DRDDataset_DT = find_best_depth(X_train_DRD_DT, X_valid_DRD_DT, y_train_DRD_DT, y_valid_DRD_DT, chosenMaximumValueForDepth, cost_misclassification, DRDFeatureNames)\n",
        "accuracy_DRDDataset_DT = DT_test(X_train_DRD_DT_original, X_test_DRD_DT, y_train_DRD_DT_original, y_test_DRD_DT, bestDepth_DRDDataset_DT, cost_misclassification, DRDFeatureNames)\n",
        "print(\"Test:\\tDT accuracy for the DRD Dataset for Depth = %d and cost_Function = Misclassification: %.3f\" % (bestDepth_DRDDataset_DT, accuracy_DRDDataset_DT))"
      ],
      "metadata": {
        "id": "KRiroxBYAxIY",
        "colab": {
          "base_uri": "https://localhost:8080/"
        },
        "outputId": "b9e0785d-78e7-4192-c2cd-3cf26dadc570"
      },
      "execution_count": 122,
      "outputs": [
        {
          "output_type": "stream",
          "name": "stdout",
          "text": [
            "Test:\tDT accuracy for the DRD Dataset for Depth = 13 and cost_Function = Misclassification: 0.688\n"
          ]
        }
      ]
    },
    {
      "cell_type": "code",
      "source": [
        "# Passing in training data\n",
        "accuracy_DRDDataset_DT = DT_test(X_train_DRD_DT_original, X_train_DRD_DT_original, y_train_DRD_DT_original, y_train_DRD_DT_original, bestDepth_DRDDataset_DT, cost_misclassification, DRDFeatureNames)\n",
        "print(\"Test:\\tDT accuracy for the DRD Dataset for Depth = %d and cost_Function = Misclassification: %.3f\" % (bestDepth_DRDDataset_DT, accuracy_DRDDataset_DT))"
      ],
      "metadata": {
        "colab": {
          "base_uri": "https://localhost:8080/"
        },
        "id": "CvnvERuOZ7p6",
        "outputId": "8ce302b2-99f1-4424-8e34-07d09ae21378"
      },
      "execution_count": 123,
      "outputs": [
        {
          "output_type": "stream",
          "name": "stdout",
          "text": [
            "Test:\tDT accuracy for the DRD Dataset for Depth = 13 and cost_Function = Misclassification: 0.836\n"
          ]
        }
      ]
    },
    {
      "cell_type": "markdown",
      "source": [
        "## **Part 4 - Testing the effect of different distance and cost functions.**"
      ],
      "metadata": {
        "id": "rKagQk8c-ooh"
      }
    },
    {
      "cell_type": "markdown",
      "source": [
        "### **K - Nearest Neighbors Distance Functions**"
      ],
      "metadata": {
        "id": "KdASfxg2AkCe"
      }
    },
    {
      "cell_type": "code",
      "source": [
        "distanceFunctions = [('euclidean', euclidean), ('manhattan', manhattan)]\n",
        "\n",
        "def find_best_distance_function(distanceFunctions, X_train, y_train, X_valid, y_valid, isWeightedKNN):\n",
        "  predictionVals = {}\n",
        "\n",
        "  for distFunction in distanceFunctions:\n",
        "    classifier = WeightedKNN(distanceFunction=distFunction[1]) if isWeightedKNN else KNN(distanceFunction=distFunction[1])\n",
        "    classifier.fit(X_train, y_train) # Returns the probability of 0 and probability of 1\n",
        "    predictions = classifier.predict(X_valid)                         \n",
        "    accuracy = np.sum(predictions == y_valid) / len(y_valid)\n",
        "    predictionVals[distFunction[0]] = round(accuracy, 3)\n",
        "  return max(predictionVals, key=predictionVals.get) # best distance function\n",
        "  print(predictionVals)"
      ],
      "metadata": {
        "id": "jS3pIAdQmy00"
      },
      "execution_count": 124,
      "outputs": []
    },
    {
      "cell_type": "markdown",
      "source": [
        "**K - Nearest Neighbors Zha**"
      ],
      "metadata": {
        "id": "jgrZbq_zBZVV"
      }
    },
    {
      "cell_type": "code",
      "source": [
        "# Test on Testing Dataset\n",
        "\n",
        "bestDistFunctionHepatitis = find_best_distance_function(distanceFunctions, X_trainHepatitis, y_trainHepatitis, X_validHepatitis, y_validHepatitis, False)\n",
        "bestDistFunctionDRD = find_best_distance_function(distanceFunctions, X_trainDRD, y_trainDRD, X_validDRD, y_validDRD, False)\n",
        "print(\"Best distance function for Hepatitis Dataset:\", bestDistFunctionHepatitis)\n",
        "print(\"Best distance function for DRD Dataset:\", bestDistFunctionDRD)\n",
        "\n",
        "accuracyHepatitisDataset = KNN_test(bestK_HepatitisDataset, euclidean, X_trainHepatitis, y_trainHepatitis, X_testHepatitis, y_testHepatitis, False)\n",
        "accuracyDRDDataset = KNN_test(bestK_DRDDataset, manhattan, X_trainDRD, y_trainDRD, X_testDRD, y_testDRD, False)\n",
        "\n",
        "print(\"KNN accuracy for the Hepatitis Dataset for K = %d and distanceFunction = %s: %.3f\" % (bestK_HepatitisDataset, bestDistFunctionHepatitis, accuracyHepatitisDataset))\n",
        "print(\"KNN accuracy for the DRD Dataset for K = %d and distanceFunction = %s: %.3f\" % (bestK_DRDDataset, bestDistFunctionDRD, accuracyDRDDataset))"
      ],
      "metadata": {
        "colab": {
          "base_uri": "https://localhost:8080/"
        },
        "id": "b_MeadMqpEHl",
        "outputId": "406e1da6-a4fa-4cf5-8fa5-e061eb71d742"
      },
      "execution_count": 125,
      "outputs": [
        {
          "output_type": "stream",
          "name": "stdout",
          "text": [
            "Best distance function for Hepatitis Dataset: manhattan\n",
            "Best distance function for DRD Dataset: manhattan\n",
            "KNN accuracy for the Hepatitis Dataset for K = 3 and distanceFunction = manhattan: 0.708\n",
            "KNN accuracy for the DRD Dataset for K = 12 and distanceFunction = manhattan: 0.635\n"
          ]
        }
      ]
    },
    {
      "cell_type": "code",
      "source": [
        "# Test on Training Dataset\n",
        "\n",
        "accuracyHepatitisDataset = KNN_test(bestK_HepatitisDataset, manhattan, X_trainHepatitis, y_trainHepatitis, X_trainHepatitis, y_trainHepatitis, False)\n",
        "accuracyDRDDataset = KNN_test(bestK_DRDDataset, manhattan, X_trainDRD, y_trainDRD, X_trainDRD, y_trainDRD, False)\n",
        "\n",
        "print(\"KNN accuracy for the Hepatitis Dataset for K = %d and distanceFunction = %s: %.3f\" % (bestK_HepatitisDataset, bestDistFunctionHepatitis, accuracyHepatitisDataset))\n",
        "print(\"KNN accuracy for the DRD Dataset for K = %d and distanceFunction = %s: %.3f\" % (bestK_DRDDataset, bestDistFunctionDRD, accuracyDRDDataset))"
      ],
      "metadata": {
        "id": "WO1kYbE0vSzd",
        "colab": {
          "base_uri": "https://localhost:8080/"
        },
        "outputId": "ae870c62-364e-43a2-c105-c54b0fe334dd"
      },
      "execution_count": 126,
      "outputs": [
        {
          "output_type": "stream",
          "name": "stdout",
          "text": [
            "KNN accuracy for the Hepatitis Dataset for K = 3 and distanceFunction = manhattan: 0.923\n",
            "KNN accuracy for the DRD Dataset for K = 12 and distanceFunction = manhattan: 0.763\n"
          ]
        }
      ]
    },
    {
      "cell_type": "markdown",
      "source": [
        "**Weighted K - Nearest Neighbors**"
      ],
      "metadata": {
        "id": "AcYyltsABZqT"
      }
    },
    {
      "cell_type": "code",
      "source": [
        "# Test on Testing Dataset\n",
        "\n",
        "bestWeightedDistFunctionHepatitis = find_best_distance_function(distanceFunctions, X_trainHepatitis, y_trainHepatitis, X_validHepatitis, y_validHepatitis, True)\n",
        "bestWeightedDistFunctionDRD = find_best_distance_function(distanceFunctions, X_trainDRD, y_trainDRD, X_validDRD, y_validDRD, True)\n",
        "print(\"Best distance function for Hepatitis Dataset:\", bestWeightedDistFunctionHepatitis)\n",
        "print(\"Best distance function for DRD Dataset:\", bestWeightedDistFunctionDRD)\n",
        "\n",
        "accuracyHepatitisDataset = KNN_test(bestWeightedK_HepatitisDataset, manhattan, X_trainHepatitis, y_trainHepatitis, X_testHepatitis, y_testHepatitis, True)\n",
        "accuracyDRDDataset = KNN_test(bestWeightedK_DRDDataset, manhattan, X_trainDRD, y_trainDRD, X_testDRD, y_testDRD, True)\n",
        "\n",
        "print(\"Weighted KNN accuracy for the Hepatitis Dataset for K = %d and distanceFunction = %s: %.3f\" % (bestWeightedK_HepatitisDataset, bestWeightedDistFunctionHepatitis, accuracyHepatitisDataset))\n",
        "print(\"Weighted KNN accuracy for the DRD Dataset for K = %d and distanceFunction = %s: %.3f\" % (bestWeightedK_DRDDataset, bestWeightedDistFunctionDRD, accuracyDRDDataset))\n"
      ],
      "metadata": {
        "id": "sd6MnNchBAQ4",
        "colab": {
          "base_uri": "https://localhost:8080/"
        },
        "outputId": "5f4f5898-9cd2-4c7e-fe82-f079b978aadf"
      },
      "execution_count": 127,
      "outputs": [
        {
          "output_type": "stream",
          "name": "stdout",
          "text": [
            "Best distance function for Hepatitis Dataset: manhattan\n",
            "Best distance function for DRD Dataset: manhattan\n",
            "Weighted KNN accuracy for the Hepatitis Dataset for K = 3 and distanceFunction = manhattan: 0.833\n",
            "Weighted KNN accuracy for the DRD Dataset for K = 3 and distanceFunction = manhattan: 0.609\n"
          ]
        }
      ]
    },
    {
      "cell_type": "code",
      "source": [
        "# Test on Training Dataset\n",
        "\n",
        "accuracyHepatitisDataset = KNN_test(bestWeightedK_HepatitisDataset, manhattan, X_trainHepatitis, y_trainHepatitis, X_trainHepatitis, y_trainHepatitis, True)\n",
        "accuracyDRDDataset = KNN_test(bestWeightedK_DRDDataset, manhattan, X_trainDRD, y_trainDRD, X_trainDRD, y_trainDRD, True)\n",
        "\n",
        "print(\"Weighted KNN accuracy for the Hepatitis Dataset for K = %d and distanceFunction = %s: %.3f\" % (bestWeightedK_HepatitisDataset, bestWeightedDistFunctionHepatitis, accuracyHepatitisDataset))\n",
        "print(\"Weighted KNN accuracy for the DRD Dataset for K = %d and distanceFunction = %s: %.3f\" % (bestWeightedK_DRDDataset, bestWeightedDistFunctionDRD, accuracyDRDDataset))\n"
      ],
      "metadata": {
        "colab": {
          "base_uri": "https://localhost:8080/"
        },
        "id": "uHB-Gs4dqWVv",
        "outputId": "3a980a09-7cb1-4fec-9fa0-85960748c2e4"
      },
      "execution_count": 128,
      "outputs": [
        {
          "output_type": "stream",
          "name": "stdout",
          "text": [
            "Weighted KNN accuracy for the Hepatitis Dataset for K = 3 and distanceFunction = manhattan: 0.795\n",
            "Weighted KNN accuracy for the DRD Dataset for K = 3 and distanceFunction = manhattan: 0.611\n"
          ]
        }
      ]
    },
    {
      "cell_type": "markdown",
      "source": [
        "### **Decision Tree Cost Functions**"
      ],
      "metadata": {
        "id": "bCz65PYJAkyK"
      }
    },
    {
      "cell_type": "markdown",
      "source": [
        "Cost Function DT Testing Functions"
      ],
      "metadata": {
        "id": "pnljZIzEN6Sj"
      }
    },
    {
      "cell_type": "code",
      "source": [
        "costFunctions = [('Misclassification', cost_misclassification), ('Entropy', cost_entropy), ('Gini Index', cost_gini_index)]\n",
        "\n",
        "def find_best_cost_function(costFunctions, bestDepth, X_train, y_train, X_valid, y_valid, X_train_original, y_train_original, X_test, y_test, featureNames, datasetName):\n",
        "  best_function_title = None\n",
        "  best_function = None\n",
        "  best_accuracy = 0.\n",
        "  for costFunction in costFunctions:\n",
        "    accuracy = DT_test(X_train, X_valid, y_train, y_valid, bestDepth, costFunction[1], featureNames)\n",
        "    print(\"DT accuracy for the %s Dataset for Depth = %d and distanceFunction = %s: %.3f\" % (datasetName, bestDepth, costFunction[0], accuracy))\n",
        "    if accuracy > best_accuracy:\n",
        "      best_function_title = costFunction[0]\n",
        "      best_function = costFunction[1]\n",
        "      best_accuracy = accuracy\n",
        "\n",
        "  final_accuracy = DT_test(X_train_original, X_test, y_train_original, y_test, bestDepth, best_function, featureNames)\n",
        "  print(\"BEST:\\tDT accuracy for the %s Dataset for Depth = %d and distanceFunction = %s: %.3f\" % (datasetName, bestDepth, best_function_title, final_accuracy))\n",
        "\n",
        "# Feature labels for each dataset.\n",
        "hepatitisFeatureNames = ['STEROID','ANTIVIRALS','FATIGUE','MALAISE','ANOREXIA','LIVER BIG','LIVER FIRM','SPLEEN PALPABLE','SPIDERS','ASCITES','VARICES','BILIRUBIN','ALK PHOSPHATE','SGOT','ALBUMIN','PROTIME','HISTOLOGY']\n",
        "DRDFeatureNames = ['MA Detection 1', 'MA Detection 2', 'MA Detection 3', 'MA Detection 4', 'MA Detection 5', 'MA Detection 6', 'MA Detection Exudates 1', 'MA Detection Exudates 2', 'MA Detection Exudates 3', 'MA Detection Exudates 4', 'MA Detection Exudates 5', 'MA Detection Exudates 6', 'MA Detection Exudates 7', 'MA Detection Exudates 8', 'Euclid Distance', 'Optic Disc Diameter', 'AM/FM Classification']\n",
        "\n",
        "X = X_hepatitisOneHot.copy()\n",
        "Y = y_hepatitisOneHot.copy()\n",
        "\n",
        "X_train_Hepatitis_DT_original, X_test_Hepatitis_DT, y_train_Hepatitis_DT_original, y_test_Hepatitis_DT = model_selection.train_test_split(X, Y, test_size=0.4, train_size=0.6, random_state=1234, shuffle=True)\n",
        "X_train_Hepatitis_DT, X_valid_Hepatitis_DT, y_train_Hepatitis_DT, y_valid_Hepatitis_DT = model_selection.train_test_split(X_train_Hepatitis_DT_original, y_train_Hepatitis_DT_original, test_size=0.25, train_size=0.75, random_state=1234, shuffle=True)\n",
        "\n",
        "X = X_DRDFilteredFeatures.copy()\n",
        "Y = y_DRDFilteredFeatures.copy()\n",
        "\n",
        "X_train_DRD_DT_original, X_test_DRD_DT, y_train_DRD_DT_original, y_test_DRD_DT = model_selection.train_test_split(X, Y, test_size=0.4, train_size=0.6, random_state=1234, shuffle=True)\n",
        "X_train_DRD_DT, X_valid_DRD_DT, y_train_DRD_DT, y_valid_DRD_DT = model_selection.train_test_split(X_train_DRD_DT_original, y_train_DRD_DT_original, test_size=0.25, train_size=0.75, random_state=1234, shuffle=True)\n"
      ],
      "metadata": {
        "id": "4Pf_SUr3BYKP"
      },
      "execution_count": 129,
      "outputs": []
    },
    {
      "cell_type": "markdown",
      "source": [
        "### Hepatitis Dataset"
      ],
      "metadata": {
        "id": "KSSf5bD8OBxq"
      }
    },
    {
      "cell_type": "code",
      "source": [
        "# Test on Training Dataset\n",
        "find_best_cost_function(costFunctions, 2, X_train_Hepatitis_DT, y_train_Hepatitis_DT, X_valid_Hepatitis_DT, y_valid_Hepatitis_DT, X_train_Hepatitis_DT_original, y_train_Hepatitis_DT_original, X_test_Hepatitis_DT, y_test_Hepatitis_DT, hepatitisFeatureNames, 'Hepatitis')"
      ],
      "metadata": {
        "id": "sZrNs1JLrDML",
        "colab": {
          "base_uri": "https://localhost:8080/"
        },
        "outputId": "d2719624-8563-4bd2-98fc-fab17781d245"
      },
      "execution_count": 130,
      "outputs": [
        {
          "output_type": "stream",
          "name": "stdout",
          "text": [
            "DT accuracy for the Hepatitis Dataset for Depth = 2 and distanceFunction = Misclassification: 1.000\n",
            "DT accuracy for the Hepatitis Dataset for Depth = 2 and distanceFunction = Entropy: 0.833\n",
            "DT accuracy for the Hepatitis Dataset for Depth = 2 and distanceFunction = Gini Index: 0.583\n",
            "BEST:\tDT accuracy for the Hepatitis Dataset for Depth = 2 and distanceFunction = Misclassification: 0.812\n"
          ]
        }
      ]
    },
    {
      "cell_type": "markdown",
      "source": [
        "### DRD Dataset"
      ],
      "metadata": {
        "id": "kwHHx_hyOJPM"
      }
    },
    {
      "cell_type": "code",
      "source": [
        "# Test on Training Dataset\n",
        "find_best_cost_function(costFunctions, 13, X_train_DRD_DT, y_train_DRD_DT, X_valid_DRD_DT, y_valid_DRD_DT, X_train_DRD_DT_original, y_train_DRD_DT_original, X_test_DRD_DT, y_test_DRD_DT, DRDFeatureNames, 'DRD')"
      ],
      "metadata": {
        "colab": {
          "base_uri": "https://localhost:8080/"
        },
        "id": "3RwuZu8mOMcG",
        "outputId": "251a7084-8f51-4b93-85ce-3cf0644743c9"
      },
      "execution_count": 131,
      "outputs": [
        {
          "output_type": "stream",
          "name": "stdout",
          "text": [
            "DT accuracy for the DRD Dataset for Depth = 13 and distanceFunction = Misclassification: 0.622\n",
            "DT accuracy for the DRD Dataset for Depth = 13 and distanceFunction = Entropy: 0.570\n",
            "DT accuracy for the DRD Dataset for Depth = 13 and distanceFunction = Gini Index: 0.523\n",
            "BEST:\tDT accuracy for the DRD Dataset for Depth = 13 and distanceFunction = Misclassification: 0.688\n"
          ]
        }
      ]
    },
    {
      "cell_type": "markdown",
      "source": [
        "## **Part 5 - Plotting decision boundaries for K-Nearest Neighbors and Decision Trees.**"
      ],
      "metadata": {
        "id": "xp4rqXqp-1qG"
      }
    },
    {
      "cell_type": "markdown",
      "source": [
        "### K - Nearest Neighbors"
      ],
      "metadata": {
        "id": "n-C8oa-fCM1X"
      }
    },
    {
      "cell_type": "code",
      "source": [
        "def visualize_accuracy_KNN(chosenDistanceFunction, chosenK, X, y):\n",
        "  classifier = KNN(K=chosenK, distanceFunction=chosenDistanceFunction)\n",
        "  X_train, X_test, y_train, y_test = model_selection.train_test_split(X, y, test_size=0.4, train_size=0.6, random_state=11, shuffle=True)\n",
        "  X_train = StandardScaler().fit(X_train).transform(X_train)\n",
        "  X_test = StandardScaler().fit(X_test).transform(X_test)\n",
        "  classifier.fit(X_train, y_train)\n",
        "  y_predictions = classifier.predict(X_test)\n",
        "  accuracy = np.sum(y_predictions == y_test) / len(y_test)\n",
        "  return accuracy\n",
        "\n",
        "def find_best_features_KNN(dataset, features, best_k):\n",
        "  best_features = []\n",
        "  best_accuracy = 0.\n",
        "  for i in range(0, len(features)):\n",
        "    for j in range(i + 1, len(features)):\n",
        "      feature_1 = features[i]\n",
        "      feature_2 = features[j]\n",
        "      data = dataset.copy()\n",
        "      data = data[[feature_1, feature_2, 'Class']]\n",
        "      X_data, y_data = np.array(data.loc[:, feature_1: feature_2]), np.array(data['Class'].astype(int))\n",
        "      accuracy = visualize_accuracy_KNN(manhattan, best_k, X_data, y_data)\n",
        "\n",
        "      if accuracy > best_accuracy:\n",
        "        best_features = [feature_1, feature_2]\n",
        "        best_accuracy = accuracy\n",
        "        # print(best_features)\n",
        "\n",
        "  return best_features, best_accuracy\n",
        "\n",
        "def display_best_feature_graph_KNN(dataset, features, best_K, bestDistanceFunction, title):\n",
        "  feature_1 = features[0]\n",
        "  feature_2 = features[1]\n",
        "  data = dataset.copy()\n",
        "  data = data[[feature_1, feature_2, 'Class']]\n",
        "  x, y = np.array(data.loc[:, feature_1: feature_2]), np.array(data['Class'].astype(int))\n",
        "\n",
        "  x_train, x_test, y_train, y_test = model_selection.train_test_split(x, y, test_size=0.4, train_size=0.6, random_state=11, shuffle=True)\n",
        "\n",
        "  # Train, Correct, Misclassified\n",
        "  print('')\n",
        "  classifier = KNN(K=best_K, distanceFunction=bestDistanceFunction)\n",
        "  classifier.fit(x_train, y_train)\n",
        "  predictions = classifier.predict(x_test)\n",
        "  accuracy = np.sum(predictions == y_test) / len(y_test)\n",
        "  correct = y_test == predictions\n",
        "  incorrect = np.logical_not(correct)\n",
        "  plt.scatter(x_train[:,0], x_train[:,1], c=y_train, marker='o', alpha=.5, label='train')\n",
        "  plt.scatter(x_test[correct,0], x_test[correct,1], marker='.', c=predictions[correct], label='correct')\n",
        "  plt.scatter(x_test[incorrect,0], x_test[incorrect,1], marker='x', c=y_test[incorrect], label='misclassified')\n",
        "  plt.xlabel(features[0])\n",
        "  plt.ylabel(features[1])\n",
        "  plt.legend()\n",
        "  plt.title(title + ' Train, Correct, Misclassified')\n",
        "  plt.show()\n",
        "\n",
        "  # Decision Boundaries\n",
        "  print('')\n",
        "  x0v = np.linspace(np.min(x[:,0]), np.max(x[:,0]), 200)\n",
        "  x1v = np.linspace(np.min(x[:,1]), np.max(x[:,1]), 200)\n",
        "  x0,x1 = np.meshgrid(x0v, x1v)\n",
        "  x_all = np.vstack((x0.ravel(),x1.ravel())).T\n",
        "\n",
        "  model = KNN(K=best_K, distanceFunction=bestDistanceFunction)\n",
        "  y_train_prob = np.zeros((y_train.shape[0], 2))\n",
        "  y_train_prob[np.arange(y_train.shape[0]), y_train] = 1\n",
        "  classifier.fit(x_train, y_train)\n",
        "  y_prob_all = classifier.predict(x_all)\n",
        "\n",
        "  y_train_prob_color = []\n",
        "  for i in y_train_prob:\n",
        "    y_train_prob_color.append(i[1])\n",
        "\n",
        "  plt.scatter(x_all[:,0], x_all[:,1], c=y_prob_all, marker='.', alpha=.1)\n",
        "  plt.scatter(x_train[:,0], x_train[:,1], c=y_train_prob_color, marker='o', alpha=1)\n",
        "  plt.xlabel(features[0])\n",
        "  plt.ylabel(features[1])\n",
        "  plt.title(title + ' Decision Boundaries')\n",
        "  plt.show()"
      ],
      "metadata": {
        "id": "2slqvRKg2ln4"
      },
      "execution_count": 132,
      "outputs": []
    },
    {
      "cell_type": "markdown",
      "source": [
        "Hepatitis Dataset"
      ],
      "metadata": {
        "id": "NXZIbQHiCZlL"
      }
    },
    {
      "cell_type": "code",
      "source": [
        "hepatitisFeatureNames = ['STEROID','ANTIVIRALS','FATIGUE','MALAISE','ANOREXIA','LIVER BIG','LIVER FIRM','SPLEEN PALPABLE','SPIDERS','ASCITES','VARICES','BILIRUBIN','ALK PHOSPHATE','SGOT','ALBUMIN','PROTIME','HISTOLOGY']\n",
        "features_Hepatitis, accuracy_Hepatitis = find_best_features_KNN(hepatitisDataOneHotEncoded, hepatitisFeatureNames, 3)\n",
        "print('Best features are: ')\n",
        "print(features_Hepatitis)\n",
        "print('Best accuracy is: ' + str(accuracy_Hepatitis))\n",
        "display_best_feature_graph_KNN(hepatitisDataOneHotEncoded, features_Hepatitis, 3, manhattan,'Hepatitis KNN')"
      ],
      "metadata": {
        "colab": {
          "base_uri": "https://localhost:8080/",
          "height": 0
        },
        "id": "TOrm3_OB3JhW",
        "outputId": "0b88ff2b-5ad8-421a-8517-2cc6eee8ea1c"
      },
      "execution_count": 133,
      "outputs": [
        {
          "output_type": "stream",
          "name": "stdout",
          "text": [
            "Best features are: \n",
            "['MALAISE', 'PROTIME']\n",
            "Best accuracy is: 0.90625\n",
            "\n"
          ]
        },
        {
          "output_type": "display_data",
          "data": {
            "text/plain": [
              "<Figure size 432x288 with 1 Axes>"
            ],
            "image/png": "[encoded data removed]"
          },
          "metadata": {
            "needs_background": "light"
          }
        },
        {
          "output_type": "stream",
          "name": "stdout",
          "text": [
            "\n"
          ]
        },
        {
          "output_type": "display_data",
          "data": {
            "text/plain": [
              "<Figure size 432x288 with 1 Axes>"
            ],
            "image/png": "[encoded data removed]"
          },
          "metadata": {
            "needs_background": "light"
          }
        }
      ]
    },
    {
      "cell_type": "markdown",
      "source": [
        "Diabetic Retinopathy Debrecen Dataset"
      ],
      "metadata": {
        "id": "DhLjeQb4Ca5A"
      }
    },
    {
      "cell_type": "code",
      "source": [
        "DRDFeatureNames = ['MA Detection 1', 'MA Detection 2', 'MA Detection 3', 'MA Detection 4', 'MA Detection 5', 'MA Detection 6', 'MA Detection Exudates 1', 'MA Detection Exudates 2', 'MA Detection Exudates 3', 'MA Detection Exudates 4', 'MA Detection Exudates 5', 'MA Detection Exudates 6', 'MA Detection Exudates 7', 'MA Detection Exudates 8', 'Euclid Distance', 'Optic Disc Diameter', 'AM/FM Classification']\n",
        "features_DRD, accuracy_DRD = find_best_features_KNN(DRDDataFilteredFeatures, DRDFeatureNames, 12)\n",
        "print('Best features are: ')\n",
        "print(features_DRD)\n",
        "print('Best accuracy is: ' + str(round(accuracy_DRD, )))\n",
        "display_best_feature_graph_KNN(DRDDataFilteredFeatures, features_DRD, 12, manhattan, 'DRD Decision Boundaries KNN')"
      ],
      "metadata": {
        "colab": {
          "base_uri": "https://localhost:8080/",
          "height": 0
        },
        "id": "2tFRRKLh29dL",
        "outputId": "39d4de30-a73a-42ff-95ae-97663e28932a"
      },
      "execution_count": 134,
      "outputs": [
        {
          "output_type": "stream",
          "name": "stdout",
          "text": [
            "Best features are: \n",
            "['MA Detection 2', 'MA Detection 4']\n",
            "Best accuracy is: 1\n",
            "\n"
          ]
        },
        {
          "output_type": "display_data",
          "data": {
            "text/plain": [
              "<Figure size 432x288 with 1 Axes>"
            ],
            "image/png": "[encoded data removed]"
          },
          "metadata": {
            "needs_background": "light"
          }
        },
        {
          "output_type": "stream",
          "name": "stdout",
          "text": [
            "\n"
          ]
        },
        {
          "output_type": "display_data",
          "data": {
            "text/plain": [
              "<Figure size 432x288 with 1 Axes>"
            ],
            "image/png": "[encoded data removed]"
          },
          "metadata": {
            "needs_background": "light"
          }
        }
      ]
    },
    {
      "cell_type": "markdown",
      "source": [
        "### Decision Trees"
      ],
      "metadata": {
        "id": "AH9JLSQlCTLV"
      }
    },
    {
      "cell_type": "markdown",
      "source": [
        "Decision Boundaries DT Testing Code"
      ],
      "metadata": {
        "id": "0vcz4xw9Ds1V"
      }
    },
    {
      "cell_type": "code",
      "source": [
        "def visualize_accuracy_DT(bestCostFunction, bestTreeDepth, X, y, y_axis, x_axis):\n",
        "    featureLabels = [y_axis, x_axis]\n",
        "    featureTypes = type_Of_Feature(featureLabels)\n",
        "    X_train, X_test, y_train, y_test = model_selection.train_test_split(X, y, test_size=0.4, train_size=0.6, random_state=11, shuffle=True)\n",
        "    classifier = DecisionTree(cost_fn=bestCostFunction, max_depth=bestTreeDepth)\n",
        "    probs_test = classifier.fit(X_train, y_train, featureTypes).predict(X_test)\n",
        "    y_pred = np.argmax(probs_test,1)\n",
        "    accuracy = np.sum(y_pred == y_test)/y_test.shape[0]\n",
        "    return accuracy\n",
        "\n",
        "def find_best_features_DT(dataset, features, max_depth, bestCostFunction):\n",
        "    best_features = []\n",
        "    best_accuracy = 0.\n",
        "    for i in range(0, len(features)):\n",
        "        for j in range(i + 1, len(features)):\n",
        "            feature_1 = features[i]\n",
        "            feature_2 = features[j]\n",
        "            data = dataset.copy()\n",
        "            data = data[[feature_1, feature_2, 'Class']]\n",
        "            X_data, y_data = np.array(data.loc[:, feature_1: feature_2]), np.array(data['Class'].astype(int))\n",
        "            accuracy = visualize_accuracy_DT(bestCostFunction, max_depth, X_data, y_data, feature_1, feature_2)\n",
        "\n",
        "            if accuracy > best_accuracy:\n",
        "                best_features = [feature_1, feature_2]\n",
        "                best_accuracy = accuracy\n",
        "\n",
        "    return best_features, best_accuracy\n",
        "\n",
        "def display_best_feature_graph_DT(dataset, features, best_depth, bestCostFunction, title):\n",
        "    feature_1 = features[0]\n",
        "    feature_2 = features[1]\n",
        "    data = dataset.copy()\n",
        "    data = data[[feature_1, feature_2, 'Class']]\n",
        "    x, y = np.array(data.loc[:, feature_1: feature_2]), np.array(data['Class'].astype(int))\n",
        "\n",
        "    featureTypes = type_Of_Feature(features)\n",
        "    x_train, x_test, y_train, y_test = model_selection.train_test_split(x, y, test_size=0.4, train_size=0.6, random_state=11, shuffle=True)\n",
        "\n",
        "    # Train, Correct, Misclassified\n",
        "    print('')\n",
        "    tree = DecisionTree(max_depth=best_depth, cost_fn=bestCostFunction)\n",
        "    probs_test = tree.fit(x_train, y_train, featureTypes).predict(x_test)\n",
        "    y_pred = np.argmax(probs_test,1)\n",
        "    accuracy = np.sum(y_pred == y_test)/y_test.shape[0]\n",
        "    correct = y_test == y_pred\n",
        "    incorrect = np.logical_not(correct)\n",
        "    plt.scatter(x_train[:,0], x_train[:,1], c=y_train, marker='o', alpha=.5, label='train')\n",
        "    plt.scatter(x_test[correct,0], x_test[correct,1], marker='.', c=y_pred[correct], label='correct')\n",
        "    plt.scatter(x_test[incorrect,0], x_test[incorrect,1], marker='x', c=y_test[incorrect], label='misclassified')\n",
        "    plt.xlabel(features[0])\n",
        "    plt.ylabel(features[1])\n",
        "    plt.legend()\n",
        "    plt.title(title + ' Train, Correct, Misclassified')\n",
        "    plt.show()\n",
        "\n",
        "    # Decision Boundaries\n",
        "    print('')\n",
        "    x0v = np.linspace(np.min(x[:,0]), np.max(x[:,0]), 200)\n",
        "    x1v = np.linspace(np.min(x[:,1]), np.max(x[:,1]), 200)\n",
        "    x0,x1 = np.meshgrid(x0v, x1v)\n",
        "    x_all = np.vstack((x0.ravel(),x1.ravel())).T\n",
        "\n",
        "    model = DecisionTree(max_depth=best_depth, cost_fn=bestCostFunction)\n",
        "    y_train_prob = np.zeros((y_train.shape[0], 2))\n",
        "    y_train_prob[np.arange(y_train.shape[0]), y_train] = 1\n",
        "    y_prob_all = model.fit(x_train, y_train, featureTypes).predict(x_all)\n",
        "        \n",
        "    y_prob_all_color = []\n",
        "    for i in y_prob_all:\n",
        "        if i[0] < 0.5:\n",
        "            y_prob_all_color.append(1)\n",
        "        elif i[0] >= 0.5:\n",
        "            y_prob_all_color.append(0)\n",
        "\n",
        "    y_train_prob_color = []\n",
        "    for i in y_train_prob:\n",
        "        if i[0] < 0.5:\n",
        "            y_train_prob_color.append(1)\n",
        "        elif i[0] >= 0.5:\n",
        "            y_train_prob_color.append(0)\n",
        "\n",
        "    plt.scatter(x_all[:,0], x_all[:,1], c=y_prob_all_color, marker='.', alpha=.1)\n",
        "    plt.scatter(x_train[:,0], x_train[:,1], c=y_train_prob_color, marker='o', alpha=1)\n",
        "    plt.xlabel(features[0])\n",
        "    plt.ylabel(features[1])\n",
        "    plt.title(title + ' Decision Boundaries')\n",
        "    plt.show()\n",
        "    print('')"
      ],
      "metadata": {
        "id": "f-WJnQzHDzam"
      },
      "execution_count": 135,
      "outputs": []
    },
    {
      "cell_type": "markdown",
      "source": [
        "Hepatitis Dataset"
      ],
      "metadata": {
        "id": "xxv8LZSQCefd"
      }
    },
    {
      "cell_type": "code",
      "source": [
        "hepatitisFeatureNames = ['STEROID','ANTIVIRALS','FATIGUE','MALAISE','ANOREXIA','LIVER BIG','LIVER FIRM','SPLEEN PALPABLE','SPIDERS','ASCITES','VARICES','BILIRUBIN','ALK PHOSPHATE','SGOT','ALBUMIN','PROTIME','HISTOLOGY']\n",
        "features_Hepatitis, accuracy_Hepatitis = find_best_features_DT(hepatitisDataOneHotEncoded, hepatitisFeatureNames, 2, cost_misclassification)\n",
        "print('Best features are: ')\n",
        "print(features_Hepatitis)\n",
        "print('Best accuracy is: ' + str(accuracy_Hepatitis))\n",
        "display_best_feature_graph_DT(hepatitisDataOneHotEncoded, features_Hepatitis, 2, cost_misclassification, 'Hepatitis DT')"
      ],
      "metadata": {
        "id": "7cBuYmb9CiUw",
        "colab": {
          "base_uri": "https://localhost:8080/",
          "height": 0
        },
        "outputId": "dbbaaf8d-3dbf-484b-a103-9e5bf09aeebc"
      },
      "execution_count": 136,
      "outputs": [
        {
          "output_type": "stream",
          "name": "stderr",
          "text": [
            "/usr/local/lib/python3.7/dist-packages/ipykernel_launcher.py:59: RuntimeWarning: invalid value encountered in true_divide\n"
          ]
        },
        {
          "output_type": "stream",
          "name": "stdout",
          "text": [
            "Best features are: \n",
            "['STEROID', 'ALK PHOSPHATE']\n",
            "Best accuracy is: 0.875\n",
            "\n"
          ]
        },
        {
          "output_type": "display_data",
          "data": {
            "text/plain": [
              "<Figure size 432x288 with 1 Axes>"
            ],
            "image/png": "[encoded data removed]"
          },
          "metadata": {
            "needs_background": "light"
          }
        },
        {
          "output_type": "stream",
          "name": "stdout",
          "text": [
            "\n"
          ]
        },
        {
          "output_type": "display_data",
          "data": {
            "text/plain": [
              "<Figure size 432x288 with 1 Axes>"
            ],
            "image/png": "[encoded data removed]"
          },
          "metadata": {
            "needs_background": "light"
          }
        },
        {
          "output_type": "stream",
          "name": "stdout",
          "text": [
            "\n"
          ]
        }
      ]
    },
    {
      "cell_type": "markdown",
      "source": [
        "Diabetic Retinopathy Debrecen Dataset"
      ],
      "metadata": {
        "id": "11rFU3CLCLjH"
      }
    },
    {
      "cell_type": "code",
      "source": [
        "DRDFeatureNames = ['MA Detection 1', 'MA Detection 2', 'MA Detection 3', 'MA Detection 4', 'MA Detection 5', 'MA Detection 6', 'MA Detection Exudates 1', 'MA Detection Exudates 2', 'MA Detection Exudates 3', 'MA Detection Exudates 4', 'MA Detection Exudates 5', 'MA Detection Exudates 6', 'MA Detection Exudates 7', 'MA Detection Exudates 8', 'Euclid Distance', 'Optic Disc Diameter', 'AM/FM Classification']\n",
        "features_DRD, accuracy_DRD = find_best_features_DT(DRDDataFilteredFeatures, DRDFeatureNames, 13, cost_misclassification)\n",
        "print('Best features are: ')\n",
        "print(features_DRD)\n",
        "print('Best accuracy is: ' + str(accuracy_DRD))\n",
        "display_best_feature_graph_DT(DRDDataFilteredFeatures, features_DRD, 13, cost_misclassification, 'DRD Decision Boundaries DT')"
      ],
      "metadata": {
        "id": "70SpTkKXCiqI",
        "colab": {
          "base_uri": "https://localhost:8080/",
          "height": 0
        },
        "outputId": "7f305790-6e04-4cb9-f28e-c74de1e213a4"
      },
      "execution_count": 137,
      "outputs": [
        {
          "output_type": "stream",
          "name": "stderr",
          "text": [
            "/usr/local/lib/python3.7/dist-packages/ipykernel_launcher.py:59: RuntimeWarning: invalid value encountered in true_divide\n"
          ]
        },
        {
          "output_type": "stream",
          "name": "stdout",
          "text": [
            "Best features are: \n",
            "['MA Detection 1', 'MA Detection 3']\n",
            "Best accuracy is: 0.6971677559912854\n",
            "\n"
          ]
        },
        {
          "output_type": "display_data",
          "data": {
            "text/plain": [
              "<Figure size 432x288 with 1 Axes>"
            ],
            "image/png": "[encoded data removed]"
          },
          "metadata": {
            "needs_background": "light"
          }
        },
        {
          "output_type": "stream",
          "name": "stdout",
          "text": [
            "\n"
          ]
        },
        {
          "output_type": "display_data",
          "data": {
            "text/plain": [
              "<Figure size 432x288 with 1 Axes>"
            ],
            "image/png": "[encoded data removed]"
          },
          "metadata": {
            "needs_background": "light"
          }
        },
        {
          "output_type": "stream",
          "name": "stdout",
          "text": [
            "\n"
          ]
        }
      ]
    },
    {
      "cell_type": "markdown",
      "source": [
        "## **Part 6 - Testing K-fold cross validation.**"
      ],
      "metadata": {
        "id": "GnvM8hHI_Qsn"
      }
    },
    {
      "cell_type": "code",
      "source": [
        "from sklearn.model_selection import KFold\n",
        "\n",
        "def cross_validate(model, X_input, Y_output, K=5):\n",
        "    kf = KFold(n_splits=K, random_state=1, shuffle=True)\n",
        "    true_labels = np.array([0] * X_input.shape[0])\n",
        "    pred_labels = np.array([0] * X_input.shape[0])\n",
        "    pred_scores = np.array([0.0] * X_input.shape[0])\n",
        "    for train_index, test_index in kf.split(X_input):\n",
        "        model.fit(X_input[train_index], Y_output[train_index])\n",
        "        true_labels[test_index] = Y_output[test_index]\n",
        "        pred_labels[test_index] = model.predict(X_input[test_index])\n",
        "        pred_scores[test_index] = model.predict_proba(X_input[test_index])\n",
        "    return true_labels, pred_labels, pred_scores"
      ],
      "metadata": {
        "id": "wgWHhluo2Mry"
      },
      "execution_count": 138,
      "outputs": []
    },
    {
      "cell_type": "markdown",
      "source": [
        "### **K - Nearest Neighbors**"
      ],
      "metadata": {
        "id": "XUhbIo3DCps8"
      }
    },
    {
      "cell_type": "markdown",
      "source": [
        "Hepatitis Dataset"
      ],
      "metadata": {
        "id": "g0kiFDxJCysP"
      }
    },
    {
      "cell_type": "code",
      "source": [
        "knn = KNN(K=3, distanceFunction=manhattan)\n",
        "X_hepatitisStandardized = StandardScaler().fit(X_hepatitisOneHot).transform(X_hepatitisOneHot)\n",
        "true_labels, pred_labels, pred_scores = cross_validate(knn, X_hepatitisStandardized, y_hepatitisOneHot, K=5)\n",
        "test_accuracy = np.sum(pred_labels == true_labels) / true_labels.shape[0]\n",
        "print(f\"Accuracy: {test_accuracy}\")"
      ],
      "metadata": {
        "id": "gbvwNyHo17S4",
        "colab": {
          "base_uri": "https://localhost:8080/"
        },
        "outputId": "d2790742-9b09-4196-d3b5-12338855f828"
      },
      "execution_count": 139,
      "outputs": [
        {
          "output_type": "stream",
          "name": "stdout",
          "text": [
            "Accuracy: 0.8625\n"
          ]
        }
      ]
    },
    {
      "cell_type": "code",
      "source": [
        "knn = WeightedKNN(K=3, distanceFunction=manhattan)\n",
        "X_hepatitisStandardized = StandardScaler().fit(X_hepatitisOneHot).transform(X_hepatitisOneHot)\n",
        "true_labels, pred_labels, pred_scores = cross_validate(knn, X_hepatitisStandardized, y_hepatitisOneHot, K=5)\n",
        "test_accuracy = np.sum(pred_labels == true_labels) / true_labels.shape[0]\n",
        "print(f\"Accuracy: {test_accuracy}\")"
      ],
      "metadata": {
        "id": "DN7NWSBm8w2a",
        "colab": {
          "base_uri": "https://localhost:8080/"
        },
        "outputId": "fdb282ee-5b64-4f2e-d326-47710586facb"
      },
      "execution_count": 140,
      "outputs": [
        {
          "output_type": "stream",
          "name": "stdout",
          "text": [
            "Accuracy: 0.875\n"
          ]
        }
      ]
    },
    {
      "cell_type": "markdown",
      "source": [
        "Diabetic Retinopathy Debrecen Dataset"
      ],
      "metadata": {
        "id": "wUMdD2OdCwjn"
      }
    },
    {
      "cell_type": "code",
      "source": [
        "knn = KNN(K=12, distanceFunction=manhattan)\n",
        "X_DRDFilteredStandardized = StandardScaler().fit(X_DRDFilteredFeatures).transform(X_DRDFilteredFeatures)\n",
        "true_labels, pred_labels, pred_scores = cross_validate(knn, X_DRDFilteredStandardized, y_DRDFilteredFeatures, K=5)\n",
        "test_accuracy = np.sum(pred_labels == true_labels)/true_labels.shape[0]\n",
        "print(f\"Accuracy: {round(test_accuracy, 4)}\")"
      ],
      "metadata": {
        "id": "N2xXTkZq8tQu",
        "colab": {
          "base_uri": "https://localhost:8080/"
        },
        "outputId": "92cb491d-3cc2-4273-c024-13ffe3d82cde"
      },
      "execution_count": 141,
      "outputs": [
        {
          "output_type": "stream",
          "name": "stdout",
          "text": [
            "Accuracy: 0.6521\n"
          ]
        }
      ]
    },
    {
      "cell_type": "code",
      "source": [
        "knn = WeightedKNN(K=3, distanceFunction=manhattan)\n",
        "X_DRDFilteredStandardized = StandardScaler().fit(X_DRDFilteredFeatures).transform(X_DRDFilteredFeatures)\n",
        "true_labels, pred_labels, pred_scores = cross_validate(knn, X_DRDFilteredStandardized, y_DRDFilteredFeatures, K=5)\n",
        "test_accuracy = np.sum(pred_labels == true_labels)/true_labels.shape[0]\n",
        "print(f\"Accuracy: {round(test_accuracy, 4)}\")"
      ],
      "metadata": {
        "id": "tiqUv8078ulE",
        "colab": {
          "base_uri": "https://localhost:8080/"
        },
        "outputId": "0a171725-251d-43d5-fbf6-cc9aea500a43"
      },
      "execution_count": 142,
      "outputs": [
        {
          "output_type": "stream",
          "name": "stdout",
          "text": [
            "Accuracy: 0.6225\n"
          ]
        }
      ]
    },
    {
      "cell_type": "markdown",
      "source": [
        "### **Decision Tree**"
      ],
      "metadata": {
        "id": "0nNufQK9Cuxf"
      }
    },
    {
      "cell_type": "code",
      "source": [
        "# from sklearn.model_selection import KFold\n",
        "\n",
        "# def cross_validate(model, X_input, Y_output, featureNames, K=5):\n",
        "#     featureTypes = type_Of_Feature(featureNames)\n",
        "#     kf = KFold(n_splits=K, random_state=1, shuffle=True)\n",
        "#     true_labels = np.array([0] * X_input.shape[0])\n",
        "#     pred_labels = np.array([0] * X_input.shape[0])\n",
        "#     pred_scores = np.array([0.0] * X_input.shape[0])\n",
        "#     for train_index, test_index in kf.split(X_input):\n",
        "#         model.fit(X_input[train_index], Y_output[train_index], featureTypes)\n",
        "#         true_labels[test_index] = Y_output[test_index]\n",
        "#         pred_labels[test_index] = model.predict(X_input[test_index])\n",
        "#         pred_scores[test_index] = model.predict_proba(X_input[test_index])\n",
        "#     return true_labels, pred_labels, pred_scores"
      ],
      "metadata": {
        "id": "-fW8C1JmKe0F"
      },
      "execution_count": 143,
      "outputs": []
    },
    {
      "cell_type": "markdown",
      "source": [
        "Hepatitis Dataset"
      ],
      "metadata": {
        "id": "l_4KBrSMC0T3"
      }
    },
    {
      "cell_type": "code",
      "source": [
        "# dt = DecisionTree(max_depth=2, cost_fn=cost_misclassification)\n",
        "# X_hepatitisStandardized = StandardScaler().fit(X_hepatitisOneHot).transform(X_hepatitisOneHot)\n",
        "# hepatitisFeatureNames = hepatitisDataColNames[1:]\n",
        "# DRDFeatureNames = DRDDataColNamesV2[0:17]\n",
        "# true_labels, pred_labels, pred_scores = cross_validate(dt, X_hepatitisOneHot, y_hepatitisOneHot, featureNames=hepatitisFeatureNames, K=5)\n",
        "# test_accuracy = np.sum(pred_labels == true_labels) / true_labels.shape[0]\n",
        "# print(f\"Accuracy: {test_accuracy}\")"
      ],
      "metadata": {
        "id": "aL9NamLgsezU"
      },
      "execution_count": 144,
      "outputs": []
    },
    {
      "cell_type": "markdown",
      "source": [
        "Diabetic Retinopathy Debrecen Dataset"
      ],
      "metadata": {
        "id": "OGcce6diC00F"
      }
    },
    {
      "cell_type": "markdown",
      "source": [
        "## **Part 7 - Implementing the Receiver Operator Characteristic (ROC) curve.**"
      ],
      "metadata": {
        "id": "Dfd4CS9I_Yjf"
      }
    },
    {
      "cell_type": "code",
      "source": [
        "from sklearn.metrics import roc_curve, roc_auc_score\n",
        "\n",
        "def plot_roc(true_labels, pred_scores, title):\n",
        "    fpr, tpr, thresholds = roc_curve(true_labels, pred_scores)\n",
        "    roc_auc = roc_auc_score(true_labels, pred_scores)\n",
        "\n",
        "    plt.clf()\n",
        "    plt.plot(fpr, tpr, \"b-\", lw=2, label=\"AUROC = %0.2f\"%roc_auc)\n",
        "    plt.xlabel('False Positive Rate (FPR)')\n",
        "    plt.ylabel('True Positive Rate (TPR)')\n",
        "    plt.title(title)\n",
        "    plt.legend(loc=\"best\")"
      ],
      "metadata": {
        "id": "Ti8JcXmUDFIo"
      },
      "execution_count": 145,
      "outputs": []
    },
    {
      "cell_type": "markdown",
      "source": [
        "### **K - Nearest Neighbors**"
      ],
      "metadata": {
        "id": "RTh4uMtEC-U_"
      }
    },
    {
      "cell_type": "markdown",
      "source": [
        "Hepatitis Dataset"
      ],
      "metadata": {
        "id": "6PjvQUFyC9BG"
      }
    },
    {
      "cell_type": "code",
      "source": [
        "knn = KNN(K=3, distanceFunction=manhattan)\n",
        "X_hepatitisStandardized = StandardScaler().fit(X_hepatitisOneHot).transform(X_hepatitisOneHot)\n",
        "true_labels, _, pred_scores = cross_validate(knn, X_hepatitisStandardized, y_hepatitisOneHot, K=5)\n",
        "plot_roc(true_labels, pred_scores, title='ROC Curve for Hepatitis Dataset (KNN)')"
      ],
      "metadata": {
        "id": "VpnFd_3yDDfr",
        "colab": {
          "base_uri": "https://localhost:8080/",
          "height": 0
        },
        "outputId": "8e4dd107-f995-409c-e62e-942de36c6cb5"
      },
      "execution_count": 146,
      "outputs": [
        {
          "output_type": "display_data",
          "data": {
            "text/plain": [
              "<Figure size 432x288 with 1 Axes>"
            ],
            "image/png": "[encoded data removed]"
          },
          "metadata": {
            "needs_background": "light"
          }
        }
      ]
    },
    {
      "cell_type": "code",
      "source": [
        "knn = WeightedKNN(K=3, distanceFunction=manhattan)\n",
        "X_hepatitisStandardized = StandardScaler().fit(X_hepatitisOneHot).transform(X_hepatitisOneHot)\n",
        "true_labels, _, pred_scores = cross_validate(knn, X_hepatitisStandardized, y_hepatitisOneHot, K=5)\n",
        "plot_roc(true_labels, pred_scores, title='ROC Curve for Hepatitis Dataset (Weighted KNN)')"
      ],
      "metadata": {
        "id": "LRb1pV1kDIfN",
        "colab": {
          "base_uri": "https://localhost:8080/",
          "height": 0
        },
        "outputId": "4563a63b-71cd-4605-c8b9-400b815bdaa0"
      },
      "execution_count": 147,
      "outputs": [
        {
          "output_type": "display_data",
          "data": {
            "text/plain": [
              "<Figure size 432x288 with 1 Axes>"
            ],
            "image/png": "[encoded data removed]"
          },
          "metadata": {
            "needs_background": "light"
          }
        }
      ]
    },
    {
      "cell_type": "markdown",
      "source": [
        "Diabetic Retinopathy Debrecen Dataset"
      ],
      "metadata": {
        "id": "S-NCBxp-C9BH"
      }
    },
    {
      "cell_type": "code",
      "source": [
        "knn = KNN(K=12, distanceFunction=manhattan)\n",
        "X_DRDFilteredStandardized = StandardScaler().fit(X_hepatitisOneHot).transform(X_hepatitisOneHot)\n",
        "true_labels, _, pred_scores = cross_validate(knn, X_DRDFilteredStandardized, y_DRDFilteredFeatures, K=5)\n",
        "plot_roc(true_labels, pred_scores, title='ROC Curve for DRD Dataset (KNN)')"
      ],
      "metadata": {
        "id": "60f6c9KKDDyQ",
        "colab": {
          "base_uri": "https://localhost:8080/",
          "height": 0
        },
        "outputId": "b2a1c809-0b5d-4468-ace2-75c3e0846d69"
      },
      "execution_count": 148,
      "outputs": [
        {
          "output_type": "display_data",
          "data": {
            "text/plain": [
              "<Figure size 432x288 with 1 Axes>"
            ],
            "image/png": "[encoded data removed]"
          },
          "metadata": {
            "needs_background": "light"
          }
        }
      ]
    },
    {
      "cell_type": "code",
      "source": [
        "knn = WeightedKNN(K=3, distanceFunction=manhattan)\n",
        "X_DRDFilteredStandardized = StandardScaler().fit(X_hepatitisOneHot).transform(X_hepatitisOneHot)\n",
        "true_labels, _, pred_scores = cross_validate(knn, X_DRDFilteredStandardized, y_DRDFilteredFeatures, K=5)\n",
        "plot_roc(true_labels, pred_scores, title='ROC Curve for DRD Dataset (Weighted KNN)')"
      ],
      "metadata": {
        "id": "EWaGUs7lDKAi",
        "colab": {
          "base_uri": "https://localhost:8080/",
          "height": 0
        },
        "outputId": "5199fec9-fc84-4b10-8a4c-26c7c11dc0a7"
      },
      "execution_count": 149,
      "outputs": [
        {
          "output_type": "display_data",
          "data": {
            "text/plain": [
              "<Figure size 432x288 with 1 Axes>"
            ],
            "image/png": "[encoded data removed]"
          },
          "metadata": {
            "needs_background": "light"
          }
        }
      ]
    }
  ]
}