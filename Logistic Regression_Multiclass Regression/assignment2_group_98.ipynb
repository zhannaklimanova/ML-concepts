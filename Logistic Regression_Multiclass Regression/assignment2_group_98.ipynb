{
  "cells": [
    {
      "cell_type": "markdown",
      "metadata": {
        "id": "kLA7ZVmQhuPV"
      },
      "source": [
        "# **SECTION 0: Imports**"
      ]
    },
    {
      "cell_type": "code",
      "execution_count": 169,
      "metadata": {
        "colab": {
          "base_uri": "https://localhost:8080/"
        },
        "id": "x3vLqyYViGlL",
        "outputId": "7d423c32-704f-4b22-a288-58aac8409d8b"
      },
      "outputs": [
        {
          "output_type": "stream",
          "name": "stderr",
          "text": [
            "[nltk_data] Downloading package stopwords to /root/nltk_data...\n",
            "[nltk_data]   Package stopwords is already up-to-date!\n"
          ]
        }
      ],
      "source": [
        "import sys\n",
        "\n",
        "import random\n",
        "\n",
        "import numpy as np\n",
        "\n",
        "import pandas as pd \n",
        "\n",
        "from collections import Counter\n",
        "\n",
        "from sklearn import model_selection\n",
        "from sklearn import preprocessing\n",
        "from sklearn.preprocessing import StandardScaler\n",
        "from sklearn.preprocessing import MinMaxScaler\n",
        "\n",
        "from scipy import stats\n",
        "\n",
        "import matplotlib.pyplot as plt\n",
        "\n",
        "\n",
        "import matplotlib.pyplot as plt\n",
        "from IPython.core.debugger import set_trace\n",
        "\n",
        "import pandas as pd \n",
        "from sklearn import model_selection\n",
        "from sklearn.model_selection import train_test_split\n",
        "from sklearn import metrics\n",
        "\n",
        "from sklearn.datasets import fetch_20newsgroups\n",
        "from sklearn.feature_extraction.text import CountVectorizer\n",
        "from sklearn.feature_extraction.text import TfidfTransformer\n",
        "\n",
        "from sklearn.metrics import roc_curve, roc_auc_score\n",
        "from sklearn.neighbors import KNeighborsClassifier\n",
        "\n",
        "import os\n",
        "import re\n",
        "\n",
        "import nltk\n",
        "nltk.download(\"stopwords\") \n",
        "from nltk.corpus import stopwords\n",
        "\n",
        "import time\n",
        "\n",
        "%matplotlib inline"
      ]
    },
    {
      "cell_type": "markdown",
      "metadata": {
        "id": "3BhAGyoVhzy8"
      },
      "source": [
        "# **SECTION 1: Data Preprocessing**"
      ]
    },
    {
      "cell_type": "markdown",
      "metadata": {
        "id": "AbdhD2GBiX5S"
      },
      "source": [
        "## **Data Acquisition Step**"
      ]
    },
    {
      "cell_type": "markdown",
      "metadata": {
        "id": "MJdu4-LVjtVB"
      },
      "source": [
        "### IMDB Reviews Dataset"
      ]
    },
    {
      "cell_type": "code",
      "execution_count": null,
      "metadata": {
        "colab": {
          "base_uri": "https://localhost:8080/"
        },
        "id": "HX127tDPiMTj",
        "outputId": "4f0af860-a58b-45aa-a24c-8e91bb188a3d"
      },
      "outputs": [
        {
          "output_type": "stream",
          "name": "stdout",
          "text": [
            "--2022-11-09 04:03:56--  http://ai.stanford.edu/~amaas/data/sentiment/aclImdb_v1.tar.gz\n",
            "Resolving ai.stanford.edu (ai.stanford.edu)... 171.64.68.10\n",
            "Connecting to ai.stanford.edu (ai.stanford.edu)|171.64.68.10|:80... connected.\n",
            "HTTP request sent, awaiting response... 200 OK\n",
            "Length: 84125825 (80M) [application/x-gzip]\n",
            "Saving to: ‘aclImdb_v1.tar.gz.5’\n",
            "\n",
            "aclImdb_v1.tar.gz.5 100%[===================>]  80.23M  59.8MB/s    in 1.3s    \n",
            "\n",
            "2022-11-09 04:03:57 (59.8 MB/s) - ‘aclImdb_v1.tar.gz.5’ saved [84125825/84125825]\n",
            "\n"
          ]
        }
      ],
      "source": [
        "# Download and extract the IMDB dataset\n",
        "!wget http://ai.stanford.edu/~amaas/data/sentiment/aclImdb_v1.tar.gz \n",
        "!tar xfz aclImdb_v1.tar.gz"
      ]
    },
    {
      "cell_type": "code",
      "execution_count": null,
      "metadata": {
        "id": "cT7-WouSyE3W"
      },
      "outputs": [],
      "source": [
        "trainDir = 'aclImdb/train/'\n",
        "testDir = 'aclImdb/test/'\n",
        "vocabFile = 'aclImdb/imdb.vocab'\n",
        "reviewWordFrequenciesTrain = 'aclImdb/train/labeledBow.feat'\n",
        "reviewWordFrequenciesTest = 'aclImdb/test/labeledBow.feat'\n",
        "\n",
        "def create_vocab_list(vocabFile):\n",
        "  with open(vocabFile) as vf:\n",
        "    vocabList = [word.rstrip() for word in vf]\n",
        "\n",
        "  return vocabList\n",
        "\n",
        "def generate_tokens(text):\n",
        "  text = text.lower()\n",
        "  text = re.sub(\"\\\\s\", \" \", text) # remove multiple whitespace characters (leave one whitespace)\n",
        "  tokens = text.split(' ')\n",
        "\n",
        "  return tokens\n",
        "\n",
        "def count_word_frequencies(dirnames, vocabList):\n",
        "  wordFrequencies = dict.fromkeys(vocabList, 0)\n",
        "  totalFiles = 0\n",
        "\n",
        "  for dirname in dirnames:\n",
        "    # Review files: neg/0_3.txt neg/10000_4.txt neg/10001_4.txt ...\n",
        "    for y_val, y_label in enumerate(['neg', 'pos']):\n",
        "        y_dir = os.path.join(dirname, y_label)\n",
        "\n",
        "        # Generate lists of tokens of each review\n",
        "        for filename in os.listdir(y_dir):\n",
        "            filepath = os.path.join(y_dir, filename)\n",
        "            with open(filepath) as review:\n",
        "              reviewTokenized = generate_tokens(review.read())\n",
        "              for word in set(reviewTokenized):\n",
        "                if word in wordFrequencies:\n",
        "                  wordFrequencies[word] += 1\n",
        "            totalFiles += 1\n",
        "\n",
        "  return totalFiles, wordFrequencies  \n",
        "\n",
        "def find_popular_words(wordFrequencies, totalFiles):\n",
        "  popularWords = [word for word, count in wordFrequencies.items() if ((count/totalFiles) * 100) >= 1.0 and ((count/totalFiles) * 100) < 50.0]\n",
        "\n",
        "  return popularWords\n",
        "\n",
        "def remove_stop_words(vocabList):\n",
        "  stopWords = set(stopwords.words('english'))\n",
        "  excludedStopWordsList = [vocab for vocab in vocabList if not vocab in stopWords]\n",
        "\n",
        "  return excludedStopWordsList\n",
        "\n",
        "def remove_word_contractions(vocabList):\n",
        "  excludedContractions = [vocab for vocab in vocabList if vocab.isalnum()]\n",
        "\n",
        "  return excludedContractions\n",
        "\n",
        "def create_index_word_tuples(vocabFile, filteredVocabList):\n",
        "  with open(vocabFile) as vf:\n",
        "    indexedWords = list(zip(range(1, len(vocabList)), vocabList))\n",
        "    filteredWords = [indexedWord for indexedWord in indexedWords if indexedWord[1] in filteredVocabList]\n",
        "\n",
        "  return filteredWords\n",
        "\n",
        "def create_df(index_word_tuples, wordFrequenciesFile, features):\n",
        "  index_word_dictionary = dict((index, word) for index, word in index_word_tuples)\n",
        "  indexWordNames = list(index_word_dictionary.keys())\n",
        "  wordNames = list(index_word_dictionary.values())\n",
        "  wordNames.append('label')\n",
        "\n",
        "  with open(wordFrequenciesFile) as wf:\n",
        "    lines = wf.readlines()\n",
        "    length = len(lines)\n",
        "    data = np.zeros([length, len(features)+1]) # last column is for sentiment\n",
        "    \n",
        "    for row, line in enumerate(lines): # index starts at 0, labeledBow.feat starts at 1\n",
        "      tokenizedLine = line.split()\n",
        "      sentiment = int(tokenizedLine[0])\n",
        "\n",
        "      for i in range(1, len(tokenizedLine)):\n",
        "        splitToken = tokenizedLine[i].split(\":\")\n",
        "        wordNumber = int(splitToken[0])\n",
        "        wordFreq = int(splitToken[1])\n",
        "\n",
        "        if wordNumber in indexWordNames:\n",
        "          column = indexWordNames.index(wordNumber)\n",
        "          data[row][column] = wordFreq\n",
        "      data[row][-1] = 1 if sentiment > 4 else 0 \n",
        "    df = pd.DataFrame(data, columns=wordNames)\n",
        "    df[wordNames] = df[wordNames].astype(int)\n",
        "    data = data.astype(int)\n",
        "\n",
        "  return df, data\n",
        "\n",
        "def filter(z_scores, maxVal, minVal):\n",
        "  colsToKeep = []\n",
        "  colsToRemove = []\n",
        "\n",
        "  for index, z_score in enumerate(z_scores):\n",
        "    if minVal <= z_score and z_score <= maxVal:\n",
        "      colsToRemove.append(index)\n",
        "    else:\n",
        "      colsToKeep.append(index)\n",
        "\n",
        "  return colsToKeep, colsToRemove\n",
        "\n",
        "def removeColumns(data, colsToKeep):\n",
        "  filteredData = data[:, colsToKeep]\n",
        "\n",
        "  return filteredData\n",
        "\n",
        "def get_X_y(X_y_data):\n",
        "  numRows, numCols = np.shape(X_y_data)\n",
        "  X = X_y_data[:, 0: numCols-1]\n",
        "  y = X_y_data[:, numCols-1]\n",
        "  return X, y"
      ]
    },
    {
      "cell_type": "code",
      "execution_count": null,
      "metadata": {
        "id": "X-zj95nimuQm"
      },
      "outputs": [],
      "source": [
        "# Create Train dataframe/numpy\n",
        "vocabList = create_vocab_list(vocabFile)\n",
        "totalFiles, wordFrequencies = count_word_frequencies([testDir, trainDir], vocabList)\n",
        "popularWordsList = find_popular_words(wordFrequencies, totalFiles)\n",
        "excludedStopWordsList = remove_stop_words(popularWordsList)\n",
        "excludedContractions = remove_word_contractions(excludedStopWordsList)\n",
        "index_word_tuples = create_index_word_tuples(vocabFile, excludedContractions)"
      ]
    },
    {
      "cell_type": "code",
      "execution_count": null,
      "metadata": {
        "colab": {
          "base_uri": "https://localhost:8080/"
        },
        "id": "dhpqedct1m9H",
        "outputId": "d6bfc292-af70-48bb-c379-842b69c891e9"
      },
      "outputs": [
        {
          "output_type": "stream",
          "name": "stdout",
          "text": [
            "(25000, 1300)\n",
            "['film', 'like', 'good', 'even', 'time', 'would', 'story', 'really', 'see', 'well', 'much', 'get', 'people', 'bad', 'also', 'great', 'first', 'made', 'way', 'make', 'could', 'movies', 'think', 'characters', 'character', 'watch', 'films', 'two', 'many', 'seen', 'acting', 'never', 'plot', 'little', 'love', 'best', 'life', 'show', 'know', 'ever', 'better', 'man', 'still', 'end', 'say', 'scene', 'scenes', 'go', 'something', 'back', 'watching', 'real', 'though', 'thing', 'years', 'actors', 'director', 'another', 'nothing', 'new', 'funny', 'actually', 'work', 'makes', 'find', 'look', 'old', 'going', 'lot', 'part', 'every', 'cast', 'us', 'world', 'quite', 'want', 'things', 'pretty', 'young', 'seems', 'around', 'got', 'however', 'fact', 'horror', 'take', 'enough', 'may', 'give', 'original', 'big', 'thought', 'series', 'without', 'right', 'times', 'long', 'always', 'gets', 'action', 'comedy', 'family', 'come', 'point', 'role', 'saw', 'interesting', 'almost', 'least', 'whole', 'must', 'bit', 'music', 'script', 'done', 'guy', 'anything', 'minutes', 'last', 'since', 'might', 'performance', 'far', 'feel', 'probably', 'woman', 'kind', 'girl', 'away', 'yet', 'rather', 'worst', 'sure', 'fun', 'anyone', 'making', 'played', 'tv', 'found', 'day', 'although', 'especially', 'course', 'believe', 'comes', 'trying', 'goes', 'hard', 'looks', 'different', 'place', 'book', 'actor', 'put', 'maybe', 'money', 'someone', 'ending', 'reason', 'let', 'everything', 'sense', 'shows', 'screen', 'dvd', 'true', 'set', 'worth', 'job', 'main', 'looking', 'watched', 'everyone', 'together', 'three', 'plays', 'john', 'later', 'said', 'play', 'instead', 'audience', 'seem', 'beautiful', 'takes', 'effects', 'version', 'left', 'night', 'house', 'seeing', 'wife', 'special', 'excellent', 'father', 'american', 'idea', 'else', 'nice', 'shot', 'simply', 'year', 'read', 'black', 'high', 'less', 'war', 'star', 'completely', 'help', 'fan', 'poor', 'death', 'second', 'men', 'hollywood', 'either', 'mind', 'used', 'given', 'home', 'kids', 'try', 'performances', 'women', 'enjoy', 'classic', 'boring', 'short', 'wrong', 'need', 'rest', 'use', 'friends', 'along', 'dead', 'truly', 'half', 'production', 'line', 'tell', 'couple', 'remember', 'next', 'start', 'stupid', 'perhaps', 'came', 'recommend', 'moments', 'awful', 'wonderful', 'episode', 'mean', 'understand', 'terrible', 'full', 'camera', 'getting', 'stars', 'playing', 'video', 'keep', 'sex', 'others', 'early', 'often', 'small', 'definitely', 'gives', 'person', 'school', 'face', 'perfect', 'name', 'become', 'human', 'lines', 'yes', 'finally', 'dialogue', 'lost', 'felt', 'case', 'piece', 'top', 'liked', 'supposed', 'children', 'title', 'absolutely', 'head', 'budget', 'mother', 'live', 'written', 'boy', 'picture', 'cinema', 'went', 'worse', 'certainly', 'entire', 'sort', 'style', 'waste', 'problem', 'hope', 'entertaining', 'overall', 'friend', 'killer', 'evil', 'several', 'loved', 'fans', 'oh', 'beginning', 'white', 'lives', 'care', 'becomes', 'direction', 'example', 'already', 'based', 'drama', 'despite', 'seemed', 'dark', 'throughout', 'unfortunately', 'wanted', 'final', 'history', 'amazing', 'turn', 'fine', 'laugh', 'michael', 'son', 'humor', 'guess', 'totally', 'lead', 'sound', 'guys', 'writing', 'wants', 'low', 'works', 'tries', 'called', 'past', 'viewer', 'quality', 'child', 'days', 'behind', 'game', 'turns', 'enjoyed', 'today', 'able', 'act', 'town', 'favorite', 'kill', 'flick', 'starts', 'gave', 'actress', 'sometimes', 'eyes', 'side', 'horrible', 'girls', 'genre', 'soon', 'car', 'brilliant', 'parts', 'art', 'heart', 'expect', 'kid', 'stuff', 'stories', 'thinking', 'city', 'obviously', 'directed', 'late', 'blood', 'decent', 'feeling', 'run', 'highly', 'god', 'except', 'close', 'fight', 'hand', 'roles', 'daughter', 'killed', 'moment', 'says', 'heard', 'leave', 'matter', 'took', 'cannot', 'police', 'happens', 'brother', 'hour', 'violence', 'happened', 'strong', 'particularly', 'james', 'extremely', 'involved', 'chance', 'writer', 'obvious', 'experience', 'lack', 'including', 'told', 'alone', 'attempt', 'murder', 'living', 'happen', 'please', 'age', 'wonder', 'complete', 'ago', 'voice', 'group', 'score', 'david', 'coming', 'interest', 'save', 'none', 'ok', 'crap', 'type', 'looked', 'simple', 'slow', 'possible', 'number', 'seriously', 'hell', 'gore', 'exactly', 'shown', 'king', 'hero', 'annoying', 'song', 'husband', 'sad', 'whose', 'career', 'cinematography', 'taken', 'musical', 'ends', 'usually', 'serious', 'stop', 'hours', 'scary', 'released', 'across', 'hilarious', 'running', 'reality', 'relationship', 'usual', 'ridiculous', 'known', 'hit', 'opening', 'somewhat', 'started', 'opinion', 'jokes', 'novel', 'cool', 'change', 'robert', 'wish', 'ones', 'body', 'finds', 'order', 'saying', 'english', 'huge', 'cut', 'shots', 'episodes', 'mostly', 'taking', 'female', 'talking', 'strange', 'major', 'view', 'power', 'happy', 'documentary', 'apparently', 'rating', 'disappointed', 'level', 'talent', 'call', 'country', 'jack', 'due', 'events', 'room', 'important', 'songs', 'basically', 'clearly', 'knows', 'knew', 'supporting', 'attention', 'television', 'future', 'turned', 'paul', 'easily', 'problems', 'silly', 'british', 'word', 'tells', 'earth', 'words', 'local', 'single', 'light', 'four', 'cheap', 'sequence', 'bring', 'entertainment', 'thriller', 'beyond', 'george', 'miss', 'modern', 'whether', 'b', 'predictable', 'falls', 'five', 'sets', 'similar', 'review', 'richard', 'needs', 'upon', 'lady', 'enjoyable', 'appears', 'romantic', 'comic', 'giving', 'mystery', 'talk', 'rock', 'message', 'animation', 'within', 'theater', 'sequel', 'bunch', 'mention', 'feels', 'nearly', 'points', 'theme', 'lee', 'dull', 'add', 'york', 'ways', 'moving', 'storyline', 'ten', 'surprised', 'lots', 'team', 'begins', 'middle', 'using', 'fantastic', 'actual', 'sister', 'effort', 'viewers', 'named', 'among', 'elements', 'easy', 'stay', 'tom', 'comments', 'avoid', 'showing', 'typical', 'release', 'clear', 'hate', 'tried', 'peter', 'sorry', 'french', 'dialog', 'editing', 'tale', 'certain', 'season', 'soundtrack', 'buy', 'fall', 'general', 'near', 'means', 'famous', 'check', 'parents', 'red', 'somehow', 'material', 'oscar', 'period', 'form', 'straight', 'weak', 'working', 'doubt', 'class', 'leads', 'filmed', 'gone', 'kept', 'greatest', 'figure', 'viewing', 'feature', 'disney', 'eye', 'realistic', 'brought', 'imagine', 'hear', 'atmosphere', 'fast', 'particular', 'suspense', 'lame', 'move', 'whatever', 'sequences', 'america', 'follow', 'indeed', 'die', 'crime', 'learn', 'eventually', 'reviews', 'wait', 'forget', 'deal', 'dance', 'space', 'premise', 'surprise', 'believable', 'nature', 'possibly', 'third', 'decided', 'subject', 'expected', 'de', 'japanese', 'became', 'truth', 'imdb', 'sexual', 'average', 'stand', 'difficult', 'screenplay', 'romance', 'sit', 'poorly', 'rent', 'joe', 'leaves', 'question', 'stage', 'note', 'begin', 'killing', 'needed', 'reading', 'unless', 'baby', 'superb', 'directors', 'society', 'otherwise', 'shame', 'meet', 'street', 'situation', 'meets', 'memorable', 'dog', 'credits', 'earlier', 'forced', 'weird', 'minute', 'older', 'laughs', 'realize', 'emotional', 'beauty', 'writers', 'comment', 'footage', 'write', 'ask', 'badly', 'interested', 'dramatic', 'sounds', 'hot', 'keeps', 'features', 'directing', 'mess', 'development', 'crazy', 'quickly', 'male', 'mark', 'towards', 'creepy', 'free', 'monster', 'perfectly', 'result', 'total', 'plus', 'previous', 'brings', 'unique', 'plenty', 'worked', 'cheesy', 'effect', 'personal', 'incredibly', 'hands', 'bill', 'fantasy', 'return', 'dream', 'apart', 'deep', 'setting', 'admit', 'open', 'appear', 'background', 'leading', 'doctor', 'casting', 'hardly', 'meant', 'ben', 'potential', 'boys', 'powerful', 'business', 'masterpiece', 'fails', 'battle', 'joke', 'create', 'various', 'forward', 'fire', 'inside', 'outside', 'portrayed', 'girlfriend', 'ideas', 'twist', 'william', 'missing', 'nudity', 'reasons', 'villain', 'dumb', 'political', 'deserves', 'match', 'secret', 'expecting', 'air', 'fairly', 'present', 'gay', 'fighting', 'unlike', 'married', 'manages', 'break', 'scott', 'success', 'attempts', 'western', 'acted', 'remake', 'pay', 'box', 'recently', 'rich', 'front', 'cute', 'cop', 'sadly', 'era', 'copy', 'agree', 'talented', 'telling', 'filmmakers', 'following', 'public', 'crew', 'incredible', 'missed', 'wasted', 'pure', 'plain', 'brothers', 'odd', 'caught', 'flat', 'social', 'mentioned', 'pace', 'ended', 'decides', 'considering', 'waiting', 'members', 'large', 'list', 'sweet', 'revenge', 'popular', 'uses', 'hold', 'slightly', 'office', 'compared', 'neither', 'wrote', 'escape', 'sees', 'suddenly', 'party', 'spirit', 'tension', 'convincing', 'created', 'fear', 'spent', 'rate', 'cause', 'entirely', 'island', 'cartoon', 'intelligent', 'credit', 'clever', 'choice', 'water', 'kills', 'bored', 'familiar', 'moves', 'laughing', 'gun', 'visual', 'successful', 'ultimately', 'basic', 'band', 'trouble', 'la', 'concept', 'value', 'biggest', 'positive', 'singing', 'consider', 'exciting', 'dancing', 'company', 'died', 'recent', 'state', 'language', 'effective', 'science', 'cover', 'spend', 'portrayal', 'violent', 'cold', 'appreciate', 'produced', 'speak', 'pointless', 'former', 'studio', 'amusing', 'adult', 'common', 'filled', 'younger', 'store', 'walk', 'follows', 'focus', 'solid', 'bizarre', 'italian', 'impressive', 'animated', 'impossible', 'german', 'amount', 'tone', 'century', 'adventure', 'producers', 'showed', 'fit', 'van', 'depth', 'runs', 'situations', 'chemistry', 'project', 'jim', 'respect', 'awesome', 'control', 'hair', 'considered', 'win', 'force', 'decide', 'college', 'trip', 'disturbing', 'somewhere', 'mad', 'failed', 'changed', 'leaving', 'questions', 'longer', 'steve', 'audiences', 'barely', 'aside', 'honest', 'sick', 'shooting', 'images', 'thanks', 'charming', 'starring', 'generally', 'pathetic', 'literally', 'values', 'culture', 'likes', 'fake', 'surprisingly', 'touch', 'magic', 'involving', 'immediately', 'south', 'frank', 'natural', 'utterly', 'bought', 'honestly', 'adaptation', 'sam', 'aspect', 'pictures', 'ability', 'detective', 'nobody', 'glad', 'explain', 'fair', 'computer', 'appearance', 'sitting', 'cult', 'attack', 'master', 'meaning', 'personally', 'stick', 'normal', 'army', 'appeal', 'knowing', 'tough', 'remains', 'humour', 'military', 'nowhere', 'journey', 'added', 'rare', 'thinks', 'thank', 'purpose', 'touching', 'catch', 'taste', 'terms', 'chase', 'beautifully', 'channel', 'walking', 'sexy', 'terrific', 'twists', 'silent', 'standard', 'equally', 'naked', 'mood', 'subtle', 'managed', 'complex', 'pick', 'themes', 'road', 'lovely', 'narrative', 'wild', 'likely', 'brain', 'costumes', 'thus', 'plan', 'issues', 'excuse', 'outstanding', 'painful', 'producer', 'surely', 'constantly', 'christopher', 'government', 'fully', 'self', 'edge', 'presented', 'victim', 'cinematic', 'contains', 'places', 'central', 'details', 'innocent', 'presence', 'climax', 'everybody', 'slowly', 'besides', 'pass', 'charles', 'hoping', 'historical', 'stunning', 'photography', 'impression', 'loves', 'gang', 'thrown', 'mysterious', 'bottom', 'shoot', 'minor', 'makers', 'critics', 'aspects', 'stands', 'indian', 'suppose', 'scenery', 'train', 'bother', 'feelings', 'sent', 'heavy', 'support', 'opportunity', 'award', 'brief', 'element', 'filming', 'mainly', 'ahead', 'fascinating', 'blue', 'rated', 'acts', 'pieces', 'emotions', 'available', 'intended', 'building', 'names', 'throw', 'track', 'compelling', 'changes', 'drawn', 'puts', 'green', 'falling', 'student', 'smart', 'offer', 'speaking', 'tired', 'suggest', 'include', 'difference', 'confused', 'followed', 'approach', 'giant', 'motion', 'appeared', 'developed', 'image', 'gorgeous', 'laughed', 'notice', 'share', 'lacks', 'fresh', 'fellow', 'supposedly', 'moral', 'million', 'answer', 'mediocre', 'helps', 'funniest', 'drive', 'merely', 'proves', 'wondering', 'random', 'mix', 'delivers', 'finding', 'creative', 'putting', 'key', 'damn', 'drug', 'shock', 'impressed', 'absolute', 'lived', 'negative', 'paid', 'thoroughly', 'provides', 'becoming', 'seemingly', 'reminded', 'fell', 'offers', 'thats', 'tragic', 'faces', 'afraid', 'intense', 'six', 'spot', 'stuck', 'lose', 'beat', 'adds', 'held', 'rented', 'artistic', 'turning', 'pull', 'information', 'location', 'super', 'listen', 'describe', 'lets', 'favourite', 'deliver', 'asks', 'ready', 'onto', 'picked', 'inspired', 'led', 'redeeming', 'compare', 'allowed', 'member', 'carry', 'helped', 'wonderfully', 'moved', 'teenage', 'includes', 'deeply', 'willing', 'began', 'direct', 'quick', 'professional', 'worthy', 'rarely', 'comedic', 'independent', 'realized', 'apparent', 'allow', 'wearing', 'returns', 'continue', 'physical', 'provide', 'accept', 'search', 'wanting', 'reminds', 'holds', 'build', 'asked', 'extra', 'blame', 'sat', 'deserve', 'gotten', 'teen', 'starting', 'creating', 'keeping', 'manage', 'discover', 'learned']\n"
          ]
        },
        {
          "output_type": "execute_result",
          "data": {
            "text/plain": [
              "       film  like  good  even  time  would  story  really  see  well  ...  \\\n",
              "0         0     0     0     2     0      1      0       2    0     1  ...   \n",
              "1         1     2     0     0     0      0      0       0    0     0  ...   \n",
              "2         0     0     1     0     0      0      0       0    0     0  ...   \n",
              "3         0     0     1     0     0      0      0       0    0     0  ...   \n",
              "4         2     0     2     0     0      0      1       0    0     1  ...   \n",
              "...     ...   ...   ...   ...   ...    ...    ...     ...  ...   ...  ...   \n",
              "24995     2     2     1     4     0      2      1       3    0     1  ...   \n",
              "24996     2     0     0     0     0      0      2       0    1     0  ...   \n",
              "24997     3     1     0     0     0      0      0       2    1     2  ...   \n",
              "24998     1     0     0     0     0      0      1       0    0     1  ...   \n",
              "24999     1     1     2     0     1      1      0       1    0     1  ...   \n",
              "\n",
              "       deserve  gotten  teen  starting  creating  keeping  manage  discover  \\\n",
              "0            0       0     0         0         0        0       0         0   \n",
              "1            0       0     0         0         0        0       0         0   \n",
              "2            0       0     0         0         0        0       0         0   \n",
              "3            0       0     0         0         0        0       0         0   \n",
              "4            0       0     0         0         0        0       0         0   \n",
              "...        ...     ...   ...       ...       ...      ...     ...       ...   \n",
              "24995        0       0     0         0         1        0       0         0   \n",
              "24996        0       0     0         0         0        0       0         0   \n",
              "24997        1       0     0         0         0        0       0         0   \n",
              "24998        0       0     0         0         0        0       0         0   \n",
              "24999        0       0     0         0         0        0       0         0   \n",
              "\n",
              "       learned  label  \n",
              "0            0      1  \n",
              "1            0      1  \n",
              "2            0      1  \n",
              "3            0      1  \n",
              "4            0      1  \n",
              "...        ...    ...  \n",
              "24995        0      0  \n",
              "24996        0      0  \n",
              "24997        0      0  \n",
              "24998        0      0  \n",
              "24999        0      0  \n",
              "\n",
              "[25000 rows x 1300 columns]"
            ],
            "text/html": [
              "\n",
              "  <div id=\"df-2174f835-31b8-4abf-966b-9d9006cffe9c\">\n",
              "    <div class=\"colab-df-container\">\n",
              "      <div>\n",
              "<style scoped>\n",
              "    .dataframe tbody tr th:only-of-type {\n",
              "        vertical-align: middle;\n",
              "    }\n",
              "\n",
              "    .dataframe tbody tr th {\n",
              "        vertical-align: top;\n",
              "    }\n",
              "\n",
              "    .dataframe thead th {\n",
              "        text-align: right;\n",
              "    }\n",
              "</style>\n",
              "<table border=\"1\" class=\"dataframe\">\n",
              "  <thead>\n",
              "    <tr style=\"text-align: right;\">\n",
              "      <th></th>\n",
              "      <th>film</th>\n",
              "      <th>like</th>\n",
              "      <th>good</th>\n",
              "      <th>even</th>\n",
              "      <th>time</th>\n",
              "      <th>would</th>\n",
              "      <th>story</th>\n",
              "      <th>really</th>\n",
              "      <th>see</th>\n",
              "      <th>well</th>\n",
              "      <th>...</th>\n",
              "      <th>deserve</th>\n",
              "      <th>gotten</th>\n",
              "      <th>teen</th>\n",
              "      <th>starting</th>\n",
              "      <th>creating</th>\n",
              "      <th>keeping</th>\n",
              "      <th>manage</th>\n",
              "      <th>discover</th>\n",
              "      <th>learned</th>\n",
              "      <th>label</th>\n",
              "    </tr>\n",
              "  </thead>\n",
              "  <tbody>\n",
              "    <tr>\n",
              "      <th>0</th>\n",
              "      <td>0</td>\n",
              "      <td>0</td>\n",
              "      <td>0</td>\n",
              "      <td>2</td>\n",
              "      <td>0</td>\n",
              "      <td>1</td>\n",
              "      <td>0</td>\n",
              "      <td>2</td>\n",
              "      <td>0</td>\n",
              "      <td>1</td>\n",
              "      <td>...</td>\n",
              "      <td>0</td>\n",
              "      <td>0</td>\n",
              "      <td>0</td>\n",
              "      <td>0</td>\n",
              "      <td>0</td>\n",
              "      <td>0</td>\n",
              "      <td>0</td>\n",
              "      <td>0</td>\n",
              "      <td>0</td>\n",
              "      <td>1</td>\n",
              "    </tr>\n",
              "    <tr>\n",
              "      <th>1</th>\n",
              "      <td>1</td>\n",
              "      <td>2</td>\n",
              "      <td>0</td>\n",
              "      <td>0</td>\n",
              "      <td>0</td>\n",
              "      <td>0</td>\n",
              "      <td>0</td>\n",
              "      <td>0</td>\n",
              "      <td>0</td>\n",
              "      <td>0</td>\n",
              "      <td>...</td>\n",
              "      <td>0</td>\n",
              "      <td>0</td>\n",
              "      <td>0</td>\n",
              "      <td>0</td>\n",
              "      <td>0</td>\n",
              "      <td>0</td>\n",
              "      <td>0</td>\n",
              "      <td>0</td>\n",
              "      <td>0</td>\n",
              "      <td>1</td>\n",
              "    </tr>\n",
              "    <tr>\n",
              "      <th>2</th>\n",
              "      <td>0</td>\n",
              "      <td>0</td>\n",
              "      <td>1</td>\n",
              "      <td>0</td>\n",
              "      <td>0</td>\n",
              "      <td>0</td>\n",
              "      <td>0</td>\n",
              "      <td>0</td>\n",
              "      <td>0</td>\n",
              "      <td>0</td>\n",
              "      <td>...</td>\n",
              "      <td>0</td>\n",
              "      <td>0</td>\n",
              "      <td>0</td>\n",
              "      <td>0</td>\n",
              "      <td>0</td>\n",
              "      <td>0</td>\n",
              "      <td>0</td>\n",
              "      <td>0</td>\n",
              "      <td>0</td>\n",
              "      <td>1</td>\n",
              "    </tr>\n",
              "    <tr>\n",
              "      <th>3</th>\n",
              "      <td>0</td>\n",
              "      <td>0</td>\n",
              "      <td>1</td>\n",
              "      <td>0</td>\n",
              "      <td>0</td>\n",
              "      <td>0</td>\n",
              "      <td>0</td>\n",
              "      <td>0</td>\n",
              "      <td>0</td>\n",
              "      <td>0</td>\n",
              "      <td>...</td>\n",
              "      <td>0</td>\n",
              "      <td>0</td>\n",
              "      <td>0</td>\n",
              "      <td>0</td>\n",
              "      <td>0</td>\n",
              "      <td>0</td>\n",
              "      <td>0</td>\n",
              "      <td>0</td>\n",
              "      <td>0</td>\n",
              "      <td>1</td>\n",
              "    </tr>\n",
              "    <tr>\n",
              "      <th>4</th>\n",
              "      <td>2</td>\n",
              "      <td>0</td>\n",
              "      <td>2</td>\n",
              "      <td>0</td>\n",
              "      <td>0</td>\n",
              "      <td>0</td>\n",
              "      <td>1</td>\n",
              "      <td>0</td>\n",
              "      <td>0</td>\n",
              "      <td>1</td>\n",
              "      <td>...</td>\n",
              "      <td>0</td>\n",
              "      <td>0</td>\n",
              "      <td>0</td>\n",
              "      <td>0</td>\n",
              "      <td>0</td>\n",
              "      <td>0</td>\n",
              "      <td>0</td>\n",
              "      <td>0</td>\n",
              "      <td>0</td>\n",
              "      <td>1</td>\n",
              "    </tr>\n",
              "    <tr>\n",
              "      <th>...</th>\n",
              "      <td>...</td>\n",
              "      <td>...</td>\n",
              "      <td>...</td>\n",
              "      <td>...</td>\n",
              "      <td>...</td>\n",
              "      <td>...</td>\n",
              "      <td>...</td>\n",
              "      <td>...</td>\n",
              "      <td>...</td>\n",
              "      <td>...</td>\n",
              "      <td>...</td>\n",
              "      <td>...</td>\n",
              "      <td>...</td>\n",
              "      <td>...</td>\n",
              "      <td>...</td>\n",
              "      <td>...</td>\n",
              "      <td>...</td>\n",
              "      <td>...</td>\n",
              "      <td>...</td>\n",
              "      <td>...</td>\n",
              "      <td>...</td>\n",
              "    </tr>\n",
              "    <tr>\n",
              "      <th>24995</th>\n",
              "      <td>2</td>\n",
              "      <td>2</td>\n",
              "      <td>1</td>\n",
              "      <td>4</td>\n",
              "      <td>0</td>\n",
              "      <td>2</td>\n",
              "      <td>1</td>\n",
              "      <td>3</td>\n",
              "      <td>0</td>\n",
              "      <td>1</td>\n",
              "      <td>...</td>\n",
              "      <td>0</td>\n",
              "      <td>0</td>\n",
              "      <td>0</td>\n",
              "      <td>0</td>\n",
              "      <td>1</td>\n",
              "      <td>0</td>\n",
              "      <td>0</td>\n",
              "      <td>0</td>\n",
              "      <td>0</td>\n",
              "      <td>0</td>\n",
              "    </tr>\n",
              "    <tr>\n",
              "      <th>24996</th>\n",
              "      <td>2</td>\n",
              "      <td>0</td>\n",
              "      <td>0</td>\n",
              "      <td>0</td>\n",
              "      <td>0</td>\n",
              "      <td>0</td>\n",
              "      <td>2</td>\n",
              "      <td>0</td>\n",
              "      <td>1</td>\n",
              "      <td>0</td>\n",
              "      <td>...</td>\n",
              "      <td>0</td>\n",
              "      <td>0</td>\n",
              "      <td>0</td>\n",
              "      <td>0</td>\n",
              "      <td>0</td>\n",
              "      <td>0</td>\n",
              "      <td>0</td>\n",
              "      <td>0</td>\n",
              "      <td>0</td>\n",
              "      <td>0</td>\n",
              "    </tr>\n",
              "    <tr>\n",
              "      <th>24997</th>\n",
              "      <td>3</td>\n",
              "      <td>1</td>\n",
              "      <td>0</td>\n",
              "      <td>0</td>\n",
              "      <td>0</td>\n",
              "      <td>0</td>\n",
              "      <td>0</td>\n",
              "      <td>2</td>\n",
              "      <td>1</td>\n",
              "      <td>2</td>\n",
              "      <td>...</td>\n",
              "      <td>1</td>\n",
              "      <td>0</td>\n",
              "      <td>0</td>\n",
              "      <td>0</td>\n",
              "      <td>0</td>\n",
              "      <td>0</td>\n",
              "      <td>0</td>\n",
              "      <td>0</td>\n",
              "      <td>0</td>\n",
              "      <td>0</td>\n",
              "    </tr>\n",
              "    <tr>\n",
              "      <th>24998</th>\n",
              "      <td>1</td>\n",
              "      <td>0</td>\n",
              "      <td>0</td>\n",
              "      <td>0</td>\n",
              "      <td>0</td>\n",
              "      <td>0</td>\n",
              "      <td>1</td>\n",
              "      <td>0</td>\n",
              "      <td>0</td>\n",
              "      <td>1</td>\n",
              "      <td>...</td>\n",
              "      <td>0</td>\n",
              "      <td>0</td>\n",
              "      <td>0</td>\n",
              "      <td>0</td>\n",
              "      <td>0</td>\n",
              "      <td>0</td>\n",
              "      <td>0</td>\n",
              "      <td>0</td>\n",
              "      <td>0</td>\n",
              "      <td>0</td>\n",
              "    </tr>\n",
              "    <tr>\n",
              "      <th>24999</th>\n",
              "      <td>1</td>\n",
              "      <td>1</td>\n",
              "      <td>2</td>\n",
              "      <td>0</td>\n",
              "      <td>1</td>\n",
              "      <td>1</td>\n",
              "      <td>0</td>\n",
              "      <td>1</td>\n",
              "      <td>0</td>\n",
              "      <td>1</td>\n",
              "      <td>...</td>\n",
              "      <td>0</td>\n",
              "      <td>0</td>\n",
              "      <td>0</td>\n",
              "      <td>0</td>\n",
              "      <td>0</td>\n",
              "      <td>0</td>\n",
              "      <td>0</td>\n",
              "      <td>0</td>\n",
              "      <td>0</td>\n",
              "      <td>0</td>\n",
              "    </tr>\n",
              "  </tbody>\n",
              "</table>\n",
              "<p>25000 rows × 1300 columns</p>\n",
              "</div>\n",
              "      <button class=\"colab-df-convert\" onclick=\"convertToInteractive('df-2174f835-31b8-4abf-966b-9d9006cffe9c')\"\n",
              "              title=\"Convert this dataframe to an interactive table.\"\n",
              "              style=\"display:none;\">\n",
              "        \n",
              "  <svg xmlns=\"http://www.w3.org/2000/svg\" height=\"24px\"viewBox=\"0 0 24 24\"\n",
              "       width=\"24px\">\n",
              "    <path d=\"M0 0h24v24H0V0z\" fill=\"none\"/>\n",
              "    <path d=\"M18.56 5.44l.94 2.06.94-2.06 2.06-.94-2.06-.94-.94-2.06-.94 2.06-2.06.94zm-11 1L8.5 8.5l.94-2.06 2.06-.94-2.06-.94L8.5 2.5l-.94 2.06-2.06.94zm10 10l.94 2.06.94-2.06 2.06-.94-2.06-.94-.94-2.06-.94 2.06-2.06.94z\"/><path d=\"M17.41 7.96l-1.37-1.37c-.4-.4-.92-.59-1.43-.59-.52 0-1.04.2-1.43.59L10.3 9.45l-7.72 7.72c-.78.78-.78 2.05 0 2.83L4 21.41c.39.39.9.59 1.41.59.51 0 1.02-.2 1.41-.59l7.78-7.78 2.81-2.81c.8-.78.8-2.07 0-2.86zM5.41 20L4 18.59l7.72-7.72 1.47 1.35L5.41 20z\"/>\n",
              "  </svg>\n",
              "      </button>\n",
              "      \n",
              "  <style>\n",
              "    .colab-df-container {\n",
              "      display:flex;\n",
              "      flex-wrap:wrap;\n",
              "      gap: 12px;\n",
              "    }\n",
              "\n",
              "    .colab-df-convert {\n",
              "      background-color: #E8F0FE;\n",
              "      border: none;\n",
              "      border-radius: 50%;\n",
              "      cursor: pointer;\n",
              "      display: none;\n",
              "      fill: #1967D2;\n",
              "      height: 32px;\n",
              "      padding: 0 0 0 0;\n",
              "      width: 32px;\n",
              "    }\n",
              "\n",
              "    .colab-df-convert:hover {\n",
              "      background-color: #E2EBFA;\n",
              "      box-shadow: 0px 1px 2px rgba(60, 64, 67, 0.3), 0px 1px 3px 1px rgba(60, 64, 67, 0.15);\n",
              "      fill: #174EA6;\n",
              "    }\n",
              "\n",
              "    [theme=dark] .colab-df-convert {\n",
              "      background-color: #3B4455;\n",
              "      fill: #D2E3FC;\n",
              "    }\n",
              "\n",
              "    [theme=dark] .colab-df-convert:hover {\n",
              "      background-color: #434B5C;\n",
              "      box-shadow: 0px 1px 3px 1px rgba(0, 0, 0, 0.15);\n",
              "      filter: drop-shadow(0px 1px 2px rgba(0, 0, 0, 0.3));\n",
              "      fill: #FFFFFF;\n",
              "    }\n",
              "  </style>\n",
              "\n",
              "      <script>\n",
              "        const buttonEl =\n",
              "          document.querySelector('#df-2174f835-31b8-4abf-966b-9d9006cffe9c button.colab-df-convert');\n",
              "        buttonEl.style.display =\n",
              "          google.colab.kernel.accessAllowed ? 'block' : 'none';\n",
              "\n",
              "        async function convertToInteractive(key) {\n",
              "          const element = document.querySelector('#df-2174f835-31b8-4abf-966b-9d9006cffe9c');\n",
              "          const dataTable =\n",
              "            await google.colab.kernel.invokeFunction('convertToInteractive',\n",
              "                                                     [key], {});\n",
              "          if (!dataTable) return;\n",
              "\n",
              "          const docLinkHtml = 'Like what you see? Visit the ' +\n",
              "            '<a target=\"_blank\" href=https://colab.research.google.com/notebooks/data_table.ipynb>data table notebook</a>'\n",
              "            + ' to learn more about interactive tables.';\n",
              "          element.innerHTML = '';\n",
              "          dataTable['output_type'] = 'display_data';\n",
              "          await google.colab.output.renderOutput(dataTable, element);\n",
              "          const docLink = document.createElement('div');\n",
              "          docLink.innerHTML = docLinkHtml;\n",
              "          element.appendChild(docLink);\n",
              "        }\n",
              "      </script>\n",
              "    </div>\n",
              "  </div>\n",
              "  "
            ]
          },
          "metadata": {},
          "execution_count": 255
        }
      ],
      "source": [
        "# Initial train dataset (no feature filtering) \n",
        "train_df_imdb, train_numpy_data_imdb = create_df(index_word_tuples, reviewWordFrequenciesTrain, excludedContractions)\n",
        "print(train_numpy_data_imdb.shape)\n",
        "initialFeatures = train_df_imdb.columns.tolist()\n",
        "initialFeatures.pop()\n",
        "print(initialFeatures)\n",
        "train_df_imdb"
      ]
    },
    {
      "cell_type": "code",
      "execution_count": null,
      "metadata": {
        "colab": {
          "base_uri": "https://localhost:8080/"
        },
        "id": "SVbBtVnD1nVR",
        "outputId": "2a805671-41a7-42e3-8ce6-726494b33630"
      },
      "outputs": [
        {
          "output_type": "stream",
          "name": "stdout",
          "text": [
            "(25000, 1300)\n"
          ]
        },
        {
          "output_type": "execute_result",
          "data": {
            "text/plain": [
              "       film  like  good  even  time  would  story  really  see  well  ...  \\\n",
              "0         0     0     0     0     0      1      0       0    0     0  ...   \n",
              "1         0     0     1     2     3      0      4       0    0     0  ...   \n",
              "2         2     0     0     2     0      0      0       1    1     0  ...   \n",
              "3         2     2     0     0     0      0      0       2    2     3  ...   \n",
              "4         0     0     0     0     0      0      0       0    0     0  ...   \n",
              "...     ...   ...   ...   ...   ...    ...    ...     ...  ...   ...  ...   \n",
              "24995     1     4     1     1     0      3      0       0    0     1  ...   \n",
              "24996     2     0     0     0     0      0      0       0    1     0  ...   \n",
              "24997     3     0     0     0     0      2      0       0    0     0  ...   \n",
              "24998     0     0     0     1     0      1      1       0    0     0  ...   \n",
              "24999     0     0     1     0     0      0      1       0    1     0  ...   \n",
              "\n",
              "       deserve  gotten  teen  starting  creating  keeping  manage  discover  \\\n",
              "0            0       0     0         0         0        0       0         0   \n",
              "1            0       0     0         0         0        0       0         0   \n",
              "2            0       0     0         0         0        0       0         0   \n",
              "3            0       0     0         0         0        0       0         0   \n",
              "4            0       0     0         0         0        0       0         0   \n",
              "...        ...     ...   ...       ...       ...      ...     ...       ...   \n",
              "24995        0       0     0         0         0        0       0         0   \n",
              "24996        0       0     0         0         0        0       0         0   \n",
              "24997        0       0     0         0         0        0       0         0   \n",
              "24998        0       0     0         0         0        0       0         0   \n",
              "24999        0       0     0         0         0        0       0         0   \n",
              "\n",
              "       learned  label  \n",
              "0            0      1  \n",
              "1            0      1  \n",
              "2            0      1  \n",
              "3            0      1  \n",
              "4            0      1  \n",
              "...        ...    ...  \n",
              "24995        0      0  \n",
              "24996        0      0  \n",
              "24997        0      0  \n",
              "24998        0      0  \n",
              "24999        0      0  \n",
              "\n",
              "[25000 rows x 1300 columns]"
            ],
            "text/html": [
              "\n",
              "  <div id=\"df-fc3075d9-fbaa-44ef-acb8-8cd742edbd44\">\n",
              "    <div class=\"colab-df-container\">\n",
              "      <div>\n",
              "<style scoped>\n",
              "    .dataframe tbody tr th:only-of-type {\n",
              "        vertical-align: middle;\n",
              "    }\n",
              "\n",
              "    .dataframe tbody tr th {\n",
              "        vertical-align: top;\n",
              "    }\n",
              "\n",
              "    .dataframe thead th {\n",
              "        text-align: right;\n",
              "    }\n",
              "</style>\n",
              "<table border=\"1\" class=\"dataframe\">\n",
              "  <thead>\n",
              "    <tr style=\"text-align: right;\">\n",
              "      <th></th>\n",
              "      <th>film</th>\n",
              "      <th>like</th>\n",
              "      <th>good</th>\n",
              "      <th>even</th>\n",
              "      <th>time</th>\n",
              "      <th>would</th>\n",
              "      <th>story</th>\n",
              "      <th>really</th>\n",
              "      <th>see</th>\n",
              "      <th>well</th>\n",
              "      <th>...</th>\n",
              "      <th>deserve</th>\n",
              "      <th>gotten</th>\n",
              "      <th>teen</th>\n",
              "      <th>starting</th>\n",
              "      <th>creating</th>\n",
              "      <th>keeping</th>\n",
              "      <th>manage</th>\n",
              "      <th>discover</th>\n",
              "      <th>learned</th>\n",
              "      <th>label</th>\n",
              "    </tr>\n",
              "  </thead>\n",
              "  <tbody>\n",
              "    <tr>\n",
              "      <th>0</th>\n",
              "      <td>0</td>\n",
              "      <td>0</td>\n",
              "      <td>0</td>\n",
              "      <td>0</td>\n",
              "      <td>0</td>\n",
              "      <td>1</td>\n",
              "      <td>0</td>\n",
              "      <td>0</td>\n",
              "      <td>0</td>\n",
              "      <td>0</td>\n",
              "      <td>...</td>\n",
              "      <td>0</td>\n",
              "      <td>0</td>\n",
              "      <td>0</td>\n",
              "      <td>0</td>\n",
              "      <td>0</td>\n",
              "      <td>0</td>\n",
              "      <td>0</td>\n",
              "      <td>0</td>\n",
              "      <td>0</td>\n",
              "      <td>1</td>\n",
              "    </tr>\n",
              "    <tr>\n",
              "      <th>1</th>\n",
              "      <td>0</td>\n",
              "      <td>0</td>\n",
              "      <td>1</td>\n",
              "      <td>2</td>\n",
              "      <td>3</td>\n",
              "      <td>0</td>\n",
              "      <td>4</td>\n",
              "      <td>0</td>\n",
              "      <td>0</td>\n",
              "      <td>0</td>\n",
              "      <td>...</td>\n",
              "      <td>0</td>\n",
              "      <td>0</td>\n",
              "      <td>0</td>\n",
              "      <td>0</td>\n",
              "      <td>0</td>\n",
              "      <td>0</td>\n",
              "      <td>0</td>\n",
              "      <td>0</td>\n",
              "      <td>0</td>\n",
              "      <td>1</td>\n",
              "    </tr>\n",
              "    <tr>\n",
              "      <th>2</th>\n",
              "      <td>2</td>\n",
              "      <td>0</td>\n",
              "      <td>0</td>\n",
              "      <td>2</td>\n",
              "      <td>0</td>\n",
              "      <td>0</td>\n",
              "      <td>0</td>\n",
              "      <td>1</td>\n",
              "      <td>1</td>\n",
              "      <td>0</td>\n",
              "      <td>...</td>\n",
              "      <td>0</td>\n",
              "      <td>0</td>\n",
              "      <td>0</td>\n",
              "      <td>0</td>\n",
              "      <td>0</td>\n",
              "      <td>0</td>\n",
              "      <td>0</td>\n",
              "      <td>0</td>\n",
              "      <td>0</td>\n",
              "      <td>1</td>\n",
              "    </tr>\n",
              "    <tr>\n",
              "      <th>3</th>\n",
              "      <td>2</td>\n",
              "      <td>2</td>\n",
              "      <td>0</td>\n",
              "      <td>0</td>\n",
              "      <td>0</td>\n",
              "      <td>0</td>\n",
              "      <td>0</td>\n",
              "      <td>2</td>\n",
              "      <td>2</td>\n",
              "      <td>3</td>\n",
              "      <td>...</td>\n",
              "      <td>0</td>\n",
              "      <td>0</td>\n",
              "      <td>0</td>\n",
              "      <td>0</td>\n",
              "      <td>0</td>\n",
              "      <td>0</td>\n",
              "      <td>0</td>\n",
              "      <td>0</td>\n",
              "      <td>0</td>\n",
              "      <td>1</td>\n",
              "    </tr>\n",
              "    <tr>\n",
              "      <th>4</th>\n",
              "      <td>0</td>\n",
              "      <td>0</td>\n",
              "      <td>0</td>\n",
              "      <td>0</td>\n",
              "      <td>0</td>\n",
              "      <td>0</td>\n",
              "      <td>0</td>\n",
              "      <td>0</td>\n",
              "      <td>0</td>\n",
              "      <td>0</td>\n",
              "      <td>...</td>\n",
              "      <td>0</td>\n",
              "      <td>0</td>\n",
              "      <td>0</td>\n",
              "      <td>0</td>\n",
              "      <td>0</td>\n",
              "      <td>0</td>\n",
              "      <td>0</td>\n",
              "      <td>0</td>\n",
              "      <td>0</td>\n",
              "      <td>1</td>\n",
              "    </tr>\n",
              "    <tr>\n",
              "      <th>...</th>\n",
              "      <td>...</td>\n",
              "      <td>...</td>\n",
              "      <td>...</td>\n",
              "      <td>...</td>\n",
              "      <td>...</td>\n",
              "      <td>...</td>\n",
              "      <td>...</td>\n",
              "      <td>...</td>\n",
              "      <td>...</td>\n",
              "      <td>...</td>\n",
              "      <td>...</td>\n",
              "      <td>...</td>\n",
              "      <td>...</td>\n",
              "      <td>...</td>\n",
              "      <td>...</td>\n",
              "      <td>...</td>\n",
              "      <td>...</td>\n",
              "      <td>...</td>\n",
              "      <td>...</td>\n",
              "      <td>...</td>\n",
              "      <td>...</td>\n",
              "    </tr>\n",
              "    <tr>\n",
              "      <th>24995</th>\n",
              "      <td>1</td>\n",
              "      <td>4</td>\n",
              "      <td>1</td>\n",
              "      <td>1</td>\n",
              "      <td>0</td>\n",
              "      <td>3</td>\n",
              "      <td>0</td>\n",
              "      <td>0</td>\n",
              "      <td>0</td>\n",
              "      <td>1</td>\n",
              "      <td>...</td>\n",
              "      <td>0</td>\n",
              "      <td>0</td>\n",
              "      <td>0</td>\n",
              "      <td>0</td>\n",
              "      <td>0</td>\n",
              "      <td>0</td>\n",
              "      <td>0</td>\n",
              "      <td>0</td>\n",
              "      <td>0</td>\n",
              "      <td>0</td>\n",
              "    </tr>\n",
              "    <tr>\n",
              "      <th>24996</th>\n",
              "      <td>2</td>\n",
              "      <td>0</td>\n",
              "      <td>0</td>\n",
              "      <td>0</td>\n",
              "      <td>0</td>\n",
              "      <td>0</td>\n",
              "      <td>0</td>\n",
              "      <td>0</td>\n",
              "      <td>1</td>\n",
              "      <td>0</td>\n",
              "      <td>...</td>\n",
              "      <td>0</td>\n",
              "      <td>0</td>\n",
              "      <td>0</td>\n",
              "      <td>0</td>\n",
              "      <td>0</td>\n",
              "      <td>0</td>\n",
              "      <td>0</td>\n",
              "      <td>0</td>\n",
              "      <td>0</td>\n",
              "      <td>0</td>\n",
              "    </tr>\n",
              "    <tr>\n",
              "      <th>24997</th>\n",
              "      <td>3</td>\n",
              "      <td>0</td>\n",
              "      <td>0</td>\n",
              "      <td>0</td>\n",
              "      <td>0</td>\n",
              "      <td>2</td>\n",
              "      <td>0</td>\n",
              "      <td>0</td>\n",
              "      <td>0</td>\n",
              "      <td>0</td>\n",
              "      <td>...</td>\n",
              "      <td>0</td>\n",
              "      <td>0</td>\n",
              "      <td>0</td>\n",
              "      <td>0</td>\n",
              "      <td>0</td>\n",
              "      <td>0</td>\n",
              "      <td>0</td>\n",
              "      <td>0</td>\n",
              "      <td>0</td>\n",
              "      <td>0</td>\n",
              "    </tr>\n",
              "    <tr>\n",
              "      <th>24998</th>\n",
              "      <td>0</td>\n",
              "      <td>0</td>\n",
              "      <td>0</td>\n",
              "      <td>1</td>\n",
              "      <td>0</td>\n",
              "      <td>1</td>\n",
              "      <td>1</td>\n",
              "      <td>0</td>\n",
              "      <td>0</td>\n",
              "      <td>0</td>\n",
              "      <td>...</td>\n",
              "      <td>0</td>\n",
              "      <td>0</td>\n",
              "      <td>0</td>\n",
              "      <td>0</td>\n",
              "      <td>0</td>\n",
              "      <td>0</td>\n",
              "      <td>0</td>\n",
              "      <td>0</td>\n",
              "      <td>0</td>\n",
              "      <td>0</td>\n",
              "    </tr>\n",
              "    <tr>\n",
              "      <th>24999</th>\n",
              "      <td>0</td>\n",
              "      <td>0</td>\n",
              "      <td>1</td>\n",
              "      <td>0</td>\n",
              "      <td>0</td>\n",
              "      <td>0</td>\n",
              "      <td>1</td>\n",
              "      <td>0</td>\n",
              "      <td>1</td>\n",
              "      <td>0</td>\n",
              "      <td>...</td>\n",
              "      <td>0</td>\n",
              "      <td>0</td>\n",
              "      <td>0</td>\n",
              "      <td>0</td>\n",
              "      <td>0</td>\n",
              "      <td>0</td>\n",
              "      <td>0</td>\n",
              "      <td>0</td>\n",
              "      <td>0</td>\n",
              "      <td>0</td>\n",
              "    </tr>\n",
              "  </tbody>\n",
              "</table>\n",
              "<p>25000 rows × 1300 columns</p>\n",
              "</div>\n",
              "      <button class=\"colab-df-convert\" onclick=\"convertToInteractive('df-fc3075d9-fbaa-44ef-acb8-8cd742edbd44')\"\n",
              "              title=\"Convert this dataframe to an interactive table.\"\n",
              "              style=\"display:none;\">\n",
              "        \n",
              "  <svg xmlns=\"http://www.w3.org/2000/svg\" height=\"24px\"viewBox=\"0 0 24 24\"\n",
              "       width=\"24px\">\n",
              "    <path d=\"M0 0h24v24H0V0z\" fill=\"none\"/>\n",
              "    <path d=\"M18.56 5.44l.94 2.06.94-2.06 2.06-.94-2.06-.94-.94-2.06-.94 2.06-2.06.94zm-11 1L8.5 8.5l.94-2.06 2.06-.94-2.06-.94L8.5 2.5l-.94 2.06-2.06.94zm10 10l.94 2.06.94-2.06 2.06-.94-2.06-.94-.94-2.06-.94 2.06-2.06.94z\"/><path d=\"M17.41 7.96l-1.37-1.37c-.4-.4-.92-.59-1.43-.59-.52 0-1.04.2-1.43.59L10.3 9.45l-7.72 7.72c-.78.78-.78 2.05 0 2.83L4 21.41c.39.39.9.59 1.41.59.51 0 1.02-.2 1.41-.59l7.78-7.78 2.81-2.81c.8-.78.8-2.07 0-2.86zM5.41 20L4 18.59l7.72-7.72 1.47 1.35L5.41 20z\"/>\n",
              "  </svg>\n",
              "      </button>\n",
              "      \n",
              "  <style>\n",
              "    .colab-df-container {\n",
              "      display:flex;\n",
              "      flex-wrap:wrap;\n",
              "      gap: 12px;\n",
              "    }\n",
              "\n",
              "    .colab-df-convert {\n",
              "      background-color: #E8F0FE;\n",
              "      border: none;\n",
              "      border-radius: 50%;\n",
              "      cursor: pointer;\n",
              "      display: none;\n",
              "      fill: #1967D2;\n",
              "      height: 32px;\n",
              "      padding: 0 0 0 0;\n",
              "      width: 32px;\n",
              "    }\n",
              "\n",
              "    .colab-df-convert:hover {\n",
              "      background-color: #E2EBFA;\n",
              "      box-shadow: 0px 1px 2px rgba(60, 64, 67, 0.3), 0px 1px 3px 1px rgba(60, 64, 67, 0.15);\n",
              "      fill: #174EA6;\n",
              "    }\n",
              "\n",
              "    [theme=dark] .colab-df-convert {\n",
              "      background-color: #3B4455;\n",
              "      fill: #D2E3FC;\n",
              "    }\n",
              "\n",
              "    [theme=dark] .colab-df-convert:hover {\n",
              "      background-color: #434B5C;\n",
              "      box-shadow: 0px 1px 3px 1px rgba(0, 0, 0, 0.15);\n",
              "      filter: drop-shadow(0px 1px 2px rgba(0, 0, 0, 0.3));\n",
              "      fill: #FFFFFF;\n",
              "    }\n",
              "  </style>\n",
              "\n",
              "      <script>\n",
              "        const buttonEl =\n",
              "          document.querySelector('#df-fc3075d9-fbaa-44ef-acb8-8cd742edbd44 button.colab-df-convert');\n",
              "        buttonEl.style.display =\n",
              "          google.colab.kernel.accessAllowed ? 'block' : 'none';\n",
              "\n",
              "        async function convertToInteractive(key) {\n",
              "          const element = document.querySelector('#df-fc3075d9-fbaa-44ef-acb8-8cd742edbd44');\n",
              "          const dataTable =\n",
              "            await google.colab.kernel.invokeFunction('convertToInteractive',\n",
              "                                                     [key], {});\n",
              "          if (!dataTable) return;\n",
              "\n",
              "          const docLinkHtml = 'Like what you see? Visit the ' +\n",
              "            '<a target=\"_blank\" href=https://colab.research.google.com/notebooks/data_table.ipynb>data table notebook</a>'\n",
              "            + ' to learn more about interactive tables.';\n",
              "          element.innerHTML = '';\n",
              "          dataTable['output_type'] = 'display_data';\n",
              "          await google.colab.output.renderOutput(dataTable, element);\n",
              "          const docLink = document.createElement('div');\n",
              "          docLink.innerHTML = docLinkHtml;\n",
              "          element.appendChild(docLink);\n",
              "        }\n",
              "      </script>\n",
              "    </div>\n",
              "  </div>\n",
              "  "
            ]
          },
          "metadata": {},
          "execution_count": 256
        }
      ],
      "source": [
        "# Initial test dataset (no feature filtering) \n",
        "test_df_imdb, test_numpy_data_imdb = create_df(index_word_tuples, reviewWordFrequenciesTest, excludedContractions)\n",
        "print(test_numpy_data_imdb.shape)\n",
        "test_df_imdb"
      ]
    },
    {
      "cell_type": "code",
      "execution_count": null,
      "metadata": {
        "colab": {
          "base_uri": "https://localhost:8080/"
        },
        "id": "NxlflOk51bqG",
        "outputId": "b5ce4991-cf74-4928-d533-44dcf88af35b"
      },
      "outputs": [
        {
          "output_type": "stream",
          "name": "stdout",
          "text": [
            "Initial features: [(0, 'film', -0.8505283991416361), (1, 'like', -14.88280371028484), (2, 'good', 5.141627946358131), (3, 'even', 3.2835122461201127), (4, 'time', -11.025780683418553), (5, 'would', 3.3030042376312387), (6, 'story', -5.601353381890354), (7, 'really', 5.542239532528722), (8, 'see', -7.136303456137573), (9, 'well', -3.3989418468321766), (10, 'much', -7.765859923452842), (11, 'get', -2.548648919476401), (12, 'people', 9.593041742938459), (13, 'bad', 4.896780681578591), (14, 'also', -0.17533315754392817), (15, 'great', 3.3305828080582023), (16, 'first', -4.082644681603089), (17, 'made', -12.073724516925822), (18, 'way', -13.62356589988532), (19, 'make', -13.596518797219318), (20, 'could', -4.871319256944941), (21, 'movies', 0.07777847471444464), (22, 'think', -0.3539350447124532), (23, 'characters', -0.14517548547034767), (24, 'character', -1.476869448949877), (25, 'watch', 6.43504416145382), (26, 'films', 5.475122979283874), (27, 'two', 8.868123769538611), (28, 'many', 1.5767103162256233), (29, 'seen', -1.8693317591224423), (30, 'acting', -0.36405771800636527), (31, 'never', -18.07539195121672), (32, 'plot', 2.556669928748731), (33, 'little', -0.4130785029951606), (34, 'love', 22.597497771240025), (35, 'best', 15.962449691452607), (36, 'life', -7.44180809957522), (37, 'show', -5.349205612180326), (38, 'know', 2.1554772913834173), (39, 'ever', -3.15512956238592), (40, 'better', 8.56178172507379), (41, 'man', -8.345330658014598), (42, 'still', -2.945430202155816), (43, 'end', -2.000261222607865), (44, 'say', -2.4604829232094296), (45, 'scene', -16.946802867531602), (46, 'scenes', 0.5666897082313724), (47, 'go', -9.766039413341028), (48, 'something', -9.606621805142284), (49, 'back', -12.015410237219522), (50, 'watching', 4.568486369332365), (51, 'real', 4.857425965664), (52, 'though', 1.8138474373734597), (53, 'thing', 12.823708377339743), (54, 'years', -5.020904103450469), (55, 'actors', -4.558527641586134), (56, 'director', -2.4651916710636037), (57, 'another', -12.66315890411466), (58, 'nothing', 7.427469350632104), (59, 'new', -4.329963576839248), (60, 'funny', -8.871339568504661), (61, 'actually', 4.441555146086415), (62, 'work', 8.104106377428014), (63, 'makes', 5.621328013166698), (64, 'find', -4.65858580711629), (65, 'look', 1.470491141335013), (66, 'old', -3.4463450573340793), (67, 'going', -1.4368323016526972), (68, 'lot', 2.043675756742824), (69, 'part', -0.8993414096238992), (70, 'every', 6.547399592318607), (71, 'cast', 6.52210604632307), (72, 'us', 12.83650803991129), (73, 'world', 7.7116198157820826), (74, 'quite', -8.414837757073098), (75, 'want', 0.15528684630919404), (76, 'things', -7.997674999268881), (77, 'pretty', 13.057287265781316), (78, 'young', -6.038117140551132), (79, 'seems', -3.8284420183563586), (80, 'around', -4.614841401484471), (81, 'got', -3.93878128861642), (82, 'however', -9.888120899266108), (83, 'fact', -7.201878314708776), (84, 'horror', -1.611769341801041), (85, 'take', -8.118959798058123), (86, 'enough', 15.80787718925572), (87, 'may', -4.290232293579533), (88, 'give', -7.10410219217582), (89, 'original', 9.330136589556863), (90, 'big', 10.296648756951448), (91, 'thought', 8.625611653449058), (92, 'series', 1.2072779112962277), (93, 'without', 1.2255618888046635), (94, 'right', 6.849828494635568), (95, 'times', -1.1773900614985406), (96, 'long', 14.363398992761773), (97, 'always', -3.334252038473702), (98, 'gets', 2.590221981349347), (99, 'action', 3.325797805296528), (100, 'comedy', -7.9575632743858025), (101, 'family', -0.01641928204437456), (102, 'come', -7.165778863802654), (103, 'point', 10.779860474906323), (104, 'role', 3.5350099365200043), (105, 'saw', -2.546871926780872), (106, 'interesting', -0.2234323196348351), (107, 'almost', -14.958790238299082), (108, 'least', -7.504709714191859), (109, 'whole', 2.0871816703577624), (110, 'must', 7.4116222207043885), (111, 'bit', 5.846867395882747), (112, 'music', -17.76988580268375), (113, 'script', 1.0094304523584392), (114, 'done', -11.905547861497286), (115, 'guy', -13.376140296081493), (116, 'anything', -20.09759983987096), (117, 'minutes', 2.455308065749959), (118, 'last', 2.2054571221678243), (119, 'since', -6.335110151610362), (120, 'might', 14.60088194327408), (121, 'performance', -4.357754932914197), (122, 'far', 3.2795496454881086), (123, 'feel', -0.7619298965309413), (124, 'probably', -4.018596699406521), (125, 'woman', -4.920190262854984), (126, 'kind', -1.3789842464611743), (127, 'girl', -2.786718764983598), (128, 'away', 5.9110453791190105), (129, 'yet', -0.916637584254136), (130, 'rather', -36.55435822652425), (131, 'worst', -3.3592829427740374), (132, 'sure', 10.669082902277678), (133, 'fun', -3.68006711263082), (134, 'anyone', -6.954959118445944), (135, 'making', 11.223351675650248), (136, 'played', 1.1225989756780288), (137, 'tv', 0.7209108167495585), (138, 'found', -0.2514830158816323), (139, 'day', 8.360512331674382), (140, 'although', 11.308151171955718), (141, 'especially', 5.972989931152726), (142, 'course', -6.5693228015750575), (143, 'believe', 0.6763830876186202), (144, 'comes', -9.130167039780378), (145, 'trying', -1.2447080092192615), (146, 'goes', -1.695285074890649), (147, 'hard', -11.304480964550782), (148, 'looks', 10.759575465550649), (149, 'different', 2.288203898191069), (150, 'place', -1.7789403659034653), (151, 'book', 0.42145246558459915), (152, 'actor', -2.8902453881875747), (153, 'put', -8.392642174492886), (154, 'maybe', -16.14389968997603), (155, 'money', -11.577716209108702), (156, 'someone', -0.10509204213628538), (157, 'ending', -14.044405550544436), (158, 'reason', -7.855292986843189), (159, 'let', -1.271040427986048), (160, 'everything', -11.955938286059341), (161, 'sense', 5.022653622900378), (162, 'shows', 2.506591751244159), (163, 'screen', 5.653437214009282), (164, 'dvd', 11.166504208755425), (165, 'true', 2.2125188237463536), (166, 'set', 3.257896063765603), (167, 'worth', 12.238180339574583), (168, 'job', -3.2535363371793533), (169, 'main', -5.810168173128867), (170, 'looking', -1.0124711615001931), (171, 'watched', 4.246625512990369), (172, 'everyone', 6.317468816533627), (173, 'together', 1.7659407298374539), (174, 'three', 10.163988780624784), (175, 'plays', 7.5217265869001215), (176, 'john', 8.26962258759587), (177, 'later', -4.963094734655961), (178, 'said', 4.082529369693357), (179, 'play', -14.834782505982734), (180, 'instead', -2.8726011876806394), (181, 'audience', -2.34746654437716), (182, 'seem', 17.93904239570993), (183, 'beautiful', 5.9407256541369655), (184, 'takes', -8.926290713352152), (185, 'effects', 5.653288563206721), (186, 'version', 2.292980057580904), (187, 'left', 0.10536143989963195), (188, 'night', 0.27515559374871734), (189, 'house', 2.4568661733892556), (190, 'seeing', 4.278737060895812), (191, 'wife', -1.6776001454520855), (192, 'special', 25.339453966489838), (193, 'excellent', 9.520710645338996), (194, 'father', 4.601584676062925), (195, 'american', -11.437464272399316), (196, 'idea', -8.493353896711449), (197, 'else', 4.873239124786194), (198, 'nice', -3.43968946193563), (199, 'shot', -5.9331695133289415), (200, 'simply', 5.118096481339701), (201, 'year', -3.964003672096278), (202, 'read', -6.69143734153926), (203, 'black', 0.5601631432643291), (204, 'high', -2.2527075720300482), (205, 'less', 6.778517582044158), (206, 'war', 3.2576959614570797), (207, 'star', -9.26782294340278), (208, 'completely', 1.7413345769367161), (209, 'help', 2.0312374344312496), (210, 'fan', -21.062663713728515), (211, 'poor', 1.277017408027366), (212, 'death', 1.511100774049092), (213, 'second', 4.890465482363758), (214, 'men', 3.532435293359708), (215, 'hollywood', -10.750548091606339), (216, 'either', 1.2862758092394506), (217, 'mind', -1.018423144042051), (218, 'used', -2.2943999440321092), (219, 'given', 3.897242026268551), (220, 'home', -2.097502889875555), (221, 'kids', -5.962674632943966), (222, 'try', 14.067891136154765), (223, 'performances', -1.680180994627725), (224, 'women', 10.340353790279304), (225, 'enjoy', 11.32037973506507), (226, 'classic', -22.653890539835345), (227, 'boring', 3.088238797531216), (228, 'short', -10.159608234543535), (229, 'wrong', -2.1236344157897578), (230, 'need', -5.331878793982851), (231, 'rest', -1.5721392008674857), (232, 'use', 3.4464065934887858), (233, 'friends', 2.9744389967896714), (234, 'along', -5.904167411809381), (235, 'dead', 6.311966392466456), (236, 'truly', -10.51005885888729), (237, 'half', -3.8921508369943396), (238, 'production', -3.348837135569749), (239, 'line', -4.44002197318991), (240, 'tell', -1.8621743409626508), (241, 'couple', 5.181384667936811), (242, 'remember', -0.06565624083725811), (243, 'next', -4.918004222276917), (244, 'start', -22.57255292590665), (245, 'stupid', 1.817277099941648), (246, 'perhaps', 2.6054281445963605), (247, 'came', 7.969268657377312), (248, 'recommend', 4.337743226375719), (249, 'moments', -28.063881887715684), (250, 'awful', 23.956286450805198), (251, 'wonderful', 5.797489026759559), (252, 'episode', -11.763976805684), (253, 'mean', -0.6242461246346979), (254, 'understand', -23.371304874219657), (255, 'terrible', 4.052274382871356), (256, 'full', -6.366372474883226), (257, 'camera', -4.50167079755155), (258, 'getting', 1.67921019644501), (259, 'stars', 2.437642978060782), (260, 'playing', -6.250124445490087), (261, 'video', 1.4647758214793325), (262, 'keep', -6.383246260828219), (263, 'sex', -5.626124529355486), (264, 'others', 6.412194672193695), (265, 'early', 7.400478651294835), (266, 'often', 6.974231950587862), (267, 'small', 11.719546004096708), (268, 'definitely', 11.346444149317442), (269, 'gives', -2.028447725043056), (270, 'person', -1.3593757789753813), (271, 'school', 0.3952555676464289), (272, 'face', 18.980275059291248), (273, 'perfect', -5.0205339673067835), (274, 'name', -1.0898506378036645), (275, 'become', 8.325192789787604), (276, 'human', -6.32890682549812), (277, 'lines', -1.624731059087902), (278, 'yes', 2.4597713886713795), (279, 'finally', -7.817941468637173), (280, 'dialogue', 1.4927942231101898), (281, 'lost', -3.118557847226708), (282, 'felt', -1.595930388342722), (283, 'case', -5.480378188025024), (284, 'piece', 5.172604775573854), (285, 'top', 7.2677516267544995), (286, 'liked', -19.44131671242021), (287, 'supposed', 2.922760509164383), (288, 'children', -14.06310663871125), (289, 'title', -4.9399412185538685), (290, 'absolutely', -5.232285697232643), (291, 'head', -8.96711069902914), (292, 'budget', 4.586400992283991), (293, 'mother', 6.804568310673967), (294, 'live', -1.7347531037009065), (295, 'written', 3.970500337517012), (296, 'boy', 4.068284228422002), (297, 'picture', 3.401612334082006), (298, 'cinema', -3.012182616648653), (299, 'went', -23.673292973042784), (300, 'worse', 4.611757538513949), (301, 'certainly', -6.558865190116378), (302, 'entire', -4.643965073931553), (303, 'sort', 4.915184640914957), (304, 'style', -30.363962913215428), (305, 'waste', -9.732472391039115), (306, 'problem', 3.894407717095194), (307, 'hope', 6.741905687305952), (308, 'entertaining', 5.410078060907726), (309, 'overall', 5.075646224851928), (310, 'friend', -6.2686549456983665), (311, 'killer', -2.4428365616644765), (312, 'evil', 3.617759056235244), (313, 'several', 17.66477261855079), (314, 'loved', 3.805822195995382), (315, 'fans', -15.930977064834213), (316, 'oh', 1.9554941726258297), (317, 'beginning', 0.6325734004575414), (318, 'white', 9.431019493450014), (319, 'lives', -6.907887734475763), (320, 'care', 1.9345780824563097), (321, 'becomes', -2.807712330810817), (322, 'direction', -2.816129156549296), (323, 'example', -3.359607689918766), (324, 'already', 2.948822789028065), (325, 'based', 7.749937798794826), (326, 'drama', 2.3017609138975152), (327, 'despite', -8.244141514920157), (328, 'seemed', 6.00236953762926), (329, 'dark', 6.0618025425553475), (330, 'throughout', -13.04795554690388), (331, 'unfortunately', -6.032868355135921), (332, 'wanted', -3.8994031898865344), (333, 'final', 7.084499451578795), (334, 'history', 17.83344572182785), (335, 'amazing', -1.1024156886984), (336, 'turn', 9.5892527292429), (337, 'fine', -4.939165804715792), (338, 'laugh', 4.95762010616057), (339, 'michael', 4.689652495798761), (340, 'son', 3.68765943758934), (341, 'humor', -12.122210571668994), (342, 'guess', -5.592224776856943), (343, 'totally', -1.1728772976733823), (344, 'lead', -3.470892121876539), (345, 'sound', -4.952240937755273), (346, 'guys', -6.466565407894207), (347, 'writing', 0.49915278320404155), (348, 'wants', -11.649191512289564), (349, 'low', 10.578950173782664), (350, 'works', -7.614209388687948), (351, 'tries', -2.485606493257995), (352, 'called', 0.13225878467642824), (353, 'past', 3.484984038060585), (354, 'viewer', -2.43801238762312), (355, 'quality', 2.069516565216427), (356, 'child', 3.319730489606468), (357, 'days', -0.30727850177508054), (358, 'behind', 2.7385239270484627), (359, 'game', 2.5163157049332217), (360, 'turns', -6.989756295135591), (361, 'enjoyed', 15.184674141473332), (362, 'today', 5.0035020036731375), (363, 'able', -4.657105413568532), (364, 'act', 3.9230502484525904), (365, 'town', 17.501924115701332), (366, 'favorite', -5.029961967435224), (367, 'kill', -8.259478390839138), (368, 'flick', -3.3383148924939934), (369, 'starts', -1.0416656114421985), (370, 'gave', 1.0150670077695922), (371, 'actress', 6.780737273151941), (372, 'sometimes', 1.6603604084708403), (373, 'eyes', -2.9208655565722816), (374, 'side', -21.419991441737153), (375, 'horrible', -2.2238687411553304), (376, 'girls', 5.557454101262929), (377, 'genre', 4.5379351986858785), (378, 'soon', -0.7327635061201191), (379, 'car', 16.531588566068546), (380, 'brilliant', 2.58281148010963), (381, 'parts', 4.069867064617294), (382, 'art', 11.138317200449437), (383, 'heart', 0.8754145839150518), (384, 'expect', -3.590176677949333), (385, 'kid', -4.480778642074031), (386, 'stuff', 4.487909864567096), (387, 'stories', -7.2594395246933665), (388, 'thinking', 8.22526171435393), (389, 'city', -8.171963325313168), (390, 'obviously', 1.7300077963545966), (391, 'directed', 7.015759662517941), (392, 'late', -5.024352380455229), (393, 'blood', -12.405846968838535), (394, 'decent', 2.455778407169314), (395, 'feeling', -3.040437841195629), (396, 'run', -0.3479244847071333), (397, 'highly', -5.719228263059012), (398, 'god', -9.319897515156121), (399, 'except', 0.755205656480251), (400, 'close', 0.40589154689301116), (401, 'fight', -0.983240942092801), (402, 'hand', -4.531602337447416), (403, 'roles', 0.18516157319275764), (404, 'daughter', -5.550111156778747), (405, 'killed', 3.0031089843863072), (406, 'moment', -1.4767608722142216), (407, 'says', -0.16882526655168603), (408, 'heard', 0.22332369109448935), (409, 'leave', 1.7264903295310379), (410, 'matter', 1.0306894687037789), (411, 'took', -3.374154013979328), (412, 'cannot', 1.3915926758126143), (413, 'police', -5.396063455758704), (414, 'happens', 3.97534016207633), (415, 'brother', -9.733576052577432), (416, 'hour', -0.587345240591129), (417, 'violence', -2.9353375711335072), (418, 'happened', 11.73082748840167), (419, 'strong', 2.3918084199541902), (420, 'particularly', 5.313987562507742), (421, 'james', -1.5280959048069587), (422, 'extremely', -1.5893959503476902), (423, 'involved', 4.867394879202195), (424, 'chance', -3.170113907167746), (425, 'writer', -7.185462066077989), (426, 'obvious', 6.514849945447984), (427, 'experience', -9.650333623099566), (428, 'lack', 5.861275969561922), (429, 'including', 3.834562756288645), (430, 'told', -0.8102632693880023), (431, 'alone', -11.836989632945693), (432, 'attempt', 5.475474384050292), (433, 'murder', 4.432522691519212), (434, 'living', -2.90296908290458), (435, 'happen', -8.621810510377266), (436, 'please', 7.413181178348422), (437, 'age', -7.848102882810363), (438, 'wonder', -7.176666030918036), (439, 'complete', 5.548991204545776), (440, 'ago', 2.367788661600241), (441, 'voice', -2.812116889470204), (442, 'group', 6.094841079852125), (443, 'score', 5.263328094993421), (444, 'david', 1.7206663139835405), (445, 'coming', -2.7289408331606717), (446, 'interest', -13.632011496081454), (447, 'save', -10.501896897907281), (448, 'none', -11.26152830071868), (449, 'ok', -19.741771704114683), (450, 'crap', 0.6828336644170179), (451, 'type', -9.459312802123671), (452, 'looked', 10.65205083080404), (453, 'simple', -4.600150286548671), (454, 'slow', -3.2185077574427323), (455, 'possible', 3.4507470091291976), (456, 'number', -10.653950373249122), (457, 'seriously', -8.358248250545289), (458, 'hell', -10.563586408219518), (459, 'gore', -1.3437931765947273), (460, 'exactly', 3.6802104552815535), (461, 'shown', 2.3783081786165563), (462, 'king', -1.7032903602994256), (463, 'hero', -16.68346669458154), (464, 'annoying', 4.627374717331907), (465, 'song', 3.13234294249957), (466, 'husband', 4.41985847026058e-14), (467, 'sad', 4.727492227958579), (468, 'whose', 2.714082910421694), (469, 'career', -3.9529566467478277), (470, 'cinematography', 0.3078351822017198), (471, 'taken', 5.606102094711457), (472, 'musical', -0.9380411228012253), (473, 'ends', -2.2352553427931108), (474, 'usually', -0.4682165765385842), (475, 'serious', -5.926805707397321), (476, 'stop', -4.736958063565488), (477, 'hours', -6.046122353657091), (478, 'scary', 5.326245113584586), (479, 'released', 0.11762065615307501), (480, 'across', 7.193544279480184), (481, 'hilarious', -4.5600810396893), (482, 'running', 5.704004767544617), (483, 'reality', 9.237343993120668), (484, 'relationship', 3.446247294340882), (485, 'usual', -18.355100819927426), (486, 'ridiculous', 4.541323278267749), (487, 'known', 2.3562284509808293), (488, 'hit', -1.0109309776961808), (489, 'opening', 4.437315028794202), (490, 'somewhat', -3.82161734413201), (491, 'started', 3.3162175296975414), (492, 'opinion', -6.306774844418788), (493, 'jokes', 1.4244166883568985), (494, 'novel', -0.3020027950930684), (495, 'cool', 4.601161210194426), (496, 'change', 4.679716439807126), (497, 'robert', 1.3327827104178935), (498, 'wish', 2.357026635520079), (499, 'ones', -4.3513626303661574), (500, 'body', 6.829237566656405), (501, 'finds', 0.8121217990767495), (502, 'order', -8.956533547658772), (503, 'saying', 2.709704064135261), (504, 'english', -2.993916570743125), (505, 'huge', -5.727142812533196), (506, 'cut', -4.735583076283079), (507, 'shots', 8.485097896811112), (508, 'episodes', -0.7253416396167374), (509, 'mostly', 0.7480829223793558), (510, 'taking', -4.224104132681771), (511, 'female', -5.277588745976633), (512, 'talking', 1.293166002358529), (513, 'strange', -1.3506400469079185), (514, 'major', 5.080854693278058), (515, 'view', 2.1968369251510325), (516, 'power', 6.544188328850069), (517, 'happy', 3.99987500585985), (518, 'documentary', -10.79000010353383), (519, 'apparently', -4.136711878724144), (520, 'rating', -6.963041211384445), (521, 'disappointed', -0.48408500607153326), (522, 'level', -2.540340387927808), (523, 'talent', -6.679077670954928), (524, 'call', 4.806642159632641), (525, 'country', 5.118793412290024), (526, 'jack', 2.097904070210549), (527, 'due', 5.511404915118981), (528, 'events', 0.756354577218899), (529, 'room', 5.879219914709414), (530, 'important', 4.003865307592653), (531, 'songs', -7.441803406709507), (532, 'basically', -2.607469968012355), (533, 'clearly', 2.615229457895968), (534, 'knows', 0.7964287561201526), (535, 'knew', 9.949886520554045), (536, 'supporting', 3.5537015374136987), (537, 'attention', 3.5382395429925504), (538, 'television', 8.237600752823733), (539, 'future', -3.633107798769258), (540, 'turned', 6.974469528266451), (541, 'paul', 1.7817832575572983), (542, 'easily', 1.1761653132444025), (543, 'problems', -6.147397829616738), (544, 'silly', 3.9364974899504173), (545, 'british', -5.188907273667418), (546, 'word', 6.777014529236232), (547, 'tells', -1.4900101073819685), (548, 'earth', -0.5021711303007258), (549, 'words', 0.6461358438575929), (550, 'local', -5.193137941155994), (551, 'single', 5.338308231965768), (552, 'light', 1.0110907671784346), (553, 'four', -14.546969369776681), (554, 'cheap', 2.710883626768943), (555, 'sequence', 1.6470531802236665), (556, 'bring', 2.3314945509093588), (557, 'entertainment', 3.7746055964034513), (558, 'thriller', -3.770656339857764), (559, 'beyond', 2.7805547803225688), (560, 'george', 5.530016359892307), (561, 'miss', 6.218154024544302), (562, 'modern', 1.2072982864938606), (563, 'whether', -2.1780988649075432), (564, 'b', -12.719228284751471), (565, 'predictable', -3.5529652460895313), (566, 'falls', -3.1700935832287453), (567, 'five', 2.596773079963557), (568, 'sets', 4.175693560786594), (569, 'similar', -6.608707385476863), (570, 'review', 3.8286657385467797), (571, 'richard', 1.3815666528946202), (572, 'needs', 1.2466308477690302), (573, 'upon', 1.4570250153464555), (574, 'lady', 9.971204356964895), (575, 'enjoyable', -2.223675012754295), (576, 'appears', 8.031804327756172), (577, 'romantic', 3.5420387330212253), (578, 'comic', -0.8300605847471191), (579, 'giving', 1.8507252744324483), (580, 'mystery', -2.5713759552701556), (581, 'talk', 2.4318866745135956), (582, 'rock', 2.8493035917125056), (583, 'message', 6.269997847671668), (584, 'animation', 2.4621402099844563), (585, 'within', -3.6187369763569026), (586, 'theater', -6.115800377574917), (587, 'sequel', -11.567671921926637), (588, 'bunch', -4.742790426842893), (589, 'mention', 4.783840431073528), (590, 'feels', 0.09854245511068442), (591, 'nearly', -1.5020669200316994), (592, 'points', 4.272175239303134), (593, 'theme', -1.0784752894985399), (594, 'lee', 2.247782013298526), (595, 'dull', -2.520121236968258), (596, 'add', 5.789109589924824), (597, 'york', 6.316840544884593), (598, 'ways', 11.438369612365266), (599, 'moving', -4.020265159471407), (600, 'storyline', -1.9603457172202046), (601, 'ten', 6.160112725792146), (602, 'surprised', 2.5227924283318144), (603, 'lots', 3.9712654207218625), (604, 'team', 6.360738377502944), (605, 'begins', -2.0868734223438383), (606, 'middle', -2.1138634658557356), (607, 'using', 16.02710785267026), (608, 'fantastic', -2.659701762456231), (609, 'actual', 2.759831800256765), (610, 'sister', -9.00287928556472), (611, 'effort', 3.925033360061092), (612, 'viewers', 2.5671078643863243), (613, 'named', 6.46832334455964), (614, 'among', 2.658104385203553), (615, 'elements', 8.04481908855434), (616, 'easy', -5.145385822490325), (617, 'stay', 2.644076221977839), (618, 'tom', -0.3571031753613125), (619, 'comments', -17.391735781487235), (620, 'avoid', 2.6737831862029204), (621, 'showing', 3.091467303332767), (622, 'typical', 4.488512472082808), (623, 'release', -0.06688862355920094), (624, 'clear', -3.095880618521007), (625, 'hate', -8.351815366446587), (626, 'tried', 3.711764774254278), (627, 'peter', -12.292318300955012), (628, 'sorry', 5.797131407372176), (629, 'french', -7.123157677694399), (630, 'dialog', -6.848148076475799), (631, 'editing', 8.667574277693799), (632, 'tale', 4.348367141686328), (633, 'certain', 6.376736401158749), (634, 'season', 4.599614556557605), (635, 'soundtrack', 0.6816875539845072), (636, 'buy', 0.4114092766851641), (637, 'fall', 0.06303241520193315), (638, 'general', -0.7604784902457049), (639, 'near', 0.5421716874826787), (640, 'means', 6.45497224368054), (641, 'famous', -0.21606664696126843), (642, 'check', 4.224363735969383), (643, 'parents', 3.3911742550162263), (644, 'red', -4.223170504903501), (645, 'somehow', -3.7791204089104635), (646, 'material', 9.971921991872659), (647, 'oscar', 3.5818609014044283), (648, 'period', 4.602203039393708), (649, 'form', -3.4848662293273667), (650, 'straight', -10.005237997025892), (651, 'weak', 3.9957550859041064), (652, 'working', -0.7539820377468801), (653, 'doubt', 1.5947948106170715), (654, 'class', 2.94372128784386), (655, 'leads', 0.8797147896037251), (656, 'filmed', 0.1365880112502643), (657, 'gone', -3.83287740689881), (658, 'kept', 11.341170105884798), (659, 'greatest', -0.8706134163917513), (660, 'figure', 6.463659325920473), (661, 'viewing', 1.9863945911170378), (662, 'feature', 3.2393455471904473), (663, 'disney', 3.3121111231677776), (664, 'eye', 9.266963724300716), (665, 'realistic', 6.378329358727272), (666, 'brought', -3.272962252386051), (667, 'imagine', -0.06931879099014637), (668, 'hear', 8.397355063089307), (669, 'atmosphere', -2.2616227863726173), (670, 'fast', 5.108881532821017), (671, 'particular', 0.32742028508428866), (672, 'suspense', -17.90060795464987), (673, 'lame', -0.5951281523280907), (674, 'move', -6.516448133830356), (675, 'whatever', 1.1403066414508305), (676, 'sequences', 3.6267128929918657), (677, 'america', 3.2737396142296755), (678, 'follow', 4.075064361749447), (679, 'indeed', -3.658114459071764), (680, 'die', 5.419170080053253), (681, 'crime', 2.53541785733077), (682, 'learn', 2.3307745135671687), (683, 'eventually', -3.818331606783058), (684, 'reviews', -2.99318702412377), (685, 'wait', 0.070821700250652), (686, 'forget', 4.084926354466049), (687, 'deal', -4.452183644980647), (688, 'dance', -1.673689673025206), (689, 'space', -8.69568689146091), (690, 'premise', 3.275869744508961), (691, 'surprise', 7.3667831130194505), (692, 'believable', 6.692272030144253), (693, 'nature', -5.396278945488954), (694, 'possibly', -0.6159247602921785), (695, 'third', -4.789508396245068), (696, 'decided', 2.158014024036246), (697, 'subject', -2.878726386816068), (698, 'expected', 3.5508591554987445), (699, 'de', 2.6158863223249185), (700, 'japanese', 0.15218430195052024), (701, 'became', 3.151132201694438), (702, 'truth', -6.088812808960989), (703, 'imdb', 0.20882231581345403), (704, 'sexual', -3.0750429960917853), (705, 'average', 1.3233889428787), (706, 'stand', 2.9234773817711646), (707, 'difficult', -0.20619475187976233), (708, 'screenplay', 5.590665322210022), (709, 'romance', -4.725550839904209), (710, 'sit', -18.561860867468486), (711, 'poorly', -8.086572895294598), (712, 'rent', 1.6635131338771443), (713, 'joe', -4.141155769180247), (714, 'leaves', -1.0790907566325167), (715, 'question', 3.473310704272303), (716, 'stage', 3.232404976058219), (717, 'note', -2.9870312443555473), (718, 'begin', -5.966699204766705), (719, 'killing', -3.6717239625310416), (720, 'needed', -1.8965968013571506), (721, 'reading', -15.033807131540385), (722, 'unless', 0.4384077265996061), (723, 'baby', 16.77523954080074), (724, 'superb', 0.2620425273520297), (725, 'directors', 7.343669796143166), (726, 'society', -5.47661207257513), (727, 'otherwise', -4.292474567181839), (728, 'shame', 3.9349120132678475), (729, 'meet', 2.574705706545696), (730, 'street', 3.5637589706505497), (731, 'situation', 7.886266213992826), (732, 'meets', 9.793230612346647), (733, 'memorable', 1.014965372453496), (734, 'dog', -4.892405160070405), (735, 'credits', 3.592234536650562), (736, 'earlier', -3.660959685732543), (737, 'forced', -2.4716508649759716), (738, 'weird', -5.6483692778695325), (739, 'minute', 4.601748941643633), (740, 'older', -2.654920824100036), (741, 'laughs', -0.22440432670143337), (742, 'realize', 8.237744632288447), (743, 'emotional', 3.196742261164632), (744, 'beauty', -5.889245031495608), (745, 'writers', -1.8523448167070724), (746, 'comment', -3.1406890425806195), (747, 'footage', -8.447176332166848), (748, 'write', -4.098251609861877), (749, 'ask', -15.997050330544871), (750, 'badly', 2.1863016537261877), (751, 'interested', 4.080274960004711), (752, 'dramatic', -3.725977839078931), (753, 'sounds', 3.500892744499681), (754, 'hot', 5.3683773676182565), (755, 'keeps', 2.8543891174361162), (756, 'features', -3.7265446483095728), (757, 'directing', -16.267135310316547), (758, 'mess', -5.0207920476741315), (759, 'development', -0.9323284682060112), (760, 'crazy', -0.8257498736450314), (761, 'quickly', -1.7724032430515475), (762, 'male', 2.1656096392002255), (763, 'mark', 1.8407497303811995), (764, 'towards', 0.7138036472633438), (765, 'creepy', -3.400599588208531), (766, 'free', -6.077262765373481), (767, 'monster', 12.53237011586456), (768, 'perfectly', -2.9548287398303192), (769, 'result', -9.063266361362055), (770, 'total', -0.827083304317891), (771, 'plus', 0.14527466032040068), (772, 'previous', 8.43841771675174), (773, 'brings', 11.579924791331466), (774, 'unique', 3.7944919467058575), (775, 'plenty', -1.7018440750513049), (776, 'worked', -6.229455717656208), (777, 'cheesy', 0.7692385928405706), (778, 'effect', 7.242760978267033), (779, 'personal', -3.958607691113716), (780, 'incredibly', -0.11279670187263494), (781, 'hands', 3.06280306058963), (782, 'bill', 6.17211881945304), (783, 'fantasy', 3.932379109366237), (784, 'return', 4.690469019887096), (785, 'dream', -0.9604207332514767), (786, 'apart', 6.3986955946492445), (787, 'deep', 3.5115134715653205), (788, 'setting', -0.6919883867211734), (789, 'admit', 0.21175890508675235), (790, 'open', -1.9812985175315818), (791, 'appear', 1.722928905919999), (792, 'background', -1.523677499967533), (793, 'leading', -0.8151174304579012), (794, 'doctor', -0.3317734778798792), (795, 'casting', -5.0028191362591), (796, 'hardly', -2.503961347506227), (797, 'meant', 0.9792251412030447), (798, 'ben', -5.875223899401332), (799, 'potential', 3.325016244613598), (800, 'boys', 12.666175322331409), (801, 'powerful', 4.3622686829053565), (802, 'business', 10.468732803127638), (803, 'masterpiece', -13.579178264867902), (804, 'fails', 3.8475901177850864), (805, 'battle', -11.725381864937043), (806, 'joke', 0.8862140065423468), (807, 'create', 3.8404328727019825), (808, 'various', -2.436976204288475), (809, 'forward', -2.028210727854733), (810, 'fire', 2.336820059129504), (811, 'inside', 0.28079755821764574), (812, 'outside', 3.3218396421289706), (813, 'portrayed', -2.0424480097227002), (814, 'girlfriend', -3.1608035475164806), (815, 'ideas', -2.2782803778795557), (816, 'twist', 6.487586618824237), (817, 'william', -1.3706092504128413), (818, 'missing', -8.54230230696731), (819, 'nudity', 0.5441720785653231), (820, 'reasons', -1.913943856585616), (821, 'villain', -12.341560405126028), (822, 'dumb', 3.7500339848367514), (823, 'political', 3.0341038203711137), (824, 'deserves', 2.9820898401662266), (825, 'match', 1.582587370541882), (826, 'secret', -1.2515657598492955), (827, 'expecting', -0.33237333554574083), (828, 'air', -0.3071783140119351), (829, 'fairly', 5.537736486424918), (830, 'present', -3.7079608707743725), (831, 'gay', -0.17362461326081088), (832, 'fighting', 7.748650910988191), (833, 'unlike', 4.612081985478386), (834, 'married', 3.475905299127323), (835, 'manages', -0.6455882423443021), (836, 'break', 1.6622781330600622), (837, 'scott', 5.632423104747698), (838, 'success', -4.592560190703966), (839, 'attempts', 3.049942718896009), (840, 'western', -4.653637813004977), (841, 'acted', -5.614830674478495), (842, 'remake', -4.4178832121034635), (843, 'pay', -3.566083050096181), (844, 'box', 5.829780787875747), (845, 'recently', 3.405349674042364), (846, 'rich', -1.2041213333254535), (847, 'front', 1.1570910381253772), (848, 'cute', 0.19615008713015544), (849, 'cop', -5.9490352607311525), (850, 'sadly', 7.160826790943419), (851, 'era', 2.1751231524336383), (852, 'copy', -1.9805313762934885e-14), (853, 'agree', 0.30885668085061735), (854, 'talented', 1.1007901848124217), (855, 'telling', 0.22615388470435008), (856, 'filmmakers', 1.8575041399634011), (857, 'following', 0.7749545805794843), (858, 'public', -0.8531442776232135), (859, 'crew', 9.802238325748135), (860, 'incredible', 0.9612571929597961), (861, 'missed', -16.182415382170745), (862, 'wasted', 2.897540325752287), (863, 'pure', -10.42118631400776), (864, 'plain', 5.239111041403485), (865, 'brothers', 1.0786949559006556), (866, 'odd', 4.830738650225355), (867, 'caught', -10.15340778597458), (868, 'flat', 4.8858738476586), (869, 'social', -0.617046807945239), (870, 'mentioned', 4.624659578264114), (871, 'pace', -2.3903142593858258), (872, 'ended', 0.7917608227988142), (873, 'decides', -1.8571605351113707), (874, 'considering', -1.188765218872841), (875, 'waiting', 2.1073452032104174), (876, 'members', 2.6296163788097116), (877, 'large', -2.1618128169275557), (878, 'list', 9.622459289188667), (879, 'sweet', -1.4289160309443687), (880, 'revenge', 4.970604665062167), (881, 'popular', 3.9715209037771486), (882, 'uses', 1.310307007331433), (883, 'hold', 1.8931127377256252), (884, 'slightly', 2.3857119770701325), (885, 'office', 0.16747954272829335), (886, 'compared', -6.784523185223086), (887, 'neither', -3.624961177880785), (888, 'wrote', 3.4312324804654644), (889, 'escape', 6.839043727649209), (890, 'sees', -3.6523233642959894), (891, 'suddenly', -0.19410326930771357), (892, 'party', 3.8150362823317336), (893, 'spirit', -0.19068544528381384), (894, 'tension', 1.0487676305503855), (895, 'convincing', 3.5525150907901812), (896, 'created', 1.1763237642127167), (897, 'fear', -7.31633851990803), (898, 'spent', 0.16186519851679362), (899, 'rate', -1.9532897070226665), (900, 'cause', -0.5299630195863997), (901, 'entirely', -3.611837858847564), (902, 'island', -1.3296997079070423), (903, 'cartoon', 4.818934092812353), (904, 'intelligent', -1.1899937610217988), (905, 'credit', 2.5764967532632097), (906, 'clever', -3.307504640070812), (907, 'choice', 0.7812916445651665), (908, 'water', -4.565301384990744), (909, 'kills', -10.667628018612868), (910, 'bored', 5.171458950974239), (911, 'familiar', 5.611856355117671), (912, 'moves', 6.050586266076033), (913, 'laughing', -3.5399202287501024), (914, 'gun', 4.611631891887666), (915, 'visual', 4.068385796798529), (916, 'successful', 0.7479356379029437), (917, 'ultimately', -1.8338719028431354), (918, 'basic', 1.4234416792277738), (919, 'band', -0.81836250145692), (920, 'trouble', 0.9783333840899028), (921, 'la', -0.6811220459545855), (922, 'concept', -4.3824193013262915), (923, 'value', -3.6490762652412387), (924, 'biggest', -5.636494228827212), (925, 'positive', 4.445968965776771), (926, 'singing', 0.8068880905083534), (927, 'consider', 4.054097031561923), (928, 'exciting', 3.8440003065753556), (929, 'dancing', 0.9908821094117907), (930, 'company', 2.0627219996242148), (931, 'died', 3.7590736028774736), (932, 'recent', -1.1156024429749325e-14), (933, 'state', 4.8235620750034425), (934, 'language', 6.725146750942272), (935, 'effective', -0.5305126105185991), (936, 'science', -6.177660991391024), (937, 'cover', -4.521181155900621), (938, 'spend', 9.768070122369346), (939, 'portrayal', 2.296822676286381), (940, 'violent', 3.7083124464283137), (941, 'cold', 6.958457597196568), (942, 'appreciate', 0.4160320661597023), (943, 'produced', -2.566108755819924), (944, 'speak', -17.397020958516993), (945, 'pointless', 2.4969841846332987), (946, 'former', 3.5939482528032443), (947, 'studio', -0.5479825055387754), (948, 'amusing', 4.973029282646519), (949, 'adult', -0.042074797954359006), (950, 'common', 2.664902996611308), (951, 'filled', 0.8688690392297195), (952, 'younger', 1.8903781134377275), (953, 'store', -5.59574809012991), (954, 'walk', 4.8535056974874875), (955, 'follows', 2.3251134094686283), (956, 'focus', 9.398170716813395), (957, 'solid', -2.3254388832901407), (958, 'bizarre', 2.280530350824517), (959, 'italian', 6.335531367948448), (960, 'impressive', 6.186451011230865), (961, 'animated', -1.637933225535996), (962, 'impossible', 2.6399449417889223), (963, 'german', -0.718844638350813), (964, 'amount', 2.188543424354077), (965, 'tone', 5.906726929535959), (966, 'century', 7.481155801041742), (967, 'adventure', -0.7905724650960091), (968, 'producers', -6.97780109403815), (969, 'showed', 12.0687885652037), (970, 'fit', -2.744011726005931), (971, 'van', 0.7947681469901072), (972, 'depth', 0.5999406553361962), (973, 'runs', 0.9497661935943249), (974, 'situations', 3.627356104491526), (975, 'chemistry', 1.5698213480812502), (976, 'project', 4.624001788084916), (977, 'jim', 1.0683458267111274), (978, 'respect', 9.386970956066358), (979, 'awesome', 0.8976752625946937), (980, 'control', -5.0115042428653345), (981, 'hair', 1.586845565792824), (982, 'considered', 3.4185574685899955), (983, 'win', 7.145068092495256), (984, 'force', -3.2744417326268187), (985, 'decide', -3.890176529400995), (986, 'college', 2.841898238484855), (987, 'trip', 1.1671234298305508), (988, 'disturbing', -5.719126636581375), (989, 'somewhere', 0.07232400232438949), (990, 'mad', -10.077898973186313), (991, 'failed', 0.7502788339405734), (992, 'changed', 0.08832075293807523), (993, 'leaving', 1.102556110868728), (994, 'questions', -6.011951231590742e-15), (995, 'longer', 1.3539961183839495), (996, 'steve', 3.1002672631466703), (997, 'audiences', -8.180769419824761), (998, 'barely', -1.5622478671663784), (999, 'aside', 2.3433718007492095), (1000, 'honest', -4.865066540323791), (1001, 'sick', -0.41610902232949376), (1002, 'shooting', -9.772825137907018), (1003, 'images', 5.661478203963596), (1004, 'thanks', 8.868190670539114), (1005, 'charming', 3.8899742966333593), (1006, 'starring', -1.6612443868664266), (1007, 'generally', -14.95554373707478), (1008, 'pathetic', -1.3750285136256664), (1009, 'literally', 1.3661239154694353), (1010, 'values', 3.752057049744513), (1011, 'culture', 0.08809733623517525), (1012, 'likes', -10.573520435691334), (1013, 'fake', 6.919528534478031), (1014, 'surprisingly', 6.278453318313311), (1015, 'touch', 6.609391033590212), (1016, 'magic', -0.21628506124467203), (1017, 'involving', -8.48602348310902), (1018, 'immediately', 7.148097704240181), (1019, 'south', 5.9860607761530025), (1020, 'frank', -13.26558222424875), (1021, 'natural', -6.351987196372532), (1022, 'utterly', 6.2211969063179136e-15), (1023, 'bought', -8.84094717473112), (1024, 'honestly', 1.2798856363528301), (1025, 'adaptation', 0.21175289573242426), (1026, 'sam', 1.1661316735109328), (1027, 'aspect', 4.462094381693007), (1028, 'pictures', -0.8705302141540395), (1029, 'ability', 3.7003929132506364), (1030, 'detective', -3.912887580362902), (1031, 'nobody', 4.25315592567143), (1032, 'glad', -4.670208663592288), (1033, 'explain', -2.056239940030232), (1034, 'fair', -4.204826348782971), (1035, 'computer', 1.8129944031730083e-15), (1036, 'appearance', 6.507851389442481), (1037, 'sitting', -1.5961535294757547), (1038, 'cult', -3.288187965032143), (1039, 'attack', 5.479454091250443), (1040, 'master', 0.04485256580212791), (1041, 'meaning', 3.5943305317601526), (1042, 'personally', -6.4940261366653385), (1043, 'stick', 3.48802199967688), (1044, 'normal', 3.500454500516122), (1045, 'army', -2.1045640198331386), (1046, 'appeal', 5.823198484533803), (1047, 'knowing', 3.0343560944918684), (1048, 'tough', 4.286087115510653), (1049, 'remains', 3.319226949127712), (1050, 'humour', -1.5977790576435151), (1051, 'military', -9.322066347696378), (1052, 'nowhere', 9.054554020045062), (1053, 'journey', 0.2766633592204247), (1054, 'added', 3.052032711440141), (1055, 'rare', -3.5168939096344887), (1056, 'thinks', 2.2838756578253134), (1057, 'thank', 5.49635872342342), (1058, 'purpose', 13.525775048750386), (1059, 'touching', -10.88296554381533), (1060, 'catch', -1.0814157125722947), (1061, 'taste', 3.033372451145907), (1062, 'terms', -1.923901431665646), (1063, 'chase', 14.045168623509422), (1064, 'beautifully', -5.801469774819131), (1065, 'channel', -4.466473251186233), (1066, 'walking', 1.4206602185105812), (1067, 'sexy', 0.03864343637177698), (1068, 'terrific', 5.377856927545985), (1069, 'twists', 3.40233447405449), (1070, 'silent', 2.813976075764724), (1071, 'standard', 4.057689113374457), (1072, 'equally', -4.981321561524073), (1073, 'naked', 1.3739787671537145), (1074, 'mood', 10.76227886524064), (1075, 'subtle', -5.9436566780381455), (1076, 'managed', 8.79349177012015), (1077, 'complex', -15.786977487648063), (1078, 'pick', 7.981042591125215), (1079, 'themes', 1.3683755068119994), (1080, 'road', 0.4527444868213209), (1081, 'lovely', 2.533369748039043), (1082, 'narrative', 3.790625252547372), (1083, 'wild', -10.785429580081898), (1084, 'likely', -6.887444660464346), (1085, 'brain', 2.2355561092761778), (1086, 'costumes', 2.080168424049158), (1087, 'thus', -2.016543650749728), (1088, 'plan', 2.7166216846210807), (1089, 'issues', -12.704260823195773), (1090, 'excuse', -0.4349965048714715), (1091, 'outstanding', -1.1480911965947191), (1092, 'painful', 0.558374922621522), (1093, 'producer', 1.2661894755080332), (1094, 'surely', 1.0676205018574108), (1095, 'constantly', 1.3448556106568963), (1096, 'christopher', 0.8913794927013458), (1097, 'government', 4.390545243006971), (1098, 'fully', 0.5944959520284239), (1099, 'self', 6.5362758048978655), (1100, 'edge', 1.1006147819509402), (1101, 'presented', -1.2557060861203813), (1102, 'victim', 0.2366923481509337), (1103, 'cinematic', 3.077000525962021), (1104, 'contains', -3.3257832351048373), (1105, 'places', 2.920663819087724), (1106, 'central', 3.6542406631904836), (1107, 'details', 5.719738035365149), (1108, 'innocent', 1.5030333463648144), (1109, 'presence', 0.38702207526805976), (1110, 'climax', 2.0311336656683134), (1111, 'everybody', 4.190463671070968), (1112, 'slowly', 5.15777185603363), (1113, 'besides', -4.222285236252672), (1114, 'pass', 6.2642113161445145), (1115, 'charles', -8.10876610606478), (1116, 'hoping', 2.9033640835486656), (1117, 'historical', 5.104603579418255), (1118, 'stunning', -1.7096272982784169), (1119, 'photography', -1.953623958974477), (1120, 'impression', -5.6267567892374935), (1121, 'loves', -1.651905663836347), (1122, 'gang', -4.102896208122657), (1123, 'thrown', 1.4056937628177297), (1124, 'mysterious', -11.159242676775113), (1125, 'bottom', -4.644707190111762), (1126, 'shoot', 2.002535243431902), (1127, 'minor', -6.007096553513067), (1128, 'makers', 2.590164752917334), (1129, 'critics', 1.7247523415481014), (1130, 'aspects', 5.162055689808637), (1131, 'stands', -3.630798612203801), (1132, 'indian', -6.1299631376901536), (1133, 'suppose', 0.33808313487320407), (1134, 'scenery', -0.5354100959595035), (1135, 'train', -11.955503839735469), (1136, 'bother', 6.156418695496185), (1137, 'feelings', 4.961700592531706), (1138, 'sent', 1.6769364632376524), (1139, 'heavy', 3.8233841126243253), (1140, 'support', 2.043719724566948), (1141, 'opportunity', 5.367349842445547), (1142, 'award', 1.6402440825922346), (1143, 'brief', 2.8535847945900077), (1144, 'element', -2.942875533946594), (1145, 'filming', 1.1769041452839095), (1146, 'mainly', 1.3129637843007762), (1147, 'ahead', 8.900799660233433), (1148, 'fascinating', 2.203212702317328), (1149, 'blue', -2.1311009333461817), (1150, 'rated', -1.3937361038919633), (1151, 'acts', 1.560654842553138), (1152, 'pieces', 9.63563890798332), (1153, 'emotions', 6.4837059332202065), (1154, 'available', -2.583033602067394), (1155, 'intended', 1.1372639595151919), (1156, 'building', -2.3545966871399084), (1157, 'names', -6.976493959488064), (1158, 'throw', 0.23647310536337213), (1159, 'track', 7.652911475695889), (1160, 'compelling', 1.0537179646949444), (1161, 'changes', 3.09182742514404), (1162, 'drawn', -1.2060380870593188), (1163, 'puts', 1.019628228064995), (1164, 'green', 0.7749988042018784), (1165, 'falling', -1.7660584637056755), (1166, 'student', 2.0773436918715373), (1167, 'smart', 2.2318519145456266), (1168, 'offer', -2.2351993436144393), (1169, 'speaking', -4.584961094721192), (1170, 'tired', -0.5450389866571774), (1171, 'suggest', 1.9698340760051556), (1172, 'include', -2.0873368835297197), (1173, 'difference', -4.323404925114982), (1174, 'confused', 2.560296073455719), (1175, 'followed', 7.064156924936363), (1176, 'approach', -3.8172720119909243), (1177, 'giant', -8.105110145556171e-15), (1178, 'motion', 2.2570803941411657), (1179, 'appeared', -2.3723334569832026), (1180, 'developed', -3.534426269485536e-14), (1181, 'image', -0.6796990632492751), (1182, 'gorgeous', 1.6774459283471663), (1183, 'laughed', -0.14822951439115994), (1184, 'notice', 3.0621071568505935), (1185, 'share', -8.152040586516925), (1186, 'lacks', 6.720335153894474), (1187, 'fresh', 1.9158982308626842), (1188, 'fellow', 2.0764220930234116), (1189, 'supposedly', 3.863786886614474), (1190, 'moral', -5.476192452456993), (1191, 'million', 0.9109566008661889), (1192, 'answer', -10.515574584120108), (1193, 'mediocre', 9.206302064750217), (1194, 'helps', 7.4670156612072836), (1195, 'funniest', -1.6920957539240566), (1196, 'drive', -2.129222330050095), (1197, 'merely', -3.1647326471917654), (1198, 'proves', -4.315870027287307), (1199, 'wondering', 0.7543683057242363), (1200, 'random', 0.9296728955304028), (1201, 'mix', 2.346323856666094), (1202, 'delivers', 4.472519393344869), (1203, 'finding', -1.040057778894774), (1204, 'creative', -5.095356001004567), (1205, 'putting', 2.8821109920242733), (1206, 'key', -1.047438218413005), (1207, 'damn', -0.7406883141491981), (1208, 'drug', -4.534253451311268), (1209, 'shock', 1.7284938265935077), (1210, 'impressed', -2.1971350460706605), (1211, 'absolute', 3.0341603300956526), (1212, 'lived', 1.0525397375382775), (1213, 'negative', -1.2690650289867738), (1214, 'paid', 2.7865998011212407), (1215, 'thoroughly', 0.09375114443012234), (1216, 'provides', 0.03996395406272042), (1217, 'becoming', 2.236184651047174), (1218, 'seemingly', -8.614351056202677), (1219, 'reminded', 0.5020914524921501), (1220, 'fell', 3.5034287995628532), (1221, 'offers', -4.6575985318535285), (1222, 'thats', -6.5177274302296135), (1223, 'tragic', 0.6684365653190957), (1224, 'faces', 3.3597495215270503), (1225, 'afraid', 8.226035123497425), (1226, 'intense', 2.679688859529543), (1227, 'six', 1.456987316848099), (1228, 'spot', -1.757463234424069), (1229, 'stuck', 3.922857358614656), (1230, 'lose', 2.70751377637858), (1231, 'beat', 1.9098021323876924), (1232, 'adds', 2.2544601402426205), (1233, 'held', 4.120202604906641), (1234, 'rented', -1.442158314740457), (1235, 'artistic', 3.1180772885809347), (1236, 'turning', 1.3187128369479213), (1237, 'pull', 3.738036680395297), (1238, 'information', 3.5434867521624933), (1239, 'location', 0.5719509298134683), (1240, 'super', 0.8878555013980595), (1241, 'listen', 0.6446890403817278), (1242, 'describe', 2.912702955001966), (1243, 'lets', 3.0220545531127914), (1244, 'favourite', -4.81875960493968), (1245, 'deliver', 1.993665045555478), (1246, 'asks', -2.527299081696686), (1247, 'ready', -0.40840964414704733), (1248, 'onto', 3.08497330843855), (1249, 'picked', -11.180179032168613), (1250, 'inspired', 2.8882886194818598), (1251, 'led', 3.359558485195589), (1252, 'redeeming', 1.4416155145712601), (1253, 'compare', -4.511949866580679), (1254, 'allowed', 3.405070176045163), (1255, 'member', -1.9814228516754577), (1256, 'carry', 2.919991570889007), (1257, 'helped', 4.468734160445269), (1258, 'wonderfully', -0.41085214251657876), (1259, 'moved', 1.3869688664423048), (1260, 'teenage', 0.5543293286400316), (1261, 'includes', 1.1863260506555342), (1262, 'deeply', -11.000477924262471), (1263, 'willing', 7.296315904919098), (1264, 'began', 3.074852851470964), (1265, 'direct', 0.5828024177581271), (1266, 'quick', -1.1914944542449608), (1267, 'professional', -2.1828103533020524), (1268, 'worthy', 3.902356241416843), (1269, 'rarely', -1.029486117276775), (1270, 'comedic', 0.8678796648482794), (1271, 'independent', -2.9757108264569), (1272, 'realized', 4.113243954376158), (1273, 'apparent', 1.8893892047459369), (1274, 'allow', -0.8227276571911376), (1275, 'wearing', 1.751686722970774), (1276, 'returns', 1.5111650056789823), (1277, 'continue', -7.003942282232121), (1278, 'physical', 0.6297275493783904), (1279, 'provide', 1.067105407355568), (1280, 'accept', 2.795836556805262), (1281, 'search', -2.0419049859926477), (1282, 'wanting', -1.8943267151779928), (1283, 'reminds', 6.561999645876453), (1284, 'holds', -0.4525516997156308), (1285, 'build', -2.011471164493791), (1286, 'asked', -1.2490263699153392), (1287, 'extra', 3.8033365225178484), (1288, 'blame', 4.239758383395329), (1289, 'sat', 2.255128888809245), (1290, 'deserve', 3.7588613400225057), (1291, 'gotten', 2.706250758524303), (1292, 'teen', -2.1156970181271153), (1293, 'starting', 3.6747356122839463), (1294, 'creating', -10.912208223542308), (1295, 'keeping', 11.15608999510872), (1296, 'manage', 7.426805214650016), (1297, 'discover', 3.025276097030231), (1298, 'learned', 2.4405772580308955)]\n",
            "Final features: [(1, 'like', -14.88280371028484), (4, 'time', -11.025780683418553), (8, 'see', -7.136303456137573), (10, 'much', -7.765859923452842), (12, 'people', 9.593041742938459), (17, 'made', -12.073724516925822), (18, 'way', -13.62356589988532), (19, 'make', -13.596518797219318), (27, 'two', 8.868123769538611), (31, 'never', -18.07539195121672), (34, 'love', 22.597497771240025), (35, 'best', 15.962449691452607), (36, 'life', -7.44180809957522), (40, 'better', 8.56178172507379), (41, 'man', -8.345330658014598), (45, 'scene', -16.946802867531602), (47, 'go', -9.766039413341028), (48, 'something', -9.606621805142284), (49, 'back', -12.015410237219522), (53, 'thing', 12.823708377339743), (57, 'another', -12.66315890411466), (58, 'nothing', 7.427469350632104), (60, 'funny', -8.871339568504661), (62, 'work', 8.104106377428014), (72, 'us', 12.83650803991129), (73, 'world', 7.7116198157820826), (74, 'quite', -8.414837757073098), (76, 'things', -7.997674999268881), (77, 'pretty', 13.057287265781316), (82, 'however', -9.888120899266108), (83, 'fact', -7.201878314708776), (85, 'take', -8.118959798058123), (86, 'enough', 15.80787718925572), (88, 'give', -7.10410219217582), (89, 'original', 9.330136589556863), (90, 'big', 10.296648756951448), (91, 'thought', 8.625611653449058), (96, 'long', 14.363398992761773), (100, 'comedy', -7.9575632743858025), (102, 'come', -7.165778863802654), (103, 'point', 10.779860474906323), (107, 'almost', -14.958790238299082), (108, 'least', -7.504709714191859), (110, 'must', 7.4116222207043885), (112, 'music', -17.76988580268375), (114, 'done', -11.905547861497286), (115, 'guy', -13.376140296081493), (116, 'anything', -20.09759983987096), (120, 'might', 14.60088194327408), (130, 'rather', -36.55435822652425), (132, 'sure', 10.669082902277678), (135, 'making', 11.223351675650248), (139, 'day', 8.360512331674382), (140, 'although', 11.308151171955718), (144, 'comes', -9.130167039780378), (147, 'hard', -11.304480964550782), (148, 'looks', 10.759575465550649), (153, 'put', -8.392642174492886), (154, 'maybe', -16.14389968997603), (155, 'money', -11.577716209108702), (157, 'ending', -14.044405550544436), (158, 'reason', -7.855292986843189), (160, 'everything', -11.955938286059341), (164, 'dvd', 11.166504208755425), (167, 'worth', 12.238180339574583), (174, 'three', 10.163988780624784), (175, 'plays', 7.5217265869001215), (176, 'john', 8.26962258759587), (179, 'play', -14.834782505982734), (182, 'seem', 17.93904239570993), (184, 'takes', -8.926290713352152), (192, 'special', 25.339453966489838), (193, 'excellent', 9.520710645338996), (195, 'american', -11.437464272399316), (196, 'idea', -8.493353896711449), (207, 'star', -9.26782294340278), (210, 'fan', -21.062663713728515), (215, 'hollywood', -10.750548091606339), (222, 'try', 14.067891136154765), (224, 'women', 10.340353790279304), (225, 'enjoy', 11.32037973506507), (226, 'classic', -22.653890539835345), (228, 'short', -10.159608234543535), (236, 'truly', -10.51005885888729), (244, 'start', -22.57255292590665), (247, 'came', 7.969268657377312), (249, 'moments', -28.063881887715684), (250, 'awful', 23.956286450805198), (252, 'episode', -11.763976805684), (254, 'understand', -23.371304874219657), (265, 'early', 7.400478651294835), (267, 'small', 11.719546004096708), (268, 'definitely', 11.346444149317442), (272, 'face', 18.980275059291248), (275, 'become', 8.325192789787604), (279, 'finally', -7.817941468637173), (285, 'top', 7.2677516267544995), (286, 'liked', -19.44131671242021), (288, 'children', -14.06310663871125), (291, 'head', -8.96711069902914), (299, 'went', -23.673292973042784), (304, 'style', -30.363962913215428), (305, 'waste', -9.732472391039115), (313, 'several', 17.66477261855079), (315, 'fans', -15.930977064834213), (318, 'white', 9.431019493450014), (325, 'based', 7.749937798794826), (327, 'despite', -8.244141514920157), (330, 'throughout', -13.04795554690388), (333, 'final', 7.084499451578795), (334, 'history', 17.83344572182785), (336, 'turn', 9.5892527292429), (341, 'humor', -12.122210571668994), (348, 'wants', -11.649191512289564), (349, 'low', 10.578950173782664), (350, 'works', -7.614209388687948), (361, 'enjoyed', 15.184674141473332), (365, 'town', 17.501924115701332), (367, 'kill', -8.259478390839138), (374, 'side', -21.419991441737153), (379, 'car', 16.531588566068546), (382, 'art', 11.138317200449437), (387, 'stories', -7.2594395246933665), (388, 'thinking', 8.22526171435393), (389, 'city', -8.171963325313168), (391, 'directed', 7.015759662517941), (393, 'blood', -12.405846968838535), (398, 'god', -9.319897515156121), (415, 'brother', -9.733576052577432), (418, 'happened', 11.73082748840167), (425, 'writer', -7.185462066077989), (427, 'experience', -9.650333623099566), (431, 'alone', -11.836989632945693), (435, 'happen', -8.621810510377266), (436, 'please', 7.413181178348422), (437, 'age', -7.848102882810363), (438, 'wonder', -7.176666030918036), (446, 'interest', -13.632011496081454), (447, 'save', -10.501896897907281), (448, 'none', -11.26152830071868), (449, 'ok', -19.741771704114683), (451, 'type', -9.459312802123671), (452, 'looked', 10.65205083080404), (456, 'number', -10.653950373249122), (457, 'seriously', -8.358248250545289), (458, 'hell', -10.563586408219518), (463, 'hero', -16.68346669458154), (480, 'across', 7.193544279480184), (483, 'reality', 9.237343993120668), (485, 'usual', -18.355100819927426), (502, 'order', -8.956533547658772), (507, 'shots', 8.485097896811112), (518, 'documentary', -10.79000010353383), (531, 'songs', -7.441803406709507), (535, 'knew', 9.949886520554045), (538, 'television', 8.237600752823733), (553, 'four', -14.546969369776681), (564, 'b', -12.719228284751471), (574, 'lady', 9.971204356964895), (576, 'appears', 8.031804327756172), (587, 'sequel', -11.567671921926637), (598, 'ways', 11.438369612365266), (607, 'using', 16.02710785267026), (610, 'sister', -9.00287928556472), (615, 'elements', 8.04481908855434), (619, 'comments', -17.391735781487235), (625, 'hate', -8.351815366446587), (627, 'peter', -12.292318300955012), (629, 'french', -7.123157677694399), (631, 'editing', 8.667574277693799), (646, 'material', 9.971921991872659), (650, 'straight', -10.005237997025892), (658, 'kept', 11.341170105884798), (664, 'eye', 9.266963724300716), (668, 'hear', 8.397355063089307), (672, 'suspense', -17.90060795464987), (689, 'space', -8.69568689146091), (691, 'surprise', 7.3667831130194505), (710, 'sit', -18.561860867468486), (711, 'poorly', -8.086572895294598), (721, 'reading', -15.033807131540385), (723, 'baby', 16.77523954080074), (725, 'directors', 7.343669796143166), (731, 'situation', 7.886266213992826), (732, 'meets', 9.793230612346647), (742, 'realize', 8.237744632288447), (747, 'footage', -8.447176332166848), (749, 'ask', -15.997050330544871), (757, 'directing', -16.267135310316547), (767, 'monster', 12.53237011586456), (769, 'result', -9.063266361362055), (772, 'previous', 8.43841771675174), (773, 'brings', 11.579924791331466), (778, 'effect', 7.242760978267033), (800, 'boys', 12.666175322331409), (802, 'business', 10.468732803127638), (803, 'masterpiece', -13.579178264867902), (805, 'battle', -11.725381864937043), (818, 'missing', -8.54230230696731), (821, 'villain', -12.341560405126028), (832, 'fighting', 7.748650910988191), (850, 'sadly', 7.160826790943419), (859, 'crew', 9.802238325748135), (861, 'missed', -16.182415382170745), (863, 'pure', -10.42118631400776), (867, 'caught', -10.15340778597458), (878, 'list', 9.622459289188667), (897, 'fear', -7.31633851990803), (909, 'kills', -10.667628018612868), (938, 'spend', 9.768070122369346), (944, 'speak', -17.397020958516993), (956, 'focus', 9.398170716813395), (966, 'century', 7.481155801041742), (969, 'showed', 12.0687885652037), (978, 'respect', 9.386970956066358), (983, 'win', 7.145068092495256), (990, 'mad', -10.077898973186313), (997, 'audiences', -8.180769419824761), (1002, 'shooting', -9.772825137907018), (1004, 'thanks', 8.868190670539114), (1007, 'generally', -14.95554373707478), (1012, 'likes', -10.573520435691334), (1017, 'involving', -8.48602348310902), (1018, 'immediately', 7.148097704240181), (1020, 'frank', -13.26558222424875), (1023, 'bought', -8.84094717473112), (1051, 'military', -9.322066347696378), (1052, 'nowhere', 9.054554020045062), (1058, 'purpose', 13.525775048750386), (1059, 'touching', -10.88296554381533), (1063, 'chase', 14.045168623509422), (1074, 'mood', 10.76227886524064), (1076, 'managed', 8.79349177012015), (1077, 'complex', -15.786977487648063), (1078, 'pick', 7.981042591125215), (1083, 'wild', -10.785429580081898), (1089, 'issues', -12.704260823195773), (1115, 'charles', -8.10876610606478), (1124, 'mysterious', -11.159242676775113), (1135, 'train', -11.955503839735469), (1147, 'ahead', 8.900799660233433), (1152, 'pieces', 9.63563890798332), (1159, 'track', 7.652911475695889), (1175, 'followed', 7.064156924936363), (1185, 'share', -8.152040586516925), (1192, 'answer', -10.515574584120108), (1193, 'mediocre', 9.206302064750217), (1194, 'helps', 7.4670156612072836), (1218, 'seemingly', -8.614351056202677), (1225, 'afraid', 8.226035123497425), (1249, 'picked', -11.180179032168613), (1262, 'deeply', -11.000477924262471), (1263, 'willing', 7.296315904919098), (1277, 'continue', -7.003942282232121), (1294, 'creating', -10.912208223542308), (1295, 'keeping', 11.15608999510872), (1296, 'manage', 7.426805214650016)]\n",
            "Sorted final feature list [(130, 'rather', -36.55435822652425), (304, 'style', -30.363962913215428), (249, 'moments', -28.063881887715684), (299, 'went', -23.673292973042784), (254, 'understand', -23.371304874219657), (226, 'classic', -22.653890539835345), (244, 'start', -22.57255292590665), (374, 'side', -21.419991441737153), (210, 'fan', -21.062663713728515), (116, 'anything', -20.09759983987096), (449, 'ok', -19.741771704114683), (286, 'liked', -19.44131671242021), (710, 'sit', -18.561860867468486), (485, 'usual', -18.355100819927426), (31, 'never', -18.07539195121672), (672, 'suspense', -17.90060795464987), (112, 'music', -17.76988580268375), (944, 'speak', -17.397020958516993), (619, 'comments', -17.391735781487235), (45, 'scene', -16.946802867531602), (463, 'hero', -16.68346669458154), (757, 'directing', -16.267135310316547), (861, 'missed', -16.182415382170745), (154, 'maybe', -16.14389968997603), (749, 'ask', -15.997050330544871), (315, 'fans', -15.930977064834213), (1077, 'complex', -15.786977487648063), (721, 'reading', -15.033807131540385), (107, 'almost', -14.958790238299082), (1007, 'generally', -14.95554373707478), (1, 'like', -14.88280371028484), (179, 'play', -14.834782505982734), (553, 'four', -14.546969369776681), (288, 'children', -14.06310663871125), (157, 'ending', -14.044405550544436), (446, 'interest', -13.632011496081454), (18, 'way', -13.62356589988532), (19, 'make', -13.596518797219318), (803, 'masterpiece', -13.579178264867902), (115, 'guy', -13.376140296081493), (1020, 'frank', -13.26558222424875), (330, 'throughout', -13.04795554690388), (564, 'b', -12.719228284751471), (1089, 'issues', -12.704260823195773), (57, 'another', -12.66315890411466), (393, 'blood', -12.405846968838535), (821, 'villain', -12.341560405126028), (627, 'peter', -12.292318300955012), (341, 'humor', -12.122210571668994), (17, 'made', -12.073724516925822), (49, 'back', -12.015410237219522), (160, 'everything', -11.955938286059341), (1135, 'train', -11.955503839735469), (114, 'done', -11.905547861497286), (431, 'alone', -11.836989632945693), (252, 'episode', -11.763976805684), (805, 'battle', -11.725381864937043), (348, 'wants', -11.649191512289564), (155, 'money', -11.577716209108702), (587, 'sequel', -11.567671921926637), (195, 'american', -11.437464272399316), (147, 'hard', -11.304480964550782), (448, 'none', -11.26152830071868), (1249, 'picked', -11.180179032168613), (1124, 'mysterious', -11.159242676775113), (4, 'time', -11.025780683418553), (1262, 'deeply', -11.000477924262471), (1294, 'creating', -10.912208223542308), (1059, 'touching', -10.88296554381533), (518, 'documentary', -10.79000010353383), (1083, 'wild', -10.785429580081898), (215, 'hollywood', -10.750548091606339), (909, 'kills', -10.667628018612868), (456, 'number', -10.653950373249122), (1012, 'likes', -10.573520435691334), (458, 'hell', -10.563586408219518), (1192, 'answer', -10.515574584120108), (236, 'truly', -10.51005885888729), (447, 'save', -10.501896897907281), (863, 'pure', -10.42118631400776), (228, 'short', -10.159608234543535), (867, 'caught', -10.15340778597458), (990, 'mad', -10.077898973186313), (650, 'straight', -10.005237997025892), (82, 'however', -9.888120899266108), (1002, 'shooting', -9.772825137907018), (47, 'go', -9.766039413341028), (415, 'brother', -9.733576052577432), (305, 'waste', -9.732472391039115), (427, 'experience', -9.650333623099566), (48, 'something', -9.606621805142284), (451, 'type', -9.459312802123671), (1051, 'military', -9.322066347696378), (398, 'god', -9.319897515156121), (207, 'star', -9.26782294340278), (144, 'comes', -9.130167039780378), (769, 'result', -9.063266361362055), (610, 'sister', -9.00287928556472), (291, 'head', -8.96711069902914), (502, 'order', -8.956533547658772), (184, 'takes', -8.926290713352152), (60, 'funny', -8.871339568504661), (1023, 'bought', -8.84094717473112), (689, 'space', -8.69568689146091), (435, 'happen', -8.621810510377266), (1218, 'seemingly', -8.614351056202677), (818, 'missing', -8.54230230696731), (196, 'idea', -8.493353896711449), (1017, 'involving', -8.48602348310902), (747, 'footage', -8.447176332166848), (74, 'quite', -8.414837757073098), (153, 'put', -8.392642174492886), (457, 'seriously', -8.358248250545289), (625, 'hate', -8.351815366446587), (41, 'man', -8.345330658014598), (367, 'kill', -8.259478390839138), (327, 'despite', -8.244141514920157), (997, 'audiences', -8.180769419824761), (389, 'city', -8.171963325313168), (1185, 'share', -8.152040586516925), (85, 'take', -8.118959798058123), (1115, 'charles', -8.10876610606478), (711, 'poorly', -8.086572895294598), (76, 'things', -7.997674999268881), (100, 'comedy', -7.9575632743858025), (158, 'reason', -7.855292986843189), (437, 'age', -7.848102882810363), (279, 'finally', -7.817941468637173), (10, 'much', -7.765859923452842), (350, 'works', -7.614209388687948), (108, 'least', -7.504709714191859), (36, 'life', -7.44180809957522), (531, 'songs', -7.441803406709507), (897, 'fear', -7.31633851990803), (387, 'stories', -7.2594395246933665), (83, 'fact', -7.201878314708776), (425, 'writer', -7.185462066077989), (438, 'wonder', -7.176666030918036), (102, 'come', -7.165778863802654), (8, 'see', -7.136303456137573), (629, 'french', -7.123157677694399), (88, 'give', -7.10410219217582), (1277, 'continue', -7.003942282232121), (391, 'directed', 7.015759662517941), (1175, 'followed', 7.064156924936363), (333, 'final', 7.084499451578795), (983, 'win', 7.145068092495256), (1018, 'immediately', 7.148097704240181), (850, 'sadly', 7.160826790943419), (480, 'across', 7.193544279480184), (778, 'effect', 7.242760978267033), (285, 'top', 7.2677516267544995), (1263, 'willing', 7.296315904919098), (725, 'directors', 7.343669796143166), (691, 'surprise', 7.3667831130194505), (265, 'early', 7.400478651294835), (110, 'must', 7.4116222207043885), (436, 'please', 7.413181178348422), (1296, 'manage', 7.426805214650016), (58, 'nothing', 7.427469350632104), (1194, 'helps', 7.4670156612072836), (966, 'century', 7.481155801041742), (175, 'plays', 7.5217265869001215), (1159, 'track', 7.652911475695889), (73, 'world', 7.7116198157820826), (832, 'fighting', 7.748650910988191), (325, 'based', 7.749937798794826), (731, 'situation', 7.886266213992826), (247, 'came', 7.969268657377312), (1078, 'pick', 7.981042591125215), (576, 'appears', 8.031804327756172), (615, 'elements', 8.04481908855434), (62, 'work', 8.104106377428014), (388, 'thinking', 8.22526171435393), (1225, 'afraid', 8.226035123497425), (538, 'television', 8.237600752823733), (742, 'realize', 8.237744632288447), (176, 'john', 8.26962258759587), (275, 'become', 8.325192789787604), (139, 'day', 8.360512331674382), (668, 'hear', 8.397355063089307), (772, 'previous', 8.43841771675174), (507, 'shots', 8.485097896811112), (40, 'better', 8.56178172507379), (91, 'thought', 8.625611653449058), (631, 'editing', 8.667574277693799), (1076, 'managed', 8.79349177012015), (27, 'two', 8.868123769538611), (1004, 'thanks', 8.868190670539114), (1147, 'ahead', 8.900799660233433), (1052, 'nowhere', 9.054554020045062), (1193, 'mediocre', 9.206302064750217), (483, 'reality', 9.237343993120668), (664, 'eye', 9.266963724300716), (89, 'original', 9.330136589556863), (978, 'respect', 9.386970956066358), (956, 'focus', 9.398170716813395), (318, 'white', 9.431019493450014), (193, 'excellent', 9.520710645338996), (336, 'turn', 9.5892527292429), (12, 'people', 9.593041742938459), (878, 'list', 9.622459289188667), (1152, 'pieces', 9.63563890798332), (938, 'spend', 9.768070122369346), (732, 'meets', 9.793230612346647), (859, 'crew', 9.802238325748135), (535, 'knew', 9.949886520554045), (574, 'lady', 9.971204356964895), (646, 'material', 9.971921991872659), (174, 'three', 10.163988780624784), (90, 'big', 10.296648756951448), (224, 'women', 10.340353790279304), (802, 'business', 10.468732803127638), (349, 'low', 10.578950173782664), (452, 'looked', 10.65205083080404), (132, 'sure', 10.669082902277678), (148, 'looks', 10.759575465550649), (1074, 'mood', 10.76227886524064), (103, 'point', 10.779860474906323), (382, 'art', 11.138317200449437), (1295, 'keeping', 11.15608999510872), (164, 'dvd', 11.166504208755425), (135, 'making', 11.223351675650248), (140, 'although', 11.308151171955718), (225, 'enjoy', 11.32037973506507), (658, 'kept', 11.341170105884798), (268, 'definitely', 11.346444149317442), (598, 'ways', 11.438369612365266), (773, 'brings', 11.579924791331466), (267, 'small', 11.719546004096708), (418, 'happened', 11.73082748840167), (969, 'showed', 12.0687885652037), (167, 'worth', 12.238180339574583), (767, 'monster', 12.53237011586456), (800, 'boys', 12.666175322331409), (53, 'thing', 12.823708377339743), (72, 'us', 12.83650803991129), (77, 'pretty', 13.057287265781316), (1058, 'purpose', 13.525775048750386), (1063, 'chase', 14.045168623509422), (222, 'try', 14.067891136154765), (96, 'long', 14.363398992761773), (120, 'might', 14.60088194327408), (361, 'enjoyed', 15.184674141473332), (86, 'enough', 15.80787718925572), (35, 'best', 15.962449691452607), (607, 'using', 16.02710785267026), (379, 'car', 16.531588566068546), (723, 'baby', 16.77523954080074), (365, 'town', 17.501924115701332), (313, 'several', 17.66477261855079), (334, 'history', 17.83344572182785), (182, 'seem', 17.93904239570993), (272, 'face', 18.980275059291248), (34, 'love', 22.597497771240025), (250, 'awful', 23.956286450805198), (192, 'special', 25.339453966489838)]\n",
            "Final features:  ['like', 'time', 'see', 'much', 'people', 'made', 'way', 'make', 'two', 'never', 'love', 'best', 'life', 'better', 'man', 'scene', 'go', 'something', 'back', 'thing', 'another', 'nothing', 'funny', 'work', 'us', 'world', 'quite', 'things', 'pretty', 'however', 'fact', 'take', 'enough', 'give', 'original', 'big', 'thought', 'long', 'comedy', 'come', 'point', 'almost', 'least', 'must', 'music', 'done', 'guy', 'anything', 'might', 'rather', 'sure', 'making', 'day', 'although', 'comes', 'hard', 'looks', 'put', 'maybe', 'money', 'ending', 'reason', 'everything', 'dvd', 'worth', 'three', 'plays', 'john', 'play', 'seem', 'takes', 'special', 'excellent', 'american', 'idea', 'star', 'fan', 'hollywood', 'try', 'women', 'enjoy', 'classic', 'short', 'truly', 'start', 'came', 'moments', 'awful', 'episode', 'understand', 'early', 'small', 'definitely', 'face', 'become', 'finally', 'top', 'liked', 'children', 'head', 'went', 'style', 'waste', 'several', 'fans', 'white', 'based', 'despite', 'throughout', 'final', 'history', 'turn', 'humor', 'wants', 'low', 'works', 'enjoyed', 'town', 'kill', 'side', 'car', 'art', 'stories', 'thinking', 'city', 'directed', 'blood', 'god', 'brother', 'happened', 'writer', 'experience', 'alone', 'happen', 'please', 'age', 'wonder', 'interest', 'save', 'none', 'ok', 'type', 'looked', 'number', 'seriously', 'hell', 'hero', 'across', 'reality', 'usual', 'order', 'shots', 'documentary', 'songs', 'knew', 'television', 'four', 'b', 'lady', 'appears', 'sequel', 'ways', 'using', 'sister', 'elements', 'comments', 'hate', 'peter', 'french', 'editing', 'material', 'straight', 'kept', 'eye', 'hear', 'suspense', 'space', 'surprise', 'sit', 'poorly', 'reading', 'baby', 'directors', 'situation', 'meets', 'realize', 'footage', 'ask', 'directing', 'monster', 'result', 'previous', 'brings', 'effect', 'boys', 'business', 'masterpiece', 'battle', 'missing', 'villain', 'fighting', 'sadly', 'crew', 'missed', 'pure', 'caught', 'list', 'fear', 'kills', 'spend', 'speak', 'focus', 'century', 'showed', 'respect', 'win', 'mad', 'audiences', 'shooting', 'thanks', 'generally', 'likes', 'involving', 'immediately', 'frank', 'bought', 'military', 'nowhere', 'purpose', 'touching', 'chase', 'mood', 'managed', 'complex', 'pick', 'wild', 'issues', 'charles', 'mysterious', 'train', 'ahead', 'pieces', 'track', 'followed', 'share', 'answer', 'mediocre', 'helps', 'seemingly', 'afraid', 'picked', 'deeply', 'willing', 'continue', 'creating', 'keeping', 'manage']\n",
            "Most negative zscores: [(130, 'rather', -36.55435822652425), (304, 'style', -30.363962913215428), (249, 'moments', -28.063881887715684), (299, 'went', -23.673292973042784), (254, 'understand', -23.371304874219657), (226, 'classic', -22.653890539835345), (244, 'start', -22.57255292590665), (374, 'side', -21.419991441737153), (210, 'fan', -21.062663713728515), (116, 'anything', -20.09759983987096)]\n",
            "Most positive zscores: [(379, 'car', 16.531588566068546), (723, 'baby', 16.77523954080074), (365, 'town', 17.501924115701332), (313, 'several', 17.66477261855079), (334, 'history', 17.83344572182785), (182, 'seem', 17.93904239570993), (272, 'face', 18.980275059291248), (34, 'love', 22.597497771240025), (250, 'awful', 23.956286450805198), (192, 'special', 25.339453966489838)]\n",
            "Initial Feature Count: 1299\n",
            "Final Feature Count: 257\n"
          ]
        },
        {
          "output_type": "display_data",
          "data": {
            "text/plain": [
              "<Figure size 432x288 with 1 Axes>"
            ],
            "image/png": "[encoded data removed]"
          },
          "metadata": {
            "needs_background": "light"
          }
        }
      ],
      "source": [
        "# Filter train dataset features\n",
        "\n",
        "# Calculate Z-Score of Train set\n",
        "numRows, numCols = np.shape(train_numpy_data_imdb)\n",
        "X_imdb_train = train_numpy_data_imdb[:, 0: numCols-1] # Excluding the label column\n",
        "y_imdb_train = train_numpy_data_imdb[:, numCols-1]\n",
        "\n",
        "X_imdb_standardized = (X_imdb_train - X_imdb_train.mean(axis=0)) / X_imdb_train.std(axis=0)\n",
        "y_imdb_standardized = (y_imdb_train - y_imdb_train.mean(axis=0)) / y_imdb_train.std(axis=0)\n",
        "\n",
        "z_scores_train = (X_imdb_standardized.T @ y_imdb_standardized) / np.sqrt(numRows)\n",
        "plt.plot(z_scores_train)\n",
        "index_features_zscores = []\n",
        "for index, (feature, zscore) in enumerate(zip(initialFeatures, z_scores_train)):\n",
        "  index_features_zscores.append((index, feature, zscore))\n",
        "print(\"Initial features:\", index_features_zscores)\n",
        "keptIndices, indicesForRemoval = filter(z_scores_train, 7, -7)\n",
        "\n",
        "final_features_index_features_zscores = []\n",
        "for index, item in enumerate(index_features_zscores):\n",
        "  if index in keptIndices:\n",
        "    final_features_index_features_zscores.append(item)\n",
        "sorted_final_features_index_features_zscores = sorted(final_features_index_features_zscores, key=lambda tup: tup[2])\n",
        "most_positive_final_features_index_features_zscores = sorted_final_features_index_features_zscores[: 10]\n",
        "most_negative_final_features_index_features_zscores = sorted_final_features_index_features_zscores[-10 :]\n",
        "top_zscores = most_positive_final_features_index_features_zscores + most_negative_final_features_index_features_zscores\n",
        "final_features = [i[1] for i in final_features_index_features_zscores]\n",
        "\n",
        "print(\"Final features:\", final_features_index_features_zscores)\n",
        "print(\"Sorted final feature list\", sorted_final_features_index_features_zscores)\n",
        "print(\"Final features: \", final_features)\n",
        "print(\"Most negative zscores:\", most_positive_final_features_index_features_zscores)\n",
        "print(\"Most positive zscores:\", most_negative_final_features_index_features_zscores)\n",
        "print(\"Initial Feature Count:\", len(initialFeatures))\n",
        "print(\"Final Feature Count:\", len(keptIndices))"
      ]
    },
    {
      "cell_type": "code",
      "execution_count": null,
      "metadata": {
        "colab": {
          "base_uri": "https://localhost:8080/"
        },
        "id": "Q9d3ljDiJWHH",
        "outputId": "85b6b599-67e3-49e4-d7f6-ce8d2da753d7"
      },
      "outputs": [
        {
          "output_type": "stream",
          "name": "stdout",
          "text": [
            "(25000, 257)\n",
            "1299\n"
          ]
        }
      ],
      "source": [
        "# Feature-scaled train datasets\n",
        "X_imdb_filtered_train = removeColumns(train_numpy_data_imdb, keptIndices)\n",
        "y_imdb_filtered_train = train_numpy_data_imdb[:, numCols-1]\n",
        "X_imdb_filtered_train\n",
        "print(X_imdb_filtered_train.shape)\n",
        "print(train_numpy_data_imdb.shape[1] - 1)"
      ]
    },
    {
      "cell_type": "code",
      "execution_count": null,
      "metadata": {
        "colab": {
          "base_uri": "https://localhost:8080/"
        },
        "id": "NbVijJNiOKJK",
        "outputId": "70b03e71-9e26-4492-e241-e2206a815988"
      },
      "outputs": [
        {
          "output_type": "stream",
          "name": "stdout",
          "text": [
            "(25000, 257)\n"
          ]
        }
      ],
      "source": [
        "# Random feature-scaled train datasets\n",
        "\n",
        "randomIndicesToKeep = []\n",
        "for i in range(0, X_imdb_filtered_train.shape[1]):\n",
        "  n = random.randint(0, train_numpy_data_imdb.shape[1]-2)\n",
        "  randomIndicesToKeep.append(n)\n",
        "X_random_imdb_filtered_train = removeColumns(train_numpy_data_imdb, randomIndicesToKeep)\n",
        "y_random_imdb_filtered_train = train_numpy_data_imdb[:, numCols-1]\n",
        "X_imdb_filtered_train\n",
        "print(X_imdb_filtered_train.shape)"
      ]
    },
    {
      "cell_type": "code",
      "execution_count": null,
      "metadata": {
        "colab": {
          "base_uri": "https://localhost:8080/"
        },
        "id": "axXEnSczJWz2",
        "outputId": "f3efee4e-9b48-42f2-f8c5-3c1fc3b28448"
      },
      "outputs": [
        {
          "output_type": "execute_result",
          "data": {
            "text/plain": [
              "(25000, 257)"
            ]
          },
          "metadata": {},
          "execution_count": 260
        }
      ],
      "source": [
        "# Feature-scaled test\n",
        "X_imdb_filtered_test, y_imdb_filtered_test = get_X_y(test_numpy_data_imdb)\n",
        "X_imdb_filtered_test = removeColumns(X_imdb_filtered_test, keptIndices)\n",
        "X_imdb_filtered_test.shape"
      ]
    },
    {
      "cell_type": "code",
      "execution_count": null,
      "metadata": {
        "colab": {
          "base_uri": "https://localhost:8080/"
        },
        "id": "_q_pS0Rshk3y",
        "outputId": "5aa23bac-5d73-4b2c-8efe-6fc694ac45d3"
      },
      "outputs": [
        {
          "output_type": "execute_result",
          "data": {
            "text/plain": [
              "(25000, 257)"
            ]
          },
          "metadata": {},
          "execution_count": 261
        }
      ],
      "source": [
        "# Random feature-scaled test datasets\n",
        "X_random_imdb_filtered_test, y_random_imdb_filtered_test = get_X_y(test_numpy_data_imdb)\n",
        "X_random_imdb_filtered_test = removeColumns(X_random_imdb_filtered_test, randomIndicesToKeep)\n",
        "X_random_imdb_filtered_test.shape"
      ]
    },
    {
      "cell_type": "markdown",
      "metadata": {
        "id": "BCCzGY-qjvoF"
      },
      "source": [
        "### 20-News Groups"
      ]
    },
    {
      "cell_type": "code",
      "execution_count": null,
      "metadata": {
        "id": "zEy8C1_ni3Vp"
      },
      "outputs": [],
      "source": [
        "category0 = 'comp.graphics'\n",
        "category1 = 'rec.sport.hockey'\n",
        "category2 = 'sci.crypt'\n",
        "category3 = 'soc.religion.christian'\n",
        "categories = [category0, category1, category2, category3]\n",
        "remove = ['headers', 'footers', 'quotes']\n",
        "twenty_train = fetch_20newsgroups(subset='train', categories=categories, remove=remove, random_state=42)\n",
        "twenty_test = fetch_20newsgroups(subset='test', categories=categories, remove=remove, random_state=42)\n",
        "\n",
        "textsTrain = twenty_train.data\n",
        "labelsTrain = twenty_train.target.tolist()\n",
        "textsTest = twenty_test.data\n",
        "labelsTest = twenty_test.target.tolist()\n",
        "totalTrainTexts = len(textsTrain)\n",
        "totalTestTexts = len(textsTest)\n",
        "totalTexts = totalTrainTexts + totalTestTexts\n",
        "\n",
        "twenty_train_category0 = fetch_20newsgroups(subset='train', categories=[category0], remove=remove, random_state=42)\n",
        "twenty_test_category0 = fetch_20newsgroups(subset='test', categories=[category0], remove=remove, random_state=42)\n",
        "dataTrainCategory0 = twenty_train_category0.data\n",
        "dataTestCategory0 = twenty_test_category0.data\n",
        "labelsTrainCategory0 = twenty_train_category0.target.tolist()\n",
        "labelsTestCategory0 = twenty_test_category0.target.tolist()\n",
        "\n",
        "twenty_train_category1 = fetch_20newsgroups(subset='train', categories=[category1], remove=remove, random_state=42)\n",
        "twenty_test_category1 = fetch_20newsgroups(subset='test', categories=[category1], remove=remove, random_state=42)\n",
        "dataTrainCategory1 = twenty_train_category1.data\n",
        "dataTestCategory1 = twenty_test_category1.data\n",
        "labelsTrainCategory1 = twenty_train_category1.target.tolist()\n",
        "labelsTestCategory1 = twenty_test_category1.target.tolist()\n",
        "\n",
        "twenty_train_category2 = fetch_20newsgroups(subset='train', categories=[category2], remove=remove, random_state=42)\n",
        "twenty_test_category2 = fetch_20newsgroups(subset='test', categories=[category2], remove=remove, random_state=42)\n",
        "dataTrainCategory2 = twenty_train_category2.data\n",
        "dataTestCategory2 = twenty_test_category2.data\n",
        "labelsTrainCategory2 = twenty_train_category2.target.tolist()\n",
        "labelsTestCategory2 = twenty_test_category2.target.tolist()\n",
        "\n",
        "twenty_train_category3 = fetch_20newsgroups(subset='train', categories=[category3], remove=remove, random_state=42)\n",
        "twenty_test_category3 = fetch_20newsgroups(subset='test', categories=[category3], remove=remove, random_state=42)\n",
        "dataTrainCategory3 = twenty_train_category3.data\n",
        "dataTestCategory3 = twenty_test_category3.data\n",
        "labelsTrainCategory3 = twenty_train_category3.target.tolist()\n",
        "labelsTestCategory3 = twenty_test_category3.target.tolist()\n",
        "\n",
        "def generate_tokens(text):\n",
        "  text = text.lower()\n",
        "  text = re.sub(\"\\\\s\", \" \", text) # remove multiple whitespace characters (leave one whitespace)\n",
        "  tokens = text.split(' ')\n",
        "\n",
        "  return tokens\n",
        "\n",
        "def generate_vocab(textsList):\n",
        "  vocab = set()\n",
        "  \n",
        "  for texts in textsList:\n",
        "    for text in texts:\n",
        "      tokenizedText = generate_tokens(text)\n",
        "      for token in tokenizedText:\n",
        "        if token.isalpha():\n",
        "          vocab.add(token.lower())\n",
        "\n",
        "  return vocab\n",
        "\n",
        "def get_word_frequencies(textsList, categoriesList, vocab):\n",
        "  # category_wordList = []\n",
        "  wordFileFrequencyCount = dict.fromkeys(vocab, 0)\n",
        "\n",
        "  for texts, categories in zip(textsList, categoriesList):\n",
        "    for text, category in zip(texts, categories):\n",
        "      temp = dict()\n",
        "      tokenizedText = generate_tokens(text)\n",
        "\n",
        "      for token in set(tokenizedText):\n",
        "        if token.isalpha():\n",
        "          if token.lower() in wordFileFrequencyCount:\n",
        "            wordFileFrequencyCount[token.lower()] += 1\n",
        "      # category_wordList.append((category, dict(Counter(tokenizedText))))\n",
        "\n",
        "  return wordFileFrequencyCount\n",
        "\n",
        "def find_popular_words(wordFileFrequencyCount, totalTexts):\n",
        "  updatedWordFileFrequencyCount = wordFileFrequencyCount.copy()\n",
        "\n",
        "  for word, count in wordFileFrequencyCount.items():\n",
        "    if not ((count/totalTexts) * 100) >= 1.0:\n",
        "      updatedWordFileFrequencyCount.pop(word, None)\n",
        "\n",
        "  return list(updatedWordFileFrequencyCount.keys())\n",
        "\n",
        "def filter_stop_words(vocabList):\n",
        "  stopWords = set(stopwords.words('english'))\n",
        "  excludedStopWordsList = [vocab for vocab in vocabList if not vocab in stopWords]\n",
        "\n",
        "  return excludedStopWordsList\n",
        "\n",
        "def get_filtered_vocab_list(textsTrain, textsTest, trainLabels, testLabels):\n",
        "  vocabList = generate_vocab([textsTrain, textsTest])\n",
        "  wordFileFrequencyCount = get_word_frequencies([textsTrain, textsTest], [list(trainLabels), list(testLabels)], vocabList)\n",
        "  popularWordsList = find_popular_words(wordFileFrequencyCount, totalTexts)\n",
        "  excludedStopWordsList = filter_stop_words(popularWordsList)\n",
        "  \n",
        "  return excludedStopWordsList\n",
        "\n",
        "def obtain_frequency_count(textsList, labelsList, vocab):\n",
        "  frequenciesList = []\n",
        "\n",
        "  for text, label in zip(textsList, labelsList):\n",
        "    frequencies = dict.fromkeys(range(len(vocab)), 0)\n",
        "    labelIndex = len(frequencies)\n",
        "    tokenizedText = generate_tokens(text)\n",
        "\n",
        "    for token in tokenizedText:\n",
        "      if token.isalpha() and token in vocab:\n",
        "        wordIndex = vocab.index(token)\n",
        "        if wordIndex in frequencies:\n",
        "          frequencies[wordIndex] += 1\n",
        "    frequenciesList.append(frequencies)\n",
        "    frequencies[labelIndex] = label\n",
        "\n",
        "  return frequenciesList\n",
        "\n",
        "def create_df(frequenciesList, vocabList):\n",
        "  wordNames = vocabList.copy()\n",
        "  wordNames.append(\"label\")\n",
        "  data = np.zeros([len(frequenciesList), len(wordNames)]) # last column is for category\n",
        "\n",
        "  for row, frequencies in enumerate(frequenciesList):\n",
        "    for column, frequency in frequencies.items():\n",
        "      data[row][column] = frequency\n",
        "  df = pd.DataFrame(data, columns=wordNames)\n",
        "  df[wordNames] = df[wordNames].astype(int)\n",
        "\n",
        "  return df, data\n",
        "\n",
        "def get_X_y(X_y_data):\n",
        "  numRows, numCols = np.shape(X_y_data)\n",
        "  X_train = X_y_data[:, 0: numCols-1]\n",
        "  y_train = X_y_data[:, numCols-1]\n",
        "  return X_train, y_train"
      ]
    },
    {
      "cell_type": "code",
      "execution_count": null,
      "metadata": {
        "id": "9tYb84TCdars"
      },
      "outputs": [],
      "source": [
        "filteredCategory0Vocab = get_filtered_vocab_list(dataTrainCategory0, dataTrainCategory0, labelsTrainCategory0, labelsTestCategory0) \n",
        "filteredCategory1Vocab = get_filtered_vocab_list(dataTrainCategory1, dataTrainCategory1, labelsTrainCategory1, labelsTestCategory1) \n",
        "filteredCategory2Vocab = get_filtered_vocab_list(dataTrainCategory2, dataTrainCategory2, labelsTrainCategory2, labelsTestCategory2) \n",
        "filteredCategory3Vocab = get_filtered_vocab_list(dataTrainCategory3, dataTrainCategory3, labelsTrainCategory3, labelsTestCategory3) \n",
        "\n",
        "totalFilteredVocab = []\n",
        "totalFilteredVocab.extend(filteredCategory0Vocab)\n",
        "totalFilteredVocab.extend(filteredCategory1Vocab)\n",
        "totalFilteredVocab.extend(filteredCategory2Vocab)\n",
        "totalFilteredVocab.extend(filteredCategory3Vocab)\n",
        "totalFilteredVocab = list(set(totalFilteredVocab))\n",
        "\n",
        "trainFrequencies = obtain_frequency_count(textsTrain, labelsTrain, totalFilteredVocab)\n",
        "testFrequencies = obtain_frequency_count(textsTest, labelsTest, totalFilteredVocab)"
      ]
    },
    {
      "cell_type": "code",
      "execution_count": null,
      "metadata": {
        "colab": {
          "base_uri": "https://localhost:8080/",
          "height": 424
        },
        "id": "aCs51ahxLp0a",
        "outputId": "d40a0d2d-e90a-4d86-acd0-3975eeb4a926"
      },
      "outputs": [
        {
          "output_type": "execute_result",
          "data": {
            "text/plain": [
              "      windows  could  paul  come  read  likely  based  agency  set  scheme  \\\n",
              "0           0      1     0     0     0       0      0       0    0       0   \n",
              "1           0      1     0     0     0       0      0       0    0       0   \n",
              "2           0      0     0     0     1       0      0       0    0       0   \n",
              "3           0      1     0     0     0       0      0       0    0       0   \n",
              "4           0      1     0     0     0       0      0       0    0       0   \n",
              "...       ...    ...   ...   ...   ...     ...    ...     ...  ...     ...   \n",
              "2373        0      0     0     0     0       0      0       0    0       0   \n",
              "2374        0      0     0     0     0       1      0       0    0       0   \n",
              "2375        0      0     0     1     0       0      0       0    0       0   \n",
              "2376        0      2     0     1     3       1      0       0    1       0   \n",
              "2377        0      0     0     0     0       0      0       0    0       0   \n",
              "\n",
              "      ...  color  designed  say  current  home  within  wrong  different  \\\n",
              "0     ...      0         0    0        0     0       0      0          0   \n",
              "1     ...      0         0    1        0     0       0      0          0   \n",
              "2     ...      0         0    1        0     0       0      0          0   \n",
              "3     ...      0         0    0        0     0       0      0          0   \n",
              "4     ...      0         0    0        0     0       0      0          0   \n",
              "...   ...    ...       ...  ...      ...   ...     ...    ...        ...   \n",
              "2373  ...      0         0    0        0     0       0      0          0   \n",
              "2374  ...      0         1    2        0     0       0      0          0   \n",
              "2375  ...      0         0    0        0     0       0      0          0   \n",
              "2376  ...      0         0    3        0     0       0      0          0   \n",
              "2377  ...      1         0    0        0     0       0      0          0   \n",
              "\n",
              "      response  label  \n",
              "0            0      1  \n",
              "1            0      1  \n",
              "2            0      3  \n",
              "3            0      0  \n",
              "4            0      2  \n",
              "...        ...    ...  \n",
              "2373         0      0  \n",
              "2374         0      2  \n",
              "2375         0      2  \n",
              "2376         0      2  \n",
              "2377         0      0  \n",
              "\n",
              "[2378 rows x 599 columns]"
            ],
            "text/html": [
              "\n",
              "  <div id=\"df-a672b66f-a017-4b30-9241-b08037c36678\">\n",
              "    <div class=\"colab-df-container\">\n",
              "      <div>\n",
              "<style scoped>\n",
              "    .dataframe tbody tr th:only-of-type {\n",
              "        vertical-align: middle;\n",
              "    }\n",
              "\n",
              "    .dataframe tbody tr th {\n",
              "        vertical-align: top;\n",
              "    }\n",
              "\n",
              "    .dataframe thead th {\n",
              "        text-align: right;\n",
              "    }\n",
              "</style>\n",
              "<table border=\"1\" class=\"dataframe\">\n",
              "  <thead>\n",
              "    <tr style=\"text-align: right;\">\n",
              "      <th></th>\n",
              "      <th>windows</th>\n",
              "      <th>could</th>\n",
              "      <th>paul</th>\n",
              "      <th>come</th>\n",
              "      <th>read</th>\n",
              "      <th>likely</th>\n",
              "      <th>based</th>\n",
              "      <th>agency</th>\n",
              "      <th>set</th>\n",
              "      <th>scheme</th>\n",
              "      <th>...</th>\n",
              "      <th>color</th>\n",
              "      <th>designed</th>\n",
              "      <th>say</th>\n",
              "      <th>current</th>\n",
              "      <th>home</th>\n",
              "      <th>within</th>\n",
              "      <th>wrong</th>\n",
              "      <th>different</th>\n",
              "      <th>response</th>\n",
              "      <th>label</th>\n",
              "    </tr>\n",
              "  </thead>\n",
              "  <tbody>\n",
              "    <tr>\n",
              "      <th>0</th>\n",
              "      <td>0</td>\n",
              "      <td>1</td>\n",
              "      <td>0</td>\n",
              "      <td>0</td>\n",
              "      <td>0</td>\n",
              "      <td>0</td>\n",
              "      <td>0</td>\n",
              "      <td>0</td>\n",
              "      <td>0</td>\n",
              "      <td>0</td>\n",
              "      <td>...</td>\n",
              "      <td>0</td>\n",
              "      <td>0</td>\n",
              "      <td>0</td>\n",
              "      <td>0</td>\n",
              "      <td>0</td>\n",
              "      <td>0</td>\n",
              "      <td>0</td>\n",
              "      <td>0</td>\n",
              "      <td>0</td>\n",
              "      <td>1</td>\n",
              "    </tr>\n",
              "    <tr>\n",
              "      <th>1</th>\n",
              "      <td>0</td>\n",
              "      <td>1</td>\n",
              "      <td>0</td>\n",
              "      <td>0</td>\n",
              "      <td>0</td>\n",
              "      <td>0</td>\n",
              "      <td>0</td>\n",
              "      <td>0</td>\n",
              "      <td>0</td>\n",
              "      <td>0</td>\n",
              "      <td>...</td>\n",
              "      <td>0</td>\n",
              "      <td>0</td>\n",
              "      <td>1</td>\n",
              "      <td>0</td>\n",
              "      <td>0</td>\n",
              "      <td>0</td>\n",
              "      <td>0</td>\n",
              "      <td>0</td>\n",
              "      <td>0</td>\n",
              "      <td>1</td>\n",
              "    </tr>\n",
              "    <tr>\n",
              "      <th>2</th>\n",
              "      <td>0</td>\n",
              "      <td>0</td>\n",
              "      <td>0</td>\n",
              "      <td>0</td>\n",
              "      <td>1</td>\n",
              "      <td>0</td>\n",
              "      <td>0</td>\n",
              "      <td>0</td>\n",
              "      <td>0</td>\n",
              "      <td>0</td>\n",
              "      <td>...</td>\n",
              "      <td>0</td>\n",
              "      <td>0</td>\n",
              "      <td>1</td>\n",
              "      <td>0</td>\n",
              "      <td>0</td>\n",
              "      <td>0</td>\n",
              "      <td>0</td>\n",
              "      <td>0</td>\n",
              "      <td>0</td>\n",
              "      <td>3</td>\n",
              "    </tr>\n",
              "    <tr>\n",
              "      <th>3</th>\n",
              "      <td>0</td>\n",
              "      <td>1</td>\n",
              "      <td>0</td>\n",
              "      <td>0</td>\n",
              "      <td>0</td>\n",
              "      <td>0</td>\n",
              "      <td>0</td>\n",
              "      <td>0</td>\n",
              "      <td>0</td>\n",
              "      <td>0</td>\n",
              "      <td>...</td>\n",
              "      <td>0</td>\n",
              "      <td>0</td>\n",
              "      <td>0</td>\n",
              "      <td>0</td>\n",
              "      <td>0</td>\n",
              "      <td>0</td>\n",
              "      <td>0</td>\n",
              "      <td>0</td>\n",
              "      <td>0</td>\n",
              "      <td>0</td>\n",
              "    </tr>\n",
              "    <tr>\n",
              "      <th>4</th>\n",
              "      <td>0</td>\n",
              "      <td>1</td>\n",
              "      <td>0</td>\n",
              "      <td>0</td>\n",
              "      <td>0</td>\n",
              "      <td>0</td>\n",
              "      <td>0</td>\n",
              "      <td>0</td>\n",
              "      <td>0</td>\n",
              "      <td>0</td>\n",
              "      <td>...</td>\n",
              "      <td>0</td>\n",
              "      <td>0</td>\n",
              "      <td>0</td>\n",
              "      <td>0</td>\n",
              "      <td>0</td>\n",
              "      <td>0</td>\n",
              "      <td>0</td>\n",
              "      <td>0</td>\n",
              "      <td>0</td>\n",
              "      <td>2</td>\n",
              "    </tr>\n",
              "    <tr>\n",
              "      <th>...</th>\n",
              "      <td>...</td>\n",
              "      <td>...</td>\n",
              "      <td>...</td>\n",
              "      <td>...</td>\n",
              "      <td>...</td>\n",
              "      <td>...</td>\n",
              "      <td>...</td>\n",
              "      <td>...</td>\n",
              "      <td>...</td>\n",
              "      <td>...</td>\n",
              "      <td>...</td>\n",
              "      <td>...</td>\n",
              "      <td>...</td>\n",
              "      <td>...</td>\n",
              "      <td>...</td>\n",
              "      <td>...</td>\n",
              "      <td>...</td>\n",
              "      <td>...</td>\n",
              "      <td>...</td>\n",
              "      <td>...</td>\n",
              "      <td>...</td>\n",
              "    </tr>\n",
              "    <tr>\n",
              "      <th>2373</th>\n",
              "      <td>0</td>\n",
              "      <td>0</td>\n",
              "      <td>0</td>\n",
              "      <td>0</td>\n",
              "      <td>0</td>\n",
              "      <td>0</td>\n",
              "      <td>0</td>\n",
              "      <td>0</td>\n",
              "      <td>0</td>\n",
              "      <td>0</td>\n",
              "      <td>...</td>\n",
              "      <td>0</td>\n",
              "      <td>0</td>\n",
              "      <td>0</td>\n",
              "      <td>0</td>\n",
              "      <td>0</td>\n",
              "      <td>0</td>\n",
              "      <td>0</td>\n",
              "      <td>0</td>\n",
              "      <td>0</td>\n",
              "      <td>0</td>\n",
              "    </tr>\n",
              "    <tr>\n",
              "      <th>2374</th>\n",
              "      <td>0</td>\n",
              "      <td>0</td>\n",
              "      <td>0</td>\n",
              "      <td>0</td>\n",
              "      <td>0</td>\n",
              "      <td>1</td>\n",
              "      <td>0</td>\n",
              "      <td>0</td>\n",
              "      <td>0</td>\n",
              "      <td>0</td>\n",
              "      <td>...</td>\n",
              "      <td>0</td>\n",
              "      <td>1</td>\n",
              "      <td>2</td>\n",
              "      <td>0</td>\n",
              "      <td>0</td>\n",
              "      <td>0</td>\n",
              "      <td>0</td>\n",
              "      <td>0</td>\n",
              "      <td>0</td>\n",
              "      <td>2</td>\n",
              "    </tr>\n",
              "    <tr>\n",
              "      <th>2375</th>\n",
              "      <td>0</td>\n",
              "      <td>0</td>\n",
              "      <td>0</td>\n",
              "      <td>1</td>\n",
              "      <td>0</td>\n",
              "      <td>0</td>\n",
              "      <td>0</td>\n",
              "      <td>0</td>\n",
              "      <td>0</td>\n",
              "      <td>0</td>\n",
              "      <td>...</td>\n",
              "      <td>0</td>\n",
              "      <td>0</td>\n",
              "      <td>0</td>\n",
              "      <td>0</td>\n",
              "      <td>0</td>\n",
              "      <td>0</td>\n",
              "      <td>0</td>\n",
              "      <td>0</td>\n",
              "      <td>0</td>\n",
              "      <td>2</td>\n",
              "    </tr>\n",
              "    <tr>\n",
              "      <th>2376</th>\n",
              "      <td>0</td>\n",
              "      <td>2</td>\n",
              "      <td>0</td>\n",
              "      <td>1</td>\n",
              "      <td>3</td>\n",
              "      <td>1</td>\n",
              "      <td>0</td>\n",
              "      <td>0</td>\n",
              "      <td>1</td>\n",
              "      <td>0</td>\n",
              "      <td>...</td>\n",
              "      <td>0</td>\n",
              "      <td>0</td>\n",
              "      <td>3</td>\n",
              "      <td>0</td>\n",
              "      <td>0</td>\n",
              "      <td>0</td>\n",
              "      <td>0</td>\n",
              "      <td>0</td>\n",
              "      <td>0</td>\n",
              "      <td>2</td>\n",
              "    </tr>\n",
              "    <tr>\n",
              "      <th>2377</th>\n",
              "      <td>0</td>\n",
              "      <td>0</td>\n",
              "      <td>0</td>\n",
              "      <td>0</td>\n",
              "      <td>0</td>\n",
              "      <td>0</td>\n",
              "      <td>0</td>\n",
              "      <td>0</td>\n",
              "      <td>0</td>\n",
              "      <td>0</td>\n",
              "      <td>...</td>\n",
              "      <td>1</td>\n",
              "      <td>0</td>\n",
              "      <td>0</td>\n",
              "      <td>0</td>\n",
              "      <td>0</td>\n",
              "      <td>0</td>\n",
              "      <td>0</td>\n",
              "      <td>0</td>\n",
              "      <td>0</td>\n",
              "      <td>0</td>\n",
              "    </tr>\n",
              "  </tbody>\n",
              "</table>\n",
              "<p>2378 rows × 599 columns</p>\n",
              "</div>\n",
              "      <button class=\"colab-df-convert\" onclick=\"convertToInteractive('df-a672b66f-a017-4b30-9241-b08037c36678')\"\n",
              "              title=\"Convert this dataframe to an interactive table.\"\n",
              "              style=\"display:none;\">\n",
              "        \n",
              "  <svg xmlns=\"http://www.w3.org/2000/svg\" height=\"24px\"viewBox=\"0 0 24 24\"\n",
              "       width=\"24px\">\n",
              "    <path d=\"M0 0h24v24H0V0z\" fill=\"none\"/>\n",
              "    <path d=\"M18.56 5.44l.94 2.06.94-2.06 2.06-.94-2.06-.94-.94-2.06-.94 2.06-2.06.94zm-11 1L8.5 8.5l.94-2.06 2.06-.94-2.06-.94L8.5 2.5l-.94 2.06-2.06.94zm10 10l.94 2.06.94-2.06 2.06-.94-2.06-.94-.94-2.06-.94 2.06-2.06.94z\"/><path d=\"M17.41 7.96l-1.37-1.37c-.4-.4-.92-.59-1.43-.59-.52 0-1.04.2-1.43.59L10.3 9.45l-7.72 7.72c-.78.78-.78 2.05 0 2.83L4 21.41c.39.39.9.59 1.41.59.51 0 1.02-.2 1.41-.59l7.78-7.78 2.81-2.81c.8-.78.8-2.07 0-2.86zM5.41 20L4 18.59l7.72-7.72 1.47 1.35L5.41 20z\"/>\n",
              "  </svg>\n",
              "      </button>\n",
              "      \n",
              "  <style>\n",
              "    .colab-df-container {\n",
              "      display:flex;\n",
              "      flex-wrap:wrap;\n",
              "      gap: 12px;\n",
              "    }\n",
              "\n",
              "    .colab-df-convert {\n",
              "      background-color: #E8F0FE;\n",
              "      border: none;\n",
              "      border-radius: 50%;\n",
              "      cursor: pointer;\n",
              "      display: none;\n",
              "      fill: #1967D2;\n",
              "      height: 32px;\n",
              "      padding: 0 0 0 0;\n",
              "      width: 32px;\n",
              "    }\n",
              "\n",
              "    .colab-df-convert:hover {\n",
              "      background-color: #E2EBFA;\n",
              "      box-shadow: 0px 1px 2px rgba(60, 64, 67, 0.3), 0px 1px 3px 1px rgba(60, 64, 67, 0.15);\n",
              "      fill: #174EA6;\n",
              "    }\n",
              "\n",
              "    [theme=dark] .colab-df-convert {\n",
              "      background-color: #3B4455;\n",
              "      fill: #D2E3FC;\n",
              "    }\n",
              "\n",
              "    [theme=dark] .colab-df-convert:hover {\n",
              "      background-color: #434B5C;\n",
              "      box-shadow: 0px 1px 3px 1px rgba(0, 0, 0, 0.15);\n",
              "      filter: drop-shadow(0px 1px 2px rgba(0, 0, 0, 0.3));\n",
              "      fill: #FFFFFF;\n",
              "    }\n",
              "  </style>\n",
              "\n",
              "      <script>\n",
              "        const buttonEl =\n",
              "          document.querySelector('#df-a672b66f-a017-4b30-9241-b08037c36678 button.colab-df-convert');\n",
              "        buttonEl.style.display =\n",
              "          google.colab.kernel.accessAllowed ? 'block' : 'none';\n",
              "\n",
              "        async function convertToInteractive(key) {\n",
              "          const element = document.querySelector('#df-a672b66f-a017-4b30-9241-b08037c36678');\n",
              "          const dataTable =\n",
              "            await google.colab.kernel.invokeFunction('convertToInteractive',\n",
              "                                                     [key], {});\n",
              "          if (!dataTable) return;\n",
              "\n",
              "          const docLinkHtml = 'Like what you see? Visit the ' +\n",
              "            '<a target=\"_blank\" href=https://colab.research.google.com/notebooks/data_table.ipynb>data table notebook</a>'\n",
              "            + ' to learn more about interactive tables.';\n",
              "          element.innerHTML = '';\n",
              "          dataTable['output_type'] = 'display_data';\n",
              "          await google.colab.output.renderOutput(dataTable, element);\n",
              "          const docLink = document.createElement('div');\n",
              "          docLink.innerHTML = docLinkHtml;\n",
              "          element.appendChild(docLink);\n",
              "        }\n",
              "      </script>\n",
              "    </div>\n",
              "  </div>\n",
              "  "
            ]
          },
          "metadata": {},
          "execution_count": 110
        }
      ],
      "source": [
        "train_df_twenty, train_numpy_data_twenty = create_df(trainFrequencies, totalFilteredVocab)\n",
        "train_df_twenty"
      ]
    },
    {
      "cell_type": "code",
      "execution_count": null,
      "metadata": {
        "colab": {
          "base_uri": "https://localhost:8080/",
          "height": 424
        },
        "id": "zkhkmtPYbFsH",
        "outputId": "96c5bad2-8241-48d4-9855-ffcff267e2f0"
      },
      "outputs": [
        {
          "output_type": "execute_result",
          "data": {
            "text/plain": [
              "      windows  could  paul  come  read  likely  based  agency  set  scheme  \\\n",
              "0           0      1     0     0     0       0      0       0    0       0   \n",
              "1           0      1     0     0     0       0      0       0    0       0   \n",
              "2           0      0     0     0     1       0      0       0    0       0   \n",
              "3           0      1     0     0     0       0      0       0    0       0   \n",
              "4           0      1     0     0     0       0      0       0    0       0   \n",
              "...       ...    ...   ...   ...   ...     ...    ...     ...  ...     ...   \n",
              "2373        0      0     0     0     0       0      0       0    0       0   \n",
              "2374        0      0     0     0     0       1      0       0    0       0   \n",
              "2375        0      0     0     1     0       0      0       0    0       0   \n",
              "2376        0      2     0     1     3       1      0       0    1       0   \n",
              "2377        0      0     0     0     0       0      0       0    0       0   \n",
              "\n",
              "      ...  wiretap  color  designed  say  current  home  within  wrong  \\\n",
              "0     ...        0      0         0    0        0     0       0      0   \n",
              "1     ...        0      0         0    1        0     0       0      0   \n",
              "2     ...        0      0         0    1        0     0       0      0   \n",
              "3     ...        0      0         0    0        0     0       0      0   \n",
              "4     ...        0      0         0    0        0     0       0      0   \n",
              "...   ...      ...    ...       ...  ...      ...   ...     ...    ...   \n",
              "2373  ...        0      0         0    0        0     0       0      0   \n",
              "2374  ...        0      0         1    2        0     0       0      0   \n",
              "2375  ...        0      0         0    0        0     0       0      0   \n",
              "2376  ...        0      0         0    3        0     0       0      0   \n",
              "2377  ...        0      1         0    0        0     0       0      0   \n",
              "\n",
              "      different  response  \n",
              "0             0         0  \n",
              "1             0         0  \n",
              "2             0         0  \n",
              "3             0         0  \n",
              "4             0         0  \n",
              "...         ...       ...  \n",
              "2373          0         0  \n",
              "2374          0         0  \n",
              "2375          0         0  \n",
              "2376          0         0  \n",
              "2377          0         0  \n",
              "\n",
              "[2378 rows x 598 columns]"
            ],
            "text/html": [
              "\n",
              "  <div id=\"df-7c2b63ec-4b76-4e34-97d5-072123e7c61d\">\n",
              "    <div class=\"colab-df-container\">\n",
              "      <div>\n",
              "<style scoped>\n",
              "    .dataframe tbody tr th:only-of-type {\n",
              "        vertical-align: middle;\n",
              "    }\n",
              "\n",
              "    .dataframe tbody tr th {\n",
              "        vertical-align: top;\n",
              "    }\n",
              "\n",
              "    .dataframe thead th {\n",
              "        text-align: right;\n",
              "    }\n",
              "</style>\n",
              "<table border=\"1\" class=\"dataframe\">\n",
              "  <thead>\n",
              "    <tr style=\"text-align: right;\">\n",
              "      <th></th>\n",
              "      <th>windows</th>\n",
              "      <th>could</th>\n",
              "      <th>paul</th>\n",
              "      <th>come</th>\n",
              "      <th>read</th>\n",
              "      <th>likely</th>\n",
              "      <th>based</th>\n",
              "      <th>agency</th>\n",
              "      <th>set</th>\n",
              "      <th>scheme</th>\n",
              "      <th>...</th>\n",
              "      <th>wiretap</th>\n",
              "      <th>color</th>\n",
              "      <th>designed</th>\n",
              "      <th>say</th>\n",
              "      <th>current</th>\n",
              "      <th>home</th>\n",
              "      <th>within</th>\n",
              "      <th>wrong</th>\n",
              "      <th>different</th>\n",
              "      <th>response</th>\n",
              "    </tr>\n",
              "  </thead>\n",
              "  <tbody>\n",
              "    <tr>\n",
              "      <th>0</th>\n",
              "      <td>0</td>\n",
              "      <td>1</td>\n",
              "      <td>0</td>\n",
              "      <td>0</td>\n",
              "      <td>0</td>\n",
              "      <td>0</td>\n",
              "      <td>0</td>\n",
              "      <td>0</td>\n",
              "      <td>0</td>\n",
              "      <td>0</td>\n",
              "      <td>...</td>\n",
              "      <td>0</td>\n",
              "      <td>0</td>\n",
              "      <td>0</td>\n",
              "      <td>0</td>\n",
              "      <td>0</td>\n",
              "      <td>0</td>\n",
              "      <td>0</td>\n",
              "      <td>0</td>\n",
              "      <td>0</td>\n",
              "      <td>0</td>\n",
              "    </tr>\n",
              "    <tr>\n",
              "      <th>1</th>\n",
              "      <td>0</td>\n",
              "      <td>1</td>\n",
              "      <td>0</td>\n",
              "      <td>0</td>\n",
              "      <td>0</td>\n",
              "      <td>0</td>\n",
              "      <td>0</td>\n",
              "      <td>0</td>\n",
              "      <td>0</td>\n",
              "      <td>0</td>\n",
              "      <td>...</td>\n",
              "      <td>0</td>\n",
              "      <td>0</td>\n",
              "      <td>0</td>\n",
              "      <td>1</td>\n",
              "      <td>0</td>\n",
              "      <td>0</td>\n",
              "      <td>0</td>\n",
              "      <td>0</td>\n",
              "      <td>0</td>\n",
              "      <td>0</td>\n",
              "    </tr>\n",
              "    <tr>\n",
              "      <th>2</th>\n",
              "      <td>0</td>\n",
              "      <td>0</td>\n",
              "      <td>0</td>\n",
              "      <td>0</td>\n",
              "      <td>1</td>\n",
              "      <td>0</td>\n",
              "      <td>0</td>\n",
              "      <td>0</td>\n",
              "      <td>0</td>\n",
              "      <td>0</td>\n",
              "      <td>...</td>\n",
              "      <td>0</td>\n",
              "      <td>0</td>\n",
              "      <td>0</td>\n",
              "      <td>1</td>\n",
              "      <td>0</td>\n",
              "      <td>0</td>\n",
              "      <td>0</td>\n",
              "      <td>0</td>\n",
              "      <td>0</td>\n",
              "      <td>0</td>\n",
              "    </tr>\n",
              "    <tr>\n",
              "      <th>3</th>\n",
              "      <td>0</td>\n",
              "      <td>1</td>\n",
              "      <td>0</td>\n",
              "      <td>0</td>\n",
              "      <td>0</td>\n",
              "      <td>0</td>\n",
              "      <td>0</td>\n",
              "      <td>0</td>\n",
              "      <td>0</td>\n",
              "      <td>0</td>\n",
              "      <td>...</td>\n",
              "      <td>0</td>\n",
              "      <td>0</td>\n",
              "      <td>0</td>\n",
              "      <td>0</td>\n",
              "      <td>0</td>\n",
              "      <td>0</td>\n",
              "      <td>0</td>\n",
              "      <td>0</td>\n",
              "      <td>0</td>\n",
              "      <td>0</td>\n",
              "    </tr>\n",
              "    <tr>\n",
              "      <th>4</th>\n",
              "      <td>0</td>\n",
              "      <td>1</td>\n",
              "      <td>0</td>\n",
              "      <td>0</td>\n",
              "      <td>0</td>\n",
              "      <td>0</td>\n",
              "      <td>0</td>\n",
              "      <td>0</td>\n",
              "      <td>0</td>\n",
              "      <td>0</td>\n",
              "      <td>...</td>\n",
              "      <td>0</td>\n",
              "      <td>0</td>\n",
              "      <td>0</td>\n",
              "      <td>0</td>\n",
              "      <td>0</td>\n",
              "      <td>0</td>\n",
              "      <td>0</td>\n",
              "      <td>0</td>\n",
              "      <td>0</td>\n",
              "      <td>0</td>\n",
              "    </tr>\n",
              "    <tr>\n",
              "      <th>...</th>\n",
              "      <td>...</td>\n",
              "      <td>...</td>\n",
              "      <td>...</td>\n",
              "      <td>...</td>\n",
              "      <td>...</td>\n",
              "      <td>...</td>\n",
              "      <td>...</td>\n",
              "      <td>...</td>\n",
              "      <td>...</td>\n",
              "      <td>...</td>\n",
              "      <td>...</td>\n",
              "      <td>...</td>\n",
              "      <td>...</td>\n",
              "      <td>...</td>\n",
              "      <td>...</td>\n",
              "      <td>...</td>\n",
              "      <td>...</td>\n",
              "      <td>...</td>\n",
              "      <td>...</td>\n",
              "      <td>...</td>\n",
              "      <td>...</td>\n",
              "    </tr>\n",
              "    <tr>\n",
              "      <th>2373</th>\n",
              "      <td>0</td>\n",
              "      <td>0</td>\n",
              "      <td>0</td>\n",
              "      <td>0</td>\n",
              "      <td>0</td>\n",
              "      <td>0</td>\n",
              "      <td>0</td>\n",
              "      <td>0</td>\n",
              "      <td>0</td>\n",
              "      <td>0</td>\n",
              "      <td>...</td>\n",
              "      <td>0</td>\n",
              "      <td>0</td>\n",
              "      <td>0</td>\n",
              "      <td>0</td>\n",
              "      <td>0</td>\n",
              "      <td>0</td>\n",
              "      <td>0</td>\n",
              "      <td>0</td>\n",
              "      <td>0</td>\n",
              "      <td>0</td>\n",
              "    </tr>\n",
              "    <tr>\n",
              "      <th>2374</th>\n",
              "      <td>0</td>\n",
              "      <td>0</td>\n",
              "      <td>0</td>\n",
              "      <td>0</td>\n",
              "      <td>0</td>\n",
              "      <td>1</td>\n",
              "      <td>0</td>\n",
              "      <td>0</td>\n",
              "      <td>0</td>\n",
              "      <td>0</td>\n",
              "      <td>...</td>\n",
              "      <td>0</td>\n",
              "      <td>0</td>\n",
              "      <td>1</td>\n",
              "      <td>2</td>\n",
              "      <td>0</td>\n",
              "      <td>0</td>\n",
              "      <td>0</td>\n",
              "      <td>0</td>\n",
              "      <td>0</td>\n",
              "      <td>0</td>\n",
              "    </tr>\n",
              "    <tr>\n",
              "      <th>2375</th>\n",
              "      <td>0</td>\n",
              "      <td>0</td>\n",
              "      <td>0</td>\n",
              "      <td>1</td>\n",
              "      <td>0</td>\n",
              "      <td>0</td>\n",
              "      <td>0</td>\n",
              "      <td>0</td>\n",
              "      <td>0</td>\n",
              "      <td>0</td>\n",
              "      <td>...</td>\n",
              "      <td>0</td>\n",
              "      <td>0</td>\n",
              "      <td>0</td>\n",
              "      <td>0</td>\n",
              "      <td>0</td>\n",
              "      <td>0</td>\n",
              "      <td>0</td>\n",
              "      <td>0</td>\n",
              "      <td>0</td>\n",
              "      <td>0</td>\n",
              "    </tr>\n",
              "    <tr>\n",
              "      <th>2376</th>\n",
              "      <td>0</td>\n",
              "      <td>2</td>\n",
              "      <td>0</td>\n",
              "      <td>1</td>\n",
              "      <td>3</td>\n",
              "      <td>1</td>\n",
              "      <td>0</td>\n",
              "      <td>0</td>\n",
              "      <td>1</td>\n",
              "      <td>0</td>\n",
              "      <td>...</td>\n",
              "      <td>0</td>\n",
              "      <td>0</td>\n",
              "      <td>0</td>\n",
              "      <td>3</td>\n",
              "      <td>0</td>\n",
              "      <td>0</td>\n",
              "      <td>0</td>\n",
              "      <td>0</td>\n",
              "      <td>0</td>\n",
              "      <td>0</td>\n",
              "    </tr>\n",
              "    <tr>\n",
              "      <th>2377</th>\n",
              "      <td>0</td>\n",
              "      <td>0</td>\n",
              "      <td>0</td>\n",
              "      <td>0</td>\n",
              "      <td>0</td>\n",
              "      <td>0</td>\n",
              "      <td>0</td>\n",
              "      <td>0</td>\n",
              "      <td>0</td>\n",
              "      <td>0</td>\n",
              "      <td>...</td>\n",
              "      <td>0</td>\n",
              "      <td>1</td>\n",
              "      <td>0</td>\n",
              "      <td>0</td>\n",
              "      <td>0</td>\n",
              "      <td>0</td>\n",
              "      <td>0</td>\n",
              "      <td>0</td>\n",
              "      <td>0</td>\n",
              "      <td>0</td>\n",
              "    </tr>\n",
              "  </tbody>\n",
              "</table>\n",
              "<p>2378 rows × 598 columns</p>\n",
              "</div>\n",
              "      <button class=\"colab-df-convert\" onclick=\"convertToInteractive('df-7c2b63ec-4b76-4e34-97d5-072123e7c61d')\"\n",
              "              title=\"Convert this dataframe to an interactive table.\"\n",
              "              style=\"display:none;\">\n",
              "        \n",
              "  <svg xmlns=\"http://www.w3.org/2000/svg\" height=\"24px\"viewBox=\"0 0 24 24\"\n",
              "       width=\"24px\">\n",
              "    <path d=\"M0 0h24v24H0V0z\" fill=\"none\"/>\n",
              "    <path d=\"M18.56 5.44l.94 2.06.94-2.06 2.06-.94-2.06-.94-.94-2.06-.94 2.06-2.06.94zm-11 1L8.5 8.5l.94-2.06 2.06-.94-2.06-.94L8.5 2.5l-.94 2.06-2.06.94zm10 10l.94 2.06.94-2.06 2.06-.94-2.06-.94-.94-2.06-.94 2.06-2.06.94z\"/><path d=\"M17.41 7.96l-1.37-1.37c-.4-.4-.92-.59-1.43-.59-.52 0-1.04.2-1.43.59L10.3 9.45l-7.72 7.72c-.78.78-.78 2.05 0 2.83L4 21.41c.39.39.9.59 1.41.59.51 0 1.02-.2 1.41-.59l7.78-7.78 2.81-2.81c.8-.78.8-2.07 0-2.86zM5.41 20L4 18.59l7.72-7.72 1.47 1.35L5.41 20z\"/>\n",
              "  </svg>\n",
              "      </button>\n",
              "      \n",
              "  <style>\n",
              "    .colab-df-container {\n",
              "      display:flex;\n",
              "      flex-wrap:wrap;\n",
              "      gap: 12px;\n",
              "    }\n",
              "\n",
              "    .colab-df-convert {\n",
              "      background-color: #E8F0FE;\n",
              "      border: none;\n",
              "      border-radius: 50%;\n",
              "      cursor: pointer;\n",
              "      display: none;\n",
              "      fill: #1967D2;\n",
              "      height: 32px;\n",
              "      padding: 0 0 0 0;\n",
              "      width: 32px;\n",
              "    }\n",
              "\n",
              "    .colab-df-convert:hover {\n",
              "      background-color: #E2EBFA;\n",
              "      box-shadow: 0px 1px 2px rgba(60, 64, 67, 0.3), 0px 1px 3px 1px rgba(60, 64, 67, 0.15);\n",
              "      fill: #174EA6;\n",
              "    }\n",
              "\n",
              "    [theme=dark] .colab-df-convert {\n",
              "      background-color: #3B4455;\n",
              "      fill: #D2E3FC;\n",
              "    }\n",
              "\n",
              "    [theme=dark] .colab-df-convert:hover {\n",
              "      background-color: #434B5C;\n",
              "      box-shadow: 0px 1px 3px 1px rgba(0, 0, 0, 0.15);\n",
              "      filter: drop-shadow(0px 1px 2px rgba(0, 0, 0, 0.3));\n",
              "      fill: #FFFFFF;\n",
              "    }\n",
              "  </style>\n",
              "\n",
              "      <script>\n",
              "        const buttonEl =\n",
              "          document.querySelector('#df-7c2b63ec-4b76-4e34-97d5-072123e7c61d button.colab-df-convert');\n",
              "        buttonEl.style.display =\n",
              "          google.colab.kernel.accessAllowed ? 'block' : 'none';\n",
              "\n",
              "        async function convertToInteractive(key) {\n",
              "          const element = document.querySelector('#df-7c2b63ec-4b76-4e34-97d5-072123e7c61d');\n",
              "          const dataTable =\n",
              "            await google.colab.kernel.invokeFunction('convertToInteractive',\n",
              "                                                     [key], {});\n",
              "          if (!dataTable) return;\n",
              "\n",
              "          const docLinkHtml = 'Like what you see? Visit the ' +\n",
              "            '<a target=\"_blank\" href=https://colab.research.google.com/notebooks/data_table.ipynb>data table notebook</a>'\n",
              "            + ' to learn more about interactive tables.';\n",
              "          element.innerHTML = '';\n",
              "          dataTable['output_type'] = 'display_data';\n",
              "          await google.colab.output.renderOutput(dataTable, element);\n",
              "          const docLink = document.createElement('div');\n",
              "          docLink.innerHTML = docLinkHtml;\n",
              "          element.appendChild(docLink);\n",
              "        }\n",
              "      </script>\n",
              "    </div>\n",
              "  </div>\n",
              "  "
            ]
          },
          "metadata": {},
          "execution_count": 111
        }
      ],
      "source": [
        "# One-hot encoding\n",
        "\n",
        "one_hot_train_df_twenty = pd.get_dummies(train_df_twenty['label'])\n",
        "train_df_twenty_nolabel = train_df_twenty.drop('label', axis=1)\n",
        "train_df_twenty_nolabel"
      ]
    },
    {
      "cell_type": "code",
      "execution_count": null,
      "metadata": {
        "colab": {
          "base_uri": "https://localhost:8080/",
          "height": 424
        },
        "id": "MKo4sZKhLuW2",
        "outputId": "83b74b91-471b-48ad-c592-699756a77015"
      },
      "outputs": [
        {
          "output_type": "execute_result",
          "data": {
            "text/plain": [
              "      windows  could  paul  come  read  likely  based  agency  set  scheme  \\\n",
              "0           0      0     0     0     0       0      0       0    0       0   \n",
              "1           0      0     0     0     0       0      0       0    0       0   \n",
              "2           0      1     0     1     0       0      0       0    0       0   \n",
              "3           0      0     0     0     0       0      0       0    0       0   \n",
              "4           0      0     0     0     0       0      0       0    0       0   \n",
              "...       ...    ...   ...   ...   ...     ...    ...     ...  ...     ...   \n",
              "1577        0      0     0     1     0       0      0       0    0       0   \n",
              "1578        0      0     0     0     0       0      0       0    0       0   \n",
              "1579        0      0     0     0     0       0      0       0    0       0   \n",
              "1580        0      0     0     0     1       0      0       0    0       0   \n",
              "1581        0      0     0     0     0       0      0       0    0       0   \n",
              "\n",
              "      ...  color  designed  say  current  home  within  wrong  different  \\\n",
              "0     ...      0         0    0        0     0       0      0          0   \n",
              "1     ...      0         0    0        0     0       0      0          0   \n",
              "2     ...      0         0    0        0     0       0      0          2   \n",
              "3     ...      0         0    0        0     0       0      0          0   \n",
              "4     ...      0         0    0        0     0       0      0          0   \n",
              "...   ...    ...       ...  ...      ...   ...     ...    ...        ...   \n",
              "1577  ...      0         0    0        0     0       0      0          0   \n",
              "1578  ...      0         0    1        0     0       0      0          0   \n",
              "1579  ...      0         0    0        0     0       0      0          0   \n",
              "1580  ...      0         0    0        0     0       0      0          0   \n",
              "1581  ...      0         0    0        0     0       0      0          0   \n",
              "\n",
              "      response  label  \n",
              "0            0      1  \n",
              "1            0      0  \n",
              "2            0      3  \n",
              "3            0      3  \n",
              "4            0      1  \n",
              "...        ...    ...  \n",
              "1577         0      1  \n",
              "1578         0      3  \n",
              "1579         0      2  \n",
              "1580         0      2  \n",
              "1581         0      3  \n",
              "\n",
              "[1582 rows x 599 columns]"
            ],
            "text/html": [
              "\n",
              "  <div id=\"df-0850564a-24ae-4b37-a4f6-4ee0b81d38fb\">\n",
              "    <div class=\"colab-df-container\">\n",
              "      <div>\n",
              "<style scoped>\n",
              "    .dataframe tbody tr th:only-of-type {\n",
              "        vertical-align: middle;\n",
              "    }\n",
              "\n",
              "    .dataframe tbody tr th {\n",
              "        vertical-align: top;\n",
              "    }\n",
              "\n",
              "    .dataframe thead th {\n",
              "        text-align: right;\n",
              "    }\n",
              "</style>\n",
              "<table border=\"1\" class=\"dataframe\">\n",
              "  <thead>\n",
              "    <tr style=\"text-align: right;\">\n",
              "      <th></th>\n",
              "      <th>windows</th>\n",
              "      <th>could</th>\n",
              "      <th>paul</th>\n",
              "      <th>come</th>\n",
              "      <th>read</th>\n",
              "      <th>likely</th>\n",
              "      <th>based</th>\n",
              "      <th>agency</th>\n",
              "      <th>set</th>\n",
              "      <th>scheme</th>\n",
              "      <th>...</th>\n",
              "      <th>color</th>\n",
              "      <th>designed</th>\n",
              "      <th>say</th>\n",
              "      <th>current</th>\n",
              "      <th>home</th>\n",
              "      <th>within</th>\n",
              "      <th>wrong</th>\n",
              "      <th>different</th>\n",
              "      <th>response</th>\n",
              "      <th>label</th>\n",
              "    </tr>\n",
              "  </thead>\n",
              "  <tbody>\n",
              "    <tr>\n",
              "      <th>0</th>\n",
              "      <td>0</td>\n",
              "      <td>0</td>\n",
              "      <td>0</td>\n",
              "      <td>0</td>\n",
              "      <td>0</td>\n",
              "      <td>0</td>\n",
              "      <td>0</td>\n",
              "      <td>0</td>\n",
              "      <td>0</td>\n",
              "      <td>0</td>\n",
              "      <td>...</td>\n",
              "      <td>0</td>\n",
              "      <td>0</td>\n",
              "      <td>0</td>\n",
              "      <td>0</td>\n",
              "      <td>0</td>\n",
              "      <td>0</td>\n",
              "      <td>0</td>\n",
              "      <td>0</td>\n",
              "      <td>0</td>\n",
              "      <td>1</td>\n",
              "    </tr>\n",
              "    <tr>\n",
              "      <th>1</th>\n",
              "      <td>0</td>\n",
              "      <td>0</td>\n",
              "      <td>0</td>\n",
              "      <td>0</td>\n",
              "      <td>0</td>\n",
              "      <td>0</td>\n",
              "      <td>0</td>\n",
              "      <td>0</td>\n",
              "      <td>0</td>\n",
              "      <td>0</td>\n",
              "      <td>...</td>\n",
              "      <td>0</td>\n",
              "      <td>0</td>\n",
              "      <td>0</td>\n",
              "      <td>0</td>\n",
              "      <td>0</td>\n",
              "      <td>0</td>\n",
              "      <td>0</td>\n",
              "      <td>0</td>\n",
              "      <td>0</td>\n",
              "      <td>0</td>\n",
              "    </tr>\n",
              "    <tr>\n",
              "      <th>2</th>\n",
              "      <td>0</td>\n",
              "      <td>1</td>\n",
              "      <td>0</td>\n",
              "      <td>1</td>\n",
              "      <td>0</td>\n",
              "      <td>0</td>\n",
              "      <td>0</td>\n",
              "      <td>0</td>\n",
              "      <td>0</td>\n",
              "      <td>0</td>\n",
              "      <td>...</td>\n",
              "      <td>0</td>\n",
              "      <td>0</td>\n",
              "      <td>0</td>\n",
              "      <td>0</td>\n",
              "      <td>0</td>\n",
              "      <td>0</td>\n",
              "      <td>0</td>\n",
              "      <td>2</td>\n",
              "      <td>0</td>\n",
              "      <td>3</td>\n",
              "    </tr>\n",
              "    <tr>\n",
              "      <th>3</th>\n",
              "      <td>0</td>\n",
              "      <td>0</td>\n",
              "      <td>0</td>\n",
              "      <td>0</td>\n",
              "      <td>0</td>\n",
              "      <td>0</td>\n",
              "      <td>0</td>\n",
              "      <td>0</td>\n",
              "      <td>0</td>\n",
              "      <td>0</td>\n",
              "      <td>...</td>\n",
              "      <td>0</td>\n",
              "      <td>0</td>\n",
              "      <td>0</td>\n",
              "      <td>0</td>\n",
              "      <td>0</td>\n",
              "      <td>0</td>\n",
              "      <td>0</td>\n",
              "      <td>0</td>\n",
              "      <td>0</td>\n",
              "      <td>3</td>\n",
              "    </tr>\n",
              "    <tr>\n",
              "      <th>4</th>\n",
              "      <td>0</td>\n",
              "      <td>0</td>\n",
              "      <td>0</td>\n",
              "      <td>0</td>\n",
              "      <td>0</td>\n",
              "      <td>0</td>\n",
              "      <td>0</td>\n",
              "      <td>0</td>\n",
              "      <td>0</td>\n",
              "      <td>0</td>\n",
              "      <td>...</td>\n",
              "      <td>0</td>\n",
              "      <td>0</td>\n",
              "      <td>0</td>\n",
              "      <td>0</td>\n",
              "      <td>0</td>\n",
              "      <td>0</td>\n",
              "      <td>0</td>\n",
              "      <td>0</td>\n",
              "      <td>0</td>\n",
              "      <td>1</td>\n",
              "    </tr>\n",
              "    <tr>\n",
              "      <th>...</th>\n",
              "      <td>...</td>\n",
              "      <td>...</td>\n",
              "      <td>...</td>\n",
              "      <td>...</td>\n",
              "      <td>...</td>\n",
              "      <td>...</td>\n",
              "      <td>...</td>\n",
              "      <td>...</td>\n",
              "      <td>...</td>\n",
              "      <td>...</td>\n",
              "      <td>...</td>\n",
              "      <td>...</td>\n",
              "      <td>...</td>\n",
              "      <td>...</td>\n",
              "      <td>...</td>\n",
              "      <td>...</td>\n",
              "      <td>...</td>\n",
              "      <td>...</td>\n",
              "      <td>...</td>\n",
              "      <td>...</td>\n",
              "      <td>...</td>\n",
              "    </tr>\n",
              "    <tr>\n",
              "      <th>1577</th>\n",
              "      <td>0</td>\n",
              "      <td>0</td>\n",
              "      <td>0</td>\n",
              "      <td>1</td>\n",
              "      <td>0</td>\n",
              "      <td>0</td>\n",
              "      <td>0</td>\n",
              "      <td>0</td>\n",
              "      <td>0</td>\n",
              "      <td>0</td>\n",
              "      <td>...</td>\n",
              "      <td>0</td>\n",
              "      <td>0</td>\n",
              "      <td>0</td>\n",
              "      <td>0</td>\n",
              "      <td>0</td>\n",
              "      <td>0</td>\n",
              "      <td>0</td>\n",
              "      <td>0</td>\n",
              "      <td>0</td>\n",
              "      <td>1</td>\n",
              "    </tr>\n",
              "    <tr>\n",
              "      <th>1578</th>\n",
              "      <td>0</td>\n",
              "      <td>0</td>\n",
              "      <td>0</td>\n",
              "      <td>0</td>\n",
              "      <td>0</td>\n",
              "      <td>0</td>\n",
              "      <td>0</td>\n",
              "      <td>0</td>\n",
              "      <td>0</td>\n",
              "      <td>0</td>\n",
              "      <td>...</td>\n",
              "      <td>0</td>\n",
              "      <td>0</td>\n",
              "      <td>1</td>\n",
              "      <td>0</td>\n",
              "      <td>0</td>\n",
              "      <td>0</td>\n",
              "      <td>0</td>\n",
              "      <td>0</td>\n",
              "      <td>0</td>\n",
              "      <td>3</td>\n",
              "    </tr>\n",
              "    <tr>\n",
              "      <th>1579</th>\n",
              "      <td>0</td>\n",
              "      <td>0</td>\n",
              "      <td>0</td>\n",
              "      <td>0</td>\n",
              "      <td>0</td>\n",
              "      <td>0</td>\n",
              "      <td>0</td>\n",
              "      <td>0</td>\n",
              "      <td>0</td>\n",
              "      <td>0</td>\n",
              "      <td>...</td>\n",
              "      <td>0</td>\n",
              "      <td>0</td>\n",
              "      <td>0</td>\n",
              "      <td>0</td>\n",
              "      <td>0</td>\n",
              "      <td>0</td>\n",
              "      <td>0</td>\n",
              "      <td>0</td>\n",
              "      <td>0</td>\n",
              "      <td>2</td>\n",
              "    </tr>\n",
              "    <tr>\n",
              "      <th>1580</th>\n",
              "      <td>0</td>\n",
              "      <td>0</td>\n",
              "      <td>0</td>\n",
              "      <td>0</td>\n",
              "      <td>1</td>\n",
              "      <td>0</td>\n",
              "      <td>0</td>\n",
              "      <td>0</td>\n",
              "      <td>0</td>\n",
              "      <td>0</td>\n",
              "      <td>...</td>\n",
              "      <td>0</td>\n",
              "      <td>0</td>\n",
              "      <td>0</td>\n",
              "      <td>0</td>\n",
              "      <td>0</td>\n",
              "      <td>0</td>\n",
              "      <td>0</td>\n",
              "      <td>0</td>\n",
              "      <td>0</td>\n",
              "      <td>2</td>\n",
              "    </tr>\n",
              "    <tr>\n",
              "      <th>1581</th>\n",
              "      <td>0</td>\n",
              "      <td>0</td>\n",
              "      <td>0</td>\n",
              "      <td>0</td>\n",
              "      <td>0</td>\n",
              "      <td>0</td>\n",
              "      <td>0</td>\n",
              "      <td>0</td>\n",
              "      <td>0</td>\n",
              "      <td>0</td>\n",
              "      <td>...</td>\n",
              "      <td>0</td>\n",
              "      <td>0</td>\n",
              "      <td>0</td>\n",
              "      <td>0</td>\n",
              "      <td>0</td>\n",
              "      <td>0</td>\n",
              "      <td>0</td>\n",
              "      <td>0</td>\n",
              "      <td>0</td>\n",
              "      <td>3</td>\n",
              "    </tr>\n",
              "  </tbody>\n",
              "</table>\n",
              "<p>1582 rows × 599 columns</p>\n",
              "</div>\n",
              "      <button class=\"colab-df-convert\" onclick=\"convertToInteractive('df-0850564a-24ae-4b37-a4f6-4ee0b81d38fb')\"\n",
              "              title=\"Convert this dataframe to an interactive table.\"\n",
              "              style=\"display:none;\">\n",
              "        \n",
              "  <svg xmlns=\"http://www.w3.org/2000/svg\" height=\"24px\"viewBox=\"0 0 24 24\"\n",
              "       width=\"24px\">\n",
              "    <path d=\"M0 0h24v24H0V0z\" fill=\"none\"/>\n",
              "    <path d=\"M18.56 5.44l.94 2.06.94-2.06 2.06-.94-2.06-.94-.94-2.06-.94 2.06-2.06.94zm-11 1L8.5 8.5l.94-2.06 2.06-.94-2.06-.94L8.5 2.5l-.94 2.06-2.06.94zm10 10l.94 2.06.94-2.06 2.06-.94-2.06-.94-.94-2.06-.94 2.06-2.06.94z\"/><path d=\"M17.41 7.96l-1.37-1.37c-.4-.4-.92-.59-1.43-.59-.52 0-1.04.2-1.43.59L10.3 9.45l-7.72 7.72c-.78.78-.78 2.05 0 2.83L4 21.41c.39.39.9.59 1.41.59.51 0 1.02-.2 1.41-.59l7.78-7.78 2.81-2.81c.8-.78.8-2.07 0-2.86zM5.41 20L4 18.59l7.72-7.72 1.47 1.35L5.41 20z\"/>\n",
              "  </svg>\n",
              "      </button>\n",
              "      \n",
              "  <style>\n",
              "    .colab-df-container {\n",
              "      display:flex;\n",
              "      flex-wrap:wrap;\n",
              "      gap: 12px;\n",
              "    }\n",
              "\n",
              "    .colab-df-convert {\n",
              "      background-color: #E8F0FE;\n",
              "      border: none;\n",
              "      border-radius: 50%;\n",
              "      cursor: pointer;\n",
              "      display: none;\n",
              "      fill: #1967D2;\n",
              "      height: 32px;\n",
              "      padding: 0 0 0 0;\n",
              "      width: 32px;\n",
              "    }\n",
              "\n",
              "    .colab-df-convert:hover {\n",
              "      background-color: #E2EBFA;\n",
              "      box-shadow: 0px 1px 2px rgba(60, 64, 67, 0.3), 0px 1px 3px 1px rgba(60, 64, 67, 0.15);\n",
              "      fill: #174EA6;\n",
              "    }\n",
              "\n",
              "    [theme=dark] .colab-df-convert {\n",
              "      background-color: #3B4455;\n",
              "      fill: #D2E3FC;\n",
              "    }\n",
              "\n",
              "    [theme=dark] .colab-df-convert:hover {\n",
              "      background-color: #434B5C;\n",
              "      box-shadow: 0px 1px 3px 1px rgba(0, 0, 0, 0.15);\n",
              "      filter: drop-shadow(0px 1px 2px rgba(0, 0, 0, 0.3));\n",
              "      fill: #FFFFFF;\n",
              "    }\n",
              "  </style>\n",
              "\n",
              "      <script>\n",
              "        const buttonEl =\n",
              "          document.querySelector('#df-0850564a-24ae-4b37-a4f6-4ee0b81d38fb button.colab-df-convert');\n",
              "        buttonEl.style.display =\n",
              "          google.colab.kernel.accessAllowed ? 'block' : 'none';\n",
              "\n",
              "        async function convertToInteractive(key) {\n",
              "          const element = document.querySelector('#df-0850564a-24ae-4b37-a4f6-4ee0b81d38fb');\n",
              "          const dataTable =\n",
              "            await google.colab.kernel.invokeFunction('convertToInteractive',\n",
              "                                                     [key], {});\n",
              "          if (!dataTable) return;\n",
              "\n",
              "          const docLinkHtml = 'Like what you see? Visit the ' +\n",
              "            '<a target=\"_blank\" href=https://colab.research.google.com/notebooks/data_table.ipynb>data table notebook</a>'\n",
              "            + ' to learn more about interactive tables.';\n",
              "          element.innerHTML = '';\n",
              "          dataTable['output_type'] = 'display_data';\n",
              "          await google.colab.output.renderOutput(dataTable, element);\n",
              "          const docLink = document.createElement('div');\n",
              "          docLink.innerHTML = docLinkHtml;\n",
              "          element.appendChild(docLink);\n",
              "        }\n",
              "      </script>\n",
              "    </div>\n",
              "  </div>\n",
              "  "
            ]
          },
          "metadata": {},
          "execution_count": 112
        }
      ],
      "source": [
        "test_df_twenty, test_numpy_data_twenty = create_df(testFrequencies, totalFilteredVocab)\n",
        "test_df_twenty"
      ]
    },
    {
      "cell_type": "code",
      "execution_count": null,
      "metadata": {
        "id": "5E4oW7-xhWVz"
      },
      "outputs": [],
      "source": [
        "# Feature selection\n",
        "infoScores = []\n",
        "numFeatures = 25\n",
        "top_20_twenty_features = []\n",
        "\n",
        "for labelIndex, labelCol in enumerate(one_hot_train_df_twenty):\n",
        "  features_metrics = []\n",
        "  for featureIndex, featureName in enumerate(train_df_twenty_nolabel.columns):\n",
        "    metric = metrics.adjusted_mutual_info_score(train_df_twenty_nolabel[featureName], one_hot_train_df_twenty[labelIndex])\n",
        "    feature_metric = (featureName, metric)\n",
        "    features_metrics.append(feature_metric)\n",
        "  features_metrics.sort(key=lambda feature_metric: feature_metric[1])\n",
        "  largest_features_metrics = features_metrics[-numFeatures:]\n",
        "  infoScores.extend(list(list(zip(*largest_features_metrics))[0]))\n",
        "  \n",
        "  # Extraction of top 20 features for the 20 news group dataset.\n",
        "  # Selecting top 5 for each category.\n",
        "  top_5_features_of_category = largest_features_metrics[-5:]\n",
        "  top_5_features_of_category.sort(reverse=True, key=lambda x: x[1])\n",
        "  for feature in top_5_features_of_category:\n",
        "    top_20_twenty_features.append(feature)\n",
        "\n",
        "\n",
        "featuresToKeep = set(infoScores)\n",
        "featuresToRemove = []\n",
        "for feature in list(train_df_twenty_nolabel.columns):\n",
        "  if feature not in featuresToKeep:\n",
        "    featuresToRemove.append(feature)\n",
        "\n",
        "# Extracting the feature names from the tuples.\n",
        "top_20_twenty_features_names = []\n",
        "for feature in top_20_twenty_features:\n",
        "  top_20_twenty_features_names.append(feature[0])"
      ]
    },
    {
      "cell_type": "code",
      "execution_count": null,
      "metadata": {
        "id": "3x_Bz0FIJ3nr"
      },
      "outputs": [],
      "source": [
        "train_df_twenty_filtered = train_df_twenty.drop(featuresToRemove, axis=1)\n",
        "test_df_twenty_filtered = test_df_twenty.drop(featuresToRemove, axis=1)\n",
        "\n",
        "# Extracting indexes of features we want to keep for the heatmap (top 20 features).\n",
        "twenty_filtered_column_names = list(train_df_twenty_filtered.columns)\n",
        "top_20_twenty_features_indexes = []\n",
        "for i in top_20_twenty_features_names:\n",
        "  top_20_twenty_features_indexes.append(twenty_filtered_column_names.index(i))"
      ]
    },
    {
      "cell_type": "code",
      "execution_count": null,
      "metadata": {
        "colab": {
          "base_uri": "https://localhost:8080/"
        },
        "id": "zsD0vyEJq18Y",
        "outputId": "f1650046-2ca2-4155-dfd4-982e21e6d422"
      },
      "outputs": [
        {
          "output_type": "stream",
          "name": "stdout",
          "text": [
            "(2378, 93) (2378, 4)\n"
          ]
        }
      ],
      "source": [
        "X_train_twenty, y_train_twenty = get_X_y(train_df_twenty_filtered.to_numpy())\n",
        "y_train_twenty_one_hot = pd.get_dummies(train_df_twenty_filtered['label']).to_numpy()\n",
        "type(X_train_twenty)\n",
        "type(y_train_twenty_one_hot)\n",
        "print(X_train_twenty.shape, y_train_twenty_one_hot.shape)"
      ]
    },
    {
      "cell_type": "code",
      "execution_count": null,
      "metadata": {
        "colab": {
          "base_uri": "https://localhost:8080/"
        },
        "id": "KZ67UF2T_9VK",
        "outputId": "276a1116-4691-4b21-a204-d5847c7d3aa0"
      },
      "outputs": [
        {
          "output_type": "execute_result",
          "data": {
            "text/plain": [
              "array([[0, 1, 0, 0],\n",
              "       [1, 0, 0, 0],\n",
              "       [0, 0, 0, 1],\n",
              "       ...,\n",
              "       [0, 0, 1, 0],\n",
              "       [0, 0, 1, 0],\n",
              "       [0, 0, 0, 1]], dtype=uint8)"
            ]
          },
          "metadata": {},
          "execution_count": 116
        }
      ],
      "source": [
        "X_test_twenty, y_test_twenty = get_X_y(test_df_twenty_filtered.to_numpy())\n",
        "y_test_twenty_one_hot = pd.get_dummies(test_df_twenty_filtered['label']).to_numpy()\n",
        "y_test_twenty_one_hot"
      ]
    },
    {
      "cell_type": "markdown",
      "metadata": {
        "id": "L6CLueMvhz7a"
      },
      "source": [
        "# **SECTION 2: Machine Learning Algorithm Implementations**"
      ]
    },
    {
      "cell_type": "markdown",
      "metadata": {
        "id": "G_dvR-_Gj7M8"
      },
      "source": [
        "## **Logistic Regression**"
      ]
    },
    {
      "cell_type": "code",
      "execution_count": null,
      "metadata": {
        "id": "t-TkfD-_kNXk"
      },
      "outputs": [],
      "source": [
        "class LogisticRegression:\n",
        "    def __init__(self, addBias=True, learningRate=0.005, epsilon=1e-4, maxIterations=1000):\n",
        "        self.addBias = addBias\n",
        "        self.learningRate = learningRate\n",
        "        self.epsilon = epsilon\n",
        "        self.maxIterations = maxIterations\n",
        "\n",
        "    def logistic(self, a):\n",
        "      yh = 1. / (1 + np.exp(-a))\n",
        "\n",
        "      return yh\n",
        "\n",
        "    def fit(self, X_train, y_train):\n",
        "      if self.addBias:\n",
        "        X_train = np.column_stack([X_train, np.ones(X_train.shape[0])]) # Adding bias at beginning if 1's are in left-most column FLIP THESE B/c a comment on ed\n",
        "\n",
        "      N, D = X_train.shape\n",
        "      self.w = np.zeros(D)\n",
        "      gradient = np.inf\n",
        "      \n",
        "      t = 0\n",
        "      # Gradient descent\n",
        "      while np.linalg.norm(gradient) > self.epsilon and t < self.maxIterations:\n",
        "        # Compute gradients\n",
        "        yh = self.logistic(np.dot(X_train, self.w))\n",
        "        gradient = (1 / N) * np.dot(X_train.T, yh-y_train)\n",
        "\n",
        "        # Update parameters\n",
        "        self.w = self.w - (self.learningRate * gradient)\n",
        "        t += 1\n",
        "\n",
        "    def predict(self, X_test):\n",
        "      Nt = X_test.shape[0]\n",
        "      if self.addBias: \n",
        "        X_test = np.column_stack([X_test, np.ones(Nt)])\n",
        "\n",
        "      yh = self.logistic(np.dot(X_test, self.w))\n",
        "      predictionClasses = [1 if probability > 0.5 else 0 for probability in yh]\n",
        "\n",
        "      return yh, predictionClasses"
      ]
    },
    {
      "cell_type": "markdown",
      "metadata": {
        "id": "i2yifnmAkLeU"
      },
      "source": [
        "## **Multiclass Regression**"
      ]
    },
    {
      "cell_type": "code",
      "execution_count": null,
      "metadata": {
        "id": "oGvu4SpQkiTj"
      },
      "outputs": [],
      "source": [
        "class MultiClassLogisticRegression:\n",
        "    def __init__(self, nFeatures, nClasses):\n",
        "        self.W = np.random.rand(nFeatures, nClasses)\n",
        "\n",
        "    def predict(self, X):\n",
        "        y_pred = np.exp(np.matmul(X, self.W))\n",
        "        return y_pred / y_pred.sum(axis=1).reshape(X.shape[0], 1)\n",
        "\n",
        "    def grad(self, X, y):\n",
        "        return np.matmul(X.transpose(), self.predict(X) - y)\n",
        "\n",
        "    def ce(self, X, y):\n",
        "        return -np.sum(y * np.log(self.predict(X)))\n",
        "\n",
        "    def fit(self, X, y, X_valid=None, y_valid=None, lr=0.0001, niter=2000):\n",
        "        losses_train = np.zeros(niter)\n",
        "        losses_valid = np.zeros(niter)\n",
        "        last_loss_train = sys.maxsize\n",
        "        last_loss_valid = sys.maxsize\n",
        "        final_niter = niter\n",
        "        for i in range(niter):\n",
        "            self.W = self.W - lr * self.grad(X, y)\n",
        "            loss_train = self.ce(X, y)\n",
        "            losses_train[i] = loss_train\n",
        "            if X_valid is not None and y_valid is not None:\n",
        "                loss_valid = self.ce(X_valid, y_valid)\n",
        "                losses_valid[i] = loss_valid\n",
        "                if last_loss_train < loss_train or last_loss_valid < loss_valid:\n",
        "                  final_niter = i\n",
        "                  break\n",
        "                last_loss_train = loss_train\n",
        "                last_loss_valid = loss_valid\n",
        "        return losses_train, losses_valid, final_niter\n",
        "\n",
        "    def check_grad(self, X, y):\n",
        "        N, C = y.shape\n",
        "        D = X.shape[1]\n",
        "\n",
        "        diff = np.zeros((D, C))\n",
        "\n",
        "        W = self.W.copy()\n",
        "\n",
        "        for i in range(D):\n",
        "            for j in range(C):\n",
        "                epsilon = np.zeros((D, C))\n",
        "                epsilon[i, j] = np.random.rand() * 1e-4\n",
        "\n",
        "                self.W = self.W + epsilon\n",
        "                J1 = self.ce(X, y)\n",
        "                self.W = W\n",
        "\n",
        "                self.W = self.W - epsilon\n",
        "                J2 = self.ce(X, y)\n",
        "                self.W = W\n",
        "\n",
        "                numeric_grad = (J1 - J2) / (2 * epsilon[i, j])\n",
        "                derived_grad = self.grad(X, y)[i, j]\n",
        "\n",
        "                diff[i, j] = np.square(derived_grad - numeric_grad).sum() / \\\n",
        "                             np.square(derived_grad + numeric_grad).sum()\n",
        "\n",
        "        return diff.sum()"
      ]
    },
    {
      "cell_type": "markdown",
      "metadata": {
        "id": "9C0lwApsh0Cr"
      },
      "source": [
        "# **SECTION 3: Experiments**"
      ]
    },
    {
      "cell_type": "markdown",
      "metadata": {
        "id": "dCsfvcPlKdof"
      },
      "source": [
        "## **Part 0 - Best learning rate for Logistic Regression on the IMDB reviews dataset.**"
      ]
    },
    {
      "cell_type": "code",
      "execution_count": null,
      "metadata": {
        "colab": {
          "base_uri": "https://localhost:8080/"
        },
        "id": "wKdDlctzKuJo",
        "outputId": "3b4f9ef0-b35b-417a-b004-043df0a4b9a4"
      },
      "outputs": [
        {
          "output_type": "stream",
          "name": "stdout",
          "text": [
            "(20000, 257) (20000,)\n",
            "(5000, 257) (5000,)\n"
          ]
        }
      ],
      "source": [
        "X_train, X_valid, y_train, y_valid = model_selection.train_test_split(X_imdb_filtered_train, y_imdb_filtered_train, train_size=0.8, test_size=0.2, random_state=11, shuffle=True)\n",
        "print(X_train.shape, y_train.shape)\n",
        "print(X_valid.shape, y_valid.shape)"
      ]
    },
    {
      "cell_type": "code",
      "execution_count": null,
      "metadata": {
        "colab": {
          "base_uri": "https://localhost:8080/"
        },
        "id": "l7a_IoImLpIB",
        "outputId": "1ffee848-015c-4831-a144-033ea70c14e1"
      },
      "outputs": [
        {
          "output_type": "stream",
          "name": "stdout",
          "text": [
            "[(0.01, 0.8024), (0.05, 0.831), (0.1, 0.8366), (0.5, 0.8442), (1, 0.8438), (5, 0.8176), (10, 0.7968), (50, 0.7728)]\n",
            "0.5\n"
          ]
        }
      ],
      "source": [
        "alphas = [0.01, 0.05, 0.1, 0.5, 1, 5, 10, 50]\n",
        "alpha_accuracies = []\n",
        "for a in alphas:\n",
        "    logisticRegression = LogisticRegression(learningRate=a, maxIterations=1000)\n",
        "    logisticRegression.fit(X_train, y_train)\n",
        "    y_valid_pred, y_valid_pred_classes = logisticRegression.predict(X_valid)\n",
        "    accuracy = np.sum(y_valid_pred_classes == y_valid)/len(y_valid)\n",
        "    alpha_accuracies.append((a, accuracy))\n",
        "print(alpha_accuracies)\n",
        "best_valid_alpha_logistic = sorted(alpha_accuracies, key=lambda x: x[1], reverse=True)[0][0]\n",
        "print(best_valid_alpha_logistic)"
      ]
    },
    {
      "cell_type": "markdown",
      "source": [
        "## Accuracies and training time LR vs KNN"
      ],
      "metadata": {
        "id": "emuoUWfWq6hL"
      }
    },
    {
      "cell_type": "code",
      "source": [
        "# Logistic Regression on IMDB\n",
        "logisticRegression = LogisticRegression(learningRate=best_valid_alpha_logistic, maxIterations=1000)\n",
        "start = time.time()\n",
        "logisticRegression.fit(X_imdb_filtered_train, y_imdb_filtered_train)\n",
        "end = time.time()\n",
        "probabilities, predictionClasses = logisticRegression.predict(X_imdb_filtered_test)\n",
        "accuracy = np.sum(y_imdb_filtered_test == predictionClasses) / len(y_imdb_filtered_test)\n",
        "print(f\"LR Training time: {round(end-start, 2)}s\")"
      ],
      "metadata": {
        "id": "dkIPCX25OPG9",
        "colab": {
          "base_uri": "https://localhost:8080/"
        },
        "outputId": "c099ce60-3584-4d51-85aa-2070fc827ab8"
      },
      "execution_count": 170,
      "outputs": [
        {
          "output_type": "stream",
          "name": "stdout",
          "text": [
            "LR Training time: 3.26s\n"
          ]
        }
      ]
    },
    {
      "cell_type": "code",
      "source": [
        "# K-NN on IMDB\n",
        "knn = KNeighborsClassifier(n_neighbors=15)\n",
        "start = time.time()\n",
        "knn.fit(X_imdb_filtered_train, y_imdb_filtered_train)\n",
        "end = time.time()\n",
        "predictions = knn.predict(X_imdb_filtered_test) \n",
        "print(f\"KNN Training time: {round(end-start, 2)}s\")"
      ],
      "metadata": {
        "id": "W3FNtPKyOSr9",
        "colab": {
          "base_uri": "https://localhost:8080/"
        },
        "outputId": "c5c47e3a-0924-4b91-9742-d128c837cee5"
      },
      "execution_count": 171,
      "outputs": [
        {
          "output_type": "stream",
          "name": "stdout",
          "text": [
            "KNN Training time: 0.0s\n"
          ]
        }
      ]
    },
    {
      "cell_type": "markdown",
      "source": [
        "## Accuracies and training time MLR vs KNN"
      ],
      "metadata": {
        "id": "xSDWgbzJrAce"
      }
    },
    {
      "cell_type": "code",
      "source": [
        "def evaluate(y, y_pred):\n",
        "    accuracy = sum(y_pred.argmax(axis=1) == y.argmax(axis=1))\n",
        "    accuracy = accuracy / y.shape[0]\n",
        "    return accuracy"
      ],
      "metadata": {
        "id": "Kw-mlbZ7mUTH"
      },
      "execution_count": 172,
      "outputs": []
    },
    {
      "cell_type": "code",
      "source": [
        "# Multiclass Regression on 20 Newsgroups\n",
        "N, C = y_train_twenty_one_hot.shape\n",
        "X_train_twenty = preprocessing.scale(X_train_twenty) # standardize input data\n",
        "D = X_train_twenty.shape[1]\n",
        "MLR_classifier = MultiClassLogisticRegression(D, C)\n",
        "start = time.time()\n",
        "ce_train, ce_valid, final_niter = MLR_classifier.fit(X_train_twenty, y_train_twenty_one_hot, lr=0.0001, niter=250)\n",
        "end = time.time()\n",
        "predictions = MLR_classifier.predict(X_test_twenty)\n",
        "\n",
        "print(f\"MLR Training time: {round(end-start, 2)}s\")"
      ],
      "metadata": {
        "colab": {
          "base_uri": "https://localhost:8080/"
        },
        "id": "k_ybHOaFlCYQ",
        "outputId": "f842b4c2-929f-4108-ae9f-65eeaad67b03"
      },
      "execution_count": 175,
      "outputs": [
        {
          "output_type": "stream",
          "name": "stdout",
          "text": [
            "MLR Training time: 0.83s\n"
          ]
        }
      ]
    },
    {
      "cell_type": "code",
      "source": [
        "# K-NN on 20 Newsgroups\n",
        "KNN_classifier = KNeighborsClassifier(n_neighbors=15)\n",
        "start = time.time()\n",
        "KNN_classifier.fit(X_train_twenty, y_train_twenty_one_hot)\n",
        "end = time.time()\n",
        "predictions = KNN_classifier.predict(X_test_twenty)\n",
        "\n",
        "print(f\"KNN Training time: {round(end-start, 2)}s\")"
      ],
      "metadata": {
        "colab": {
          "base_uri": "https://localhost:8080/"
        },
        "id": "PtawMchilGwd",
        "outputId": "9fdd2d1d-ea2f-4c8e-bfbe-0f5b28cbd398"
      },
      "execution_count": 176,
      "outputs": [
        {
          "output_type": "stream",
          "name": "stdout",
          "text": [
            "KNN Training time: 0.0s\n"
          ]
        }
      ]
    },
    {
      "cell_type": "markdown",
      "metadata": {
        "id": "Ccce12ad6Pf8"
      },
      "source": [
        "## **Part 1 - Horizontal bar plot showing the top 20 IMDB features with the most positive/negative z-scores.**\n",
        "\n"
      ]
    },
    {
      "cell_type": "code",
      "execution_count": null,
      "metadata": {
        "colab": {
          "base_uri": "https://localhost:8080/",
          "height": 281
        },
        "id": "ezo9ATG5j-05",
        "outputId": "a4bf6040-2b6f-4fe4-ef96-68800409eb81"
      },
      "outputs": [
        {
          "output_type": "display_data",
          "data": {
            "text/plain": [
              "<Figure size 432x288 with 1 Axes>"
            ],
            "image/png": "[encoded data removed]"
          },
          "metadata": {
            "needs_background": "light"
          }
        }
      ],
      "source": [
        "features = list(list(zip(*top_zscores))[1])\n",
        "zscores = list(list(zip(*top_zscores))[2])\n",
        "\n",
        "# Create data frame\n",
        "zscoreData = {\"Features\": features, \"Z-scores\": zscores}\n",
        "zscoreDF = pd.DataFrame(data=zscoreData);\n",
        "\n",
        "# Plot graph\n",
        "zscoreDF.plot.barh(x='Features', y='Z-scores', title=\"IMDB Reviews Top 20 Features\");\n",
        "plt.show(block=True)"
      ]
    },
    {
      "cell_type": "markdown",
      "metadata": {
        "id": "sXkyTx8a-ALC"
      },
      "source": [
        "## **Part 2: Convergence plot for Logistic and Multiclass Regression.**"
      ]
    },
    {
      "cell_type": "markdown",
      "metadata": {
        "id": "Ud9Gh-437Cn_"
      },
      "source": [
        "### Logistic Regression"
      ]
    },
    {
      "cell_type": "code",
      "execution_count": null,
      "metadata": {
        "colab": {
          "base_uri": "https://localhost:8080/",
          "height": 347
        },
        "id": "4MT02LbXVzHI",
        "outputId": "db77a76c-0a16-4d5f-f97f-b22ae79b28ab"
      },
      "outputs": [
        {
          "output_type": "stream",
          "name": "stdout",
          "text": [
            "12757.0\n",
            "12757.000001228065\n",
            "2.316785190552476e-21\n"
          ]
        },
        {
          "output_type": "display_data",
          "data": {
            "text/plain": [
              "<Figure size 432x288 with 1 Axes>"
            ],
            "image/png": "[encoded data removed]"
          },
          "metadata": {
            "needs_background": "light"
          }
        }
      ],
      "source": [
        "X, y = X_imdb_filtered_train, y_imdb_filtered_train\n",
        "\n",
        "# Gradient evalution using small perturbation \n",
        "w = np.zeros(X.shape[1])\n",
        "epsilon = np.random.randn(1)[0] * 1e-5\n",
        "w1 = w + epsilon\n",
        "w2 = w - epsilon\n",
        "a1 = np.matmul(X, w1)\n",
        "a2 = np.matmul(X, w2)\n",
        "ce1 = np.sum(y * np.log1p(np.exp(-a1)) + (1-y) * np.log1p(np.exp(a1)))\n",
        "ce2 = np.sum(y * np.log1p(np.exp(-a2)) + (1-y) * np.log1p(np.exp(a2)))\n",
        "dw_num = (ce1 - ce2)/(2*epsilon) # approximated gradient\n",
        "\n",
        "yh = 1/(1+np.exp(-np.matmul(X, w)))\n",
        "dw_cal = np.sum(np.reshape((yh - y), (y.shape[0], 1)) * X) # analytical gradient (hand calculated)\n",
        "\n",
        "print(dw_cal)\n",
        "print(dw_num)\n",
        "print((dw_cal - dw_num)**2/(dw_cal + dw_num)**2)\n",
        "\n",
        "# Monitor loss as a function of iteration\n",
        "lr = 0.01\n",
        "niter = 100\n",
        "ce_all = np.zeros(niter)\n",
        "w = np.zeros(X.shape[1])\n",
        "\n",
        "for i in range(niter):\n",
        "  a = np.matmul(X, w)\n",
        "  ce_all[i] = np.sum(y * np.log1p(np.exp(-a)) + (1-y) * np.log1p(np.exp(a))) # cross-entropy\n",
        "  yh = 1 / (1 + np.exp(-a))\n",
        "  dw = np.sum(np.reshape((yh - y), (y.shape[0], 1)) * X)\n",
        "  dw = dw / y.shape[0]\n",
        "  w = w - lr * dw\n",
        "\n",
        "plt.plot(ce_all)\n",
        "plt.ylabel(\"Cross entropy\")\n",
        "plt.xlabel(\"Iteration\")\n",
        "plt.title(f\"Logistic Regression Cross Entropy Convergence on IMDB Reviews\")\n",
        "plt.show()"
      ]
    },
    {
      "cell_type": "markdown",
      "metadata": {
        "id": "QFxEZL3K7G3y"
      },
      "source": [
        "### Multiclass Regression"
      ]
    },
    {
      "cell_type": "code",
      "execution_count": null,
      "metadata": {
        "colab": {
          "base_uri": "https://localhost:8080/",
          "height": 491
        },
        "id": "QEHNP4YrxLFB",
        "outputId": "6de86a4e-4afd-4603-ce2d-ca0a1472da75"
      },
      "outputs": [
        {
          "output_type": "display_data",
          "data": {
            "text/plain": [
              "<Figure size 576x432 with 1 Axes>"
            ],
            "image/png": "[encoded data removed]"
          },
          "metadata": {
            "needs_background": "light"
          }
        },
        {
          "output_type": "stream",
          "name": "stdout",
          "text": [
            "Training with 2000 iterations.\n",
            "Train accuracy: 0.8242220353238016\n",
            "Valid accuracy: 0.7821698906644239\n",
            "Test accuracy: 0.7623261694058154\n",
            "Checking Gradient: 2.393854541429988e-14\n"
          ]
        }
      ],
      "source": [
        "def evaluate(y, y_pred):\n",
        "    accuracy = sum(y_pred.argmax(axis=1) == y.argmax(axis=1))\n",
        "    accuracy = accuracy / y.shape[0]\n",
        "    return accuracy\n",
        "\n",
        "X_train, X_valid, y_train, y_valid = model_selection.train_test_split(\n",
        "    X_train_twenty, y_train_twenty_one_hot, test_size = 0.5, random_state=1, shuffle=True)\n",
        "\n",
        "N, C = y_train.shape\n",
        "\n",
        "X_train = preprocessing.scale(X_train) # standardize input data\n",
        "X_train = np.c_[X_train, np.ones(N)] # add one column to learn the linear intercept\n",
        "X_valid = preprocessing.scale(X_valid)\n",
        "X_valid = np.c_[X_valid, np.ones(X_valid.shape[0])]\n",
        "X_test = preprocessing.scale(X_test_twenty)\n",
        "X_test = np.c_[X_test, np.ones(X_test.shape[0])]\n",
        "\n",
        "D = X_train.shape[1]\n",
        "\n",
        "mlr = MultiClassLogisticRegression(D, C)\n",
        "\n",
        "# Checking gradient.\n",
        "check_gradient = mlr.check_grad(X_train, y_train)\n",
        "\n",
        "ce_train, ce_valid, final_niter = mlr.fit(X_train, y_train, X_valid, y_valid)\n",
        "ce_train = ce_train.copy()[:final_niter+1]\n",
        "ce_valid = ce_valid.copy()[:final_niter+1]\n",
        "optimal_niter = ce_valid.argmin()\n",
        "\n",
        "# Creating loss plot over iterations.\n",
        "fig = plt.figure(figsize=(8,6))\n",
        "plt.plot(ce_train, label='train')\n",
        "plt.plot(ce_valid, label='valid')\n",
        "plt.axvline(x=optimal_niter, label=f\"minValCE iter{optimal_niter}\")\n",
        "plt.legend()\n",
        "plt.title(\"Development of Loss During Training\")\n",
        "plt.xlabel(\"Number of Iterations\")\n",
        "plt.ylabel(\"Loss\")\n",
        "plt.show()\n",
        "\n",
        "# Computing accuracy on training, validation and testing sets.\n",
        "train_accuracy = evaluate(mlr.predict(X_train), y_train)\n",
        "valid_accuracy = evaluate(mlr.predict(X_valid), y_valid)\n",
        "test_accuracy = evaluate(mlr.predict(X_test), y_test_twenty_one_hot)\n",
        "\n",
        "print('Training with ' + str(final_niter) + ' iterations.')\n",
        "print('Train accuracy: ' + str(train_accuracy))\n",
        "print('Valid accuracy: ' + str(valid_accuracy))\n",
        "print('Test accuracy: ' + str(test_accuracy))\n",
        "print('Checking Gradient: ' + str(check_gradient))"
      ]
    },
    {
      "cell_type": "markdown",
      "metadata": {
        "id": "0vLQpFmV93hA"
      },
      "source": [
        "## **Part 3 - Logistic Regression receiver operating characteristic curve (ROC).**"
      ]
    },
    {
      "cell_type": "code",
      "execution_count": null,
      "metadata": {
        "colab": {
          "base_uri": "https://localhost:8080/"
        },
        "id": "F7cNEFd68i3r",
        "outputId": "247c78ac-2648-48ef-d696-4acfe50964ab"
      },
      "outputs": [
        {
          "output_type": "stream",
          "name": "stdout",
          "text": [
            "Logistic Regression prediction accuracy for z-score filtered features:  0.84048\n"
          ]
        }
      ],
      "source": [
        "# Making Logistic Regression predictions on z-score feature-filtered IMDB dataset\n",
        "\n",
        "classifier = LogisticRegression(learningRate=best_valid_alpha_logistic, maxIterations=1000)\n",
        "classifier.fit(X_imdb_filtered_train, y_imdb_filtered_train)\n",
        "probabilities, predictionClasses = classifier.predict(X_imdb_filtered_test)\n",
        "accuracy = np.sum(y_imdb_filtered_test == predictionClasses) / len(y_imdb_filtered_test)\n",
        "print(\"Logistic Regression prediction accuracy for z-score filtered features: \", accuracy)"
      ]
    },
    {
      "cell_type": "code",
      "execution_count": null,
      "metadata": {
        "colab": {
          "base_uri": "https://localhost:8080/"
        },
        "id": "bNlv19Stcb3O",
        "outputId": "1599a969-ef78-49ae-c702-abc579ff224b"
      },
      "outputs": [
        {
          "output_type": "stream",
          "name": "stdout",
          "text": [
            "Logistic Regression prediction accuracy for randomly selected features:  0.70724\n"
          ]
        }
      ],
      "source": [
        "# Making Logistic Regression predictions on randomly selected IMDB dataset\n",
        "\n",
        "classifier = LogisticRegression(learningRate=best_valid_alpha_logistic, maxIterations=1000)\n",
        "classifier.fit(X_random_imdb_filtered_train, y_random_imdb_filtered_train)\n",
        "probabilities, predictionClasses = classifier.predict(X_random_imdb_filtered_test)\n",
        "randomAccuracy = np.sum(y_random_imdb_filtered_test == predictionClasses) / len(y_random_imdb_filtered_test)\n",
        "print(\"Logistic Regression prediction accuracy for randomly selected features: \", randomAccuracy)"
      ]
    },
    {
      "cell_type": "code",
      "execution_count": null,
      "metadata": {
        "colab": {
          "base_uri": "https://localhost:8080/"
        },
        "id": "AfwDo32CCrll",
        "outputId": "92d6ab98-78c1-42d6-8bde-99ddde0030c0"
      },
      "outputs": [
        {
          "output_type": "stream",
          "name": "stdout",
          "text": [
            "KNN prediction accuracy for z-score filtered features:  0.68956\n"
          ]
        }
      ],
      "source": [
        "from sklearn.neighbors import KNeighborsClassifier\n",
        "\n",
        "knn = KNeighborsClassifier(n_neighbors=15)\n",
        "knn.fit(X_imdb_filtered_train, y_imdb_filtered_train)\n",
        "\n",
        "predictions = knn.predict(X_imdb_filtered_test)\n",
        "knnAccuracy = np.sum(y_imdb_filtered_test == predictions) / len(y_imdb_filtered_test)\n",
        "print(\"KNN prediction accuracy for z-score filtered features: \", knnAccuracy)"
      ]
    },
    {
      "cell_type": "code",
      "execution_count": null,
      "metadata": {
        "colab": {
          "base_uri": "https://localhost:8080/"
        },
        "id": "yh4FYtPSmV0j",
        "outputId": "f0fbf9aa-806e-4d36-beaa-58cabe14be5d"
      },
      "outputs": [
        {
          "output_type": "stream",
          "name": "stdout",
          "text": [
            "{'LogisticRegression': {'fpr': array([0.     , 0.17976, 1.     ]), 'tpr': array([0.     , 0.86072, 1.     ]), 'auroc': 0.84048}, 'Decision Tree': {'fpr': array([0.     , 0.29576, 1.     ]), 'tpr': array([0.    , 0.7148, 1.    ]), 'auroc': 0.7095199999999999}, 'K-Nearest Neighbors': {'fpr': array([0.     , 0.48128, 1.     ]), 'tpr': array([0.    , 0.8604, 1.    ]), 'auroc': 0.6895600000000001}}\n"
          ]
        }
      ],
      "source": [
        "from sklearn.metrics import roc_curve, roc_auc_score\n",
        "from sklearn.tree import DecisionTreeClassifier\n",
        "from sklearn.neighbors import KNeighborsClassifier\n",
        "\n",
        "perf = {}\n",
        "\n",
        "classifier = LogisticRegression(learningRate=best_valid_alpha_logistic, maxIterations=1000)\n",
        "classifier.fit(X_imdb_filtered_train, y_imdb_filtered_train)\n",
        "probabilities, predictionClasses = classifier.predict(X_imdb_filtered_test)\n",
        "fpr, tpr, _ = roc_curve(y_imdb_filtered_test, predictionClasses)\n",
        "auroc = roc_auc_score(y_imdb_filtered_test, predictionClasses)\n",
        "perf[\"LogisticRegression\"] = {'fpr':fpr, 'tpr':tpr, 'auroc':auroc}\n",
        "\n",
        "dt = DecisionTreeClassifier(max_depth=1000)\n",
        "dt.fit(X_imdb_filtered_train, y_imdb_filtered_train)\n",
        "predictions = dt.predict(X_imdb_filtered_test)\n",
        "fpr, tpr, _ = roc_curve(y_imdb_filtered_test, predictions)\n",
        "auroc = roc_auc_score(y_imdb_filtered_test, predictions)\n",
        "perf[\"Decision Tree\"] = {'fpr':fpr, 'tpr':tpr, 'auroc':auroc}\n",
        "\n",
        "knn = KNeighborsClassifier(n_neighbors=15)\n",
        "knn.fit(X_imdb_filtered_train, y_imdb_filtered_train)\n",
        "predictions = knn.predict(X_imdb_filtered_test)\n",
        "fpr, tpr, _ = roc_curve(y_imdb_filtered_test, predictions)\n",
        "auroc = roc_auc_score(y_imdb_filtered_test, predictions)\n",
        "perf[\"K-Nearest Neighbors\"] = {'fpr':fpr, 'tpr':tpr, 'auroc':auroc}\n",
        "\n",
        "print(perf)"
      ]
    },
    {
      "cell_type": "code",
      "execution_count": null,
      "metadata": {
        "colab": {
          "base_uri": "https://localhost:8080/",
          "height": 347
        },
        "id": "9tzs6k8zo3Gj",
        "outputId": "2d6dfb62-edfd-4989-a655-db943460bf2e"
      },
      "outputs": [
        {
          "output_type": "stream",
          "name": "stdout",
          "text": [
            "LogisticRegression {'fpr': array([0.     , 0.17976, 1.     ]), 'tpr': array([0.     , 0.86072, 1.     ]), 'auroc': 0.84048}\n",
            "Decision Tree {'fpr': array([0.     , 0.29576, 1.     ]), 'tpr': array([0.    , 0.7148, 1.    ]), 'auroc': 0.7095199999999999}\n",
            "K-Nearest Neighbors {'fpr': array([0.     , 0.48128, 1.     ]), 'tpr': array([0.    , 0.8604, 1.    ]), 'auroc': 0.6895600000000001}\n"
          ]
        },
        {
          "output_type": "display_data",
          "data": {
            "text/plain": [
              "<Figure size 432x288 with 1 Axes>"
            ],
            "image/png": "[encoded data removed]"
          },
          "metadata": {
            "needs_background": "light"
          }
        }
      ],
      "source": [
        "plt.clf()\n",
        "\n",
        "i = 0\n",
        "for modelName, modelPerf in perf.items():\n",
        "  print(modelName, modelPerf)\n",
        "  plt.plot(modelPerf['fpr'], modelPerf['tpr'], label=modelName)\n",
        "  plt.text(0.4, i+0.1, modelName + ': AUC = '+ str(round(modelPerf['auroc'], 2)))\n",
        "  i += 0.1\n",
        "\n",
        "plt.plot([0, 1], [0, 1], color=\"navy\", lw=2, linestyle=\"--\")\n",
        "plt.xlim([0.0, 1.0])\n",
        "plt.ylim([0.0, 1.05])\n",
        "\n",
        "plt.xlabel(\"False Positive Rate\")\n",
        "plt.ylabel(\"True Positive Rate\")\n",
        "plt.title('IMDB Reviews ROC')\n",
        "plt.legend(bbox_to_anchor=(1.04, 0.5), loc=\"upper left\")\n",
        "plt.show()"
      ]
    },
    {
      "cell_type": "markdown",
      "metadata": {
        "id": "MOKWoi_6-e6n"
      },
      "source": [
        "## **Part 4 - A bar plot showing the AUROC of Logistic Regression and Sklearn K-NN on the test data as a function of 20%, 40%, 60%, 80%, 100% training data.**"
      ]
    },
    {
      "cell_type": "code",
      "execution_count": null,
      "metadata": {
        "id": "bGq1Rmtn1Rsy"
      },
      "outputs": [],
      "source": [
        "# X_imdb_filtered_train, y_imdb_filtered_train\n",
        "X_20_train, _, y_20_train, _ = model_selection.train_test_split(X_imdb_filtered_train, y_imdb_filtered_train, train_size=0.2, random_state=11, shuffle=True)\n",
        "X_40_train, _, y_40_train, _ = model_selection.train_test_split(X_imdb_filtered_train, y_imdb_filtered_train, train_size=0.4, random_state=11, shuffle=True)\n",
        "X_60_train, _, y_60_train, _ = model_selection.train_test_split(X_imdb_filtered_train, y_imdb_filtered_train, train_size=0.6, random_state=11, shuffle=True)\n",
        "X_80_train, _, y_80_train, _ = model_selection.train_test_split(X_imdb_filtered_train, y_imdb_filtered_train, train_size=0.8, random_state=11, shuffle=True)\n",
        "datasets = [(X_20_train, y_20_train), (X_40_train, y_40_train), (X_60_train, y_60_train), (X_80_train, y_80_train), (X_imdb_filtered_train, y_imdb_filtered_train)]\n",
        "\n",
        "percentages = [20, 40, 60, 80, 100]\n",
        "LR_aurocs = []\n",
        "KNN_aurocs = []\n",
        "LR_classifier = LogisticRegression(learningRate=best_valid_alpha_logistic, maxIterations=1000)\n",
        "KNN_classifier = KNeighborsClassifier(n_neighbors=15)\n",
        "auroc = roc_auc_score(y_imdb_filtered_test, predictions)\n",
        "for X, y in datasets:\n",
        "    LR_classifier.fit(X, y)\n",
        "    KNN_classifier.fit(X, y)\n",
        "    probabilities, predictionClasses = LR_classifier.predict(X_imdb_filtered_test)\n",
        "    predictions = KNN_classifier.predict(X_imdb_filtered_test)\n",
        "\n",
        "    LR_auroc = roc_auc_score(y_imdb_filtered_test, predictionClasses)\n",
        "    KNN_auroc = roc_auc_score(y_imdb_filtered_test, predictions)\n",
        "\n",
        "    LR_aurocs.append(LR_auroc)\n",
        "    KNN_aurocs.append(KNN_auroc)"
      ]
    },
    {
      "cell_type": "code",
      "execution_count": null,
      "metadata": {
        "colab": {
          "base_uri": "https://localhost:8080/",
          "height": 385
        },
        "id": "UW-NNj0zlz-O",
        "outputId": "bc412566-df7e-4a85-dfb8-13642529cd45"
      },
      "outputs": [
        {
          "output_type": "stream",
          "name": "stdout",
          "text": [
            "Logistic Regrresion AUROCs:  [0.83096, 0.83856, 0.8383200000000001, 0.8393200000000001, 0.84048]\n",
            "\n"
          ]
        },
        {
          "output_type": "display_data",
          "data": {
            "text/plain": [
              "<Figure size 360x360 with 1 Axes>"
            ],
            "image/png": "[encoded data removed]"
          },
          "metadata": {
            "needs_background": "light"
          }
        }
      ],
      "source": [
        "print(\"Logistic Regrresion AUROCs: \", LR_aurocs)\n",
        "print()\n",
        "plt.figure(figsize=(5, 5))\n",
        "plt.bar(percentages, LR_aurocs, 10)\n",
        " \n",
        "# Add title and axis names\n",
        "plt.title('AUROC of Logistic Regression on IMDB Dataset')\n",
        "plt.xlabel('Percentage of training data')\n",
        "plt.ylabel('AUROC')\n",
        " \n",
        "# Show graph\n",
        "plt.show()"
      ]
    },
    {
      "cell_type": "code",
      "execution_count": null,
      "metadata": {
        "colab": {
          "base_uri": "https://localhost:8080/",
          "height": 367
        },
        "id": "d8wk_hhKnzQQ",
        "outputId": "b58cbabe-dca9-4c33-8f24-e62bdad45c6b"
      },
      "outputs": [
        {
          "output_type": "stream",
          "name": "stdout",
          "text": [
            "K-Nearest Neighbors AUROCs:  [0.6430400000000001, 0.67232, 0.6846, 0.6859999999999999, 0.6895600000000001]\n"
          ]
        },
        {
          "output_type": "display_data",
          "data": {
            "text/plain": [
              "<Figure size 360x360 with 1 Axes>"
            ],
            "image/png": "[encoded data removed]"
          },
          "metadata": {
            "needs_background": "light"
          }
        }
      ],
      "source": [
        "print(\"K-Nearest Neighbors AUROCs: \", KNN_aurocs)\n",
        "plt.figure(figsize=(5, 5))\n",
        "plt.bar(percentages, KNN_aurocs, 10)\n",
        " \n",
        "# Add title and axis names\n",
        "plt.title('AUROC of K-Nearest Neighbors on IMDB Dataset')\n",
        "plt.xlabel('Percentage of training data')\n",
        "plt.ylabel('AUROC')\n",
        " \n",
        "# Show graph\n",
        "plt.show()"
      ]
    },
    {
      "cell_type": "markdown",
      "metadata": {
        "id": "rKagQk8c-ooh"
      },
      "source": [
        "## **Part 5 - A bar plot showing the AUROC of Multiclass Regression and Sklearn K-NN on the test data as a function of 20%, 40%, 60%, 80%, 100% training data.**\n",
        "\n"
      ]
    },
    {
      "cell_type": "markdown",
      "source": [
        "Note: if Part 5 breaks with a NaN error. Rerun it again it should work. "
      ],
      "metadata": {
        "id": "YAVbqQuLbiRF"
      }
    },
    {
      "cell_type": "code",
      "execution_count": null,
      "metadata": {
        "id": "3jI5tkK2664_"
      },
      "outputs": [],
      "source": [
        "X_20_train_twenty_news_dataset, _, y_20_train_twenty_news_dataset, _ = model_selection.train_test_split(X_train_twenty, y_train_twenty_one_hot, train_size=0.2, random_state=42, shuffle=True)\n",
        "X_40_train_twenty_news_dataset, _, y_40_train_twenty_news_dataset, _ = model_selection.train_test_split(X_train_twenty, y_train_twenty_one_hot, train_size=0.4, random_state=42, shuffle=True)\n",
        "X_60_train_twenty_news_dataset, _, y_60_train_twenty_news_dataset, _ = model_selection.train_test_split(X_train_twenty, y_train_twenty_one_hot, train_size=0.6, random_state=42, shuffle=True)\n",
        "X_80_train_twenty_news_dataset, _, y_80_train_twenty_news_dataset, _ = model_selection.train_test_split(X_train_twenty, y_train_twenty_one_hot, train_size=0.8, random_state=42, shuffle=True)\n",
        "datasets_twenty_news_dataset = [(X_20_train_twenty_news_dataset, y_20_train_twenty_news_dataset), (X_40_train_twenty_news_dataset, y_40_train_twenty_news_dataset), (X_60_train_twenty_news_dataset, y_60_train_twenty_news_dataset), (X_80_train_twenty_news_dataset, y_80_train_twenty_news_dataset), (X_train_twenty, y_train_twenty_one_hot)]\n",
        "\n",
        "percentages = [20, 40, 60, 80, 100]\n",
        "MLR_aurocs_twenty_news = []\n",
        "KNN_aurocs_twenty_news = []\n",
        "\n",
        "def mlr_knn_AUROC(X, y):\n",
        "    # Multiclass Logistic Regression Classifier.\n",
        "    N, C = y.shape\n",
        "    X = preprocessing.scale(X) # standardize input data\n",
        "    D = X.shape[1]\n",
        "    MLR_classifier = MultiClassLogisticRegression(D, C)\n",
        "    ce_train, ce_valid, final_niter = MLR_classifier.fit(X, y, lr=0.0001, niter=250)\n",
        "    predictions = MLR_classifier.predict(X_test_twenty)\n",
        "    MLR_auroc = roc_auc_score(y_test_twenty_one_hot, predictions)\n",
        "    MLR_aurocs_twenty_news.append(MLR_auroc)\n",
        "\n",
        "    # K-Nearest Neighbours Classifier.\n",
        "    KNN_classifier = KNeighborsClassifier(n_neighbors=15)\n",
        "    KNN_classifier.fit(X, y)\n",
        "    predictions = KNN_classifier.predict(X_test_twenty)\n",
        "    KNN_auroc = roc_auc_score(y_test_twenty_one_hot, predictions)\n",
        "    KNN_aurocs_twenty_news.append(KNN_auroc)\n",
        "\n",
        "for X, y in datasets_twenty_news_dataset:\n",
        "    mlr_knn_AUROC(X, y)"
      ]
    },
    {
      "cell_type": "code",
      "execution_count": null,
      "metadata": {
        "id": "wnp14Agi0gFu",
        "colab": {
          "base_uri": "https://localhost:8080/",
          "height": 385
        },
        "outputId": "277da05d-8e6e-41d5-ae44-41322f2d50a4"
      },
      "outputs": [
        {
          "output_type": "stream",
          "name": "stdout",
          "text": [
            "Multiclass Logistic Regrresion AUROCs on 20 News Group Dataset:  [0.8799989374846832, 0.9145177317030224, 0.9238832834091011, 0.9322417067443465, 0.9324864722685513]\n",
            "\n"
          ]
        },
        {
          "output_type": "display_data",
          "data": {
            "text/plain": [
              "<Figure size 360x360 with 1 Axes>"
            ],
            "image/png": "[encoded data removed]"
          },
          "metadata": {
            "needs_background": "light"
          }
        }
      ],
      "source": [
        "print(\"Multiclass Logistic Regrresion AUROCs on 20 News Group Dataset: \", MLR_aurocs_twenty_news)\n",
        "print()\n",
        "plt.figure(figsize=(5, 5))\n",
        "plt.bar(percentages, MLR_aurocs_twenty_news, 10)\n",
        "plt.yticks([0.0, 0.1, 0.2, 0.3, 0.4, 0.5, 0.6, 0.7, 0.8, 0.9, 1.0])\n",
        " \n",
        "# Add title and axis names\n",
        "plt.title('AUROC of Multiclass Logistic Regression on 20 News Group Dataset')\n",
        "plt.xlabel('Percentage of training data')\n",
        "plt.ylabel('AUROC')\n",
        "\n",
        "# Show graph\n",
        "plt.show()"
      ]
    },
    {
      "cell_type": "code",
      "execution_count": null,
      "metadata": {
        "id": "96bwedkO0jzn",
        "colab": {
          "base_uri": "https://localhost:8080/",
          "height": 367
        },
        "outputId": "85fbbf61-223a-40f4-a19a-02fae72562c0"
      },
      "outputs": [
        {
          "output_type": "stream",
          "name": "stdout",
          "text": [
            "K-Nearest Neighbors AUROCs on 20 News Group Dataset:  [0.6276629186920689, 0.678286138663283, 0.7203381199003984, 0.7342988225552844, 0.7535529507254872]\n"
          ]
        },
        {
          "output_type": "display_data",
          "data": {
            "text/plain": [
              "<Figure size 360x360 with 1 Axes>"
            ],
            "image/png": "[encoded data removed]"
          },
          "metadata": {
            "needs_background": "light"
          }
        }
      ],
      "source": [
        "print(\"K-Nearest Neighbors AUROCs on 20 News Group Dataset: \", KNN_aurocs_twenty_news)\n",
        "plt.figure(figsize=(5, 5))\n",
        "plt.bar(percentages, KNN_aurocs_twenty_news, 10)\n",
        "plt.yticks([0.0, 0.1, 0.2, 0.3, 0.4, 0.5, 0.6, 0.7, 0.8, 0.9, 1.0])\n",
        " \n",
        "# Add title and axis names\n",
        "plt.title('AUROC of K-Nearest Neighbors on 20 News Group Dataset')\n",
        "plt.xlabel('Percentage of training data')\n",
        "plt.ylabel('AUROC')\n",
        " \n",
        "# Show graph\n",
        "plt.show()"
      ]
    },
    {
      "cell_type": "markdown",
      "metadata": {
        "id": "xp4rqXqp-1qG"
      },
      "source": [
        "## **Part 6 - A horizontal bar plot showing the top 20 features (10 most positive and 10 most negative) from the logistic regression on the IMDB data with the coefficient as the x-axis and the feature names (i.e., words) as the y-axis.**\n"
      ]
    },
    {
      "cell_type": "code",
      "source": [
        "classifier = LogisticRegression(learningRate=best_valid_alpha_logistic, maxIterations=1000, addBias=False)\n",
        "classifier.fit(X_imdb_filtered_train, y_imdb_filtered_train)\n",
        "probabilities, predictionClasses = classifier.predict(X_imdb_filtered_test)\n",
        "accuracy = np.sum(y_imdb_filtered_test == predictionClasses) / len(y_imdb_filtered_test)\n",
        "ws = classifier.w\n",
        "print(\"Logistic Regression prediction accuracy for z-score filtered features: \", accuracy)"
      ],
      "metadata": {
        "id": "beSRoeWXbrw9",
        "colab": {
          "base_uri": "https://localhost:8080/"
        },
        "outputId": "dda73712-c965-4f1e-a24c-95500eb74a22"
      },
      "execution_count": null,
      "outputs": [
        {
          "output_type": "stream",
          "name": "stdout",
          "text": [
            "Logistic Regression prediction accuracy for z-score filtered features:  0.83944\n"
          ]
        }
      ]
    },
    {
      "cell_type": "code",
      "source": [
        "features = final_features\n",
        "weights = ws.tolist()\n",
        "print(len(features), len(weights))\n",
        "\n",
        "features_weights = list(zip(features, weights))\n",
        "sorted_features_weights = sorted(features_weights, key=lambda t: t[1])\n",
        "lowestWeights = sorted_features_weights[:10]\n",
        "highestWeights = sorted_features_weights[-10:]\n",
        "lowest_highest_Weighsts = lowestWeights + highestWeights\n",
        "print(lowestWeights)\n",
        "print(highestWeights)\n",
        "features = list(list(zip(*lowest_highest_Weighsts))[0])\n",
        "weights = list(list(zip(*lowest_highest_Weighsts))[1])\n",
        "print(features)\n",
        "print(weights)"
      ],
      "metadata": {
        "id": "IaAwLMxQb3qT",
        "colab": {
          "base_uri": "https://localhost:8080/"
        },
        "outputId": "c669f689-9172-4a2d-9272-0bb51fa37c35"
      },
      "execution_count": null,
      "outputs": [
        {
          "output_type": "stream",
          "name": "stdout",
          "text": [
            "257 257\n",
            "[('rather', -1.492390741376359), ('style', -1.4174254066170064), ('moments', -1.2371614943112959), ('sit', -1.024972685168511), ('classic', -0.9007058731369336), ('went', -0.890906775605656), ('side', -0.860632686894706), ('understand', -0.8235363100783613), ('hero', -0.8185214634670972), ('comments', -0.8151611783521016)]\n",
            "[('enjoyed', 0.6944012551018395), ('showed', 0.7030989767481385), ('using', 0.758624432269798), ('several', 0.7616229505549175), ('baby', 0.8004527976805019), ('history', 0.8102945211249731), ('face', 0.8458613756364561), ('awful', 0.8510532979983505), ('town', 0.874789621549261), ('special', 1.0613378152887818)]\n",
            "['rather', 'style', 'moments', 'sit', 'classic', 'went', 'side', 'understand', 'hero', 'comments', 'enjoyed', 'showed', 'using', 'several', 'baby', 'history', 'face', 'awful', 'town', 'special']\n",
            "[-1.492390741376359, -1.4174254066170064, -1.2371614943112959, -1.024972685168511, -0.9007058731369336, -0.890906775605656, -0.860632686894706, -0.8235363100783613, -0.8185214634670972, -0.8151611783521016, 0.6944012551018395, 0.7030989767481385, 0.758624432269798, 0.7616229505549175, 0.8004527976805019, 0.8102945211249731, 0.8458613756364561, 0.8510532979983505, 0.874789621549261, 1.0613378152887818]\n"
          ]
        }
      ]
    },
    {
      "cell_type": "code",
      "source": [
        "weightData = {\"Features\": features, \"Weights\": weights}\n",
        "weightDF = pd.DataFrame(data=weightData);\n",
        "weightDF.plot.barh(x='Features', y='Weights', title=\"IMDB Reviews Top 20 Features\");\n",
        "\n",
        "# Show graph\n",
        "plt.show(block=True)"
      ],
      "metadata": {
        "id": "khQGCVUaZB3m",
        "colab": {
          "base_uri": "https://localhost:8080/",
          "height": 281
        },
        "outputId": "879e8eef-71a5-40fa-b5b9-10c2efa81f6f"
      },
      "execution_count": null,
      "outputs": [
        {
          "output_type": "display_data",
          "data": {
            "text/plain": [
              "<Figure size 432x288 with 1 Axes>"
            ],
            "image/png": "[encoded data removed]"
          },
          "metadata": {
            "needs_background": "light"
          }
        }
      ]
    },
    {
      "cell_type": "markdown",
      "metadata": {
        "id": "PcVYwJgm6gZb"
      },
      "source": [
        "## **Part 7 - A heatmap plot showing the 5 most positive features as rows for each chosen Newsgroup.**\n"
      ]
    },
    {
      "cell_type": "code",
      "execution_count": null,
      "metadata": {
        "id": "esJTHap97zXt",
        "colab": {
          "base_uri": "https://localhost:8080/"
        },
        "outputId": "74826bf0-20dd-4305-b541-304bc4f4025e"
      },
      "outputs": [
        {
          "output_type": "display_data",
          "data": {
            "text/plain": [
              "<Figure size 720x720 with 2 Axes>"
            ],
            "image/png": "[encoded data removed]"
          },
          "metadata": {
            "needs_background": "light"
          }
        }
      ],
      "source": [
        "from seaborn import heatmap\n",
        "\n",
        "# Extracting weights for top 20 features for the 20 news group dataset.\n",
        "weights = mlr.W\n",
        "cat_0_weights = []\n",
        "cat_1_weights = []\n",
        "cat_2_weights = []\n",
        "cat_3_weights = []\n",
        "\n",
        "for w in weights:\n",
        "  cat_0_weights.append(w[0])\n",
        "  cat_1_weights.append(w[1])\n",
        "  cat_2_weights.append(w[2])\n",
        "  cat_3_weights.append(w[3])\n",
        "\n",
        "cat_0_weights_sorted = cat_0_weights.copy()\n",
        "cat_1_weights_sorted = cat_1_weights.copy()\n",
        "cat_2_weights_sorted = cat_2_weights.copy()\n",
        "cat_3_weights_sorted = cat_3_weights.copy()\n",
        "\n",
        "cat_0_weights_sorted.sort(reverse=True)\n",
        "cat_1_weights_sorted.sort(reverse=True)\n",
        "cat_2_weights_sorted.sort(reverse=True)\n",
        "cat_3_weights_sorted.sort(reverse=True)\n",
        "\n",
        "cat_0_weights_top_5_indexes = []\n",
        "cat_1_weights_top_5_indexes = []\n",
        "cat_2_weights_top_5_indexes = []\n",
        "cat_3_weights_top_5_indexes = []\n",
        "\n",
        "def top_5_indexes(sorted_weights, unsorted_weigths, index_arr):\n",
        "  for w in sorted_weights[0:5]:\n",
        "    index_arr.append(unsorted_weigths.index(w))\n",
        "\n",
        "top_5_indexes(cat_0_weights_sorted, cat_0_weights, cat_0_weights_top_5_indexes)\n",
        "top_5_indexes(cat_1_weights_sorted, cat_1_weights, cat_1_weights_top_5_indexes)\n",
        "top_5_indexes(cat_2_weights_sorted, cat_2_weights, cat_2_weights_top_5_indexes)\n",
        "top_5_indexes(cat_3_weights_sorted, cat_3_weights, cat_3_weights_top_5_indexes)\n",
        "cat_weights_top_5_indexes = cat_0_weights_top_5_indexes + cat_1_weights_top_5_indexes + cat_2_weights_top_5_indexes + cat_3_weights_top_5_indexes\n",
        "\n",
        "\n",
        "top_20_twenty_features_names = [twenty_filtered_column_names[x] for x in cat_weights_top_5_indexes]\n",
        "\n",
        "weights = [weights[x] for x in cat_weights_top_5_indexes]\n",
        "W_hat = weights # remove the intercept\n",
        "\n",
        "# Creating the heatmap.\n",
        "W_hat_transformed_df = pd.DataFrame(W_hat, columns=categories, index=top_20_twenty_features_names)\n",
        "plt.figure(figsize = (10,10))\n",
        "hmp = heatmap(W_hat_transformed_df, cmap='RdBu_r')\n",
        "fig = hmp.get_figure()"
      ]
    },
    {
      "cell_type": "markdown",
      "metadata": {
        "id": "nA9TxNpHTUD8"
      },
      "source": [
        "## **Part 8 - Ridge and LASSO Regression**\n"
      ]
    },
    {
      "cell_type": "code",
      "execution_count": null,
      "metadata": {
        "id": "kxqxZBDCeV5Y"
      },
      "outputs": [],
      "source": [
        "from sklearn.linear_model import LinearRegression\n",
        "from sklearn.linear_model import Ridge\n",
        "from sklearn.linear_model import Lasso\n",
        "from sklearn.metrics import r2_score, mean_squared_error\n",
        "alphas = [0.01, 0.05, 0.1, 1, 50, 100, 200, 500, 1000]"
      ]
    },
    {
      "cell_type": "markdown",
      "metadata": {
        "id": "ybV2VVeJwqBp"
      },
      "source": [
        "### IMDB Review Dataset Mostly-Causal Features\n"
      ]
    },
    {
      "cell_type": "code",
      "execution_count": null,
      "metadata": {
        "id": "A0DzjXXJKLoD",
        "colab": {
          "base_uri": "https://localhost:8080/"
        },
        "outputId": "d3fc5fa3-cf31-4681-b421-5975e7f4a5a1"
      },
      "outputs": [
        {
          "output_type": "stream",
          "name": "stdout",
          "text": [
            "(20000, 257) (20000,)\n"
          ]
        }
      ],
      "source": [
        "X_train, X_valid, y_train, y_valid = model_selection.train_test_split(X_imdb_filtered_train, y_imdb_filtered_train, train_size=0.8, test_size=0.2, random_state=11, shuffle=True)\n",
        "print(X_train.shape, y_train.shape)"
      ]
    },
    {
      "cell_type": "code",
      "execution_count": null,
      "metadata": {
        "id": "AcXnA-qiLNVI",
        "colab": {
          "base_uri": "https://localhost:8080/"
        },
        "outputId": "4f7cb5ab-8b44-4240-b61f-9a8c63483afb"
      },
      "outputs": [
        {
          "output_type": "stream",
          "name": "stdout",
          "text": [
            "[(0.01, 0.8386), (0.05, 0.8386), (0.1, 0.8386), (1, 0.8386), (50, 0.8396), (100, 0.8392), (200, 0.8406), (500, 0.839), (1000, 0.8356)]\n"
          ]
        },
        {
          "output_type": "execute_result",
          "data": {
            "text/plain": [
              "200"
            ]
          },
          "metadata": {},
          "execution_count": 145
        }
      ],
      "source": [
        "# Find best alpha for Ridge regression\n",
        "alpha_accuracies = []\n",
        "for a in alphas:\n",
        "    ridgeRegression = Ridge(alpha=a)\n",
        "    ridgeRegression.fit(X_train, y_train)\n",
        "    y_valid_pred = ridgeRegression.predict(X_valid)\n",
        "    y_valid_pred_classes = [1 if probability > 0.5 else 0 for probability in y_valid_pred]\n",
        "    accuracy = np.sum(y_valid_pred_classes == y_valid)/len(y_valid)\n",
        "    alpha_accuracies.append((a, accuracy))\n",
        "print(alpha_accuracies)\n",
        "best_valid_alpha_ridge = sorted(alpha_accuracies, key=lambda x: x[1], reverse=True)[0][0]\n",
        "best_valid_alpha_ridge"
      ]
    },
    {
      "cell_type": "code",
      "execution_count": null,
      "metadata": {
        "id": "VTVBw1zyzJIK",
        "colab": {
          "base_uri": "https://localhost:8080/"
        },
        "outputId": "1587f1af-2146-4be1-e741-93c5f182876a"
      },
      "outputs": [
        {
          "output_type": "stream",
          "name": "stdout",
          "text": [
            "Ridge prediction accuracy with N>>D:  0.83552\n"
          ]
        }
      ],
      "source": [
        "ridgeRegression = Ridge(alpha=best_valid_alpha_ridge)\n",
        "\n",
        "ridgeRegression.fit(X_imdb_filtered_train, y_imdb_filtered_train)\n",
        "ridgeRegressionPredictions = ridgeRegression.predict(X_imdb_filtered_test)\n",
        "predictionClasses = [1 if probability > 0.5 else 0 for probability in ridgeRegressionPredictions]\n",
        "print(\"Ridge prediction accuracy with N>>D: \", np.sum(predictionClasses == y_imdb_filtered_test)/len(y_imdb_filtered_test))"
      ]
    },
    {
      "cell_type": "code",
      "execution_count": null,
      "metadata": {
        "id": "IvNp58ukCtA-",
        "colab": {
          "base_uri": "https://localhost:8080/"
        },
        "outputId": "62471eb6-f26e-4fee-f964-2ef48308f519"
      },
      "outputs": [
        {
          "output_type": "stream",
          "name": "stdout",
          "text": [
            "(25, 257)\n",
            "Ridge prediction accuracy with N<<D:  0.5024\n"
          ]
        }
      ],
      "source": [
        "X_5_train, _, y_5_train, _ = model_selection.train_test_split(X_imdb_filtered_train, y_imdb_filtered_train, train_size=0.001, random_state=11, shuffle=True)\n",
        "print(X_5_train.shape)\n",
        "ridgeRegression.fit(X_5_train, y_5_train)\n",
        "ridgeRegressionPredictions = ridgeRegression.predict(X_imdb_filtered_test)\n",
        "predictionClasses = [1 if probability > 0.5 else 0 for probability in ridgeRegressionPredictions]\n",
        "print(\"Ridge prediction accuracy with N<<D: \", np.sum(predictionClasses == y_imdb_filtered_test)/len(y_imdb_filtered_test))"
      ]
    },
    {
      "cell_type": "code",
      "execution_count": null,
      "metadata": {
        "id": "bmP3IxfSRpdk",
        "colab": {
          "base_uri": "https://localhost:8080/"
        },
        "outputId": "91a55934-ba4c-4723-b87f-7c560c2fd048"
      },
      "outputs": [
        {
          "output_type": "stream",
          "name": "stdout",
          "text": [
            "[(0.01, 0.7596), (0.05, 0.5352), (0.1, 0.4986), (1, 0.4986), (50, 0.4986), (100, 0.4986), (200, 0.4986), (500, 0.4986), (1000, 0.4986)]\n"
          ]
        },
        {
          "output_type": "execute_result",
          "data": {
            "text/plain": [
              "0.01"
            ]
          },
          "metadata": {},
          "execution_count": 148
        }
      ],
      "source": [
        "# Find best alpha for LASSO regression\n",
        "alpha_accuracies = []\n",
        "for a in alphas:\n",
        "    lassoRegression = Lasso(alpha=a)\n",
        "    lassoRegression.fit(X_train, y_train)\n",
        "    y_valid_pred = lassoRegression.predict(X_valid)\n",
        "    y_valid_pred_classes = [1 if probability > 0.5 else 0 for probability in y_valid_pred]\n",
        "    accuracy = np.sum(y_valid_pred_classes == y_valid)/len(y_valid)\n",
        "    alpha_accuracies.append((a, accuracy))\n",
        "print(alpha_accuracies)\n",
        "best_valid_alpha_lasso = sorted(alpha_accuracies, key=lambda x: x[1], reverse=True)[0][0]\n",
        "best_valid_alpha_lasso"
      ]
    },
    {
      "cell_type": "code",
      "execution_count": null,
      "metadata": {
        "id": "fcuo-E46R5m0",
        "colab": {
          "base_uri": "https://localhost:8080/"
        },
        "outputId": "28dfec3b-31d8-4d91-8947-20636a168963"
      },
      "outputs": [
        {
          "output_type": "stream",
          "name": "stdout",
          "text": [
            "Lasso prediction accuracy with N>>D:  0.75264\n"
          ]
        }
      ],
      "source": [
        "lassoRegression = Lasso(alpha=best_valid_alpha_lasso)\n",
        "\n",
        "lassoRegression.fit(X_imdb_filtered_train, y_imdb_filtered_train)\n",
        "lassoRegressionPredictions = lassoRegression.predict(X_imdb_filtered_test)\n",
        "predictionClasses = [1 if probability > 0.5 else 0 for probability in lassoRegressionPredictions]\n",
        "print(\"Lasso prediction accuracy with N>>D: \", np.sum(predictionClasses == y_imdb_filtered_test)/len(y_imdb_filtered_test))"
      ]
    },
    {
      "cell_type": "code",
      "execution_count": null,
      "metadata": {
        "id": "tMBfevO9SWFT",
        "colab": {
          "base_uri": "https://localhost:8080/"
        },
        "outputId": "a436724f-08ae-484a-b627-c433a454109b"
      },
      "outputs": [
        {
          "output_type": "stream",
          "name": "stdout",
          "text": [
            "(25, 257)\n",
            "Lasso prediction accuracy with N<<D:  0.556\n"
          ]
        }
      ],
      "source": [
        "X_5_train, _, y_5_train, _ = model_selection.train_test_split(X_imdb_filtered_train, y_imdb_filtered_train, train_size=0.001, random_state=11, shuffle=True)\n",
        "print(X_5_train.shape)\n",
        "lassoRegression.fit(X_5_train, y_5_train)\n",
        "lassoRegressionPredictions = lassoRegression.predict(X_imdb_filtered_test)\n",
        "predictionClasses = [1 if probability > 0.5 else 0 for probability in lassoRegressionPredictions]\n",
        "print(\"Lasso prediction accuracy with N<<D: \", np.sum(predictionClasses == y_imdb_filtered_test)/len(y_imdb_filtered_test))"
      ]
    },
    {
      "cell_type": "markdown",
      "metadata": {
        "id": "y9q24TZtwxzg"
      },
      "source": [
        "### IMDB Reviews Dataset Including Irrelevant Features \n"
      ]
    },
    {
      "cell_type": "code",
      "execution_count": null,
      "metadata": {
        "id": "YpNEzbRUeSej"
      },
      "outputs": [],
      "source": [
        "numRowsTrain, numColsTrain = np.shape(train_numpy_data_imdb)\n",
        "numRowsTest, numColsTest = np.shape(test_numpy_data_imdb)\n",
        "\n",
        "X_imdb_train = train_numpy_data_imdb[:, 0: numColsTrain-1]\n",
        "y_imdb_train = train_numpy_data_imdb[:, numColsTrain-1]\n",
        "\n",
        "X_imdb_test = train_numpy_data_imdb[:, 0: numColsTest-1]\n",
        "y_imdb_test = train_numpy_data_imdb[:, numColsTest-1]"
      ]
    },
    {
      "cell_type": "code",
      "execution_count": null,
      "metadata": {
        "id": "gv-CQLBTeSe8",
        "colab": {
          "base_uri": "https://localhost:8080/"
        },
        "outputId": "05bf18b5-ad64-4691-f44a-e2c5195efc31"
      },
      "outputs": [
        {
          "output_type": "stream",
          "name": "stdout",
          "text": [
            "(20000, 1299) (20000,)\n",
            "(25, 1299) (25,)\n"
          ]
        }
      ],
      "source": [
        "X_train, X_valid, y_train, y_valid = model_selection.train_test_split(X_imdb_train, y_imdb_train, train_size=0.8, test_size=0.2, random_state=11, shuffle=True)\n",
        "X_small_train, _, y_small_train, _ = model_selection.train_test_split(X_imdb_train, y_imdb_train, train_size=0.001, random_state=11, shuffle=True)\n",
        "print(X_train.shape, y_train.shape)\n",
        "print(X_small_train.shape, y_small_train.shape)"
      ]
    },
    {
      "cell_type": "code",
      "execution_count": null,
      "metadata": {
        "id": "xFqOaUCTeSe9",
        "colab": {
          "base_uri": "https://localhost:8080/"
        },
        "outputId": "5fca69c1-1dc0-4890-f93c-5809e754719b"
      },
      "outputs": [
        {
          "output_type": "stream",
          "name": "stdout",
          "text": [
            "[(0.01, 0.84), (0.05, 0.8398), (0.1, 0.8398), (1, 0.8402), (50, 0.8436), (100, 0.8452), (200, 0.8494), (500, 0.8512), (1000, 0.8496)]\n"
          ]
        },
        {
          "output_type": "execute_result",
          "data": {
            "text/plain": [
              "500"
            ]
          },
          "metadata": {},
          "execution_count": 153
        }
      ],
      "source": [
        "# Find best alpha for Ridge regression\n",
        "alpha_accuracies = []\n",
        "for a in alphas:\n",
        "    ridgeRegression = Ridge(alpha=a)\n",
        "    ridgeRegression.fit(X_train, y_train)\n",
        "    y_valid_pred = ridgeRegression.predict(X_valid)\n",
        "    y_valid_pred_classes = [1 if probability > 0.5 else 0 for probability in y_valid_pred]\n",
        "    accuracy = np.sum(y_valid_pred_classes == y_valid)/len(y_valid)\n",
        "    alpha_accuracies.append((a, accuracy))\n",
        "print(alpha_accuracies)\n",
        "best_valid_alpha_ridge = sorted(alpha_accuracies, key=lambda x: x[1], reverse=True)[0][0]\n",
        "best_valid_alpha_ridge"
      ]
    },
    {
      "cell_type": "code",
      "execution_count": null,
      "metadata": {
        "id": "F4Xot7EgeSe9",
        "colab": {
          "base_uri": "https://localhost:8080/"
        },
        "outputId": "b0d93cac-44aa-4dc8-e643-f13b3455ecc7"
      },
      "outputs": [
        {
          "output_type": "stream",
          "name": "stdout",
          "text": [
            "Ridge prediction accuracy with N>>D:  0.86972\n"
          ]
        }
      ],
      "source": [
        "ridgeRegression = Ridge(alpha=best_valid_alpha_ridge)\n",
        "\n",
        "ridgeRegression.fit(X_imdb_train, y_imdb_train)\n",
        "ridgeRegressionPredictions = ridgeRegression.predict(X_imdb_test)\n",
        "predictionClasses = [1 if probability > 0.5 else 0 for probability in ridgeRegressionPredictions]\n",
        "print(\"Ridge prediction accuracy with N>>D: \", np.sum(predictionClasses == y_imdb_test)/len(y_imdb_test))"
      ]
    },
    {
      "cell_type": "code",
      "execution_count": null,
      "metadata": {
        "id": "KhxDHbgHeSe-",
        "colab": {
          "base_uri": "https://localhost:8080/"
        },
        "outputId": "e20dda06-11f7-4966-cde2-31f9ca6277cd"
      },
      "outputs": [
        {
          "output_type": "stream",
          "name": "stdout",
          "text": [
            "(25, 1299)\n",
            "Lasso prediction accuracy with N<<D:  0.50024\n"
          ]
        }
      ],
      "source": [
        "X_5_train, _, y_5_train, _ = model_selection.train_test_split(X_imdb_train, y_imdb_train, train_size=0.001, random_state=11, shuffle=True)\n",
        "print(X_5_train.shape)\n",
        "ridgeRegression.fit(X_5_train, y_5_train)\n",
        "ridgeRegressionPredictions = ridgeRegression.predict(X_imdb_test)\n",
        "predictionClasses = [1 if probability > 0.5 else 0 for probability in ridgeRegressionPredictions]\n",
        "print(\"Lasso prediction accuracy with N<<D: \", np.sum(predictionClasses == y_imdb_test)/len(y_imdb_test))"
      ]
    },
    {
      "cell_type": "code",
      "execution_count": null,
      "metadata": {
        "id": "oJKFuLITeSe-",
        "colab": {
          "base_uri": "https://localhost:8080/"
        },
        "outputId": "8ca24bed-4a91-41d9-b617-af38fb1ddbb4"
      },
      "outputs": [
        {
          "output_type": "stream",
          "name": "stdout",
          "text": [
            "(20000, 1299)\n",
            "[(0.01, 0.7576), (0.05, 0.5352), (0.1, 0.4986), (1, 0.4986), (50, 0.4986), (100, 0.4986), (200, 0.4986), (500, 0.4986), (1000, 0.4986)]\n"
          ]
        },
        {
          "output_type": "execute_result",
          "data": {
            "text/plain": [
              "0.01"
            ]
          },
          "metadata": {},
          "execution_count": 156
        }
      ],
      "source": [
        "# Find best alpha for LASSO regression\n",
        "alpha_accuracies = []\n",
        "print(X_train.shape)\n",
        "for a in alphas:\n",
        "    lassoRegression = Lasso(alpha=a)\n",
        "    lassoRegression.fit(X_train, y_train)\n",
        "    y_valid_pred = lassoRegression.predict(X_valid)\n",
        "    y_valid_pred_classes = [1 if probability > 0.5 else 0 for probability in y_valid_pred]\n",
        "    accuracy = np.sum(y_valid_pred_classes == y_valid)/len(y_valid)\n",
        "    alpha_accuracies.append((a, accuracy))\n",
        "print(alpha_accuracies)\n",
        "best_valid_alpha_lasso = sorted(alpha_accuracies, key=lambda x: x[1], reverse=True)[0][0]\n",
        "best_valid_alpha_lasso"
      ]
    },
    {
      "cell_type": "code",
      "execution_count": null,
      "metadata": {
        "id": "4xQOUr4jeSe-",
        "colab": {
          "base_uri": "https://localhost:8080/"
        },
        "outputId": "ceec536f-bd2d-48ab-c679-83f87b6bbeb7"
      },
      "outputs": [
        {
          "output_type": "stream",
          "name": "stdout",
          "text": [
            "Lasso prediction accuracy with N>>D:  0.7556\n"
          ]
        }
      ],
      "source": [
        "lassoRegression = Lasso(alpha=best_valid_alpha_lasso)\n",
        "\n",
        "lassoRegression.fit(X_imdb_train, y_imdb_train)\n",
        "lassoRegressionPredictions = lassoRegression.predict(X_imdb_train)\n",
        "predictionClasses = [1 if probability > 0.5 else 0 for probability in lassoRegressionPredictions]\n",
        "print(\"Lasso prediction accuracy with N>>D: \", np.sum(predictionClasses == y_imdb_train)/len(y_imdb_train))"
      ]
    },
    {
      "cell_type": "code",
      "execution_count": null,
      "metadata": {
        "id": "5GW5N3rkeSe_",
        "colab": {
          "base_uri": "https://localhost:8080/"
        },
        "outputId": "144cbf17-59d9-4f37-d1ee-98e67d75aa72"
      },
      "outputs": [
        {
          "output_type": "stream",
          "name": "stdout",
          "text": [
            "(25, 1299)\n",
            "Lasso prediction accuracy with N<<D:  0.53948\n"
          ]
        }
      ],
      "source": [
        "X_5_train, _, y_5_train, _ = model_selection.train_test_split(X_imdb_train, y_imdb_train, train_size=0.001, random_state=11, shuffle=True)\n",
        "print(X_5_train.shape)\n",
        "lassoRegression.fit(X_5_train, y_5_train)\n",
        "lassoRegressionPredictions = lassoRegression.predict(X_imdb_train)\n",
        "predictionClasses = [1 if probability > 0.5 else 0 for probability in lassoRegressionPredictions]\n",
        "print(\"Lasso prediction accuracy with N<<D: \", np.sum(predictionClasses == y_imdb_train)/len(y_imdb_train))"
      ]
    },
    {
      "cell_type": "markdown",
      "metadata": {
        "id": "eUm5KRzMYtu-"
      },
      "source": [
        "## **Part 9 - IMDB Reviews Feature different feature filtering technique.**"
      ]
    },
    {
      "cell_type": "markdown",
      "metadata": {
        "id": "9s6zuAn6Ze6R"
      },
      "source": [
        "Create two lists of positive and negative words from the following text files."
      ]
    },
    {
      "cell_type": "code",
      "execution_count": null,
      "metadata": {
        "id": "WnnUkhtnX-2e"
      },
      "outputs": [],
      "source": [
        "from urllib.request import urlopen\n",
        "\n",
        "positiveData, negativeData = (list(urlopen('https://ptrckprry.com/course/ssd/data/positive-words.txt')), list(urlopen('https://ptrckprry.com/course/ssd/data/negative-words.txt')))\n",
        "positiveWords = positiveData[36:]\n",
        "positiveWords = [lineByte.decode('latin-1').strip() for lineByte in positiveWords]\n",
        "\n",
        "data = list(urlopen('https://ptrckprry.com/course/ssd/data/negative-words.txt'))\n",
        "negativeWords = negativeData[36:]\n",
        "negativeWords = [lineByte.decode('latin-1').strip() for lineByte in negativeWords]"
      ]
    },
    {
      "cell_type": "markdown",
      "metadata": {
        "id": "_yEkp0I7lalp"
      },
      "source": [
        "Generating the new dataframe from the sentiment vocabulary."
      ]
    },
    {
      "cell_type": "code",
      "execution_count": null,
      "metadata": {
        "id": "VRR835-qbPK4",
        "colab": {
          "base_uri": "https://localhost:8080/"
        },
        "outputId": "f21c4b6f-c646-436e-85cd-a9d7bc53e985"
      },
      "outputs": [
        {
          "output_type": "stream",
          "name": "stdout",
          "text": [
            "(25000, 244)\n",
            "(25000, 244)\n",
            "['film', 'like', 'good', 'even', 'time', 'would', 'story', 'really', 'see', 'well', 'much', 'get', 'people', 'bad', 'also', 'great', 'first', 'made', 'way', 'make', 'could', 'movies', 'think', 'characters', 'character', 'watch', 'films', 'two', 'many', 'seen', 'acting', 'never', 'plot', 'little', 'love', 'best', 'life', 'show', 'know', 'ever', 'better', 'man', 'still', 'end', 'say', 'scene', 'scenes', 'go', 'something', 'back', 'watching', 'real', 'though', 'thing', 'years', 'actors', 'director', 'another', 'nothing', 'new', 'funny', 'actually', 'work', 'makes', 'find', 'look', 'old', 'going', 'lot', 'part', 'every', 'cast', 'us', 'world', 'quite', 'want', 'things', 'pretty', 'young', 'seems', 'around', 'got', 'however', 'fact', 'horror', 'take', 'enough', 'may', 'give', 'original', 'big', 'thought', 'series', 'without', 'right', 'times', 'long', 'always', 'gets', 'action', 'comedy', 'family', 'come', 'point', 'role', 'saw', 'interesting', 'almost', 'least', 'whole', 'must', 'bit', 'music', 'script', 'done', 'guy', 'anything', 'minutes', 'last', 'since', 'might', 'performance', 'far', 'feel', 'probably', 'woman', 'kind', 'girl', 'away', 'yet', 'rather', 'worst', 'sure', 'fun', 'anyone', 'making', 'played', 'tv', 'found', 'day', 'although', 'especially', 'course', 'believe', 'comes', 'trying', 'goes', 'hard', 'looks', 'different', 'place', 'book', 'actor', 'put', 'maybe', 'money', 'someone', 'ending', 'reason', 'let', 'everything', 'sense', 'shows', 'screen', 'dvd', 'true', 'set', 'worth', 'job', 'main', 'looking', 'watched', 'everyone', 'together', 'three', 'plays', 'john', 'later', 'said', 'play', 'instead', 'audience', 'seem', 'beautiful', 'takes', 'effects', 'version', 'left', 'night', 'house', 'seeing', 'wife', 'special', 'excellent', 'father', 'american', 'idea', 'else', 'nice', 'shot', 'simply', 'year', 'read', 'black', 'high', 'less', 'war', 'star', 'completely', 'help', 'fan', 'poor', 'death', 'second', 'men', 'hollywood', 'either', 'mind', 'used', 'given', 'home', 'kids', 'try', 'performances', 'women', 'enjoy', 'classic', 'boring', 'short', 'wrong', 'need', 'rest', 'use', 'friends', 'along', 'dead', 'truly', 'half', 'production', 'line', 'tell', 'couple', 'remember', 'next', 'start', 'stupid', 'perhaps', 'came', 'recommend', 'moments', 'awful', 'wonderful', 'episode', 'mean', 'understand', 'terrible', 'full', 'camera', 'getting', 'stars', 'playing', 'video', 'keep', 'sex', 'others', 'early', 'often', 'small', 'definitely', 'gives', 'person', 'school', 'face', 'perfect', 'name', 'become', 'human', 'lines', 'yes', 'finally', 'dialogue', 'lost', 'felt', 'case', 'piece', 'top', 'liked', 'supposed', 'children', 'title', 'absolutely', 'head', 'budget', 'mother', 'live', 'written', 'boy', 'picture', 'cinema', 'went', 'worse', 'certainly', 'entire', 'sort', 'style', 'waste', 'problem', 'hope', 'entertaining', 'overall', 'friend', 'killer', 'evil', 'several', 'loved', 'fans', 'oh', 'beginning', 'white', 'lives', 'care', 'becomes', 'direction', 'example', 'already', 'based', 'drama', 'despite', 'seemed', 'dark', 'throughout', 'unfortunately', 'wanted', 'final', 'history', 'amazing', 'turn', 'fine', 'laugh', 'michael', 'son', 'humor', 'guess', 'totally', 'lead', 'sound', 'guys', 'writing', 'wants', 'low', 'works', 'tries', 'called', 'past', 'viewer', 'quality', 'child', 'days', 'behind', 'game', 'turns', 'enjoyed', 'today', 'able', 'act', 'town', 'favorite', 'kill', 'flick', 'starts', 'gave', 'actress', 'sometimes', 'eyes', 'side', 'horrible', 'girls', 'genre', 'soon', 'car', 'brilliant', 'parts', 'art', 'heart', 'expect', 'kid', 'stuff', 'stories', 'thinking', 'city', 'obviously', 'directed', 'late', 'blood', 'decent', 'feeling', 'run', 'highly', 'god', 'except', 'close', 'fight', 'hand', 'roles', 'daughter', 'killed', 'moment', 'says', 'heard', 'leave', 'matter', 'took', 'cannot', 'police', 'happens', 'brother', 'hour', 'violence', 'happened', 'strong', 'particularly', 'james', 'extremely', 'involved', 'chance', 'writer', 'obvious', 'experience', 'lack', 'including', 'told', 'alone', 'attempt', 'murder', 'living', 'happen', 'please', 'age', 'wonder', 'complete', 'ago', 'voice', 'group', 'score', 'david', 'coming', 'interest', 'save', 'none', 'ok', 'crap', 'type', 'looked', 'simple', 'slow', 'possible', 'number', 'seriously', 'hell', 'gore', 'exactly', 'shown', 'king', 'hero', 'annoying', 'song', 'husband', 'sad', 'whose', 'career', 'cinematography', 'taken', 'musical', 'ends', 'usually', 'serious', 'stop', 'hours', 'scary', 'released', 'across', 'hilarious', 'running', 'reality', 'relationship', 'usual', 'ridiculous', 'known', 'hit', 'opening', 'somewhat', 'started', 'opinion', 'jokes', 'novel', 'cool', 'change', 'robert', 'wish', 'ones', 'body', 'finds', 'order', 'saying', 'english', 'huge', 'cut', 'shots', 'episodes', 'mostly', 'taking', 'female', 'talking', 'strange', 'major', 'view', 'power', 'happy', 'documentary', 'apparently', 'rating', 'disappointed', 'level', 'talent', 'call', 'country', 'jack', 'due', 'events', 'room', 'important', 'songs', 'basically', 'clearly', 'knows', 'knew', 'supporting', 'attention', 'television', 'future', 'turned', 'paul', 'easily', 'problems', 'silly', 'british', 'word', 'tells', 'earth', 'words', 'local', 'single', 'light', 'four', 'cheap', 'sequence', 'bring', 'entertainment', 'thriller', 'beyond', 'george', 'miss', 'modern', 'whether', 'b', 'predictable', 'falls', 'five', 'sets', 'similar', 'review', 'richard', 'needs', 'upon', 'lady', 'enjoyable', 'appears', 'romantic', 'comic', 'giving', 'mystery', 'talk', 'rock', 'message', 'animation', 'within', 'theater', 'sequel', 'bunch', 'mention', 'feels', 'nearly', 'points', 'theme', 'lee', 'dull', 'add', 'york', 'ways', 'moving', 'storyline', 'ten', 'surprised', 'lots', 'team', 'begins', 'middle', 'using', 'fantastic', 'actual', 'sister', 'effort', 'viewers', 'named', 'among', 'elements', 'easy', 'stay', 'tom', 'comments', 'avoid', 'showing', 'typical', 'release', 'clear', 'hate', 'tried', 'peter', 'sorry', 'french', 'dialog', 'editing', 'tale', 'certain', 'season', 'soundtrack', 'buy', 'fall', 'general', 'near', 'means', 'famous', 'check', 'parents', 'red', 'somehow', 'material', 'oscar', 'period', 'form', 'straight', 'weak', 'working', 'doubt', 'class', 'leads', 'filmed', 'gone', 'kept', 'greatest', 'figure', 'viewing', 'feature', 'disney', 'eye', 'realistic', 'brought', 'imagine', 'hear', 'atmosphere', 'fast', 'particular', 'suspense', 'lame', 'move', 'whatever', 'sequences', 'america', 'follow', 'indeed', 'die', 'crime', 'learn', 'eventually', 'reviews', 'wait', 'forget', 'deal', 'dance', 'space', 'premise', 'surprise', 'believable', 'nature', 'possibly', 'third', 'decided', 'subject', 'expected', 'de', 'japanese', 'became', 'truth', 'imdb', 'sexual', 'average', 'stand', 'difficult', 'screenplay', 'romance', 'sit', 'poorly', 'rent', 'joe', 'leaves', 'question', 'stage', 'note', 'begin', 'killing', 'needed', 'reading', 'unless', 'baby', 'superb', 'directors', 'society', 'otherwise', 'shame', 'meet', 'street', 'situation', 'meets', 'memorable', 'dog', 'credits', 'earlier', 'forced', 'weird', 'minute', 'older', 'laughs', 'realize', 'emotional', 'beauty', 'writers', 'comment', 'footage', 'write', 'ask', 'badly', 'interested', 'dramatic', 'sounds', 'hot', 'keeps', 'features', 'directing', 'mess', 'development', 'crazy', 'quickly', 'male', 'mark', 'towards', 'creepy', 'free', 'monster', 'perfectly', 'result', 'total', 'plus', 'previous', 'brings', 'unique', 'plenty', 'worked', 'cheesy', 'effect', 'personal', 'incredibly', 'hands', 'bill', 'fantasy', 'return', 'dream', 'apart', 'deep', 'setting', 'admit', 'open', 'appear', 'background', 'leading', 'doctor', 'casting', 'hardly', 'meant', 'ben', 'potential', 'boys', 'powerful', 'business', 'masterpiece', 'fails', 'battle', 'joke', 'create', 'various', 'forward', 'fire', 'inside', 'outside', 'portrayed', 'girlfriend', 'ideas', 'twist', 'william', 'missing', 'nudity', 'reasons', 'villain', 'dumb', 'political', 'deserves', 'match', 'secret', 'expecting', 'air', 'fairly', 'present', 'gay', 'fighting', 'unlike', 'married', 'manages', 'break', 'scott', 'success', 'attempts', 'western', 'acted', 'remake', 'pay', 'box', 'recently', 'rich', 'front', 'cute', 'cop', 'sadly', 'era', 'copy', 'agree', 'talented', 'telling', 'filmmakers', 'following', 'public', 'crew', 'incredible', 'missed', 'wasted', 'pure', 'plain', 'brothers', 'odd', 'caught', 'flat', 'social', 'mentioned', 'pace', 'ended', 'decides', 'considering', 'waiting', 'members', 'large', 'list', 'sweet', 'revenge', 'popular', 'uses', 'hold', 'slightly', 'office', 'compared', 'neither', 'wrote', 'escape', 'sees', 'suddenly', 'party', 'spirit', 'tension', 'convincing', 'created', 'fear', 'spent', 'rate', 'cause', 'entirely', 'island', 'cartoon', 'intelligent', 'credit', 'clever', 'choice', 'water', 'kills', 'bored', 'familiar', 'moves', 'laughing', 'gun', 'visual', 'successful', 'ultimately', 'basic', 'band', 'trouble', 'la', 'concept', 'value', 'biggest', 'positive', 'singing', 'consider', 'exciting', 'dancing', 'company', 'died', 'recent', 'state', 'language', 'effective', 'science', 'cover', 'spend', 'portrayal', 'violent', 'cold', 'appreciate', 'produced', 'speak', 'pointless', 'former', 'studio', 'amusing', 'adult', 'common', 'filled', 'younger', 'store', 'walk', 'follows', 'focus', 'solid', 'bizarre', 'italian', 'impressive', 'animated', 'impossible', 'german', 'amount', 'tone', 'century', 'adventure', 'producers', 'showed', 'fit', 'van', 'depth', 'runs', 'situations', 'chemistry', 'project', 'jim', 'respect', 'awesome', 'control', 'hair', 'considered', 'win', 'force', 'decide', 'college', 'trip', 'disturbing', 'somewhere', 'mad', 'failed', 'changed', 'leaving', 'questions', 'longer', 'steve', 'audiences', 'barely', 'aside', 'honest', 'sick', 'shooting', 'images', 'thanks', 'charming', 'starring', 'generally', 'pathetic', 'literally', 'values', 'culture', 'likes', 'fake', 'surprisingly', 'touch', 'magic', 'involving', 'immediately', 'south', 'frank', 'natural', 'utterly', 'bought', 'honestly', 'adaptation', 'sam', 'aspect', 'pictures', 'ability', 'detective', 'nobody', 'glad', 'explain', 'fair', 'computer', 'appearance', 'sitting', 'cult', 'attack', 'master', 'meaning', 'personally', 'stick', 'normal', 'army', 'appeal', 'knowing', 'tough', 'remains', 'humour', 'military', 'nowhere', 'journey', 'added', 'rare', 'thinks', 'thank', 'purpose', 'touching', 'catch', 'taste', 'terms', 'chase', 'beautifully', 'channel', 'walking', 'sexy', 'terrific', 'twists', 'silent', 'standard', 'equally', 'naked', 'mood', 'subtle', 'managed', 'complex', 'pick', 'themes', 'road', 'lovely', 'narrative', 'wild', 'likely', 'brain', 'costumes', 'thus', 'plan', 'issues', 'excuse', 'outstanding', 'painful', 'producer', 'surely', 'constantly', 'christopher', 'government', 'fully', 'self', 'edge', 'presented', 'victim', 'cinematic', 'contains', 'places', 'central', 'details', 'innocent', 'presence', 'climax', 'everybody', 'slowly', 'besides', 'pass', 'charles', 'hoping', 'historical', 'stunning', 'photography', 'impression', 'loves', 'gang', 'thrown', 'mysterious', 'bottom', 'shoot', 'minor', 'makers', 'critics', 'aspects', 'stands', 'indian', 'suppose', 'scenery', 'train', 'bother', 'feelings', 'sent', 'heavy', 'support', 'opportunity', 'award', 'brief', 'element', 'filming', 'mainly', 'ahead', 'fascinating', 'blue', 'rated', 'acts', 'pieces', 'emotions', 'available', 'intended', 'building', 'names', 'throw', 'track', 'compelling', 'changes', 'drawn', 'puts', 'green', 'falling', 'student', 'smart', 'offer', 'speaking', 'tired', 'suggest', 'include', 'difference', 'confused', 'followed', 'approach', 'giant', 'motion', 'appeared', 'developed', 'image', 'gorgeous', 'laughed', 'notice', 'share', 'lacks', 'fresh', 'fellow', 'supposedly', 'moral', 'million', 'answer', 'mediocre', 'helps', 'funniest', 'drive', 'merely', 'proves', 'wondering', 'random', 'mix', 'delivers', 'finding', 'creative', 'putting', 'key', 'damn', 'drug', 'shock', 'impressed', 'absolute', 'lived', 'negative', 'paid', 'thoroughly', 'provides', 'becoming', 'seemingly', 'reminded', 'fell', 'offers', 'thats', 'tragic', 'faces', 'afraid', 'intense', 'six', 'spot', 'stuck', 'lose', 'beat', 'adds', 'held', 'rented', 'artistic', 'turning', 'pull', 'information', 'location', 'super', 'listen', 'describe', 'lets', 'favourite', 'deliver', 'asks', 'ready', 'onto', 'picked', 'inspired', 'led', 'redeeming', 'compare', 'allowed', 'member', 'carry', 'helped', 'wonderfully', 'moved', 'teenage', 'includes', 'deeply', 'willing', 'began', 'direct', 'quick', 'professional', 'worthy', 'rarely', 'comedic', 'independent', 'realized', 'apparent', 'allow', 'wearing', 'returns', 'continue', 'physical', 'provide', 'accept', 'search', 'wanting', 'reminds', 'holds', 'build', 'asked', 'extra', 'blame', 'sat', 'deserve', 'gotten', 'teen', 'starting', 'creating', 'keeping', 'manage', 'discover', 'learned', 'label']\n"
          ]
        }
      ],
      "source": [
        "columns = list(train_df_imdb.columns)\n",
        "new_y_train_df_imdb = (train_df_imdb.iloc[: , -1]).to_numpy()\n",
        "new_y_test_df_imdb = (test_df_imdb.iloc[: , -1]).to_numpy()\n",
        "\n",
        "dropColumns = []\n",
        "for word in columns:\n",
        "  if word not in positiveWords and word not in negativeWords:\n",
        "    dropColumns.append(word)\n",
        "\n",
        "new_X_train_imdb = (train_df_imdb.drop(dropColumns, axis=1)).to_numpy() # y_imdb_train\n",
        "new_X_test_imdb = (test_df_imdb.drop(dropColumns, axis=1)).to_numpy() # y_imdb_test\n",
        "\n",
        "print(new_X_train_imdb.shape)\n",
        "print(new_X_test_imdb.shape)\n",
        "print(columns)"
      ]
    },
    {
      "cell_type": "code",
      "execution_count": null,
      "metadata": {
        "id": "es3RsK8Yhczz",
        "colab": {
          "base_uri": "https://localhost:8080/"
        },
        "outputId": "ea991f19-89f6-4b4b-d22e-f162f88ed6ce"
      },
      "outputs": [
        {
          "output_type": "stream",
          "name": "stdout",
          "text": [
            "Logistic Regression prediction for newly filtered features:  0.7106\n"
          ]
        }
      ],
      "source": [
        "classifier = LogisticRegression(learningRate=best_valid_alpha_logistic, maxIterations=1000)\n",
        "classifier.fit(new_X_train_imdb, new_y_train_df_imdb)\n",
        "probabilities, predictionClasses = classifier.predict(new_X_test_imdb)\n",
        "accuracy = np.sum(new_y_test_df_imdb == predictionClasses) / len(new_y_test_df_imdb)\n",
        "print(\"Logistic Regression prediction for newly filtered features: \", accuracy)"
      ]
    },
    {
      "cell_type": "code",
      "execution_count": null,
      "metadata": {
        "id": "iUUnIgR_lXxk",
        "colab": {
          "base_uri": "https://localhost:8080/"
        },
        "outputId": "db5e77e0-54df-4f5d-b37d-4e1583a038f9"
      },
      "outputs": [
        {
          "output_type": "stream",
          "name": "stdout",
          "text": [
            "Initial features: [(0, 'like', -14.882803710283609), (1, 'good', 5.141627946358427), (2, 'well', -3.39894184683218), (3, 'bad', 4.896780681578148), (4, 'great', 3.3305828080588307), (5, 'plot', 2.556669928748797), (6, 'love', 22.59749777123907), (7, 'best', 15.962449691448384), (8, 'better', 8.561781725073372), (9, 'funny', -8.871339568503725), (10, 'work', 8.104106377426838), (11, 'pretty', 13.057287265782417), (12, 'enough', 15.80787718925789), (13, 'right', 6.849828494636678), (14, 'interesting', -0.22343231963481272), (15, 'worst', -3.359282942774804), (16, 'fun', -3.6800671126305406), (17, 'hard', -11.304480964548432), (18, 'worth', 12.238180339571022), (19, 'beautiful', 5.940725654137039), (20, 'excellent', 9.520710645337847), (21, 'nice', -3.439689461935267), (22, 'poor', 1.277017408027116), (23, 'death', 1.5111007740491815), (24, 'enjoy', 11.320379735065835), (25, 'classic', -22.65389053983406), (26, 'boring', 3.0882387975299963), (27, 'wrong', -2.1236344157891613), (28, 'dead', 6.3119663924672995), (29, 'stupid', 1.8172770999418209), (30, 'recommend', 4.337743226377486), (31, 'awful', 23.956286450807156), (32, 'wonderful', 5.797489026758632), (33, 'terrible', 4.052274382872058), (34, 'perfect', -5.0205339673059015), (35, 'lost', -3.1185578472275206), (36, 'top', 7.267751626754781), (37, 'liked', -19.44131671242114), (38, 'worse', 4.611757538515067), (39, 'waste', -9.732472391038128), (40, 'problem', 3.8944077170948312), (41, 'entertaining', 5.410078060907884), (42, 'killer', -2.4428365616642567), (43, 'evil', 3.61775905623575), (44, 'loved', 3.8058221959956677), (45, 'fans', -15.930977064834078), (46, 'dark', 6.061802542554992), (47, 'unfortunately', -6.032868355135219), (48, 'amazing', -1.1024156886984404), (49, 'fine', -4.939165804716657), (50, 'humor', -12.122210571669344), (51, 'lead', -3.4708921218772693), (52, 'works', -7.614209388686185), (53, 'enjoyed', 15.184674141469017), (54, 'favorite', -5.029961967435273), (55, 'kill', -8.259478390838462), (56, 'horrible', -2.2238687411557967), (57, 'brilliant', 2.582811480110485), (58, 'decent', 2.455778407169945), (59, 'killed', 3.003108984385915), (60, 'strong', 2.391808419954581), (61, 'lack', 5.861275969561512), (62, 'murder', 4.432522691518991), (63, 'wonder', -7.176666030919021), (64, 'crap', 0.6828336644169702), (65, 'slow', -3.218507757443591), (66, 'hell', -10.563586408220079), (67, 'hero', -16.683466694579543), (68, 'annoying', 4.6273747173311275), (69, 'sad', 4.7274922279575495), (70, 'scary', 5.32624511358295), (71, 'hilarious', -4.56008103968922), (72, 'ridiculous', 4.541323278266675), (73, 'cool', 4.601161210194582), (74, 'strange', -1.3506400469081394), (75, 'happy', 3.999875005859058), (76, 'disappointed', -0.4840850060715758), (77, 'talent', -6.679077670953022), (78, 'important', 4.003865307592551), (79, 'clearly', 2.6152294578962834), (80, 'supporting', 3.5537015374127994), (81, 'problems', -6.147397829617267), (82, 'silly', 3.9364974899509857), (83, 'cheap', 2.7108836267698346), (84, 'miss', 6.2181540245448375), (85, 'modern', 1.2072982864941535), (86, 'falls', -3.170093583227777), (87, 'enjoyable', -2.2236750127544016), (88, 'romantic', 3.5420387330210934), (89, 'mystery', -2.571375955270496), (90, 'dull', -2.520121236968421), (91, 'fantastic', -2.6597017624554313), (92, 'easy', -5.145385822489431), (93, 'clear', -3.0958806185202032), (94, 'hate', -8.3518153664485), (95, 'sorry', 5.79713140737114), (96, 'fall', 0.0630324152019193), (97, 'famous', -0.2160666469612762), (98, 'weak', 3.995755085902509), (99, 'doubt', 1.594794810617079), (100, 'leads', 0.8797147896037019), (101, 'greatest', -0.8706134163915273), (102, 'realistic', 6.378329358725232), (103, 'fast', 5.108881532819187), (104, 'lame', -0.5951281523281767), (105, 'die', 5.419170080051682), (106, 'crime', 2.53541785733154), (107, 'believable', 6.692272030146316), (108, 'difficult', -0.20619475187972713), (109, 'poorly', -8.086572895296115), (110, 'killing', -3.6717239625314577), (111, 'superb', 0.26204252735194206), (112, 'shame', 3.9349120132669113), (113, 'memorable', 1.0149653724531904), (114, 'weird', -5.648369277869517), (115, 'beauty', -5.88924503149423), (116, 'badly', 2.186301653725895), (117, 'hot', 5.368377367617867), (118, 'mess', -5.020792047673742), (119, 'crazy', -0.8257498736450598), (120, 'creepy', -3.4005995882091202), (121, 'free', -6.077262765373749), (122, 'monster', 12.532370115864786), (123, 'perfectly', -2.9548287398302264), (124, 'worked', -6.229455717657853), (125, 'cheesy', 0.7692385928406251), (126, 'incredibly', -0.1127967018726533), (127, 'leading', -0.8151174304576296), (128, 'powerful', 4.3622686829055715), (129, 'masterpiece', -13.579178264866904), (130, 'fails', 3.847590117784371), (131, 'joke', 0.8862140065420951), (132, 'twist', 6.487586618820985), (133, 'dumb', 3.750033984836994), (134, 'fairly', 5.537736486423876), (135, 'break', 1.6622781330597816), (136, 'success', -4.592560190703689), (137, 'rich', -1.204121333325529), (138, 'cute', 0.1961500871301353), (139, 'sadly', 7.160826790942864), (140, 'talented', 1.1007901848125692), (141, 'incredible', 0.9612571929594919), (142, 'missed', -16.182415382174263), (143, 'wasted', 2.8975403257528964), (144, 'pure', -10.421186314010738), (145, 'odd', 4.830738650223709), (146, 'sweet', -1.4289160309444953), (147, 'revenge', 4.970604665060631), (148, 'popular', 3.9715209037764705), (149, 'tension', 1.0487676305504994), (150, 'convincing', 3.552515090790164), (151, 'fear', -7.31633851990882), (152, 'intelligent', -1.1899937610219689), (153, 'clever', -3.3075046400709387), (154, 'kills', -10.667628018615817), (155, 'bored', 5.1714589509755085), (156, 'successful', 0.7479356379029151), (157, 'trouble', 0.97833338408983), (158, 'positive', 4.445968965775555), (159, 'exciting', 3.8440003065758277), (160, 'died', 3.759073602876787), (161, 'effective', -0.530512610518569), (162, 'violent', 3.7083124464276587), (163, 'cold', 6.9584575971962375), (164, 'appreciate', 0.4160320661597407), (165, 'pointless', 2.4969841846344094), (166, 'amusing', 4.973029282646311), (167, 'solid', -2.3254388832893738), (168, 'bizarre', 2.2805303508252153), (169, 'impressive', 6.18645101122821), (170, 'impossible', 2.639944941788575), (171, 'respect', 9.386970956063271), (172, 'awesome', 0.8976752625944797), (173, 'win', 7.1450680924937044), (174, 'disturbing', -5.719126636581705), (175, 'mad', -10.077898973188175), (176, 'failed', 0.750278833940481), (177, 'honest', -4.8650665403239595), (178, 'sick', -0.41610902232945257), (179, 'charming', 3.889974296632357), (180, 'pathetic', -1.3750285136259228), (181, 'likes', -10.57352043569043), (182, 'fake', 6.919528534479336), (183, 'magic', -0.21628506124467797), (184, 'utterly', 1.1863808457014387e-14), (185, 'glad', -4.6702086635913815), (186, 'fair', -4.204826348782902), (187, 'attack', 5.479454091248485), (188, 'master', 0.04485256580211211), (189, 'appeal', 5.823198484533689), (190, 'tough', 4.286087115510705), (191, 'humour', -1.597779057643249), (192, 'thank', 5.49635872342362), (193, 'beautifully', -5.801469774819056), (194, 'sexy', 0.03864343637180129), (195, 'terrific', 5.377856927547577), (196, 'twists', 3.4023344740530725), (197, 'silent', 2.81397607576464), (198, 'complex', -15.786977487647793), (199, 'lovely', 2.533369748039143), (200, 'wild', -10.785429580082427), (201, 'issues', -12.704260823196725), (202, 'excuse', -0.43499650487149527), (203, 'outstanding', -1.148091196595072), (204, 'painful', 0.5583749226216371), (205, 'slowly', 5.157771856033615), (206, 'stunning', -1.7096272982782899), (207, 'loves', -1.6519056638367127), (208, 'mysterious', -11.15924267677332), (209, 'critics', 1.7247523415478738), (210, 'bother', 6.15641869549422), (211, 'support', 2.0437197245673446), (212, 'award', 1.6402440825923257), (213, 'fascinating', 2.203212702318018), (214, 'available', -2.583033602067566), (215, 'falling', -1.766058463705333), (216, 'smart', 2.231851914544593), (217, 'tired', -0.5450389866569629), (218, 'confused', 2.5602960734546483), (219, 'gorgeous', 1.677445928347625), (220, 'lacks', 6.720335153891521), (221, 'fresh', 1.9158982308625419), (222, 'mediocre', 9.206302064746776), (223, 'proves', -4.315870027286945), (224, 'creative', -5.095356001003791), (225, 'damn', -0.7406883141493357), (226, 'shock', 1.7284938265933227), (227, 'impressed', -2.19713504607004), (228, 'negative', -1.2690650289870615), (229, 'fell', 3.5034287995644946), (230, 'tragic', 0.6684365653190654), (231, 'afraid', 8.226035123501404), (232, 'intense', 2.6796888595306285), (233, 'stuck', 3.922857358615497), (234, 'lose', 2.707513776378504), (235, 'super', 0.8878555013977604), (236, 'ready', -0.4084096441469361), (237, 'led', 3.3595584851942437), (238, 'redeeming', 1.441615514571678), (239, 'helped', 4.468734160447192), (240, 'wonderfully', -0.4108521425165479), (241, 'willing', 7.296315904922103), (242, 'worthy', 3.9023562414185022), (243, 'blame', 4.239758383395046)]\n",
            "Final features: [(0, 'like', -14.882803710283609), (6, 'love', 22.59749777123907), (7, 'best', 15.962449691448384), (8, 'better', 8.561781725073372), (9, 'funny', -8.871339568503725), (10, 'work', 8.104106377426838), (11, 'pretty', 13.057287265782417), (12, 'enough', 15.80787718925789), (17, 'hard', -11.304480964548432), (18, 'worth', 12.238180339571022), (20, 'excellent', 9.520710645337847), (24, 'enjoy', 11.320379735065835), (25, 'classic', -22.65389053983406), (31, 'awful', 23.956286450807156), (36, 'top', 7.267751626754781), (37, 'liked', -19.44131671242114), (39, 'waste', -9.732472391038128), (45, 'fans', -15.930977064834078), (50, 'humor', -12.122210571669344), (52, 'works', -7.614209388686185), (53, 'enjoyed', 15.184674141469017), (55, 'kill', -8.259478390838462), (63, 'wonder', -7.176666030919021), (66, 'hell', -10.563586408220079), (67, 'hero', -16.683466694579543), (94, 'hate', -8.3518153664485), (109, 'poorly', -8.086572895296115), (122, 'monster', 12.532370115864786), (129, 'masterpiece', -13.579178264866904), (139, 'sadly', 7.160826790942864), (142, 'missed', -16.182415382174263), (144, 'pure', -10.421186314010738), (151, 'fear', -7.31633851990882), (154, 'kills', -10.667628018615817), (171, 'respect', 9.386970956063271), (173, 'win', 7.1450680924937044), (175, 'mad', -10.077898973188175), (181, 'likes', -10.57352043569043), (198, 'complex', -15.786977487647793), (200, 'wild', -10.785429580082427), (201, 'issues', -12.704260823196725), (208, 'mysterious', -11.15924267677332), (222, 'mediocre', 9.206302064746776), (231, 'afraid', 8.226035123501404), (241, 'willing', 7.296315904922103)]\n",
            "Sorted final feature list [(25, 'classic', -22.65389053983406), (37, 'liked', -19.44131671242114), (67, 'hero', -16.683466694579543), (142, 'missed', -16.182415382174263), (45, 'fans', -15.930977064834078), (198, 'complex', -15.786977487647793), (0, 'like', -14.882803710283609), (129, 'masterpiece', -13.579178264866904), (201, 'issues', -12.704260823196725), (50, 'humor', -12.122210571669344), (17, 'hard', -11.304480964548432), (208, 'mysterious', -11.15924267677332), (200, 'wild', -10.785429580082427), (154, 'kills', -10.667628018615817), (181, 'likes', -10.57352043569043), (66, 'hell', -10.563586408220079), (144, 'pure', -10.421186314010738), (175, 'mad', -10.077898973188175), (39, 'waste', -9.732472391038128), (9, 'funny', -8.871339568503725), (94, 'hate', -8.3518153664485), (55, 'kill', -8.259478390838462), (109, 'poorly', -8.086572895296115), (52, 'works', -7.614209388686185), (151, 'fear', -7.31633851990882), (63, 'wonder', -7.176666030919021), (173, 'win', 7.1450680924937044), (139, 'sadly', 7.160826790942864), (36, 'top', 7.267751626754781), (241, 'willing', 7.296315904922103), (10, 'work', 8.104106377426838), (231, 'afraid', 8.226035123501404), (8, 'better', 8.561781725073372), (222, 'mediocre', 9.206302064746776), (171, 'respect', 9.386970956063271), (20, 'excellent', 9.520710645337847), (24, 'enjoy', 11.320379735065835), (18, 'worth', 12.238180339571022), (122, 'monster', 12.532370115864786), (11, 'pretty', 13.057287265782417), (53, 'enjoyed', 15.184674141469017), (12, 'enough', 15.80787718925789), (7, 'best', 15.962449691448384), (6, 'love', 22.59749777123907), (31, 'awful', 23.956286450807156)]\n",
            "Most positive zscores: [(20, 'excellent', 9.520710645337847), (24, 'enjoy', 11.320379735065835), (18, 'worth', 12.238180339571022), (122, 'monster', 12.532370115864786), (11, 'pretty', 13.057287265782417), (53, 'enjoyed', 15.184674141469017), (12, 'enough', 15.80787718925789), (7, 'best', 15.962449691448384), (6, 'love', 22.59749777123907), (31, 'awful', 23.956286450807156)]\n",
            "Most negative zscores: [(25, 'classic', -22.65389053983406), (37, 'liked', -19.44131671242114), (67, 'hero', -16.683466694579543), (142, 'missed', -16.182415382174263), (45, 'fans', -15.930977064834078), (198, 'complex', -15.786977487647793), (0, 'like', -14.882803710283609), (129, 'masterpiece', -13.579178264866904), (201, 'issues', -12.704260823196725), (50, 'humor', -12.122210571669344)]\n",
            "Top 20 z-scores:  [(25, 'classic', -22.65389053983406), (37, 'liked', -19.44131671242114), (67, 'hero', -16.683466694579543), (142, 'missed', -16.182415382174263), (45, 'fans', -15.930977064834078), (198, 'complex', -15.786977487647793), (0, 'like', -14.882803710283609), (129, 'masterpiece', -13.579178264866904), (201, 'issues', -12.704260823196725), (50, 'humor', -12.122210571669344), (20, 'excellent', 9.520710645337847), (24, 'enjoy', 11.320379735065835), (18, 'worth', 12.238180339571022), (122, 'monster', 12.532370115864786), (11, 'pretty', 13.057287265782417), (53, 'enjoyed', 15.184674141469017), (12, 'enough', 15.80787718925789), (7, 'best', 15.962449691448384), (6, 'love', 22.59749777123907), (31, 'awful', 23.956286450807156)]\n",
            "Initial Feature Count: 244\n",
            "Final Feature Count: 45\n"
          ]
        },
        {
          "output_type": "display_data",
          "data": {
            "text/plain": [
              "<Figure size 432x288 with 1 Axes>"
            ],
            "image/png": "[encoded data removed]"
          },
          "metadata": {
            "needs_background": "light"
          }
        }
      ],
      "source": [
        "# Calculate Z-Score of Train set\n",
        "initialFeatures = list(train_df_imdb.drop(dropColumns, axis=1).columns)\n",
        "numRows = new_X_train_imdb.shape[0]\n",
        "X_imdb_standardized = (new_X_train_imdb - new_X_train_imdb.mean(axis=0)) / new_X_train_imdb.std(axis=0)\n",
        "y_imdb_standardized = (new_y_train_df_imdb - y_imdb_train.mean(axis=0)) / new_y_train_df_imdb.std(axis=0)\n",
        "\n",
        "z_scores_train = (X_imdb_standardized.T @ y_imdb_standardized) / np.sqrt(numRows)\n",
        "plt.plot(z_scores_train)\n",
        "index_features_zscores = []\n",
        "for index, (feature, zscore) in enumerate(zip(initialFeatures, z_scores_train)):\n",
        "    index_features_zscores.append((index, feature, zscore))\n",
        "print(\"Initial features:\", index_features_zscores)\n",
        "keptIndices, indicesForRemoval = filter(z_scores_train, 7, -7)\n",
        "\n",
        "final_features_index_features_zscores = []\n",
        "for index, item in enumerate(index_features_zscores):\n",
        "    if index in keptIndices:\n",
        "        final_features_index_features_zscores.append(item)\n",
        "sorted_final_features_index_features_zscores = sorted(final_features_index_features_zscores, key=lambda tup: tup[2])\n",
        "most_positive_final_features_index_features_zscores = sorted_final_features_index_features_zscores[-10:]\n",
        "most_negative_final_features_index_features_zscores = sorted_final_features_index_features_zscores[:10]\n",
        "top_zscores = most_negative_final_features_index_features_zscores + most_positive_final_features_index_features_zscores\n",
        "\n",
        "print(\"Final features:\", final_features_index_features_zscores)\n",
        "print(\"Sorted final feature list\", sorted_final_features_index_features_zscores)\n",
        "print(\"Most positive zscores:\", most_positive_final_features_index_features_zscores)\n",
        "print(\"Most negative zscores:\", most_negative_final_features_index_features_zscores)\n",
        "print(\"Top 20 z-scores: \", top_zscores)\n",
        "print(\"Initial Feature Count:\", len(initialFeatures))\n",
        "print(\"Final Feature Count:\", len(keptIndices))"
      ]
    },
    {
      "cell_type": "code",
      "execution_count": null,
      "metadata": {
        "id": "P7gPFqODoqOD",
        "colab": {
          "base_uri": "https://localhost:8080/"
        },
        "outputId": "daa37e42-5dd4-4185-dfb4-eeb5bc4a5d51"
      },
      "outputs": [
        {
          "output_type": "display_data",
          "data": {
            "text/plain": [
              "<Figure size 432x288 with 1 Axes>"
            ],
            "image/png": "[encoded data removed]"
          },
          "metadata": {
            "needs_background": "light"
          }
        }
      ],
      "source": [
        "features = list(list(zip(*top_zscores))[1])\n",
        "zscores = list(list(zip(*top_zscores))[2])\n",
        "\n",
        "# Create data frame\n",
        "zscoreData = {\"Features\": features, \"Z-scores\": zscores}\n",
        "zscoreDF = pd.DataFrame(data=zscoreData);\n",
        " \n",
        "# Plot graph\n",
        "zscoreDF.plot.barh(x='Features', y='Z-scores', title=\"IMDB Reviews Top 20 Features\");\n",
        "plt.show(block=True)"
      ]
    },
    {
      "cell_type": "code",
      "execution_count": null,
      "metadata": {
        "id": "qB-w5G7alI6K"
      },
      "outputs": [],
      "source": [
        "# Feature-scaled train datasets\n",
        "X_imdb_filtered_train_part9 = removeColumns(new_X_train_imdb, keptIndices)\n",
        "y_imdb_filtered_train_part9 = new_y_train_df_imdb\n",
        "\n",
        "X_imdb_filtered_test_part9 = removeColumns(new_X_test_imdb, keptIndices)\n",
        "y_imdb_filtered_test_part9 = new_y_test_df_imdb"
      ]
    },
    {
      "cell_type": "code",
      "execution_count": null,
      "metadata": {
        "id": "QhcrOeJwpXDc",
        "colab": {
          "base_uri": "https://localhost:8080/"
        },
        "outputId": "e79d5b2d-8dd3-477b-cc5b-a381d5a0d6f7"
      },
      "outputs": [
        {
          "output_type": "stream",
          "name": "stdout",
          "text": [
            "Logistic Regression prediction accuracy for newly filtered features z-score filtered features:  0.69032\n"
          ]
        }
      ],
      "source": [
        "classifier = LogisticRegression(learningRate=best_valid_alpha_logistic, maxIterations=1000)\n",
        "classifier.fit(X_imdb_filtered_train_part9, y_imdb_filtered_train_part9)\n",
        "probabilities, predictionClasses = classifier.predict(X_imdb_filtered_test_part9)\n",
        "accuracy = np.sum(y_imdb_filtered_test_part9 == predictionClasses) / len(y_imdb_filtered_test_part9)\n",
        "print(\"Logistic Regression prediction accuracy for newly filtered features z-score filtered features: \", accuracy)"
      ]
    }
  ],
  "metadata": {
    "colab": {
      "collapsed_sections": [
        "kLA7ZVmQhuPV",
        "BCCzGY-qjvoF",
        "G_dvR-_Gj7M8",
        "i2yifnmAkLeU",
        "sXkyTx8a-ALC",
        "Ud9Gh-437Cn_",
        "QFxEZL3K7G3y",
        "MOKWoi_6-e6n",
        "PcVYwJgm6gZb"
      ],
      "provenance": []
    },
    "kernelspec": {
      "display_name": "Python 3",
      "name": "python3"
    },
    "language_info": {
      "name": "python"
    }
  },
  "nbformat": 4,
  "nbformat_minor": 0
}