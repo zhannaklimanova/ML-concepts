{
  "cells": [
    {
      "cell_type": "markdown",
      "metadata": {
        "id": "kLA7ZVmQhuPV"
      },
      "source": [
        "# **SECTION 0: Imports**"
      ]
    },
    {
      "cell_type": "code",
      "execution_count": 255,
      "metadata": {
        "colab": {
          "base_uri": "https://localhost:8080/"
        },
        "id": "x3vLqyYViGlL",
        "outputId": "b1f3aa1f-ac7a-4b9d-e0de-d475f00d61bb"
      },
      "outputs": [
        {
          "output_type": "stream",
          "name": "stderr",
          "text": [
            "[nltk_data] Downloading package stopwords to /root/nltk_data...\n",
            "[nltk_data]   Package stopwords is already up-to-date!\n"
          ]
        }
      ],
      "source": [
        "import sys\n",
        "\n",
        "import random\n",
        "\n",
        "import numpy as np\n",
        "\n",
        "import pandas as pd \n",
        "\n",
        "from collections import Counter\n",
        "\n",
        "from sklearn import model_selection\n",
        "from sklearn import preprocessing\n",
        "from sklearn.preprocessing import StandardScaler\n",
        "from sklearn.preprocessing import MinMaxScaler\n",
        "\n",
        "from scipy import stats\n",
        "\n",
        "import matplotlib.pyplot as plt\n",
        "\n",
        "\n",
        "import matplotlib.pyplot as plt\n",
        "from IPython.core.debugger import set_trace\n",
        "\n",
        "import pandas as pd \n",
        "from sklearn import model_selection\n",
        "from sklearn.model_selection import train_test_split\n",
        "from sklearn import metrics\n",
        "\n",
        "from sklearn.datasets import fetch_20newsgroups\n",
        "from sklearn.feature_extraction.text import CountVectorizer\n",
        "from sklearn.feature_extraction.text import TfidfTransformer\n",
        "\n",
        "from sklearn.metrics import roc_curve, roc_auc_score\n",
        "from sklearn.neighbors import KNeighborsClassifier\n",
        "\n",
        "import os\n",
        "import re\n",
        "\n",
        "import nltk\n",
        "nltk.download(\"stopwords\") \n",
        "from nltk.corpus import stopwords\n",
        "\n",
        "import time\n",
        "\n",
        "%matplotlib inline"
      ]
    },
    {
      "cell_type": "markdown",
      "metadata": {
        "id": "3BhAGyoVhzy8"
      },
      "source": [
        "# **SECTION 1: Data Preprocessing**"
      ]
    },
    {
      "cell_type": "markdown",
      "metadata": {
        "id": "AbdhD2GBiX5S"
      },
      "source": [
        "## **Data Acquisition Step**"
      ]
    },
    {
      "cell_type": "markdown",
      "metadata": {
        "id": "MJdu4-LVjtVB"
      },
      "source": [
        "### IMDB Reviews Dataset"
      ]
    },
    {
      "cell_type": "code",
      "execution_count": 179,
      "metadata": {
        "colab": {
          "base_uri": "https://localhost:8080/"
        },
        "id": "HX127tDPiMTj",
        "outputId": "2ab10cff-029e-4bf9-928d-d2bd18adb983"
      },
      "outputs": [
        {
          "output_type": "stream",
          "name": "stdout",
          "text": [
            "--2022-11-09 04:53:46--  http://ai.stanford.edu/~amaas/data/sentiment/aclImdb_v1.tar.gz\n",
            "Resolving ai.stanford.edu (ai.stanford.edu)... 171.64.68.10\n",
            "Connecting to ai.stanford.edu (ai.stanford.edu)|171.64.68.10|:80... connected.\n",
            "HTTP request sent, awaiting response... 200 OK\n",
            "Length: 84125825 (80M) [application/x-gzip]\n",
            "Saving to: ‘aclImdb_v1.tar.gz.3’\n",
            "\n",
            "aclImdb_v1.tar.gz.3 100%[===================>]  80.23M  20.7MB/s    in 5.3s    \n",
            "\n",
            "2022-11-09 04:53:52 (15.3 MB/s) - ‘aclImdb_v1.tar.gz.3’ saved [84125825/84125825]\n",
            "\n"
          ]
        }
      ],
      "source": [
        "# Download and extract the IMDB dataset\n",
        "!wget http://ai.stanford.edu/~amaas/data/sentiment/aclImdb_v1.tar.gz \n",
        "!tar xfz aclImdb_v1.tar.gz"
      ]
    },
    {
      "cell_type": "code",
      "execution_count": 180,
      "metadata": {
        "id": "cT7-WouSyE3W"
      },
      "outputs": [],
      "source": [
        "trainDir = 'aclImdb/train/'\n",
        "testDir = 'aclImdb/test/'\n",
        "vocabFile = 'aclImdb/imdb.vocab'\n",
        "reviewWordFrequenciesTrain = 'aclImdb/train/labeledBow.feat'\n",
        "reviewWordFrequenciesTest = 'aclImdb/test/labeledBow.feat'\n",
        "\n",
        "def create_vocab_list(vocabFile):\n",
        "  with open(vocabFile) as vf:\n",
        "    vocabList = [word.rstrip() for word in vf]\n",
        "\n",
        "  return vocabList\n",
        "\n",
        "def generate_tokens(text):\n",
        "  text = text.lower()\n",
        "  text = re.sub(\"\\\\s\", \" \", text) # remove multiple whitespace characters (leave one whitespace)\n",
        "  tokens = text.split(' ')\n",
        "\n",
        "  return tokens\n",
        "\n",
        "def count_word_frequencies(dirnames, vocabList):\n",
        "  wordFrequencies = dict.fromkeys(vocabList, 0)\n",
        "  totalFiles = 0\n",
        "\n",
        "  for dirname in dirnames:\n",
        "    # Review files: neg/0_3.txt neg/10000_4.txt neg/10001_4.txt ...\n",
        "    for y_val, y_label in enumerate(['neg', 'pos']):\n",
        "        y_dir = os.path.join(dirname, y_label)\n",
        "\n",
        "        # Generate lists of tokens of each review\n",
        "        for filename in os.listdir(y_dir):\n",
        "            filepath = os.path.join(y_dir, filename)\n",
        "            with open(filepath) as review:\n",
        "              reviewTokenized = generate_tokens(review.read())\n",
        "              for word in set(reviewTokenized):\n",
        "                if word in wordFrequencies:\n",
        "                  wordFrequencies[word] += 1\n",
        "            totalFiles += 1\n",
        "\n",
        "  return totalFiles, wordFrequencies  \n",
        "\n",
        "def find_popular_words(wordFrequencies, totalFiles):\n",
        "  popularWords = [word for word, count in wordFrequencies.items() if ((count/totalFiles) * 100) >= 1.0 and ((count/totalFiles) * 100) < 50.0]\n",
        "\n",
        "  return popularWords\n",
        "\n",
        "def remove_stop_words(vocabList):\n",
        "  stopWords = set(stopwords.words('english'))\n",
        "  excludedStopWordsList = [vocab for vocab in vocabList if not vocab in stopWords]\n",
        "\n",
        "  return excludedStopWordsList\n",
        "\n",
        "def remove_word_contractions(vocabList):\n",
        "  excludedContractions = [vocab for vocab in vocabList if vocab.isalnum()]\n",
        "\n",
        "  return excludedContractions\n",
        "\n",
        "def create_index_word_tuples(vocabFile, filteredVocabList):\n",
        "  with open(vocabFile) as vf:\n",
        "    indexedWords = list(zip(range(1, len(vocabList)), vocabList))\n",
        "    filteredWords = [indexedWord for indexedWord in indexedWords if indexedWord[1] in filteredVocabList]\n",
        "\n",
        "  return filteredWords\n",
        "\n",
        "def create_df(index_word_tuples, wordFrequenciesFile, features):\n",
        "  index_word_dictionary = dict((index, word) for index, word in index_word_tuples)\n",
        "  indexWordNames = list(index_word_dictionary.keys())\n",
        "  wordNames = list(index_word_dictionary.values())\n",
        "  wordNames.append('label')\n",
        "\n",
        "  with open(wordFrequenciesFile) as wf:\n",
        "    lines = wf.readlines()\n",
        "    length = len(lines)\n",
        "    data = np.zeros([length, len(features)+1]) # last column is for sentiment\n",
        "    \n",
        "    for row, line in enumerate(lines): # index starts at 0, labeledBow.feat starts at 1\n",
        "      tokenizedLine = line.split()\n",
        "      sentiment = int(tokenizedLine[0])\n",
        "\n",
        "      for i in range(1, len(tokenizedLine)):\n",
        "        splitToken = tokenizedLine[i].split(\":\")\n",
        "        wordNumber = int(splitToken[0])\n",
        "        wordFreq = int(splitToken[1])\n",
        "\n",
        "        if wordNumber in indexWordNames:\n",
        "          column = indexWordNames.index(wordNumber)\n",
        "          data[row][column] = wordFreq\n",
        "      data[row][-1] = 1 if sentiment > 4 else 0 \n",
        "    df = pd.DataFrame(data, columns=wordNames)\n",
        "    df[wordNames] = df[wordNames].astype(int)\n",
        "    data = data.astype(int)\n",
        "\n",
        "  return df, data\n",
        "\n",
        "def filter(z_scores, maxVal, minVal):\n",
        "  colsToKeep = []\n",
        "  colsToRemove = []\n",
        "\n",
        "  for index, z_score in enumerate(z_scores):\n",
        "    if minVal <= z_score and z_score <= maxVal:\n",
        "      colsToRemove.append(index)\n",
        "    else:\n",
        "      colsToKeep.append(index)\n",
        "\n",
        "  return colsToKeep, colsToRemove\n",
        "\n",
        "def removeColumns(data, colsToKeep):\n",
        "  filteredData = data[:, colsToKeep]\n",
        "\n",
        "  return filteredData\n",
        "\n",
        "def get_X_y(X_y_data):\n",
        "  numRows, numCols = np.shape(X_y_data)\n",
        "  X = X_y_data[:, 0: numCols-1]\n",
        "  y = X_y_data[:, numCols-1]\n",
        "  return X, y"
      ]
    },
    {
      "cell_type": "code",
      "execution_count": 181,
      "metadata": {
        "id": "X-zj95nimuQm"
      },
      "outputs": [],
      "source": [
        "# Create Train dataframe/numpy\n",
        "vocabList = create_vocab_list(vocabFile)\n",
        "totalFiles, wordFrequencies = count_word_frequencies([testDir, trainDir], vocabList)\n",
        "popularWordsList = find_popular_words(wordFrequencies, totalFiles)\n",
        "excludedStopWordsList = remove_stop_words(popularWordsList)\n",
        "excludedContractions = remove_word_contractions(excludedStopWordsList)\n",
        "index_word_tuples = create_index_word_tuples(vocabFile, excludedContractions)"
      ]
    },
    {
      "cell_type": "code",
      "execution_count": 182,
      "metadata": {
        "colab": {
          "base_uri": "https://localhost:8080/",
          "height": 441
        },
        "id": "dhpqedct1m9H",
        "outputId": "6cf9d99a-8a39-470f-d82e-a56e64d70cb4"
      },
      "outputs": [
        {
          "output_type": "stream",
          "name": "stdout",
          "text": [
            "(25000, 1300)\n"
          ]
        },
        {
          "output_type": "execute_result",
          "data": {
            "text/plain": [
              "       film  like  good  even  time  would  story  really  see  well  ...  \\\n",
              "0         0     0     0     2     0      1      0       2    0     1  ...   \n",
              "1         1     2     0     0     0      0      0       0    0     0  ...   \n",
              "2         0     0     1     0     0      0      0       0    0     0  ...   \n",
              "3         0     0     1     0     0      0      0       0    0     0  ...   \n",
              "4         2     0     2     0     0      0      1       0    0     1  ...   \n",
              "...     ...   ...   ...   ...   ...    ...    ...     ...  ...   ...  ...   \n",
              "24995     2     2     1     4     0      2      1       3    0     1  ...   \n",
              "24996     2     0     0     0     0      0      2       0    1     0  ...   \n",
              "24997     3     1     0     0     0      0      0       2    1     2  ...   \n",
              "24998     1     0     0     0     0      0      1       0    0     1  ...   \n",
              "24999     1     1     2     0     1      1      0       1    0     1  ...   \n",
              "\n",
              "       deserve  gotten  teen  starting  creating  keeping  manage  discover  \\\n",
              "0            0       0     0         0         0        0       0         0   \n",
              "1            0       0     0         0         0        0       0         0   \n",
              "2            0       0     0         0         0        0       0         0   \n",
              "3            0       0     0         0         0        0       0         0   \n",
              "4            0       0     0         0         0        0       0         0   \n",
              "...        ...     ...   ...       ...       ...      ...     ...       ...   \n",
              "24995        0       0     0         0         1        0       0         0   \n",
              "24996        0       0     0         0         0        0       0         0   \n",
              "24997        1       0     0         0         0        0       0         0   \n",
              "24998        0       0     0         0         0        0       0         0   \n",
              "24999        0       0     0         0         0        0       0         0   \n",
              "\n",
              "       learned  label  \n",
              "0            0      1  \n",
              "1            0      1  \n",
              "2            0      1  \n",
              "3            0      1  \n",
              "4            0      1  \n",
              "...        ...    ...  \n",
              "24995        0      0  \n",
              "24996        0      0  \n",
              "24997        0      0  \n",
              "24998        0      0  \n",
              "24999        0      0  \n",
              "\n",
              "[25000 rows x 1300 columns]"
            ],
            "text/html": [
              "\n",
              "  <div id=\"df-ae68bcef-0200-4544-9e04-7a36a33edfd1\">\n",
              "    <div class=\"colab-df-container\">\n",
              "      <div>\n",
              "<style scoped>\n",
              "    .dataframe tbody tr th:only-of-type {\n",
              "        vertical-align: middle;\n",
              "    }\n",
              "\n",
              "    .dataframe tbody tr th {\n",
              "        vertical-align: top;\n",
              "    }\n",
              "\n",
              "    .dataframe thead th {\n",
              "        text-align: right;\n",
              "    }\n",
              "</style>\n",
              "<table border=\"1\" class=\"dataframe\">\n",
              "  <thead>\n",
              "    <tr style=\"text-align: right;\">\n",
              "      <th></th>\n",
              "      <th>film</th>\n",
              "      <th>like</th>\n",
              "      <th>good</th>\n",
              "      <th>even</th>\n",
              "      <th>time</th>\n",
              "      <th>would</th>\n",
              "      <th>story</th>\n",
              "      <th>really</th>\n",
              "      <th>see</th>\n",
              "      <th>well</th>\n",
              "      <th>...</th>\n",
              "      <th>deserve</th>\n",
              "      <th>gotten</th>\n",
              "      <th>teen</th>\n",
              "      <th>starting</th>\n",
              "      <th>creating</th>\n",
              "      <th>keeping</th>\n",
              "      <th>manage</th>\n",
              "      <th>discover</th>\n",
              "      <th>learned</th>\n",
              "      <th>label</th>\n",
              "    </tr>\n",
              "  </thead>\n",
              "  <tbody>\n",
              "    <tr>\n",
              "      <th>0</th>\n",
              "      <td>0</td>\n",
              "      <td>0</td>\n",
              "      <td>0</td>\n",
              "      <td>2</td>\n",
              "      <td>0</td>\n",
              "      <td>1</td>\n",
              "      <td>0</td>\n",
              "      <td>2</td>\n",
              "      <td>0</td>\n",
              "      <td>1</td>\n",
              "      <td>...</td>\n",
              "      <td>0</td>\n",
              "      <td>0</td>\n",
              "      <td>0</td>\n",
              "      <td>0</td>\n",
              "      <td>0</td>\n",
              "      <td>0</td>\n",
              "      <td>0</td>\n",
              "      <td>0</td>\n",
              "      <td>0</td>\n",
              "      <td>1</td>\n",
              "    </tr>\n",
              "    <tr>\n",
              "      <th>1</th>\n",
              "      <td>1</td>\n",
              "      <td>2</td>\n",
              "      <td>0</td>\n",
              "      <td>0</td>\n",
              "      <td>0</td>\n",
              "      <td>0</td>\n",
              "      <td>0</td>\n",
              "      <td>0</td>\n",
              "      <td>0</td>\n",
              "      <td>0</td>\n",
              "      <td>...</td>\n",
              "      <td>0</td>\n",
              "      <td>0</td>\n",
              "      <td>0</td>\n",
              "      <td>0</td>\n",
              "      <td>0</td>\n",
              "      <td>0</td>\n",
              "      <td>0</td>\n",
              "      <td>0</td>\n",
              "      <td>0</td>\n",
              "      <td>1</td>\n",
              "    </tr>\n",
              "    <tr>\n",
              "      <th>2</th>\n",
              "      <td>0</td>\n",
              "      <td>0</td>\n",
              "      <td>1</td>\n",
              "      <td>0</td>\n",
              "      <td>0</td>\n",
              "      <td>0</td>\n",
              "      <td>0</td>\n",
              "      <td>0</td>\n",
              "      <td>0</td>\n",
              "      <td>0</td>\n",
              "      <td>...</td>\n",
              "      <td>0</td>\n",
              "      <td>0</td>\n",
              "      <td>0</td>\n",
              "      <td>0</td>\n",
              "      <td>0</td>\n",
              "      <td>0</td>\n",
              "      <td>0</td>\n",
              "      <td>0</td>\n",
              "      <td>0</td>\n",
              "      <td>1</td>\n",
              "    </tr>\n",
              "    <tr>\n",
              "      <th>3</th>\n",
              "      <td>0</td>\n",
              "      <td>0</td>\n",
              "      <td>1</td>\n",
              "      <td>0</td>\n",
              "      <td>0</td>\n",
              "      <td>0</td>\n",
              "      <td>0</td>\n",
              "      <td>0</td>\n",
              "      <td>0</td>\n",
              "      <td>0</td>\n",
              "      <td>...</td>\n",
              "      <td>0</td>\n",
              "      <td>0</td>\n",
              "      <td>0</td>\n",
              "      <td>0</td>\n",
              "      <td>0</td>\n",
              "      <td>0</td>\n",
              "      <td>0</td>\n",
              "      <td>0</td>\n",
              "      <td>0</td>\n",
              "      <td>1</td>\n",
              "    </tr>\n",
              "    <tr>\n",
              "      <th>4</th>\n",
              "      <td>2</td>\n",
              "      <td>0</td>\n",
              "      <td>2</td>\n",
              "      <td>0</td>\n",
              "      <td>0</td>\n",
              "      <td>0</td>\n",
              "      <td>1</td>\n",
              "      <td>0</td>\n",
              "      <td>0</td>\n",
              "      <td>1</td>\n",
              "      <td>...</td>\n",
              "      <td>0</td>\n",
              "      <td>0</td>\n",
              "      <td>0</td>\n",
              "      <td>0</td>\n",
              "      <td>0</td>\n",
              "      <td>0</td>\n",
              "      <td>0</td>\n",
              "      <td>0</td>\n",
              "      <td>0</td>\n",
              "      <td>1</td>\n",
              "    </tr>\n",
              "    <tr>\n",
              "      <th>...</th>\n",
              "      <td>...</td>\n",
              "      <td>...</td>\n",
              "      <td>...</td>\n",
              "      <td>...</td>\n",
              "      <td>...</td>\n",
              "      <td>...</td>\n",
              "      <td>...</td>\n",
              "      <td>...</td>\n",
              "      <td>...</td>\n",
              "      <td>...</td>\n",
              "      <td>...</td>\n",
              "      <td>...</td>\n",
              "      <td>...</td>\n",
              "      <td>...</td>\n",
              "      <td>...</td>\n",
              "      <td>...</td>\n",
              "      <td>...</td>\n",
              "      <td>...</td>\n",
              "      <td>...</td>\n",
              "      <td>...</td>\n",
              "      <td>...</td>\n",
              "    </tr>\n",
              "    <tr>\n",
              "      <th>24995</th>\n",
              "      <td>2</td>\n",
              "      <td>2</td>\n",
              "      <td>1</td>\n",
              "      <td>4</td>\n",
              "      <td>0</td>\n",
              "      <td>2</td>\n",
              "      <td>1</td>\n",
              "      <td>3</td>\n",
              "      <td>0</td>\n",
              "      <td>1</td>\n",
              "      <td>...</td>\n",
              "      <td>0</td>\n",
              "      <td>0</td>\n",
              "      <td>0</td>\n",
              "      <td>0</td>\n",
              "      <td>1</td>\n",
              "      <td>0</td>\n",
              "      <td>0</td>\n",
              "      <td>0</td>\n",
              "      <td>0</td>\n",
              "      <td>0</td>\n",
              "    </tr>\n",
              "    <tr>\n",
              "      <th>24996</th>\n",
              "      <td>2</td>\n",
              "      <td>0</td>\n",
              "      <td>0</td>\n",
              "      <td>0</td>\n",
              "      <td>0</td>\n",
              "      <td>0</td>\n",
              "      <td>2</td>\n",
              "      <td>0</td>\n",
              "      <td>1</td>\n",
              "      <td>0</td>\n",
              "      <td>...</td>\n",
              "      <td>0</td>\n",
              "      <td>0</td>\n",
              "      <td>0</td>\n",
              "      <td>0</td>\n",
              "      <td>0</td>\n",
              "      <td>0</td>\n",
              "      <td>0</td>\n",
              "      <td>0</td>\n",
              "      <td>0</td>\n",
              "      <td>0</td>\n",
              "    </tr>\n",
              "    <tr>\n",
              "      <th>24997</th>\n",
              "      <td>3</td>\n",
              "      <td>1</td>\n",
              "      <td>0</td>\n",
              "      <td>0</td>\n",
              "      <td>0</td>\n",
              "      <td>0</td>\n",
              "      <td>0</td>\n",
              "      <td>2</td>\n",
              "      <td>1</td>\n",
              "      <td>2</td>\n",
              "      <td>...</td>\n",
              "      <td>1</td>\n",
              "      <td>0</td>\n",
              "      <td>0</td>\n",
              "      <td>0</td>\n",
              "      <td>0</td>\n",
              "      <td>0</td>\n",
              "      <td>0</td>\n",
              "      <td>0</td>\n",
              "      <td>0</td>\n",
              "      <td>0</td>\n",
              "    </tr>\n",
              "    <tr>\n",
              "      <th>24998</th>\n",
              "      <td>1</td>\n",
              "      <td>0</td>\n",
              "      <td>0</td>\n",
              "      <td>0</td>\n",
              "      <td>0</td>\n",
              "      <td>0</td>\n",
              "      <td>1</td>\n",
              "      <td>0</td>\n",
              "      <td>0</td>\n",
              "      <td>1</td>\n",
              "      <td>...</td>\n",
              "      <td>0</td>\n",
              "      <td>0</td>\n",
              "      <td>0</td>\n",
              "      <td>0</td>\n",
              "      <td>0</td>\n",
              "      <td>0</td>\n",
              "      <td>0</td>\n",
              "      <td>0</td>\n",
              "      <td>0</td>\n",
              "      <td>0</td>\n",
              "    </tr>\n",
              "    <tr>\n",
              "      <th>24999</th>\n",
              "      <td>1</td>\n",
              "      <td>1</td>\n",
              "      <td>2</td>\n",
              "      <td>0</td>\n",
              "      <td>1</td>\n",
              "      <td>1</td>\n",
              "      <td>0</td>\n",
              "      <td>1</td>\n",
              "      <td>0</td>\n",
              "      <td>1</td>\n",
              "      <td>...</td>\n",
              "      <td>0</td>\n",
              "      <td>0</td>\n",
              "      <td>0</td>\n",
              "      <td>0</td>\n",
              "      <td>0</td>\n",
              "      <td>0</td>\n",
              "      <td>0</td>\n",
              "      <td>0</td>\n",
              "      <td>0</td>\n",
              "      <td>0</td>\n",
              "    </tr>\n",
              "  </tbody>\n",
              "</table>\n",
              "<p>25000 rows × 1300 columns</p>\n",
              "</div>\n",
              "      <button class=\"colab-df-convert\" onclick=\"convertToInteractive('df-ae68bcef-0200-4544-9e04-7a36a33edfd1')\"\n",
              "              title=\"Convert this dataframe to an interactive table.\"\n",
              "              style=\"display:none;\">\n",
              "        \n",
              "  <svg xmlns=\"http://www.w3.org/2000/svg\" height=\"24px\"viewBox=\"0 0 24 24\"\n",
              "       width=\"24px\">\n",
              "    <path d=\"M0 0h24v24H0V0z\" fill=\"none\"/>\n",
              "    <path d=\"M18.56 5.44l.94 2.06.94-2.06 2.06-.94-2.06-.94-.94-2.06-.94 2.06-2.06.94zm-11 1L8.5 8.5l.94-2.06 2.06-.94-2.06-.94L8.5 2.5l-.94 2.06-2.06.94zm10 10l.94 2.06.94-2.06 2.06-.94-2.06-.94-.94-2.06-.94 2.06-2.06.94z\"/><path d=\"M17.41 7.96l-1.37-1.37c-.4-.4-.92-.59-1.43-.59-.52 0-1.04.2-1.43.59L10.3 9.45l-7.72 7.72c-.78.78-.78 2.05 0 2.83L4 21.41c.39.39.9.59 1.41.59.51 0 1.02-.2 1.41-.59l7.78-7.78 2.81-2.81c.8-.78.8-2.07 0-2.86zM5.41 20L4 18.59l7.72-7.72 1.47 1.35L5.41 20z\"/>\n",
              "  </svg>\n",
              "      </button>\n",
              "      \n",
              "  <style>\n",
              "    .colab-df-container {\n",
              "      display:flex;\n",
              "      flex-wrap:wrap;\n",
              "      gap: 12px;\n",
              "    }\n",
              "\n",
              "    .colab-df-convert {\n",
              "      background-color: #E8F0FE;\n",
              "      border: none;\n",
              "      border-radius: 50%;\n",
              "      cursor: pointer;\n",
              "      display: none;\n",
              "      fill: #1967D2;\n",
              "      height: 32px;\n",
              "      padding: 0 0 0 0;\n",
              "      width: 32px;\n",
              "    }\n",
              "\n",
              "    .colab-df-convert:hover {\n",
              "      background-color: #E2EBFA;\n",
              "      box-shadow: 0px 1px 2px rgba(60, 64, 67, 0.3), 0px 1px 3px 1px rgba(60, 64, 67, 0.15);\n",
              "      fill: #174EA6;\n",
              "    }\n",
              "\n",
              "    [theme=dark] .colab-df-convert {\n",
              "      background-color: #3B4455;\n",
              "      fill: #D2E3FC;\n",
              "    }\n",
              "\n",
              "    [theme=dark] .colab-df-convert:hover {\n",
              "      background-color: #434B5C;\n",
              "      box-shadow: 0px 1px 3px 1px rgba(0, 0, 0, 0.15);\n",
              "      filter: drop-shadow(0px 1px 2px rgba(0, 0, 0, 0.3));\n",
              "      fill: #FFFFFF;\n",
              "    }\n",
              "  </style>\n",
              "\n",
              "      <script>\n",
              "        const buttonEl =\n",
              "          document.querySelector('#df-ae68bcef-0200-4544-9e04-7a36a33edfd1 button.colab-df-convert');\n",
              "        buttonEl.style.display =\n",
              "          google.colab.kernel.accessAllowed ? 'block' : 'none';\n",
              "\n",
              "        async function convertToInteractive(key) {\n",
              "          const element = document.querySelector('#df-ae68bcef-0200-4544-9e04-7a36a33edfd1');\n",
              "          const dataTable =\n",
              "            await google.colab.kernel.invokeFunction('convertToInteractive',\n",
              "                                                     [key], {});\n",
              "          if (!dataTable) return;\n",
              "\n",
              "          const docLinkHtml = 'Like what you see? Visit the ' +\n",
              "            '<a target=\"_blank\" href=https://colab.research.google.com/notebooks/data_table.ipynb>data table notebook</a>'\n",
              "            + ' to learn more about interactive tables.';\n",
              "          element.innerHTML = '';\n",
              "          dataTable['output_type'] = 'display_data';\n",
              "          await google.colab.output.renderOutput(dataTable, element);\n",
              "          const docLink = document.createElement('div');\n",
              "          docLink.innerHTML = docLinkHtml;\n",
              "          element.appendChild(docLink);\n",
              "        }\n",
              "      </script>\n",
              "    </div>\n",
              "  </div>\n",
              "  "
            ]
          },
          "metadata": {},
          "execution_count": 182
        }
      ],
      "source": [
        "# Initial train dataset (no feature filtering) \n",
        "train_df_imdb, train_numpy_data_imdb = create_df(index_word_tuples, reviewWordFrequenciesTrain, excludedContractions)\n",
        "print(train_numpy_data_imdb.shape)\n",
        "initialFeatures = train_df_imdb.columns.tolist()\n",
        "initialFeatures.pop()\n",
        "train_df_imdb"
      ]
    },
    {
      "cell_type": "code",
      "execution_count": 183,
      "metadata": {
        "colab": {
          "base_uri": "https://localhost:8080/",
          "height": 441
        },
        "id": "SVbBtVnD1nVR",
        "outputId": "eca515b4-8b9f-460a-b1f0-9009c69db400"
      },
      "outputs": [
        {
          "output_type": "stream",
          "name": "stdout",
          "text": [
            "(25000, 1300)\n"
          ]
        },
        {
          "output_type": "execute_result",
          "data": {
            "text/plain": [
              "       film  like  good  even  time  would  story  really  see  well  ...  \\\n",
              "0         0     0     0     0     0      1      0       0    0     0  ...   \n",
              "1         0     0     1     2     3      0      4       0    0     0  ...   \n",
              "2         2     0     0     2     0      0      0       1    1     0  ...   \n",
              "3         2     2     0     0     0      0      0       2    2     3  ...   \n",
              "4         0     0     0     0     0      0      0       0    0     0  ...   \n",
              "...     ...   ...   ...   ...   ...    ...    ...     ...  ...   ...  ...   \n",
              "24995     1     4     1     1     0      3      0       0    0     1  ...   \n",
              "24996     2     0     0     0     0      0      0       0    1     0  ...   \n",
              "24997     3     0     0     0     0      2      0       0    0     0  ...   \n",
              "24998     0     0     0     1     0      1      1       0    0     0  ...   \n",
              "24999     0     0     1     0     0      0      1       0    1     0  ...   \n",
              "\n",
              "       deserve  gotten  teen  starting  creating  keeping  manage  discover  \\\n",
              "0            0       0     0         0         0        0       0         0   \n",
              "1            0       0     0         0         0        0       0         0   \n",
              "2            0       0     0         0         0        0       0         0   \n",
              "3            0       0     0         0         0        0       0         0   \n",
              "4            0       0     0         0         0        0       0         0   \n",
              "...        ...     ...   ...       ...       ...      ...     ...       ...   \n",
              "24995        0       0     0         0         0        0       0         0   \n",
              "24996        0       0     0         0         0        0       0         0   \n",
              "24997        0       0     0         0         0        0       0         0   \n",
              "24998        0       0     0         0         0        0       0         0   \n",
              "24999        0       0     0         0         0        0       0         0   \n",
              "\n",
              "       learned  label  \n",
              "0            0      1  \n",
              "1            0      1  \n",
              "2            0      1  \n",
              "3            0      1  \n",
              "4            0      1  \n",
              "...        ...    ...  \n",
              "24995        0      0  \n",
              "24996        0      0  \n",
              "24997        0      0  \n",
              "24998        0      0  \n",
              "24999        0      0  \n",
              "\n",
              "[25000 rows x 1300 columns]"
            ],
            "text/html": [
              "\n",
              "  <div id=\"df-3d343c6e-b06d-485e-852d-0c3e5ff65127\">\n",
              "    <div class=\"colab-df-container\">\n",
              "      <div>\n",
              "<style scoped>\n",
              "    .dataframe tbody tr th:only-of-type {\n",
              "        vertical-align: middle;\n",
              "    }\n",
              "\n",
              "    .dataframe tbody tr th {\n",
              "        vertical-align: top;\n",
              "    }\n",
              "\n",
              "    .dataframe thead th {\n",
              "        text-align: right;\n",
              "    }\n",
              "</style>\n",
              "<table border=\"1\" class=\"dataframe\">\n",
              "  <thead>\n",
              "    <tr style=\"text-align: right;\">\n",
              "      <th></th>\n",
              "      <th>film</th>\n",
              "      <th>like</th>\n",
              "      <th>good</th>\n",
              "      <th>even</th>\n",
              "      <th>time</th>\n",
              "      <th>would</th>\n",
              "      <th>story</th>\n",
              "      <th>really</th>\n",
              "      <th>see</th>\n",
              "      <th>well</th>\n",
              "      <th>...</th>\n",
              "      <th>deserve</th>\n",
              "      <th>gotten</th>\n",
              "      <th>teen</th>\n",
              "      <th>starting</th>\n",
              "      <th>creating</th>\n",
              "      <th>keeping</th>\n",
              "      <th>manage</th>\n",
              "      <th>discover</th>\n",
              "      <th>learned</th>\n",
              "      <th>label</th>\n",
              "    </tr>\n",
              "  </thead>\n",
              "  <tbody>\n",
              "    <tr>\n",
              "      <th>0</th>\n",
              "      <td>0</td>\n",
              "      <td>0</td>\n",
              "      <td>0</td>\n",
              "      <td>0</td>\n",
              "      <td>0</td>\n",
              "      <td>1</td>\n",
              "      <td>0</td>\n",
              "      <td>0</td>\n",
              "      <td>0</td>\n",
              "      <td>0</td>\n",
              "      <td>...</td>\n",
              "      <td>0</td>\n",
              "      <td>0</td>\n",
              "      <td>0</td>\n",
              "      <td>0</td>\n",
              "      <td>0</td>\n",
              "      <td>0</td>\n",
              "      <td>0</td>\n",
              "      <td>0</td>\n",
              "      <td>0</td>\n",
              "      <td>1</td>\n",
              "    </tr>\n",
              "    <tr>\n",
              "      <th>1</th>\n",
              "      <td>0</td>\n",
              "      <td>0</td>\n",
              "      <td>1</td>\n",
              "      <td>2</td>\n",
              "      <td>3</td>\n",
              "      <td>0</td>\n",
              "      <td>4</td>\n",
              "      <td>0</td>\n",
              "      <td>0</td>\n",
              "      <td>0</td>\n",
              "      <td>...</td>\n",
              "      <td>0</td>\n",
              "      <td>0</td>\n",
              "      <td>0</td>\n",
              "      <td>0</td>\n",
              "      <td>0</td>\n",
              "      <td>0</td>\n",
              "      <td>0</td>\n",
              "      <td>0</td>\n",
              "      <td>0</td>\n",
              "      <td>1</td>\n",
              "    </tr>\n",
              "    <tr>\n",
              "      <th>2</th>\n",
              "      <td>2</td>\n",
              "      <td>0</td>\n",
              "      <td>0</td>\n",
              "      <td>2</td>\n",
              "      <td>0</td>\n",
              "      <td>0</td>\n",
              "      <td>0</td>\n",
              "      <td>1</td>\n",
              "      <td>1</td>\n",
              "      <td>0</td>\n",
              "      <td>...</td>\n",
              "      <td>0</td>\n",
              "      <td>0</td>\n",
              "      <td>0</td>\n",
              "      <td>0</td>\n",
              "      <td>0</td>\n",
              "      <td>0</td>\n",
              "      <td>0</td>\n",
              "      <td>0</td>\n",
              "      <td>0</td>\n",
              "      <td>1</td>\n",
              "    </tr>\n",
              "    <tr>\n",
              "      <th>3</th>\n",
              "      <td>2</td>\n",
              "      <td>2</td>\n",
              "      <td>0</td>\n",
              "      <td>0</td>\n",
              "      <td>0</td>\n",
              "      <td>0</td>\n",
              "      <td>0</td>\n",
              "      <td>2</td>\n",
              "      <td>2</td>\n",
              "      <td>3</td>\n",
              "      <td>...</td>\n",
              "      <td>0</td>\n",
              "      <td>0</td>\n",
              "      <td>0</td>\n",
              "      <td>0</td>\n",
              "      <td>0</td>\n",
              "      <td>0</td>\n",
              "      <td>0</td>\n",
              "      <td>0</td>\n",
              "      <td>0</td>\n",
              "      <td>1</td>\n",
              "    </tr>\n",
              "    <tr>\n",
              "      <th>4</th>\n",
              "      <td>0</td>\n",
              "      <td>0</td>\n",
              "      <td>0</td>\n",
              "      <td>0</td>\n",
              "      <td>0</td>\n",
              "      <td>0</td>\n",
              "      <td>0</td>\n",
              "      <td>0</td>\n",
              "      <td>0</td>\n",
              "      <td>0</td>\n",
              "      <td>...</td>\n",
              "      <td>0</td>\n",
              "      <td>0</td>\n",
              "      <td>0</td>\n",
              "      <td>0</td>\n",
              "      <td>0</td>\n",
              "      <td>0</td>\n",
              "      <td>0</td>\n",
              "      <td>0</td>\n",
              "      <td>0</td>\n",
              "      <td>1</td>\n",
              "    </tr>\n",
              "    <tr>\n",
              "      <th>...</th>\n",
              "      <td>...</td>\n",
              "      <td>...</td>\n",
              "      <td>...</td>\n",
              "      <td>...</td>\n",
              "      <td>...</td>\n",
              "      <td>...</td>\n",
              "      <td>...</td>\n",
              "      <td>...</td>\n",
              "      <td>...</td>\n",
              "      <td>...</td>\n",
              "      <td>...</td>\n",
              "      <td>...</td>\n",
              "      <td>...</td>\n",
              "      <td>...</td>\n",
              "      <td>...</td>\n",
              "      <td>...</td>\n",
              "      <td>...</td>\n",
              "      <td>...</td>\n",
              "      <td>...</td>\n",
              "      <td>...</td>\n",
              "      <td>...</td>\n",
              "    </tr>\n",
              "    <tr>\n",
              "      <th>24995</th>\n",
              "      <td>1</td>\n",
              "      <td>4</td>\n",
              "      <td>1</td>\n",
              "      <td>1</td>\n",
              "      <td>0</td>\n",
              "      <td>3</td>\n",
              "      <td>0</td>\n",
              "      <td>0</td>\n",
              "      <td>0</td>\n",
              "      <td>1</td>\n",
              "      <td>...</td>\n",
              "      <td>0</td>\n",
              "      <td>0</td>\n",
              "      <td>0</td>\n",
              "      <td>0</td>\n",
              "      <td>0</td>\n",
              "      <td>0</td>\n",
              "      <td>0</td>\n",
              "      <td>0</td>\n",
              "      <td>0</td>\n",
              "      <td>0</td>\n",
              "    </tr>\n",
              "    <tr>\n",
              "      <th>24996</th>\n",
              "      <td>2</td>\n",
              "      <td>0</td>\n",
              "      <td>0</td>\n",
              "      <td>0</td>\n",
              "      <td>0</td>\n",
              "      <td>0</td>\n",
              "      <td>0</td>\n",
              "      <td>0</td>\n",
              "      <td>1</td>\n",
              "      <td>0</td>\n",
              "      <td>...</td>\n",
              "      <td>0</td>\n",
              "      <td>0</td>\n",
              "      <td>0</td>\n",
              "      <td>0</td>\n",
              "      <td>0</td>\n",
              "      <td>0</td>\n",
              "      <td>0</td>\n",
              "      <td>0</td>\n",
              "      <td>0</td>\n",
              "      <td>0</td>\n",
              "    </tr>\n",
              "    <tr>\n",
              "      <th>24997</th>\n",
              "      <td>3</td>\n",
              "      <td>0</td>\n",
              "      <td>0</td>\n",
              "      <td>0</td>\n",
              "      <td>0</td>\n",
              "      <td>2</td>\n",
              "      <td>0</td>\n",
              "      <td>0</td>\n",
              "      <td>0</td>\n",
              "      <td>0</td>\n",
              "      <td>...</td>\n",
              "      <td>0</td>\n",
              "      <td>0</td>\n",
              "      <td>0</td>\n",
              "      <td>0</td>\n",
              "      <td>0</td>\n",
              "      <td>0</td>\n",
              "      <td>0</td>\n",
              "      <td>0</td>\n",
              "      <td>0</td>\n",
              "      <td>0</td>\n",
              "    </tr>\n",
              "    <tr>\n",
              "      <th>24998</th>\n",
              "      <td>0</td>\n",
              "      <td>0</td>\n",
              "      <td>0</td>\n",
              "      <td>1</td>\n",
              "      <td>0</td>\n",
              "      <td>1</td>\n",
              "      <td>1</td>\n",
              "      <td>0</td>\n",
              "      <td>0</td>\n",
              "      <td>0</td>\n",
              "      <td>...</td>\n",
              "      <td>0</td>\n",
              "      <td>0</td>\n",
              "      <td>0</td>\n",
              "      <td>0</td>\n",
              "      <td>0</td>\n",
              "      <td>0</td>\n",
              "      <td>0</td>\n",
              "      <td>0</td>\n",
              "      <td>0</td>\n",
              "      <td>0</td>\n",
              "    </tr>\n",
              "    <tr>\n",
              "      <th>24999</th>\n",
              "      <td>0</td>\n",
              "      <td>0</td>\n",
              "      <td>1</td>\n",
              "      <td>0</td>\n",
              "      <td>0</td>\n",
              "      <td>0</td>\n",
              "      <td>1</td>\n",
              "      <td>0</td>\n",
              "      <td>1</td>\n",
              "      <td>0</td>\n",
              "      <td>...</td>\n",
              "      <td>0</td>\n",
              "      <td>0</td>\n",
              "      <td>0</td>\n",
              "      <td>0</td>\n",
              "      <td>0</td>\n",
              "      <td>0</td>\n",
              "      <td>0</td>\n",
              "      <td>0</td>\n",
              "      <td>0</td>\n",
              "      <td>0</td>\n",
              "    </tr>\n",
              "  </tbody>\n",
              "</table>\n",
              "<p>25000 rows × 1300 columns</p>\n",
              "</div>\n",
              "      <button class=\"colab-df-convert\" onclick=\"convertToInteractive('df-3d343c6e-b06d-485e-852d-0c3e5ff65127')\"\n",
              "              title=\"Convert this dataframe to an interactive table.\"\n",
              "              style=\"display:none;\">\n",
              "        \n",
              "  <svg xmlns=\"http://www.w3.org/2000/svg\" height=\"24px\"viewBox=\"0 0 24 24\"\n",
              "       width=\"24px\">\n",
              "    <path d=\"M0 0h24v24H0V0z\" fill=\"none\"/>\n",
              "    <path d=\"M18.56 5.44l.94 2.06.94-2.06 2.06-.94-2.06-.94-.94-2.06-.94 2.06-2.06.94zm-11 1L8.5 8.5l.94-2.06 2.06-.94-2.06-.94L8.5 2.5l-.94 2.06-2.06.94zm10 10l.94 2.06.94-2.06 2.06-.94-2.06-.94-.94-2.06-.94 2.06-2.06.94z\"/><path d=\"M17.41 7.96l-1.37-1.37c-.4-.4-.92-.59-1.43-.59-.52 0-1.04.2-1.43.59L10.3 9.45l-7.72 7.72c-.78.78-.78 2.05 0 2.83L4 21.41c.39.39.9.59 1.41.59.51 0 1.02-.2 1.41-.59l7.78-7.78 2.81-2.81c.8-.78.8-2.07 0-2.86zM5.41 20L4 18.59l7.72-7.72 1.47 1.35L5.41 20z\"/>\n",
              "  </svg>\n",
              "      </button>\n",
              "      \n",
              "  <style>\n",
              "    .colab-df-container {\n",
              "      display:flex;\n",
              "      flex-wrap:wrap;\n",
              "      gap: 12px;\n",
              "    }\n",
              "\n",
              "    .colab-df-convert {\n",
              "      background-color: #E8F0FE;\n",
              "      border: none;\n",
              "      border-radius: 50%;\n",
              "      cursor: pointer;\n",
              "      display: none;\n",
              "      fill: #1967D2;\n",
              "      height: 32px;\n",
              "      padding: 0 0 0 0;\n",
              "      width: 32px;\n",
              "    }\n",
              "\n",
              "    .colab-df-convert:hover {\n",
              "      background-color: #E2EBFA;\n",
              "      box-shadow: 0px 1px 2px rgba(60, 64, 67, 0.3), 0px 1px 3px 1px rgba(60, 64, 67, 0.15);\n",
              "      fill: #174EA6;\n",
              "    }\n",
              "\n",
              "    [theme=dark] .colab-df-convert {\n",
              "      background-color: #3B4455;\n",
              "      fill: #D2E3FC;\n",
              "    }\n",
              "\n",
              "    [theme=dark] .colab-df-convert:hover {\n",
              "      background-color: #434B5C;\n",
              "      box-shadow: 0px 1px 3px 1px rgba(0, 0, 0, 0.15);\n",
              "      filter: drop-shadow(0px 1px 2px rgba(0, 0, 0, 0.3));\n",
              "      fill: #FFFFFF;\n",
              "    }\n",
              "  </style>\n",
              "\n",
              "      <script>\n",
              "        const buttonEl =\n",
              "          document.querySelector('#df-3d343c6e-b06d-485e-852d-0c3e5ff65127 button.colab-df-convert');\n",
              "        buttonEl.style.display =\n",
              "          google.colab.kernel.accessAllowed ? 'block' : 'none';\n",
              "\n",
              "        async function convertToInteractive(key) {\n",
              "          const element = document.querySelector('#df-3d343c6e-b06d-485e-852d-0c3e5ff65127');\n",
              "          const dataTable =\n",
              "            await google.colab.kernel.invokeFunction('convertToInteractive',\n",
              "                                                     [key], {});\n",
              "          if (!dataTable) return;\n",
              "\n",
              "          const docLinkHtml = 'Like what you see? Visit the ' +\n",
              "            '<a target=\"_blank\" href=https://colab.research.google.com/notebooks/data_table.ipynb>data table notebook</a>'\n",
              "            + ' to learn more about interactive tables.';\n",
              "          element.innerHTML = '';\n",
              "          dataTable['output_type'] = 'display_data';\n",
              "          await google.colab.output.renderOutput(dataTable, element);\n",
              "          const docLink = document.createElement('div');\n",
              "          docLink.innerHTML = docLinkHtml;\n",
              "          element.appendChild(docLink);\n",
              "        }\n",
              "      </script>\n",
              "    </div>\n",
              "  </div>\n",
              "  "
            ]
          },
          "metadata": {},
          "execution_count": 183
        }
      ],
      "source": [
        "# Initial test dataset (no feature filtering) \n",
        "test_df_imdb, test_numpy_data_imdb = create_df(index_word_tuples, reviewWordFrequenciesTest, excludedContractions)\n",
        "print(test_numpy_data_imdb.shape)\n",
        "test_df_imdb"
      ]
    },
    {
      "cell_type": "code",
      "execution_count": 256,
      "metadata": {
        "colab": {
          "base_uri": "https://localhost:8080/",
          "height": 265
        },
        "id": "NxlflOk51bqG",
        "outputId": "5196d5c4-0b75-4c6b-a0c8-e31911eb49e4"
      },
      "outputs": [
        {
          "output_type": "display_data",
          "data": {
            "text/plain": [
              "<Figure size 432x288 with 1 Axes>"
            ],
            "image/png": "[encoded data removed]"
          },
          "metadata": {
            "needs_background": "light"
          }
        }
      ],
      "source": [
        "# Filter train dataset features\n",
        "\n",
        "# Calculate Z-Score of Train set\n",
        "numRows, numCols = np.shape(train_numpy_data_imdb)\n",
        "X_imdb_train = train_numpy_data_imdb[:, 0: numCols-1] # Excluding the label column\n",
        "y_imdb_train = train_numpy_data_imdb[:, numCols-1]\n",
        "\n",
        "X_imdb_standardized = (X_imdb_train - X_imdb_train.mean(axis=0)) / X_imdb_train.std(axis=0)\n",
        "y_imdb_standardized = (y_imdb_train - y_imdb_train.mean(axis=0)) / y_imdb_train.std(axis=0)\n",
        "\n",
        "z_scores_train = (X_imdb_standardized.T @ y_imdb_standardized) / np.sqrt(numRows)\n",
        "plt.plot(z_scores_train)\n",
        "index_features_zscores = []\n",
        "for index, (feature, zscore) in enumerate(zip(initialFeatures, z_scores_train)):\n",
        "  index_features_zscores.append((index, feature, zscore))\n",
        "keptIndices, indicesForRemoval = filter(z_scores_train, 7, -7)\n",
        "\n",
        "final_features_index_features_zscores = []\n",
        "for index, item in enumerate(index_features_zscores):\n",
        "  if index in keptIndices:\n",
        "    final_features_index_features_zscores.append(item)\n",
        "sorted_final_features_index_features_zscores = sorted(final_features_index_features_zscores, key=lambda tup: tup[2])\n",
        "most_positive_final_features_index_features_zscores = sorted_final_features_index_features_zscores[: 10]\n",
        "most_negative_final_features_index_features_zscores = sorted_final_features_index_features_zscores[-10 :]\n",
        "top_zscores = most_positive_final_features_index_features_zscores + most_negative_final_features_index_features_zscores\n",
        "final_features = [i[1] for i in final_features_index_features_zscores]"
      ]
    },
    {
      "cell_type": "code",
      "execution_count": 185,
      "metadata": {
        "colab": {
          "base_uri": "https://localhost:8080/"
        },
        "id": "Q9d3ljDiJWHH",
        "outputId": "425a9fac-3e62-4702-bfb7-e0303da42b59"
      },
      "outputs": [
        {
          "output_type": "stream",
          "name": "stdout",
          "text": [
            "(25000, 257)\n",
            "1299\n"
          ]
        }
      ],
      "source": [
        "# Feature-scaled train datasets\n",
        "X_imdb_filtered_train = removeColumns(train_numpy_data_imdb, keptIndices)\n",
        "y_imdb_filtered_train = train_numpy_data_imdb[:, numCols-1]\n",
        "X_imdb_filtered_train\n",
        "print(X_imdb_filtered_train.shape)\n",
        "print(train_numpy_data_imdb.shape[1] - 1)"
      ]
    },
    {
      "cell_type": "code",
      "execution_count": 186,
      "metadata": {
        "colab": {
          "base_uri": "https://localhost:8080/"
        },
        "id": "NbVijJNiOKJK",
        "outputId": "fa5f40c9-8221-41cd-80ec-1322a8fada78"
      },
      "outputs": [
        {
          "output_type": "stream",
          "name": "stdout",
          "text": [
            "(25000, 257)\n"
          ]
        }
      ],
      "source": [
        "# Random feature-scaled train datasets\n",
        "\n",
        "randomIndicesToKeep = []\n",
        "for i in range(0, X_imdb_filtered_train.shape[1]):\n",
        "  n = random.randint(0, train_numpy_data_imdb.shape[1]-2)\n",
        "  randomIndicesToKeep.append(n)\n",
        "X_random_imdb_filtered_train = removeColumns(train_numpy_data_imdb, randomIndicesToKeep)\n",
        "y_random_imdb_filtered_train = train_numpy_data_imdb[:, numCols-1]\n",
        "X_imdb_filtered_train\n",
        "print(X_imdb_filtered_train.shape)"
      ]
    },
    {
      "cell_type": "code",
      "execution_count": 187,
      "metadata": {
        "colab": {
          "base_uri": "https://localhost:8080/"
        },
        "id": "axXEnSczJWz2",
        "outputId": "0f36ae08-e15c-4122-d780-1d6922492228"
      },
      "outputs": [
        {
          "output_type": "execute_result",
          "data": {
            "text/plain": [
              "(25000, 257)"
            ]
          },
          "metadata": {},
          "execution_count": 187
        }
      ],
      "source": [
        "# Feature-scaled test\n",
        "X_imdb_filtered_test, y_imdb_filtered_test = get_X_y(test_numpy_data_imdb)\n",
        "X_imdb_filtered_test = removeColumns(X_imdb_filtered_test, keptIndices)\n",
        "X_imdb_filtered_test.shape"
      ]
    },
    {
      "cell_type": "code",
      "execution_count": 188,
      "metadata": {
        "colab": {
          "base_uri": "https://localhost:8080/"
        },
        "id": "_q_pS0Rshk3y",
        "outputId": "31d81b34-d650-4e49-9ac8-2ceda7685ed3"
      },
      "outputs": [
        {
          "output_type": "execute_result",
          "data": {
            "text/plain": [
              "(25000, 257)"
            ]
          },
          "metadata": {},
          "execution_count": 188
        }
      ],
      "source": [
        "# Random feature-scaled test datasets\n",
        "X_random_imdb_filtered_test, y_random_imdb_filtered_test = get_X_y(test_numpy_data_imdb)\n",
        "X_random_imdb_filtered_test = removeColumns(X_random_imdb_filtered_test, randomIndicesToKeep)\n",
        "X_random_imdb_filtered_test.shape"
      ]
    },
    {
      "cell_type": "markdown",
      "metadata": {
        "id": "BCCzGY-qjvoF"
      },
      "source": [
        "### 20-News Groups"
      ]
    },
    {
      "cell_type": "code",
      "execution_count": 189,
      "metadata": {
        "id": "zEy8C1_ni3Vp"
      },
      "outputs": [],
      "source": [
        "category0 = 'comp.graphics'\n",
        "category1 = 'rec.sport.hockey'\n",
        "category2 = 'sci.crypt'\n",
        "category3 = 'soc.religion.christian'\n",
        "categories = [category0, category1, category2, category3]\n",
        "remove = ['headers', 'footers', 'quotes']\n",
        "twenty_train = fetch_20newsgroups(subset='train', categories=categories, remove=remove, random_state=42)\n",
        "twenty_test = fetch_20newsgroups(subset='test', categories=categories, remove=remove, random_state=42)\n",
        "\n",
        "textsTrain = twenty_train.data\n",
        "labelsTrain = twenty_train.target.tolist()\n",
        "textsTest = twenty_test.data\n",
        "labelsTest = twenty_test.target.tolist()\n",
        "totalTrainTexts = len(textsTrain)\n",
        "totalTestTexts = len(textsTest)\n",
        "totalTexts = totalTrainTexts + totalTestTexts\n",
        "\n",
        "twenty_train_category0 = fetch_20newsgroups(subset='train', categories=[category0], remove=remove, random_state=42)\n",
        "twenty_test_category0 = fetch_20newsgroups(subset='test', categories=[category0], remove=remove, random_state=42)\n",
        "dataTrainCategory0 = twenty_train_category0.data\n",
        "dataTestCategory0 = twenty_test_category0.data\n",
        "labelsTrainCategory0 = twenty_train_category0.target.tolist()\n",
        "labelsTestCategory0 = twenty_test_category0.target.tolist()\n",
        "\n",
        "twenty_train_category1 = fetch_20newsgroups(subset='train', categories=[category1], remove=remove, random_state=42)\n",
        "twenty_test_category1 = fetch_20newsgroups(subset='test', categories=[category1], remove=remove, random_state=42)\n",
        "dataTrainCategory1 = twenty_train_category1.data\n",
        "dataTestCategory1 = twenty_test_category1.data\n",
        "labelsTrainCategory1 = twenty_train_category1.target.tolist()\n",
        "labelsTestCategory1 = twenty_test_category1.target.tolist()\n",
        "\n",
        "twenty_train_category2 = fetch_20newsgroups(subset='train', categories=[category2], remove=remove, random_state=42)\n",
        "twenty_test_category2 = fetch_20newsgroups(subset='test', categories=[category2], remove=remove, random_state=42)\n",
        "dataTrainCategory2 = twenty_train_category2.data\n",
        "dataTestCategory2 = twenty_test_category2.data\n",
        "labelsTrainCategory2 = twenty_train_category2.target.tolist()\n",
        "labelsTestCategory2 = twenty_test_category2.target.tolist()\n",
        "\n",
        "twenty_train_category3 = fetch_20newsgroups(subset='train', categories=[category3], remove=remove, random_state=42)\n",
        "twenty_test_category3 = fetch_20newsgroups(subset='test', categories=[category3], remove=remove, random_state=42)\n",
        "dataTrainCategory3 = twenty_train_category3.data\n",
        "dataTestCategory3 = twenty_test_category3.data\n",
        "labelsTrainCategory3 = twenty_train_category3.target.tolist()\n",
        "labelsTestCategory3 = twenty_test_category3.target.tolist()\n",
        "\n",
        "def generate_tokens(text):\n",
        "  text = text.lower()\n",
        "  text = re.sub(\"\\\\s\", \" \", text) # remove multiple whitespace characters (leave one whitespace)\n",
        "  tokens = text.split(' ')\n",
        "\n",
        "  return tokens\n",
        "\n",
        "def generate_vocab(textsList):\n",
        "  vocab = set()\n",
        "  \n",
        "  for texts in textsList:\n",
        "    for text in texts:\n",
        "      tokenizedText = generate_tokens(text)\n",
        "      for token in tokenizedText:\n",
        "        if token.isalpha():\n",
        "          vocab.add(token.lower())\n",
        "\n",
        "  return vocab\n",
        "\n",
        "def get_word_frequencies(textsList, categoriesList, vocab):\n",
        "  # category_wordList = []\n",
        "  wordFileFrequencyCount = dict.fromkeys(vocab, 0)\n",
        "\n",
        "  for texts, categories in zip(textsList, categoriesList):\n",
        "    for text, category in zip(texts, categories):\n",
        "      temp = dict()\n",
        "      tokenizedText = generate_tokens(text)\n",
        "\n",
        "      for token in set(tokenizedText):\n",
        "        if token.isalpha():\n",
        "          if token.lower() in wordFileFrequencyCount:\n",
        "            wordFileFrequencyCount[token.lower()] += 1\n",
        "      # category_wordList.append((category, dict(Counter(tokenizedText))))\n",
        "\n",
        "  return wordFileFrequencyCount\n",
        "\n",
        "def find_popular_words(wordFileFrequencyCount, totalTexts):\n",
        "  updatedWordFileFrequencyCount = wordFileFrequencyCount.copy()\n",
        "\n",
        "  for word, count in wordFileFrequencyCount.items():\n",
        "    if not ((count/totalTexts) * 100) >= 1.0:\n",
        "      updatedWordFileFrequencyCount.pop(word, None)\n",
        "\n",
        "  return list(updatedWordFileFrequencyCount.keys())\n",
        "\n",
        "def filter_stop_words(vocabList):\n",
        "  stopWords = set(stopwords.words('english'))\n",
        "  excludedStopWordsList = [vocab for vocab in vocabList if not vocab in stopWords]\n",
        "\n",
        "  return excludedStopWordsList\n",
        "\n",
        "def get_filtered_vocab_list(textsTrain, textsTest, trainLabels, testLabels):\n",
        "  vocabList = generate_vocab([textsTrain, textsTest])\n",
        "  wordFileFrequencyCount = get_word_frequencies([textsTrain, textsTest], [list(trainLabels), list(testLabels)], vocabList)\n",
        "  popularWordsList = find_popular_words(wordFileFrequencyCount, totalTexts)\n",
        "  excludedStopWordsList = filter_stop_words(popularWordsList)\n",
        "  \n",
        "  return excludedStopWordsList\n",
        "\n",
        "def obtain_frequency_count(textsList, labelsList, vocab):\n",
        "  frequenciesList = []\n",
        "\n",
        "  for text, label in zip(textsList, labelsList):\n",
        "    frequencies = dict.fromkeys(range(len(vocab)), 0)\n",
        "    labelIndex = len(frequencies)\n",
        "    tokenizedText = generate_tokens(text)\n",
        "\n",
        "    for token in tokenizedText:\n",
        "      if token.isalpha() and token in vocab:\n",
        "        wordIndex = vocab.index(token)\n",
        "        if wordIndex in frequencies:\n",
        "          frequencies[wordIndex] += 1\n",
        "    frequenciesList.append(frequencies)\n",
        "    frequencies[labelIndex] = label\n",
        "\n",
        "  return frequenciesList\n",
        "\n",
        "def create_df(frequenciesList, vocabList):\n",
        "  wordNames = vocabList.copy()\n",
        "  wordNames.append(\"label\")\n",
        "  data = np.zeros([len(frequenciesList), len(wordNames)]) # last column is for category\n",
        "\n",
        "  for row, frequencies in enumerate(frequenciesList):\n",
        "    for column, frequency in frequencies.items():\n",
        "      data[row][column] = frequency\n",
        "  df = pd.DataFrame(data, columns=wordNames)\n",
        "  df[wordNames] = df[wordNames].astype(int)\n",
        "\n",
        "  return df, data\n",
        "\n",
        "def get_X_y(X_y_data):\n",
        "  numRows, numCols = np.shape(X_y_data)\n",
        "  X_train = X_y_data[:, 0: numCols-1]\n",
        "  y_train = X_y_data[:, numCols-1]\n",
        "  return X_train, y_train"
      ]
    },
    {
      "cell_type": "code",
      "execution_count": 190,
      "metadata": {
        "id": "9tYb84TCdars"
      },
      "outputs": [],
      "source": [
        "filteredCategory0Vocab = get_filtered_vocab_list(dataTrainCategory0, dataTrainCategory0, labelsTrainCategory0, labelsTestCategory0) \n",
        "filteredCategory1Vocab = get_filtered_vocab_list(dataTrainCategory1, dataTrainCategory1, labelsTrainCategory1, labelsTestCategory1) \n",
        "filteredCategory2Vocab = get_filtered_vocab_list(dataTrainCategory2, dataTrainCategory2, labelsTrainCategory2, labelsTestCategory2) \n",
        "filteredCategory3Vocab = get_filtered_vocab_list(dataTrainCategory3, dataTrainCategory3, labelsTrainCategory3, labelsTestCategory3) \n",
        "\n",
        "totalFilteredVocab = []\n",
        "totalFilteredVocab.extend(filteredCategory0Vocab)\n",
        "totalFilteredVocab.extend(filteredCategory1Vocab)\n",
        "totalFilteredVocab.extend(filteredCategory2Vocab)\n",
        "totalFilteredVocab.extend(filteredCategory3Vocab)\n",
        "totalFilteredVocab = list(set(totalFilteredVocab))\n",
        "\n",
        "trainFrequencies = obtain_frequency_count(textsTrain, labelsTrain, totalFilteredVocab)\n",
        "testFrequencies = obtain_frequency_count(textsTest, labelsTest, totalFilteredVocab)"
      ]
    },
    {
      "cell_type": "code",
      "execution_count": 191,
      "metadata": {
        "colab": {
          "base_uri": "https://localhost:8080/",
          "height": 0
        },
        "id": "aCs51ahxLp0a",
        "outputId": "b1db831c-e4d5-4975-b8a9-e0e2d5103f4d"
      },
      "outputs": [
        {
          "output_type": "execute_result",
          "data": {
            "text/plain": [
              "      windows  could  paul  come  read  likely  based  agency  set  scheme  \\\n",
              "0           0      1     0     0     0       0      0       0    0       0   \n",
              "1           0      1     0     0     0       0      0       0    0       0   \n",
              "2           0      0     0     0     1       0      0       0    0       0   \n",
              "3           0      1     0     0     0       0      0       0    0       0   \n",
              "4           0      1     0     0     0       0      0       0    0       0   \n",
              "...       ...    ...   ...   ...   ...     ...    ...     ...  ...     ...   \n",
              "2373        0      0     0     0     0       0      0       0    0       0   \n",
              "2374        0      0     0     0     0       1      0       0    0       0   \n",
              "2375        0      0     0     1     0       0      0       0    0       0   \n",
              "2376        0      2     0     1     3       1      0       0    1       0   \n",
              "2377        0      0     0     0     0       0      0       0    0       0   \n",
              "\n",
              "      ...  color  designed  say  current  home  within  wrong  different  \\\n",
              "0     ...      0         0    0        0     0       0      0          0   \n",
              "1     ...      0         0    1        0     0       0      0          0   \n",
              "2     ...      0         0    1        0     0       0      0          0   \n",
              "3     ...      0         0    0        0     0       0      0          0   \n",
              "4     ...      0         0    0        0     0       0      0          0   \n",
              "...   ...    ...       ...  ...      ...   ...     ...    ...        ...   \n",
              "2373  ...      0         0    0        0     0       0      0          0   \n",
              "2374  ...      0         1    2        0     0       0      0          0   \n",
              "2375  ...      0         0    0        0     0       0      0          0   \n",
              "2376  ...      0         0    3        0     0       0      0          0   \n",
              "2377  ...      1         0    0        0     0       0      0          0   \n",
              "\n",
              "      response  label  \n",
              "0            0      1  \n",
              "1            0      1  \n",
              "2            0      3  \n",
              "3            0      0  \n",
              "4            0      2  \n",
              "...        ...    ...  \n",
              "2373         0      0  \n",
              "2374         0      2  \n",
              "2375         0      2  \n",
              "2376         0      2  \n",
              "2377         0      0  \n",
              "\n",
              "[2378 rows x 599 columns]"
            ],
            "text/html": [
              "\n",
              "  <div id=\"df-c4e1cc87-23ef-47eb-b641-53b1a9ca599e\">\n",
              "    <div class=\"colab-df-container\">\n",
              "      <div>\n",
              "<style scoped>\n",
              "    .dataframe tbody tr th:only-of-type {\n",
              "        vertical-align: middle;\n",
              "    }\n",
              "\n",
              "    .dataframe tbody tr th {\n",
              "        vertical-align: top;\n",
              "    }\n",
              "\n",
              "    .dataframe thead th {\n",
              "        text-align: right;\n",
              "    }\n",
              "</style>\n",
              "<table border=\"1\" class=\"dataframe\">\n",
              "  <thead>\n",
              "    <tr style=\"text-align: right;\">\n",
              "      <th></th>\n",
              "      <th>windows</th>\n",
              "      <th>could</th>\n",
              "      <th>paul</th>\n",
              "      <th>come</th>\n",
              "      <th>read</th>\n",
              "      <th>likely</th>\n",
              "      <th>based</th>\n",
              "      <th>agency</th>\n",
              "      <th>set</th>\n",
              "      <th>scheme</th>\n",
              "      <th>...</th>\n",
              "      <th>color</th>\n",
              "      <th>designed</th>\n",
              "      <th>say</th>\n",
              "      <th>current</th>\n",
              "      <th>home</th>\n",
              "      <th>within</th>\n",
              "      <th>wrong</th>\n",
              "      <th>different</th>\n",
              "      <th>response</th>\n",
              "      <th>label</th>\n",
              "    </tr>\n",
              "  </thead>\n",
              "  <tbody>\n",
              "    <tr>\n",
              "      <th>0</th>\n",
              "      <td>0</td>\n",
              "      <td>1</td>\n",
              "      <td>0</td>\n",
              "      <td>0</td>\n",
              "      <td>0</td>\n",
              "      <td>0</td>\n",
              "      <td>0</td>\n",
              "      <td>0</td>\n",
              "      <td>0</td>\n",
              "      <td>0</td>\n",
              "      <td>...</td>\n",
              "      <td>0</td>\n",
              "      <td>0</td>\n",
              "      <td>0</td>\n",
              "      <td>0</td>\n",
              "      <td>0</td>\n",
              "      <td>0</td>\n",
              "      <td>0</td>\n",
              "      <td>0</td>\n",
              "      <td>0</td>\n",
              "      <td>1</td>\n",
              "    </tr>\n",
              "    <tr>\n",
              "      <th>1</th>\n",
              "      <td>0</td>\n",
              "      <td>1</td>\n",
              "      <td>0</td>\n",
              "      <td>0</td>\n",
              "      <td>0</td>\n",
              "      <td>0</td>\n",
              "      <td>0</td>\n",
              "      <td>0</td>\n",
              "      <td>0</td>\n",
              "      <td>0</td>\n",
              "      <td>...</td>\n",
              "      <td>0</td>\n",
              "      <td>0</td>\n",
              "      <td>1</td>\n",
              "      <td>0</td>\n",
              "      <td>0</td>\n",
              "      <td>0</td>\n",
              "      <td>0</td>\n",
              "      <td>0</td>\n",
              "      <td>0</td>\n",
              "      <td>1</td>\n",
              "    </tr>\n",
              "    <tr>\n",
              "      <th>2</th>\n",
              "      <td>0</td>\n",
              "      <td>0</td>\n",
              "      <td>0</td>\n",
              "      <td>0</td>\n",
              "      <td>1</td>\n",
              "      <td>0</td>\n",
              "      <td>0</td>\n",
              "      <td>0</td>\n",
              "      <td>0</td>\n",
              "      <td>0</td>\n",
              "      <td>...</td>\n",
              "      <td>0</td>\n",
              "      <td>0</td>\n",
              "      <td>1</td>\n",
              "      <td>0</td>\n",
              "      <td>0</td>\n",
              "      <td>0</td>\n",
              "      <td>0</td>\n",
              "      <td>0</td>\n",
              "      <td>0</td>\n",
              "      <td>3</td>\n",
              "    </tr>\n",
              "    <tr>\n",
              "      <th>3</th>\n",
              "      <td>0</td>\n",
              "      <td>1</td>\n",
              "      <td>0</td>\n",
              "      <td>0</td>\n",
              "      <td>0</td>\n",
              "      <td>0</td>\n",
              "      <td>0</td>\n",
              "      <td>0</td>\n",
              "      <td>0</td>\n",
              "      <td>0</td>\n",
              "      <td>...</td>\n",
              "      <td>0</td>\n",
              "      <td>0</td>\n",
              "      <td>0</td>\n",
              "      <td>0</td>\n",
              "      <td>0</td>\n",
              "      <td>0</td>\n",
              "      <td>0</td>\n",
              "      <td>0</td>\n",
              "      <td>0</td>\n",
              "      <td>0</td>\n",
              "    </tr>\n",
              "    <tr>\n",
              "      <th>4</th>\n",
              "      <td>0</td>\n",
              "      <td>1</td>\n",
              "      <td>0</td>\n",
              "      <td>0</td>\n",
              "      <td>0</td>\n",
              "      <td>0</td>\n",
              "      <td>0</td>\n",
              "      <td>0</td>\n",
              "      <td>0</td>\n",
              "      <td>0</td>\n",
              "      <td>...</td>\n",
              "      <td>0</td>\n",
              "      <td>0</td>\n",
              "      <td>0</td>\n",
              "      <td>0</td>\n",
              "      <td>0</td>\n",
              "      <td>0</td>\n",
              "      <td>0</td>\n",
              "      <td>0</td>\n",
              "      <td>0</td>\n",
              "      <td>2</td>\n",
              "    </tr>\n",
              "    <tr>\n",
              "      <th>...</th>\n",
              "      <td>...</td>\n",
              "      <td>...</td>\n",
              "      <td>...</td>\n",
              "      <td>...</td>\n",
              "      <td>...</td>\n",
              "      <td>...</td>\n",
              "      <td>...</td>\n",
              "      <td>...</td>\n",
              "      <td>...</td>\n",
              "      <td>...</td>\n",
              "      <td>...</td>\n",
              "      <td>...</td>\n",
              "      <td>...</td>\n",
              "      <td>...</td>\n",
              "      <td>...</td>\n",
              "      <td>...</td>\n",
              "      <td>...</td>\n",
              "      <td>...</td>\n",
              "      <td>...</td>\n",
              "      <td>...</td>\n",
              "      <td>...</td>\n",
              "    </tr>\n",
              "    <tr>\n",
              "      <th>2373</th>\n",
              "      <td>0</td>\n",
              "      <td>0</td>\n",
              "      <td>0</td>\n",
              "      <td>0</td>\n",
              "      <td>0</td>\n",
              "      <td>0</td>\n",
              "      <td>0</td>\n",
              "      <td>0</td>\n",
              "      <td>0</td>\n",
              "      <td>0</td>\n",
              "      <td>...</td>\n",
              "      <td>0</td>\n",
              "      <td>0</td>\n",
              "      <td>0</td>\n",
              "      <td>0</td>\n",
              "      <td>0</td>\n",
              "      <td>0</td>\n",
              "      <td>0</td>\n",
              "      <td>0</td>\n",
              "      <td>0</td>\n",
              "      <td>0</td>\n",
              "    </tr>\n",
              "    <tr>\n",
              "      <th>2374</th>\n",
              "      <td>0</td>\n",
              "      <td>0</td>\n",
              "      <td>0</td>\n",
              "      <td>0</td>\n",
              "      <td>0</td>\n",
              "      <td>1</td>\n",
              "      <td>0</td>\n",
              "      <td>0</td>\n",
              "      <td>0</td>\n",
              "      <td>0</td>\n",
              "      <td>...</td>\n",
              "      <td>0</td>\n",
              "      <td>1</td>\n",
              "      <td>2</td>\n",
              "      <td>0</td>\n",
              "      <td>0</td>\n",
              "      <td>0</td>\n",
              "      <td>0</td>\n",
              "      <td>0</td>\n",
              "      <td>0</td>\n",
              "      <td>2</td>\n",
              "    </tr>\n",
              "    <tr>\n",
              "      <th>2375</th>\n",
              "      <td>0</td>\n",
              "      <td>0</td>\n",
              "      <td>0</td>\n",
              "      <td>1</td>\n",
              "      <td>0</td>\n",
              "      <td>0</td>\n",
              "      <td>0</td>\n",
              "      <td>0</td>\n",
              "      <td>0</td>\n",
              "      <td>0</td>\n",
              "      <td>...</td>\n",
              "      <td>0</td>\n",
              "      <td>0</td>\n",
              "      <td>0</td>\n",
              "      <td>0</td>\n",
              "      <td>0</td>\n",
              "      <td>0</td>\n",
              "      <td>0</td>\n",
              "      <td>0</td>\n",
              "      <td>0</td>\n",
              "      <td>2</td>\n",
              "    </tr>\n",
              "    <tr>\n",
              "      <th>2376</th>\n",
              "      <td>0</td>\n",
              "      <td>2</td>\n",
              "      <td>0</td>\n",
              "      <td>1</td>\n",
              "      <td>3</td>\n",
              "      <td>1</td>\n",
              "      <td>0</td>\n",
              "      <td>0</td>\n",
              "      <td>1</td>\n",
              "      <td>0</td>\n",
              "      <td>...</td>\n",
              "      <td>0</td>\n",
              "      <td>0</td>\n",
              "      <td>3</td>\n",
              "      <td>0</td>\n",
              "      <td>0</td>\n",
              "      <td>0</td>\n",
              "      <td>0</td>\n",
              "      <td>0</td>\n",
              "      <td>0</td>\n",
              "      <td>2</td>\n",
              "    </tr>\n",
              "    <tr>\n",
              "      <th>2377</th>\n",
              "      <td>0</td>\n",
              "      <td>0</td>\n",
              "      <td>0</td>\n",
              "      <td>0</td>\n",
              "      <td>0</td>\n",
              "      <td>0</td>\n",
              "      <td>0</td>\n",
              "      <td>0</td>\n",
              "      <td>0</td>\n",
              "      <td>0</td>\n",
              "      <td>...</td>\n",
              "      <td>1</td>\n",
              "      <td>0</td>\n",
              "      <td>0</td>\n",
              "      <td>0</td>\n",
              "      <td>0</td>\n",
              "      <td>0</td>\n",
              "      <td>0</td>\n",
              "      <td>0</td>\n",
              "      <td>0</td>\n",
              "      <td>0</td>\n",
              "    </tr>\n",
              "  </tbody>\n",
              "</table>\n",
              "<p>2378 rows × 599 columns</p>\n",
              "</div>\n",
              "      <button class=\"colab-df-convert\" onclick=\"convertToInteractive('df-c4e1cc87-23ef-47eb-b641-53b1a9ca599e')\"\n",
              "              title=\"Convert this dataframe to an interactive table.\"\n",
              "              style=\"display:none;\">\n",
              "        \n",
              "  <svg xmlns=\"http://www.w3.org/2000/svg\" height=\"24px\"viewBox=\"0 0 24 24\"\n",
              "       width=\"24px\">\n",
              "    <path d=\"M0 0h24v24H0V0z\" fill=\"none\"/>\n",
              "    <path d=\"M18.56 5.44l.94 2.06.94-2.06 2.06-.94-2.06-.94-.94-2.06-.94 2.06-2.06.94zm-11 1L8.5 8.5l.94-2.06 2.06-.94-2.06-.94L8.5 2.5l-.94 2.06-2.06.94zm10 10l.94 2.06.94-2.06 2.06-.94-2.06-.94-.94-2.06-.94 2.06-2.06.94z\"/><path d=\"M17.41 7.96l-1.37-1.37c-.4-.4-.92-.59-1.43-.59-.52 0-1.04.2-1.43.59L10.3 9.45l-7.72 7.72c-.78.78-.78 2.05 0 2.83L4 21.41c.39.39.9.59 1.41.59.51 0 1.02-.2 1.41-.59l7.78-7.78 2.81-2.81c.8-.78.8-2.07 0-2.86zM5.41 20L4 18.59l7.72-7.72 1.47 1.35L5.41 20z\"/>\n",
              "  </svg>\n",
              "      </button>\n",
              "      \n",
              "  <style>\n",
              "    .colab-df-container {\n",
              "      display:flex;\n",
              "      flex-wrap:wrap;\n",
              "      gap: 12px;\n",
              "    }\n",
              "\n",
              "    .colab-df-convert {\n",
              "      background-color: #E8F0FE;\n",
              "      border: none;\n",
              "      border-radius: 50%;\n",
              "      cursor: pointer;\n",
              "      display: none;\n",
              "      fill: #1967D2;\n",
              "      height: 32px;\n",
              "      padding: 0 0 0 0;\n",
              "      width: 32px;\n",
              "    }\n",
              "\n",
              "    .colab-df-convert:hover {\n",
              "      background-color: #E2EBFA;\n",
              "      box-shadow: 0px 1px 2px rgba(60, 64, 67, 0.3), 0px 1px 3px 1px rgba(60, 64, 67, 0.15);\n",
              "      fill: #174EA6;\n",
              "    }\n",
              "\n",
              "    [theme=dark] .colab-df-convert {\n",
              "      background-color: #3B4455;\n",
              "      fill: #D2E3FC;\n",
              "    }\n",
              "\n",
              "    [theme=dark] .colab-df-convert:hover {\n",
              "      background-color: #434B5C;\n",
              "      box-shadow: 0px 1px 3px 1px rgba(0, 0, 0, 0.15);\n",
              "      filter: drop-shadow(0px 1px 2px rgba(0, 0, 0, 0.3));\n",
              "      fill: #FFFFFF;\n",
              "    }\n",
              "  </style>\n",
              "\n",
              "      <script>\n",
              "        const buttonEl =\n",
              "          document.querySelector('#df-c4e1cc87-23ef-47eb-b641-53b1a9ca599e button.colab-df-convert');\n",
              "        buttonEl.style.display =\n",
              "          google.colab.kernel.accessAllowed ? 'block' : 'none';\n",
              "\n",
              "        async function convertToInteractive(key) {\n",
              "          const element = document.querySelector('#df-c4e1cc87-23ef-47eb-b641-53b1a9ca599e');\n",
              "          const dataTable =\n",
              "            await google.colab.kernel.invokeFunction('convertToInteractive',\n",
              "                                                     [key], {});\n",
              "          if (!dataTable) return;\n",
              "\n",
              "          const docLinkHtml = 'Like what you see? Visit the ' +\n",
              "            '<a target=\"_blank\" href=https://colab.research.google.com/notebooks/data_table.ipynb>data table notebook</a>'\n",
              "            + ' to learn more about interactive tables.';\n",
              "          element.innerHTML = '';\n",
              "          dataTable['output_type'] = 'display_data';\n",
              "          await google.colab.output.renderOutput(dataTable, element);\n",
              "          const docLink = document.createElement('div');\n",
              "          docLink.innerHTML = docLinkHtml;\n",
              "          element.appendChild(docLink);\n",
              "        }\n",
              "      </script>\n",
              "    </div>\n",
              "  </div>\n",
              "  "
            ]
          },
          "metadata": {},
          "execution_count": 191
        }
      ],
      "source": [
        "train_df_twenty, train_numpy_data_twenty = create_df(trainFrequencies, totalFilteredVocab)\n",
        "train_df_twenty"
      ]
    },
    {
      "cell_type": "code",
      "execution_count": 192,
      "metadata": {
        "colab": {
          "base_uri": "https://localhost:8080/",
          "height": 0
        },
        "id": "zkhkmtPYbFsH",
        "outputId": "5133fdec-75cc-443e-ed7e-c8d934e90eca"
      },
      "outputs": [
        {
          "output_type": "execute_result",
          "data": {
            "text/plain": [
              "      windows  could  paul  come  read  likely  based  agency  set  scheme  \\\n",
              "0           0      1     0     0     0       0      0       0    0       0   \n",
              "1           0      1     0     0     0       0      0       0    0       0   \n",
              "2           0      0     0     0     1       0      0       0    0       0   \n",
              "3           0      1     0     0     0       0      0       0    0       0   \n",
              "4           0      1     0     0     0       0      0       0    0       0   \n",
              "...       ...    ...   ...   ...   ...     ...    ...     ...  ...     ...   \n",
              "2373        0      0     0     0     0       0      0       0    0       0   \n",
              "2374        0      0     0     0     0       1      0       0    0       0   \n",
              "2375        0      0     0     1     0       0      0       0    0       0   \n",
              "2376        0      2     0     1     3       1      0       0    1       0   \n",
              "2377        0      0     0     0     0       0      0       0    0       0   \n",
              "\n",
              "      ...  wiretap  color  designed  say  current  home  within  wrong  \\\n",
              "0     ...        0      0         0    0        0     0       0      0   \n",
              "1     ...        0      0         0    1        0     0       0      0   \n",
              "2     ...        0      0         0    1        0     0       0      0   \n",
              "3     ...        0      0         0    0        0     0       0      0   \n",
              "4     ...        0      0         0    0        0     0       0      0   \n",
              "...   ...      ...    ...       ...  ...      ...   ...     ...    ...   \n",
              "2373  ...        0      0         0    0        0     0       0      0   \n",
              "2374  ...        0      0         1    2        0     0       0      0   \n",
              "2375  ...        0      0         0    0        0     0       0      0   \n",
              "2376  ...        0      0         0    3        0     0       0      0   \n",
              "2377  ...        0      1         0    0        0     0       0      0   \n",
              "\n",
              "      different  response  \n",
              "0             0         0  \n",
              "1             0         0  \n",
              "2             0         0  \n",
              "3             0         0  \n",
              "4             0         0  \n",
              "...         ...       ...  \n",
              "2373          0         0  \n",
              "2374          0         0  \n",
              "2375          0         0  \n",
              "2376          0         0  \n",
              "2377          0         0  \n",
              "\n",
              "[2378 rows x 598 columns]"
            ],
            "text/html": [
              "\n",
              "  <div id=\"df-e2b80854-b034-4639-b475-cb00d46e307f\">\n",
              "    <div class=\"colab-df-container\">\n",
              "      <div>\n",
              "<style scoped>\n",
              "    .dataframe tbody tr th:only-of-type {\n",
              "        vertical-align: middle;\n",
              "    }\n",
              "\n",
              "    .dataframe tbody tr th {\n",
              "        vertical-align: top;\n",
              "    }\n",
              "\n",
              "    .dataframe thead th {\n",
              "        text-align: right;\n",
              "    }\n",
              "</style>\n",
              "<table border=\"1\" class=\"dataframe\">\n",
              "  <thead>\n",
              "    <tr style=\"text-align: right;\">\n",
              "      <th></th>\n",
              "      <th>windows</th>\n",
              "      <th>could</th>\n",
              "      <th>paul</th>\n",
              "      <th>come</th>\n",
              "      <th>read</th>\n",
              "      <th>likely</th>\n",
              "      <th>based</th>\n",
              "      <th>agency</th>\n",
              "      <th>set</th>\n",
              "      <th>scheme</th>\n",
              "      <th>...</th>\n",
              "      <th>wiretap</th>\n",
              "      <th>color</th>\n",
              "      <th>designed</th>\n",
              "      <th>say</th>\n",
              "      <th>current</th>\n",
              "      <th>home</th>\n",
              "      <th>within</th>\n",
              "      <th>wrong</th>\n",
              "      <th>different</th>\n",
              "      <th>response</th>\n",
              "    </tr>\n",
              "  </thead>\n",
              "  <tbody>\n",
              "    <tr>\n",
              "      <th>0</th>\n",
              "      <td>0</td>\n",
              "      <td>1</td>\n",
              "      <td>0</td>\n",
              "      <td>0</td>\n",
              "      <td>0</td>\n",
              "      <td>0</td>\n",
              "      <td>0</td>\n",
              "      <td>0</td>\n",
              "      <td>0</td>\n",
              "      <td>0</td>\n",
              "      <td>...</td>\n",
              "      <td>0</td>\n",
              "      <td>0</td>\n",
              "      <td>0</td>\n",
              "      <td>0</td>\n",
              "      <td>0</td>\n",
              "      <td>0</td>\n",
              "      <td>0</td>\n",
              "      <td>0</td>\n",
              "      <td>0</td>\n",
              "      <td>0</td>\n",
              "    </tr>\n",
              "    <tr>\n",
              "      <th>1</th>\n",
              "      <td>0</td>\n",
              "      <td>1</td>\n",
              "      <td>0</td>\n",
              "      <td>0</td>\n",
              "      <td>0</td>\n",
              "      <td>0</td>\n",
              "      <td>0</td>\n",
              "      <td>0</td>\n",
              "      <td>0</td>\n",
              "      <td>0</td>\n",
              "      <td>...</td>\n",
              "      <td>0</td>\n",
              "      <td>0</td>\n",
              "      <td>0</td>\n",
              "      <td>1</td>\n",
              "      <td>0</td>\n",
              "      <td>0</td>\n",
              "      <td>0</td>\n",
              "      <td>0</td>\n",
              "      <td>0</td>\n",
              "      <td>0</td>\n",
              "    </tr>\n",
              "    <tr>\n",
              "      <th>2</th>\n",
              "      <td>0</td>\n",
              "      <td>0</td>\n",
              "      <td>0</td>\n",
              "      <td>0</td>\n",
              "      <td>1</td>\n",
              "      <td>0</td>\n",
              "      <td>0</td>\n",
              "      <td>0</td>\n",
              "      <td>0</td>\n",
              "      <td>0</td>\n",
              "      <td>...</td>\n",
              "      <td>0</td>\n",
              "      <td>0</td>\n",
              "      <td>0</td>\n",
              "      <td>1</td>\n",
              "      <td>0</td>\n",
              "      <td>0</td>\n",
              "      <td>0</td>\n",
              "      <td>0</td>\n",
              "      <td>0</td>\n",
              "      <td>0</td>\n",
              "    </tr>\n",
              "    <tr>\n",
              "      <th>3</th>\n",
              "      <td>0</td>\n",
              "      <td>1</td>\n",
              "      <td>0</td>\n",
              "      <td>0</td>\n",
              "      <td>0</td>\n",
              "      <td>0</td>\n",
              "      <td>0</td>\n",
              "      <td>0</td>\n",
              "      <td>0</td>\n",
              "      <td>0</td>\n",
              "      <td>...</td>\n",
              "      <td>0</td>\n",
              "      <td>0</td>\n",
              "      <td>0</td>\n",
              "      <td>0</td>\n",
              "      <td>0</td>\n",
              "      <td>0</td>\n",
              "      <td>0</td>\n",
              "      <td>0</td>\n",
              "      <td>0</td>\n",
              "      <td>0</td>\n",
              "    </tr>\n",
              "    <tr>\n",
              "      <th>4</th>\n",
              "      <td>0</td>\n",
              "      <td>1</td>\n",
              "      <td>0</td>\n",
              "      <td>0</td>\n",
              "      <td>0</td>\n",
              "      <td>0</td>\n",
              "      <td>0</td>\n",
              "      <td>0</td>\n",
              "      <td>0</td>\n",
              "      <td>0</td>\n",
              "      <td>...</td>\n",
              "      <td>0</td>\n",
              "      <td>0</td>\n",
              "      <td>0</td>\n",
              "      <td>0</td>\n",
              "      <td>0</td>\n",
              "      <td>0</td>\n",
              "      <td>0</td>\n",
              "      <td>0</td>\n",
              "      <td>0</td>\n",
              "      <td>0</td>\n",
              "    </tr>\n",
              "    <tr>\n",
              "      <th>...</th>\n",
              "      <td>...</td>\n",
              "      <td>...</td>\n",
              "      <td>...</td>\n",
              "      <td>...</td>\n",
              "      <td>...</td>\n",
              "      <td>...</td>\n",
              "      <td>...</td>\n",
              "      <td>...</td>\n",
              "      <td>...</td>\n",
              "      <td>...</td>\n",
              "      <td>...</td>\n",
              "      <td>...</td>\n",
              "      <td>...</td>\n",
              "      <td>...</td>\n",
              "      <td>...</td>\n",
              "      <td>...</td>\n",
              "      <td>...</td>\n",
              "      <td>...</td>\n",
              "      <td>...</td>\n",
              "      <td>...</td>\n",
              "      <td>...</td>\n",
              "    </tr>\n",
              "    <tr>\n",
              "      <th>2373</th>\n",
              "      <td>0</td>\n",
              "      <td>0</td>\n",
              "      <td>0</td>\n",
              "      <td>0</td>\n",
              "      <td>0</td>\n",
              "      <td>0</td>\n",
              "      <td>0</td>\n",
              "      <td>0</td>\n",
              "      <td>0</td>\n",
              "      <td>0</td>\n",
              "      <td>...</td>\n",
              "      <td>0</td>\n",
              "      <td>0</td>\n",
              "      <td>0</td>\n",
              "      <td>0</td>\n",
              "      <td>0</td>\n",
              "      <td>0</td>\n",
              "      <td>0</td>\n",
              "      <td>0</td>\n",
              "      <td>0</td>\n",
              "      <td>0</td>\n",
              "    </tr>\n",
              "    <tr>\n",
              "      <th>2374</th>\n",
              "      <td>0</td>\n",
              "      <td>0</td>\n",
              "      <td>0</td>\n",
              "      <td>0</td>\n",
              "      <td>0</td>\n",
              "      <td>1</td>\n",
              "      <td>0</td>\n",
              "      <td>0</td>\n",
              "      <td>0</td>\n",
              "      <td>0</td>\n",
              "      <td>...</td>\n",
              "      <td>0</td>\n",
              "      <td>0</td>\n",
              "      <td>1</td>\n",
              "      <td>2</td>\n",
              "      <td>0</td>\n",
              "      <td>0</td>\n",
              "      <td>0</td>\n",
              "      <td>0</td>\n",
              "      <td>0</td>\n",
              "      <td>0</td>\n",
              "    </tr>\n",
              "    <tr>\n",
              "      <th>2375</th>\n",
              "      <td>0</td>\n",
              "      <td>0</td>\n",
              "      <td>0</td>\n",
              "      <td>1</td>\n",
              "      <td>0</td>\n",
              "      <td>0</td>\n",
              "      <td>0</td>\n",
              "      <td>0</td>\n",
              "      <td>0</td>\n",
              "      <td>0</td>\n",
              "      <td>...</td>\n",
              "      <td>0</td>\n",
              "      <td>0</td>\n",
              "      <td>0</td>\n",
              "      <td>0</td>\n",
              "      <td>0</td>\n",
              "      <td>0</td>\n",
              "      <td>0</td>\n",
              "      <td>0</td>\n",
              "      <td>0</td>\n",
              "      <td>0</td>\n",
              "    </tr>\n",
              "    <tr>\n",
              "      <th>2376</th>\n",
              "      <td>0</td>\n",
              "      <td>2</td>\n",
              "      <td>0</td>\n",
              "      <td>1</td>\n",
              "      <td>3</td>\n",
              "      <td>1</td>\n",
              "      <td>0</td>\n",
              "      <td>0</td>\n",
              "      <td>1</td>\n",
              "      <td>0</td>\n",
              "      <td>...</td>\n",
              "      <td>0</td>\n",
              "      <td>0</td>\n",
              "      <td>0</td>\n",
              "      <td>3</td>\n",
              "      <td>0</td>\n",
              "      <td>0</td>\n",
              "      <td>0</td>\n",
              "      <td>0</td>\n",
              "      <td>0</td>\n",
              "      <td>0</td>\n",
              "    </tr>\n",
              "    <tr>\n",
              "      <th>2377</th>\n",
              "      <td>0</td>\n",
              "      <td>0</td>\n",
              "      <td>0</td>\n",
              "      <td>0</td>\n",
              "      <td>0</td>\n",
              "      <td>0</td>\n",
              "      <td>0</td>\n",
              "      <td>0</td>\n",
              "      <td>0</td>\n",
              "      <td>0</td>\n",
              "      <td>...</td>\n",
              "      <td>0</td>\n",
              "      <td>1</td>\n",
              "      <td>0</td>\n",
              "      <td>0</td>\n",
              "      <td>0</td>\n",
              "      <td>0</td>\n",
              "      <td>0</td>\n",
              "      <td>0</td>\n",
              "      <td>0</td>\n",
              "      <td>0</td>\n",
              "    </tr>\n",
              "  </tbody>\n",
              "</table>\n",
              "<p>2378 rows × 598 columns</p>\n",
              "</div>\n",
              "      <button class=\"colab-df-convert\" onclick=\"convertToInteractive('df-e2b80854-b034-4639-b475-cb00d46e307f')\"\n",
              "              title=\"Convert this dataframe to an interactive table.\"\n",
              "              style=\"display:none;\">\n",
              "        \n",
              "  <svg xmlns=\"http://www.w3.org/2000/svg\" height=\"24px\"viewBox=\"0 0 24 24\"\n",
              "       width=\"24px\">\n",
              "    <path d=\"M0 0h24v24H0V0z\" fill=\"none\"/>\n",
              "    <path d=\"M18.56 5.44l.94 2.06.94-2.06 2.06-.94-2.06-.94-.94-2.06-.94 2.06-2.06.94zm-11 1L8.5 8.5l.94-2.06 2.06-.94-2.06-.94L8.5 2.5l-.94 2.06-2.06.94zm10 10l.94 2.06.94-2.06 2.06-.94-2.06-.94-.94-2.06-.94 2.06-2.06.94z\"/><path d=\"M17.41 7.96l-1.37-1.37c-.4-.4-.92-.59-1.43-.59-.52 0-1.04.2-1.43.59L10.3 9.45l-7.72 7.72c-.78.78-.78 2.05 0 2.83L4 21.41c.39.39.9.59 1.41.59.51 0 1.02-.2 1.41-.59l7.78-7.78 2.81-2.81c.8-.78.8-2.07 0-2.86zM5.41 20L4 18.59l7.72-7.72 1.47 1.35L5.41 20z\"/>\n",
              "  </svg>\n",
              "      </button>\n",
              "      \n",
              "  <style>\n",
              "    .colab-df-container {\n",
              "      display:flex;\n",
              "      flex-wrap:wrap;\n",
              "      gap: 12px;\n",
              "    }\n",
              "\n",
              "    .colab-df-convert {\n",
              "      background-color: #E8F0FE;\n",
              "      border: none;\n",
              "      border-radius: 50%;\n",
              "      cursor: pointer;\n",
              "      display: none;\n",
              "      fill: #1967D2;\n",
              "      height: 32px;\n",
              "      padding: 0 0 0 0;\n",
              "      width: 32px;\n",
              "    }\n",
              "\n",
              "    .colab-df-convert:hover {\n",
              "      background-color: #E2EBFA;\n",
              "      box-shadow: 0px 1px 2px rgba(60, 64, 67, 0.3), 0px 1px 3px 1px rgba(60, 64, 67, 0.15);\n",
              "      fill: #174EA6;\n",
              "    }\n",
              "\n",
              "    [theme=dark] .colab-df-convert {\n",
              "      background-color: #3B4455;\n",
              "      fill: #D2E3FC;\n",
              "    }\n",
              "\n",
              "    [theme=dark] .colab-df-convert:hover {\n",
              "      background-color: #434B5C;\n",
              "      box-shadow: 0px 1px 3px 1px rgba(0, 0, 0, 0.15);\n",
              "      filter: drop-shadow(0px 1px 2px rgba(0, 0, 0, 0.3));\n",
              "      fill: #FFFFFF;\n",
              "    }\n",
              "  </style>\n",
              "\n",
              "      <script>\n",
              "        const buttonEl =\n",
              "          document.querySelector('#df-e2b80854-b034-4639-b475-cb00d46e307f button.colab-df-convert');\n",
              "        buttonEl.style.display =\n",
              "          google.colab.kernel.accessAllowed ? 'block' : 'none';\n",
              "\n",
              "        async function convertToInteractive(key) {\n",
              "          const element = document.querySelector('#df-e2b80854-b034-4639-b475-cb00d46e307f');\n",
              "          const dataTable =\n",
              "            await google.colab.kernel.invokeFunction('convertToInteractive',\n",
              "                                                     [key], {});\n",
              "          if (!dataTable) return;\n",
              "\n",
              "          const docLinkHtml = 'Like what you see? Visit the ' +\n",
              "            '<a target=\"_blank\" href=https://colab.research.google.com/notebooks/data_table.ipynb>data table notebook</a>'\n",
              "            + ' to learn more about interactive tables.';\n",
              "          element.innerHTML = '';\n",
              "          dataTable['output_type'] = 'display_data';\n",
              "          await google.colab.output.renderOutput(dataTable, element);\n",
              "          const docLink = document.createElement('div');\n",
              "          docLink.innerHTML = docLinkHtml;\n",
              "          element.appendChild(docLink);\n",
              "        }\n",
              "      </script>\n",
              "    </div>\n",
              "  </div>\n",
              "  "
            ]
          },
          "metadata": {},
          "execution_count": 192
        }
      ],
      "source": [
        "# One-hot encoding\n",
        "\n",
        "one_hot_train_df_twenty = pd.get_dummies(train_df_twenty['label'])\n",
        "train_df_twenty_nolabel = train_df_twenty.drop('label', axis=1)\n",
        "train_df_twenty_nolabel"
      ]
    },
    {
      "cell_type": "code",
      "execution_count": 193,
      "metadata": {
        "colab": {
          "base_uri": "https://localhost:8080/",
          "height": 0
        },
        "id": "MKo4sZKhLuW2",
        "outputId": "8c641b0c-8d6c-458d-e50b-4061c205a38d"
      },
      "outputs": [
        {
          "output_type": "execute_result",
          "data": {
            "text/plain": [
              "      windows  could  paul  come  read  likely  based  agency  set  scheme  \\\n",
              "0           0      0     0     0     0       0      0       0    0       0   \n",
              "1           0      0     0     0     0       0      0       0    0       0   \n",
              "2           0      1     0     1     0       0      0       0    0       0   \n",
              "3           0      0     0     0     0       0      0       0    0       0   \n",
              "4           0      0     0     0     0       0      0       0    0       0   \n",
              "...       ...    ...   ...   ...   ...     ...    ...     ...  ...     ...   \n",
              "1577        0      0     0     1     0       0      0       0    0       0   \n",
              "1578        0      0     0     0     0       0      0       0    0       0   \n",
              "1579        0      0     0     0     0       0      0       0    0       0   \n",
              "1580        0      0     0     0     1       0      0       0    0       0   \n",
              "1581        0      0     0     0     0       0      0       0    0       0   \n",
              "\n",
              "      ...  color  designed  say  current  home  within  wrong  different  \\\n",
              "0     ...      0         0    0        0     0       0      0          0   \n",
              "1     ...      0         0    0        0     0       0      0          0   \n",
              "2     ...      0         0    0        0     0       0      0          2   \n",
              "3     ...      0         0    0        0     0       0      0          0   \n",
              "4     ...      0         0    0        0     0       0      0          0   \n",
              "...   ...    ...       ...  ...      ...   ...     ...    ...        ...   \n",
              "1577  ...      0         0    0        0     0       0      0          0   \n",
              "1578  ...      0         0    1        0     0       0      0          0   \n",
              "1579  ...      0         0    0        0     0       0      0          0   \n",
              "1580  ...      0         0    0        0     0       0      0          0   \n",
              "1581  ...      0         0    0        0     0       0      0          0   \n",
              "\n",
              "      response  label  \n",
              "0            0      1  \n",
              "1            0      0  \n",
              "2            0      3  \n",
              "3            0      3  \n",
              "4            0      1  \n",
              "...        ...    ...  \n",
              "1577         0      1  \n",
              "1578         0      3  \n",
              "1579         0      2  \n",
              "1580         0      2  \n",
              "1581         0      3  \n",
              "\n",
              "[1582 rows x 599 columns]"
            ],
            "text/html": [
              "\n",
              "  <div id=\"df-8b57ddc6-6d76-4ae5-9cc2-703a8ffd80ae\">\n",
              "    <div class=\"colab-df-container\">\n",
              "      <div>\n",
              "<style scoped>\n",
              "    .dataframe tbody tr th:only-of-type {\n",
              "        vertical-align: middle;\n",
              "    }\n",
              "\n",
              "    .dataframe tbody tr th {\n",
              "        vertical-align: top;\n",
              "    }\n",
              "\n",
              "    .dataframe thead th {\n",
              "        text-align: right;\n",
              "    }\n",
              "</style>\n",
              "<table border=\"1\" class=\"dataframe\">\n",
              "  <thead>\n",
              "    <tr style=\"text-align: right;\">\n",
              "      <th></th>\n",
              "      <th>windows</th>\n",
              "      <th>could</th>\n",
              "      <th>paul</th>\n",
              "      <th>come</th>\n",
              "      <th>read</th>\n",
              "      <th>likely</th>\n",
              "      <th>based</th>\n",
              "      <th>agency</th>\n",
              "      <th>set</th>\n",
              "      <th>scheme</th>\n",
              "      <th>...</th>\n",
              "      <th>color</th>\n",
              "      <th>designed</th>\n",
              "      <th>say</th>\n",
              "      <th>current</th>\n",
              "      <th>home</th>\n",
              "      <th>within</th>\n",
              "      <th>wrong</th>\n",
              "      <th>different</th>\n",
              "      <th>response</th>\n",
              "      <th>label</th>\n",
              "    </tr>\n",
              "  </thead>\n",
              "  <tbody>\n",
              "    <tr>\n",
              "      <th>0</th>\n",
              "      <td>0</td>\n",
              "      <td>0</td>\n",
              "      <td>0</td>\n",
              "      <td>0</td>\n",
              "      <td>0</td>\n",
              "      <td>0</td>\n",
              "      <td>0</td>\n",
              "      <td>0</td>\n",
              "      <td>0</td>\n",
              "      <td>0</td>\n",
              "      <td>...</td>\n",
              "      <td>0</td>\n",
              "      <td>0</td>\n",
              "      <td>0</td>\n",
              "      <td>0</td>\n",
              "      <td>0</td>\n",
              "      <td>0</td>\n",
              "      <td>0</td>\n",
              "      <td>0</td>\n",
              "      <td>0</td>\n",
              "      <td>1</td>\n",
              "    </tr>\n",
              "    <tr>\n",
              "      <th>1</th>\n",
              "      <td>0</td>\n",
              "      <td>0</td>\n",
              "      <td>0</td>\n",
              "      <td>0</td>\n",
              "      <td>0</td>\n",
              "      <td>0</td>\n",
              "      <td>0</td>\n",
              "      <td>0</td>\n",
              "      <td>0</td>\n",
              "      <td>0</td>\n",
              "      <td>...</td>\n",
              "      <td>0</td>\n",
              "      <td>0</td>\n",
              "      <td>0</td>\n",
              "      <td>0</td>\n",
              "      <td>0</td>\n",
              "      <td>0</td>\n",
              "      <td>0</td>\n",
              "      <td>0</td>\n",
              "      <td>0</td>\n",
              "      <td>0</td>\n",
              "    </tr>\n",
              "    <tr>\n",
              "      <th>2</th>\n",
              "      <td>0</td>\n",
              "      <td>1</td>\n",
              "      <td>0</td>\n",
              "      <td>1</td>\n",
              "      <td>0</td>\n",
              "      <td>0</td>\n",
              "      <td>0</td>\n",
              "      <td>0</td>\n",
              "      <td>0</td>\n",
              "      <td>0</td>\n",
              "      <td>...</td>\n",
              "      <td>0</td>\n",
              "      <td>0</td>\n",
              "      <td>0</td>\n",
              "      <td>0</td>\n",
              "      <td>0</td>\n",
              "      <td>0</td>\n",
              "      <td>0</td>\n",
              "      <td>2</td>\n",
              "      <td>0</td>\n",
              "      <td>3</td>\n",
              "    </tr>\n",
              "    <tr>\n",
              "      <th>3</th>\n",
              "      <td>0</td>\n",
              "      <td>0</td>\n",
              "      <td>0</td>\n",
              "      <td>0</td>\n",
              "      <td>0</td>\n",
              "      <td>0</td>\n",
              "      <td>0</td>\n",
              "      <td>0</td>\n",
              "      <td>0</td>\n",
              "      <td>0</td>\n",
              "      <td>...</td>\n",
              "      <td>0</td>\n",
              "      <td>0</td>\n",
              "      <td>0</td>\n",
              "      <td>0</td>\n",
              "      <td>0</td>\n",
              "      <td>0</td>\n",
              "      <td>0</td>\n",
              "      <td>0</td>\n",
              "      <td>0</td>\n",
              "      <td>3</td>\n",
              "    </tr>\n",
              "    <tr>\n",
              "      <th>4</th>\n",
              "      <td>0</td>\n",
              "      <td>0</td>\n",
              "      <td>0</td>\n",
              "      <td>0</td>\n",
              "      <td>0</td>\n",
              "      <td>0</td>\n",
              "      <td>0</td>\n",
              "      <td>0</td>\n",
              "      <td>0</td>\n",
              "      <td>0</td>\n",
              "      <td>...</td>\n",
              "      <td>0</td>\n",
              "      <td>0</td>\n",
              "      <td>0</td>\n",
              "      <td>0</td>\n",
              "      <td>0</td>\n",
              "      <td>0</td>\n",
              "      <td>0</td>\n",
              "      <td>0</td>\n",
              "      <td>0</td>\n",
              "      <td>1</td>\n",
              "    </tr>\n",
              "    <tr>\n",
              "      <th>...</th>\n",
              "      <td>...</td>\n",
              "      <td>...</td>\n",
              "      <td>...</td>\n",
              "      <td>...</td>\n",
              "      <td>...</td>\n",
              "      <td>...</td>\n",
              "      <td>...</td>\n",
              "      <td>...</td>\n",
              "      <td>...</td>\n",
              "      <td>...</td>\n",
              "      <td>...</td>\n",
              "      <td>...</td>\n",
              "      <td>...</td>\n",
              "      <td>...</td>\n",
              "      <td>...</td>\n",
              "      <td>...</td>\n",
              "      <td>...</td>\n",
              "      <td>...</td>\n",
              "      <td>...</td>\n",
              "      <td>...</td>\n",
              "      <td>...</td>\n",
              "    </tr>\n",
              "    <tr>\n",
              "      <th>1577</th>\n",
              "      <td>0</td>\n",
              "      <td>0</td>\n",
              "      <td>0</td>\n",
              "      <td>1</td>\n",
              "      <td>0</td>\n",
              "      <td>0</td>\n",
              "      <td>0</td>\n",
              "      <td>0</td>\n",
              "      <td>0</td>\n",
              "      <td>0</td>\n",
              "      <td>...</td>\n",
              "      <td>0</td>\n",
              "      <td>0</td>\n",
              "      <td>0</td>\n",
              "      <td>0</td>\n",
              "      <td>0</td>\n",
              "      <td>0</td>\n",
              "      <td>0</td>\n",
              "      <td>0</td>\n",
              "      <td>0</td>\n",
              "      <td>1</td>\n",
              "    </tr>\n",
              "    <tr>\n",
              "      <th>1578</th>\n",
              "      <td>0</td>\n",
              "      <td>0</td>\n",
              "      <td>0</td>\n",
              "      <td>0</td>\n",
              "      <td>0</td>\n",
              "      <td>0</td>\n",
              "      <td>0</td>\n",
              "      <td>0</td>\n",
              "      <td>0</td>\n",
              "      <td>0</td>\n",
              "      <td>...</td>\n",
              "      <td>0</td>\n",
              "      <td>0</td>\n",
              "      <td>1</td>\n",
              "      <td>0</td>\n",
              "      <td>0</td>\n",
              "      <td>0</td>\n",
              "      <td>0</td>\n",
              "      <td>0</td>\n",
              "      <td>0</td>\n",
              "      <td>3</td>\n",
              "    </tr>\n",
              "    <tr>\n",
              "      <th>1579</th>\n",
              "      <td>0</td>\n",
              "      <td>0</td>\n",
              "      <td>0</td>\n",
              "      <td>0</td>\n",
              "      <td>0</td>\n",
              "      <td>0</td>\n",
              "      <td>0</td>\n",
              "      <td>0</td>\n",
              "      <td>0</td>\n",
              "      <td>0</td>\n",
              "      <td>...</td>\n",
              "      <td>0</td>\n",
              "      <td>0</td>\n",
              "      <td>0</td>\n",
              "      <td>0</td>\n",
              "      <td>0</td>\n",
              "      <td>0</td>\n",
              "      <td>0</td>\n",
              "      <td>0</td>\n",
              "      <td>0</td>\n",
              "      <td>2</td>\n",
              "    </tr>\n",
              "    <tr>\n",
              "      <th>1580</th>\n",
              "      <td>0</td>\n",
              "      <td>0</td>\n",
              "      <td>0</td>\n",
              "      <td>0</td>\n",
              "      <td>1</td>\n",
              "      <td>0</td>\n",
              "      <td>0</td>\n",
              "      <td>0</td>\n",
              "      <td>0</td>\n",
              "      <td>0</td>\n",
              "      <td>...</td>\n",
              "      <td>0</td>\n",
              "      <td>0</td>\n",
              "      <td>0</td>\n",
              "      <td>0</td>\n",
              "      <td>0</td>\n",
              "      <td>0</td>\n",
              "      <td>0</td>\n",
              "      <td>0</td>\n",
              "      <td>0</td>\n",
              "      <td>2</td>\n",
              "    </tr>\n",
              "    <tr>\n",
              "      <th>1581</th>\n",
              "      <td>0</td>\n",
              "      <td>0</td>\n",
              "      <td>0</td>\n",
              "      <td>0</td>\n",
              "      <td>0</td>\n",
              "      <td>0</td>\n",
              "      <td>0</td>\n",
              "      <td>0</td>\n",
              "      <td>0</td>\n",
              "      <td>0</td>\n",
              "      <td>...</td>\n",
              "      <td>0</td>\n",
              "      <td>0</td>\n",
              "      <td>0</td>\n",
              "      <td>0</td>\n",
              "      <td>0</td>\n",
              "      <td>0</td>\n",
              "      <td>0</td>\n",
              "      <td>0</td>\n",
              "      <td>0</td>\n",
              "      <td>3</td>\n",
              "    </tr>\n",
              "  </tbody>\n",
              "</table>\n",
              "<p>1582 rows × 599 columns</p>\n",
              "</div>\n",
              "      <button class=\"colab-df-convert\" onclick=\"convertToInteractive('df-8b57ddc6-6d76-4ae5-9cc2-703a8ffd80ae')\"\n",
              "              title=\"Convert this dataframe to an interactive table.\"\n",
              "              style=\"display:none;\">\n",
              "        \n",
              "  <svg xmlns=\"http://www.w3.org/2000/svg\" height=\"24px\"viewBox=\"0 0 24 24\"\n",
              "       width=\"24px\">\n",
              "    <path d=\"M0 0h24v24H0V0z\" fill=\"none\"/>\n",
              "    <path d=\"M18.56 5.44l.94 2.06.94-2.06 2.06-.94-2.06-.94-.94-2.06-.94 2.06-2.06.94zm-11 1L8.5 8.5l.94-2.06 2.06-.94-2.06-.94L8.5 2.5l-.94 2.06-2.06.94zm10 10l.94 2.06.94-2.06 2.06-.94-2.06-.94-.94-2.06-.94 2.06-2.06.94z\"/><path d=\"M17.41 7.96l-1.37-1.37c-.4-.4-.92-.59-1.43-.59-.52 0-1.04.2-1.43.59L10.3 9.45l-7.72 7.72c-.78.78-.78 2.05 0 2.83L4 21.41c.39.39.9.59 1.41.59.51 0 1.02-.2 1.41-.59l7.78-7.78 2.81-2.81c.8-.78.8-2.07 0-2.86zM5.41 20L4 18.59l7.72-7.72 1.47 1.35L5.41 20z\"/>\n",
              "  </svg>\n",
              "      </button>\n",
              "      \n",
              "  <style>\n",
              "    .colab-df-container {\n",
              "      display:flex;\n",
              "      flex-wrap:wrap;\n",
              "      gap: 12px;\n",
              "    }\n",
              "\n",
              "    .colab-df-convert {\n",
              "      background-color: #E8F0FE;\n",
              "      border: none;\n",
              "      border-radius: 50%;\n",
              "      cursor: pointer;\n",
              "      display: none;\n",
              "      fill: #1967D2;\n",
              "      height: 32px;\n",
              "      padding: 0 0 0 0;\n",
              "      width: 32px;\n",
              "    }\n",
              "\n",
              "    .colab-df-convert:hover {\n",
              "      background-color: #E2EBFA;\n",
              "      box-shadow: 0px 1px 2px rgba(60, 64, 67, 0.3), 0px 1px 3px 1px rgba(60, 64, 67, 0.15);\n",
              "      fill: #174EA6;\n",
              "    }\n",
              "\n",
              "    [theme=dark] .colab-df-convert {\n",
              "      background-color: #3B4455;\n",
              "      fill: #D2E3FC;\n",
              "    }\n",
              "\n",
              "    [theme=dark] .colab-df-convert:hover {\n",
              "      background-color: #434B5C;\n",
              "      box-shadow: 0px 1px 3px 1px rgba(0, 0, 0, 0.15);\n",
              "      filter: drop-shadow(0px 1px 2px rgba(0, 0, 0, 0.3));\n",
              "      fill: #FFFFFF;\n",
              "    }\n",
              "  </style>\n",
              "\n",
              "      <script>\n",
              "        const buttonEl =\n",
              "          document.querySelector('#df-8b57ddc6-6d76-4ae5-9cc2-703a8ffd80ae button.colab-df-convert');\n",
              "        buttonEl.style.display =\n",
              "          google.colab.kernel.accessAllowed ? 'block' : 'none';\n",
              "\n",
              "        async function convertToInteractive(key) {\n",
              "          const element = document.querySelector('#df-8b57ddc6-6d76-4ae5-9cc2-703a8ffd80ae');\n",
              "          const dataTable =\n",
              "            await google.colab.kernel.invokeFunction('convertToInteractive',\n",
              "                                                     [key], {});\n",
              "          if (!dataTable) return;\n",
              "\n",
              "          const docLinkHtml = 'Like what you see? Visit the ' +\n",
              "            '<a target=\"_blank\" href=https://colab.research.google.com/notebooks/data_table.ipynb>data table notebook</a>'\n",
              "            + ' to learn more about interactive tables.';\n",
              "          element.innerHTML = '';\n",
              "          dataTable['output_type'] = 'display_data';\n",
              "          await google.colab.output.renderOutput(dataTable, element);\n",
              "          const docLink = document.createElement('div');\n",
              "          docLink.innerHTML = docLinkHtml;\n",
              "          element.appendChild(docLink);\n",
              "        }\n",
              "      </script>\n",
              "    </div>\n",
              "  </div>\n",
              "  "
            ]
          },
          "metadata": {},
          "execution_count": 193
        }
      ],
      "source": [
        "test_df_twenty, test_numpy_data_twenty = create_df(testFrequencies, totalFilteredVocab)\n",
        "test_df_twenty"
      ]
    },
    {
      "cell_type": "code",
      "execution_count": 194,
      "metadata": {
        "id": "5E4oW7-xhWVz"
      },
      "outputs": [],
      "source": [
        "# Feature selection\n",
        "infoScores = []\n",
        "numFeatures = 25\n",
        "top_20_twenty_features = []\n",
        "\n",
        "for labelIndex, labelCol in enumerate(one_hot_train_df_twenty):\n",
        "  features_metrics = []\n",
        "  for featureIndex, featureName in enumerate(train_df_twenty_nolabel.columns):\n",
        "    metric = metrics.adjusted_mutual_info_score(train_df_twenty_nolabel[featureName], one_hot_train_df_twenty[labelIndex])\n",
        "    feature_metric = (featureName, metric)\n",
        "    features_metrics.append(feature_metric)\n",
        "  features_metrics.sort(key=lambda feature_metric: feature_metric[1])\n",
        "  largest_features_metrics = features_metrics[-numFeatures:]\n",
        "  infoScores.extend(list(list(zip(*largest_features_metrics))[0]))\n",
        "  \n",
        "  # Extraction of top 20 features for the 20 news group dataset.\n",
        "  # Selecting top 5 for each category.\n",
        "  top_5_features_of_category = largest_features_metrics[-5:]\n",
        "  top_5_features_of_category.sort(reverse=True, key=lambda x: x[1])\n",
        "  for feature in top_5_features_of_category:\n",
        "    top_20_twenty_features.append(feature)\n",
        "\n",
        "\n",
        "featuresToKeep = set(infoScores)\n",
        "featuresToRemove = []\n",
        "for feature in list(train_df_twenty_nolabel.columns):\n",
        "  if feature not in featuresToKeep:\n",
        "    featuresToRemove.append(feature)\n",
        "\n",
        "# Extracting the feature names from the tuples.\n",
        "top_20_twenty_features_names = []\n",
        "for feature in top_20_twenty_features:\n",
        "  top_20_twenty_features_names.append(feature[0])"
      ]
    },
    {
      "cell_type": "code",
      "execution_count": 195,
      "metadata": {
        "id": "3x_Bz0FIJ3nr"
      },
      "outputs": [],
      "source": [
        "train_df_twenty_filtered = train_df_twenty.drop(featuresToRemove, axis=1)\n",
        "test_df_twenty_filtered = test_df_twenty.drop(featuresToRemove, axis=1)\n",
        "\n",
        "# Extracting indexes of features we want to keep for the heatmap (top 20 features).\n",
        "twenty_filtered_column_names = list(train_df_twenty_filtered.columns)\n",
        "top_20_twenty_features_indexes = []\n",
        "for i in top_20_twenty_features_names:\n",
        "  top_20_twenty_features_indexes.append(twenty_filtered_column_names.index(i))"
      ]
    },
    {
      "cell_type": "code",
      "execution_count": 196,
      "metadata": {
        "colab": {
          "base_uri": "https://localhost:8080/"
        },
        "id": "zsD0vyEJq18Y",
        "outputId": "d154e89e-5efe-43b9-db50-56a4806b0a6f"
      },
      "outputs": [
        {
          "output_type": "stream",
          "name": "stdout",
          "text": [
            "(2378, 93) (2378, 4)\n"
          ]
        }
      ],
      "source": [
        "X_train_twenty, y_train_twenty = get_X_y(train_df_twenty_filtered.to_numpy())\n",
        "y_train_twenty_one_hot = pd.get_dummies(train_df_twenty_filtered['label']).to_numpy()\n",
        "type(X_train_twenty)\n",
        "type(y_train_twenty_one_hot)\n",
        "print(X_train_twenty.shape, y_train_twenty_one_hot.shape)"
      ]
    },
    {
      "cell_type": "code",
      "execution_count": 197,
      "metadata": {
        "colab": {
          "base_uri": "https://localhost:8080/"
        },
        "id": "KZ67UF2T_9VK",
        "outputId": "dec3309e-1295-40d3-8488-258e91e32fc2"
      },
      "outputs": [
        {
          "output_type": "execute_result",
          "data": {
            "text/plain": [
              "array([[0, 1, 0, 0],\n",
              "       [1, 0, 0, 0],\n",
              "       [0, 0, 0, 1],\n",
              "       ...,\n",
              "       [0, 0, 1, 0],\n",
              "       [0, 0, 1, 0],\n",
              "       [0, 0, 0, 1]], dtype=uint8)"
            ]
          },
          "metadata": {},
          "execution_count": 197
        }
      ],
      "source": [
        "X_test_twenty, y_test_twenty = get_X_y(test_df_twenty_filtered.to_numpy())\n",
        "y_test_twenty_one_hot = pd.get_dummies(test_df_twenty_filtered['label']).to_numpy()\n",
        "y_test_twenty_one_hot"
      ]
    },
    {
      "cell_type": "markdown",
      "metadata": {
        "id": "L6CLueMvhz7a"
      },
      "source": [
        "# **SECTION 2: Machine Learning Algorithm Implementations**"
      ]
    },
    {
      "cell_type": "markdown",
      "metadata": {
        "id": "G_dvR-_Gj7M8"
      },
      "source": [
        "## **Logistic Regression**"
      ]
    },
    {
      "cell_type": "code",
      "execution_count": 198,
      "metadata": {
        "id": "t-TkfD-_kNXk"
      },
      "outputs": [],
      "source": [
        "class LogisticRegression:\n",
        "    def __init__(self, addBias=True, learningRate=0.005, epsilon=1e-4, maxIterations=1000):\n",
        "        self.addBias = addBias\n",
        "        self.learningRate = learningRate\n",
        "        self.epsilon = epsilon\n",
        "        self.maxIterations = maxIterations\n",
        "\n",
        "    def logistic(self, a):\n",
        "      yh = 1. / (1 + np.exp(-a))\n",
        "\n",
        "      return yh\n",
        "\n",
        "    def fit(self, X_train, y_train):\n",
        "      if self.addBias:\n",
        "        X_train = np.column_stack([X_train, np.ones(X_train.shape[0])]) # Adding bias at beginning if 1's are in left-most column FLIP THESE B/c a comment on ed\n",
        "\n",
        "      N, D = X_train.shape\n",
        "      self.w = np.zeros(D)\n",
        "      gradient = np.inf\n",
        "      \n",
        "      t = 0\n",
        "      # Gradient descent\n",
        "      while np.linalg.norm(gradient) > self.epsilon and t < self.maxIterations:\n",
        "        # Compute gradients\n",
        "        yh = self.logistic(np.dot(X_train, self.w))\n",
        "        gradient = (1 / N) * np.dot(X_train.T, yh-y_train)\n",
        "\n",
        "        # Update parameters\n",
        "        self.w = self.w - (self.learningRate * gradient)\n",
        "        t += 1\n",
        "\n",
        "    def predict(self, X_test):\n",
        "      Nt = X_test.shape[0]\n",
        "      if self.addBias: \n",
        "        X_test = np.column_stack([X_test, np.ones(Nt)])\n",
        "\n",
        "      yh = self.logistic(np.dot(X_test, self.w))\n",
        "      predictionClasses = [1 if probability > 0.5 else 0 for probability in yh]\n",
        "\n",
        "      return yh, predictionClasses"
      ]
    },
    {
      "cell_type": "markdown",
      "metadata": {
        "id": "i2yifnmAkLeU"
      },
      "source": [
        "## **Multiclass Regression**"
      ]
    },
    {
      "cell_type": "code",
      "execution_count": 199,
      "metadata": {
        "id": "oGvu4SpQkiTj"
      },
      "outputs": [],
      "source": [
        "class MultiClassLogisticRegression:\n",
        "    def __init__(self, nFeatures, nClasses):\n",
        "        self.W = np.random.rand(nFeatures, nClasses)\n",
        "\n",
        "    def predict(self, X):\n",
        "        y_pred = np.exp(np.matmul(X, self.W))\n",
        "        return y_pred / y_pred.sum(axis=1).reshape(X.shape[0], 1)\n",
        "\n",
        "    def grad(self, X, y):\n",
        "        return np.matmul(X.transpose(), self.predict(X) - y)\n",
        "\n",
        "    def ce(self, X, y):\n",
        "        return -np.sum(y * np.log(self.predict(X)))\n",
        "\n",
        "    def fit(self, X, y, X_valid=None, y_valid=None, lr=0.0001, niter=2000):\n",
        "        losses_train = np.zeros(niter)\n",
        "        losses_valid = np.zeros(niter)\n",
        "        last_loss_train = sys.maxsize\n",
        "        last_loss_valid = sys.maxsize\n",
        "        final_niter = niter\n",
        "        for i in range(niter):\n",
        "            self.W = self.W - lr * self.grad(X, y)\n",
        "            loss_train = self.ce(X, y)\n",
        "            losses_train[i] = loss_train\n",
        "            if X_valid is not None and y_valid is not None:\n",
        "                loss_valid = self.ce(X_valid, y_valid)\n",
        "                losses_valid[i] = loss_valid\n",
        "                if last_loss_train < loss_train or last_loss_valid < loss_valid:\n",
        "                  final_niter = i\n",
        "                  break\n",
        "                last_loss_train = loss_train\n",
        "                last_loss_valid = loss_valid\n",
        "        return losses_train, losses_valid, final_niter\n",
        "\n",
        "    def check_grad(self, X, y):\n",
        "        N, C = y.shape\n",
        "        D = X.shape[1]\n",
        "\n",
        "        diff = np.zeros((D, C))\n",
        "\n",
        "        W = self.W.copy()\n",
        "\n",
        "        for i in range(D):\n",
        "            for j in range(C):\n",
        "                epsilon = np.zeros((D, C))\n",
        "                epsilon[i, j] = np.random.rand() * 1e-4\n",
        "\n",
        "                self.W = self.W + epsilon\n",
        "                J1 = self.ce(X, y)\n",
        "                self.W = W\n",
        "\n",
        "                self.W = self.W - epsilon\n",
        "                J2 = self.ce(X, y)\n",
        "                self.W = W\n",
        "\n",
        "                numeric_grad = (J1 - J2) / (2 * epsilon[i, j])\n",
        "                derived_grad = self.grad(X, y)[i, j]\n",
        "\n",
        "                diff[i, j] = np.square(derived_grad - numeric_grad).sum() / \\\n",
        "                             np.square(derived_grad + numeric_grad).sum()\n",
        "\n",
        "        return diff.sum()"
      ]
    },
    {
      "cell_type": "markdown",
      "metadata": {
        "id": "9C0lwApsh0Cr"
      },
      "source": [
        "# **SECTION 3: Experiments**"
      ]
    },
    {
      "cell_type": "markdown",
      "metadata": {
        "id": "dCsfvcPlKdof"
      },
      "source": [
        "## **Part 0 - Best learning rate for Logistic Regression on the IMDB reviews dataset.**"
      ]
    },
    {
      "cell_type": "code",
      "execution_count": 200,
      "metadata": {
        "colab": {
          "base_uri": "https://localhost:8080/"
        },
        "id": "wKdDlctzKuJo",
        "outputId": "34ec2bec-1014-4711-c5eb-fe30496384d7"
      },
      "outputs": [
        {
          "output_type": "stream",
          "name": "stdout",
          "text": [
            "(20000, 257) (20000,)\n",
            "(5000, 257) (5000,)\n"
          ]
        }
      ],
      "source": [
        "X_train, X_valid, y_train, y_valid = model_selection.train_test_split(X_imdb_filtered_train, y_imdb_filtered_train, train_size=0.8, test_size=0.2, random_state=11, shuffle=True)\n",
        "print(X_train.shape, y_train.shape)\n",
        "print(X_valid.shape, y_valid.shape)"
      ]
    },
    {
      "cell_type": "code",
      "execution_count": 201,
      "metadata": {
        "colab": {
          "base_uri": "https://localhost:8080/"
        },
        "id": "l7a_IoImLpIB",
        "outputId": "0ed3f0bb-8e66-4b9d-efc6-ff4c6c7a05b2"
      },
      "outputs": [
        {
          "output_type": "stream",
          "name": "stdout",
          "text": [
            "[(0.01, 0.8024), (0.05, 0.831), (0.1, 0.8366), (0.5, 0.8442), (1, 0.8438), (5, 0.8176), (10, 0.7968), (50, 0.7728)]\n",
            "0.5\n"
          ]
        }
      ],
      "source": [
        "alphas = [0.01, 0.05, 0.1, 0.5, 1, 5, 10, 50]\n",
        "alpha_accuracies = []\n",
        "for a in alphas:\n",
        "    logisticRegression = LogisticRegression(learningRate=a, maxIterations=1000)\n",
        "    logisticRegression.fit(X_train, y_train)\n",
        "    y_valid_pred, y_valid_pred_classes = logisticRegression.predict(X_valid)\n",
        "    accuracy = np.sum(y_valid_pred_classes == y_valid)/len(y_valid)\n",
        "    alpha_accuracies.append((a, accuracy))\n",
        "print(alpha_accuracies)\n",
        "best_valid_alpha_logistic = sorted(alpha_accuracies, key=lambda x: x[1], reverse=True)[0][0]\n",
        "print(best_valid_alpha_logistic)"
      ]
    },
    {
      "cell_type": "markdown",
      "source": [
        "## Training times for LR vs KNN on IMDB reviews"
      ],
      "metadata": {
        "id": "emuoUWfWq6hL"
      }
    },
    {
      "cell_type": "code",
      "source": [
        "# Logistic Regression on IMDB\n",
        "logisticRegression = LogisticRegression(learningRate=best_valid_alpha_logistic, maxIterations=1000)\n",
        "start = time.time()\n",
        "logisticRegression.fit(X_imdb_filtered_train, y_imdb_filtered_train)\n",
        "end = time.time()\n",
        "probabilities, predictionClasses = logisticRegression.predict(X_imdb_filtered_test)\n",
        "accuracy = np.sum(y_imdb_filtered_test == predictionClasses) / len(y_imdb_filtered_test)\n",
        "print(f\"LR Training time: {round(end-start, 2)}s\")"
      ],
      "metadata": {
        "id": "dkIPCX25OPG9",
        "colab": {
          "base_uri": "https://localhost:8080/"
        },
        "outputId": "adc83329-4cde-4987-ce83-4ab6a8cb489f"
      },
      "execution_count": 202,
      "outputs": [
        {
          "output_type": "stream",
          "name": "stdout",
          "text": [
            "LR Training time: 11.75s\n"
          ]
        }
      ]
    },
    {
      "cell_type": "code",
      "source": [
        "# K-NN on IMDB\n",
        "knn = KNeighborsClassifier(n_neighbors=15)\n",
        "start = time.time()\n",
        "knn.fit(X_imdb_filtered_train, y_imdb_filtered_train)\n",
        "end = time.time()\n",
        "predictions = knn.predict(X_imdb_filtered_test) \n",
        "print(f\"KNN Training time: {round(end-start, 2)}s\")"
      ],
      "metadata": {
        "id": "W3FNtPKyOSr9",
        "colab": {
          "base_uri": "https://localhost:8080/"
        },
        "outputId": "2590b1db-7cc6-488a-e5d5-14538f75de14"
      },
      "execution_count": 203,
      "outputs": [
        {
          "output_type": "stream",
          "name": "stdout",
          "text": [
            "KNN Training time: 0.01s\n"
          ]
        }
      ]
    },
    {
      "cell_type": "markdown",
      "source": [
        "## Training times for MLR vs KNN on 20 Newsgroups"
      ],
      "metadata": {
        "id": "xSDWgbzJrAce"
      }
    },
    {
      "cell_type": "code",
      "source": [
        "def evaluate(y, y_pred):\n",
        "    accuracy = sum(y_pred.argmax(axis=1) == y.argmax(axis=1))\n",
        "    accuracy = accuracy / y.shape[0]\n",
        "    return accuracy"
      ],
      "metadata": {
        "id": "Kw-mlbZ7mUTH"
      },
      "execution_count": 250,
      "outputs": []
    },
    {
      "cell_type": "code",
      "source": [
        "# Multiclass Regression on 20 Newsgroups\n",
        "N, C = y_train_twenty_one_hot.shape\n",
        "X_train_twenty = preprocessing.scale(X_train_twenty) # standardize input data\n",
        "D = X_train_twenty.shape[1]\n",
        "MLR_classifier = MultiClassLogisticRegression(D, C)\n",
        "start = time.time()\n",
        "ce_train, ce_valid, final_niter = MLR_classifier.fit(X_train_twenty, y_train_twenty_one_hot, lr=0.0001, niter=250)\n",
        "end = time.time()\n",
        "predictions = MLR_classifier.predict(X_test_twenty)\n",
        "\n",
        "print(f\"MLR Training time: {round(end-start, 2)}s\")"
      ],
      "metadata": {
        "colab": {
          "base_uri": "https://localhost:8080/"
        },
        "id": "k_ybHOaFlCYQ",
        "outputId": "1f5eb618-2554-477b-f54d-87555cebd6fa"
      },
      "execution_count": 253,
      "outputs": [
        {
          "output_type": "stream",
          "name": "stdout",
          "text": [
            "MLR Training time: 0.82s\n"
          ]
        }
      ]
    },
    {
      "cell_type": "code",
      "source": [
        "# K-NN on 20 Newsgroups\n",
        "KNN_classifier = KNeighborsClassifier(n_neighbors=15)\n",
        "start = time.time()\n",
        "KNN_classifier.fit(X_train_twenty, y_train_twenty_one_hot)\n",
        "end = time.time()\n",
        "predictions = KNN_classifier.predict(X_test_twenty)\n",
        "\n",
        "print(f\"KNN Training time: {round(end-start, 2)}s\")"
      ],
      "metadata": {
        "colab": {
          "base_uri": "https://localhost:8080/"
        },
        "id": "PtawMchilGwd",
        "outputId": "1adec72e-a2b7-4ff3-9eb0-d9b58c5864cf"
      },
      "execution_count": 252,
      "outputs": [
        {
          "output_type": "stream",
          "name": "stdout",
          "text": [
            "KNN Training time: 0.0s\n"
          ]
        }
      ]
    },
    {
      "cell_type": "markdown",
      "metadata": {
        "id": "Ccce12ad6Pf8"
      },
      "source": [
        "## **Part 1 - Horizontal bar plot showing the top 20 IMDB features with the most positive/negative z-scores.**\n",
        "\n"
      ]
    },
    {
      "cell_type": "code",
      "execution_count": 207,
      "metadata": {
        "colab": {
          "base_uri": "https://localhost:8080/",
          "height": 0
        },
        "id": "ezo9ATG5j-05",
        "outputId": "171c26b2-9694-48e5-dac4-f788552fa1a8"
      },
      "outputs": [
        {
          "output_type": "display_data",
          "data": {
            "text/plain": [
              "<Figure size 432x288 with 1 Axes>"
            ],
            "image/png": "[encoded data removed]"
          },
          "metadata": {
            "needs_background": "light"
          }
        }
      ],
      "source": [
        "features = list(list(zip(*top_zscores))[1])\n",
        "zscores = list(list(zip(*top_zscores))[2])\n",
        "\n",
        "# Create data frame\n",
        "zscoreData = {\"Features\": features, \"Z-scores\": zscores}\n",
        "zscoreDF = pd.DataFrame(data=zscoreData);\n",
        "\n",
        "# Plot graph\n",
        "zscoreDF.plot.barh(x='Features', y='Z-scores', title=\"IMDB Reviews Top 20 Features\");\n",
        "plt.show(block=True)"
      ]
    },
    {
      "cell_type": "markdown",
      "metadata": {
        "id": "sXkyTx8a-ALC"
      },
      "source": [
        "## **Part 2: Convergence plot for Logistic and Multiclass Regression.**"
      ]
    },
    {
      "cell_type": "markdown",
      "metadata": {
        "id": "Ud9Gh-437Cn_"
      },
      "source": [
        "### Logistic Regression"
      ]
    },
    {
      "cell_type": "code",
      "execution_count": 208,
      "metadata": {
        "colab": {
          "base_uri": "https://localhost:8080/",
          "height": 347
        },
        "id": "4MT02LbXVzHI",
        "outputId": "7ff55816-a603-4196-ecaa-3743df366279"
      },
      "outputs": [
        {
          "output_type": "stream",
          "name": "stdout",
          "text": [
            "12757.0\n",
            "12756.999999957878\n",
            "2.7256358142363518e-24\n"
          ]
        },
        {
          "output_type": "display_data",
          "data": {
            "text/plain": [
              "<Figure size 432x288 with 1 Axes>"
            ],
            "image/png": "[encoded data removed]"
          },
          "metadata": {
            "needs_background": "light"
          }
        }
      ],
      "source": [
        "X, y = X_imdb_filtered_train, y_imdb_filtered_train\n",
        "\n",
        "# Gradient evalution using small perturbation \n",
        "w = np.zeros(X.shape[1])\n",
        "epsilon = np.random.randn(1)[0] * 1e-5\n",
        "w1 = w + epsilon\n",
        "w2 = w - epsilon\n",
        "a1 = np.matmul(X, w1)\n",
        "a2 = np.matmul(X, w2)\n",
        "ce1 = np.sum(y * np.log1p(np.exp(-a1)) + (1-y) * np.log1p(np.exp(a1)))\n",
        "ce2 = np.sum(y * np.log1p(np.exp(-a2)) + (1-y) * np.log1p(np.exp(a2)))\n",
        "dw_num = (ce1 - ce2)/(2*epsilon) # approximated gradient\n",
        "\n",
        "yh = 1/(1+np.exp(-np.matmul(X, w)))\n",
        "dw_cal = np.sum(np.reshape((yh - y), (y.shape[0], 1)) * X) # analytical gradient (hand calculated)\n",
        "\n",
        "print(dw_cal)\n",
        "print(dw_num)\n",
        "print((dw_cal - dw_num)**2/(dw_cal + dw_num)**2)\n",
        "\n",
        "# Monitor loss as a function of iteration\n",
        "lr = 0.01\n",
        "niter = 100\n",
        "ce_all = np.zeros(niter)\n",
        "w = np.zeros(X.shape[1])\n",
        "\n",
        "for i in range(niter):\n",
        "  a = np.matmul(X, w)\n",
        "  ce_all[i] = np.sum(y * np.log1p(np.exp(-a)) + (1-y) * np.log1p(np.exp(a))) # cross-entropy\n",
        "  yh = 1 / (1 + np.exp(-a))\n",
        "  dw = np.sum(np.reshape((yh - y), (y.shape[0], 1)) * X)\n",
        "  dw = dw / y.shape[0]\n",
        "  w = w - lr * dw\n",
        "\n",
        "plt.plot(ce_all)\n",
        "plt.ylabel(\"Cross entropy\")\n",
        "plt.xlabel(\"Iteration\")\n",
        "plt.title(f\"Logistic Regression Cross Entropy Convergence on IMDB Reviews\")\n",
        "plt.show()"
      ]
    },
    {
      "cell_type": "markdown",
      "metadata": {
        "id": "QFxEZL3K7G3y"
      },
      "source": [
        "### Multiclass Regression"
      ]
    },
    {
      "cell_type": "code",
      "execution_count": 249,
      "metadata": {
        "colab": {
          "base_uri": "https://localhost:8080/",
          "height": 491
        },
        "id": "QEHNP4YrxLFB",
        "outputId": "85ea1c88-e28d-469c-a68c-2f092fcb3ed1"
      },
      "outputs": [
        {
          "output_type": "display_data",
          "data": {
            "text/plain": [
              "<Figure size 576x432 with 1 Axes>"
            ],
            "image/png": "[encoded data removed]"
          },
          "metadata": {
            "needs_background": "light"
          }
        },
        {
          "output_type": "stream",
          "name": "stdout",
          "text": [
            "Training with 2000 iterations.\n",
            "Train accuracy: 0.8233809924306139\n",
            "Valid accuracy: 0.7821698906644239\n",
            "Test accuracy: 0.7541087231352718\n",
            "Checking Gradient: 1.9886759125395757e-10\n"
          ]
        }
      ],
      "source": [
        "def evaluate(y, y_pred):\n",
        "    accuracy = sum(y_pred.argmax(axis=1) == y.argmax(axis=1))\n",
        "    accuracy = accuracy / y.shape[0]\n",
        "    return accuracy\n",
        "\n",
        "X_train, X_valid, y_train, y_valid = model_selection.train_test_split(\n",
        "    X_train_twenty, y_train_twenty_one_hot, test_size = 0.5, random_state=1, shuffle=True)\n",
        "\n",
        "N, C = y_train.shape\n",
        "\n",
        "X_train = preprocessing.scale(X_train) # standardize input data\n",
        "X_train = np.c_[X_train, np.ones(N)] # add one column to learn the linear intercept\n",
        "X_valid = preprocessing.scale(X_valid)\n",
        "X_valid = np.c_[X_valid, np.ones(X_valid.shape[0])]\n",
        "X_test = preprocessing.scale(X_test_twenty)\n",
        "X_test = np.c_[X_test, np.ones(X_test.shape[0])]\n",
        "\n",
        "D = X_train.shape[1]\n",
        "\n",
        "mlr = MultiClassLogisticRegression(D, C)\n",
        "\n",
        "# Checking gradient.\n",
        "check_gradient = mlr.check_grad(X_train, y_train)\n",
        "\n",
        "ce_train, ce_valid, final_niter = mlr.fit(X_train, y_train, X_valid, y_valid)\n",
        "ce_train = ce_train.copy()[:final_niter+1]\n",
        "ce_valid = ce_valid.copy()[:final_niter+1]\n",
        "optimal_niter = ce_valid.argmin()\n",
        "\n",
        "# Creating loss plot over iterations.\n",
        "fig = plt.figure(figsize=(8,6))\n",
        "plt.plot(ce_train, label='train')\n",
        "plt.plot(ce_valid, label='valid')\n",
        "plt.axvline(x=optimal_niter, label=f\"minValCE iter{optimal_niter}\")\n",
        "plt.legend()\n",
        "plt.title(\"Development of Loss During Training\")\n",
        "plt.xlabel(\"Number of Iterations\")\n",
        "plt.ylabel(\"Loss\")\n",
        "plt.show()\n",
        "\n",
        "# Computing accuracy on training, validation and testing sets.\n",
        "train_accuracy = evaluate(mlr.predict(X_train), y_train)\n",
        "valid_accuracy = evaluate(mlr.predict(X_valid), y_valid)\n",
        "test_accuracy = evaluate(mlr.predict(X_test), y_test_twenty_one_hot)\n",
        "\n",
        "print('Training with ' + str(final_niter) + ' iterations.')\n",
        "print('Train accuracy: ' + str(train_accuracy))\n",
        "print('Valid accuracy: ' + str(valid_accuracy))\n",
        "print('Test accuracy: ' + str(test_accuracy))\n",
        "print('Checking Gradient: ' + str(check_gradient))"
      ]
    },
    {
      "cell_type": "markdown",
      "metadata": {
        "id": "0vLQpFmV93hA"
      },
      "source": [
        "## **Part 3 - Logistic Regression receiver operating characteristic curve (ROC).**"
      ]
    },
    {
      "cell_type": "code",
      "execution_count": 210,
      "metadata": {
        "colab": {
          "base_uri": "https://localhost:8080/"
        },
        "id": "F7cNEFd68i3r",
        "outputId": "7ff32f08-9a24-46ea-d1b9-73d4e3b564a7"
      },
      "outputs": [
        {
          "output_type": "stream",
          "name": "stdout",
          "text": [
            "Logistic Regression prediction accuracy for z-score filtered features:  0.84048\n"
          ]
        }
      ],
      "source": [
        "# Making Logistic Regression predictions on z-score feature-filtered IMDB dataset\n",
        "\n",
        "classifier = LogisticRegression(learningRate=best_valid_alpha_logistic, maxIterations=1000)\n",
        "classifier.fit(X_imdb_filtered_train, y_imdb_filtered_train)\n",
        "probabilities, predictionClasses = classifier.predict(X_imdb_filtered_test)\n",
        "accuracy = np.sum(y_imdb_filtered_test == predictionClasses) / len(y_imdb_filtered_test)\n",
        "print(\"Logistic Regression prediction accuracy for z-score filtered features: \", accuracy)"
      ]
    },
    {
      "cell_type": "code",
      "execution_count": 211,
      "metadata": {
        "colab": {
          "base_uri": "https://localhost:8080/"
        },
        "id": "bNlv19Stcb3O",
        "outputId": "d2d0e02e-d758-405f-a777-c5468495b049"
      },
      "outputs": [
        {
          "output_type": "stream",
          "name": "stdout",
          "text": [
            "Logistic Regression prediction accuracy for randomly selected features:  0.728\n"
          ]
        }
      ],
      "source": [
        "# Making Logistic Regression predictions on randomly selected IMDB dataset\n",
        "\n",
        "classifier = LogisticRegression(learningRate=best_valid_alpha_logistic, maxIterations=1000)\n",
        "classifier.fit(X_random_imdb_filtered_train, y_random_imdb_filtered_train)\n",
        "probabilities, predictionClasses = classifier.predict(X_random_imdb_filtered_test)\n",
        "randomAccuracy = np.sum(y_random_imdb_filtered_test == predictionClasses) / len(y_random_imdb_filtered_test)\n",
        "print(\"Logistic Regression prediction accuracy for randomly selected features: \", randomAccuracy)"
      ]
    },
    {
      "cell_type": "code",
      "execution_count": 212,
      "metadata": {
        "colab": {
          "base_uri": "https://localhost:8080/"
        },
        "id": "AfwDo32CCrll",
        "outputId": "9d2650c5-f65e-4855-f04e-f47d0d1e20ca"
      },
      "outputs": [
        {
          "output_type": "stream",
          "name": "stdout",
          "text": [
            "KNN prediction accuracy for z-score filtered features:  0.68956\n"
          ]
        }
      ],
      "source": [
        "from sklearn.neighbors import KNeighborsClassifier\n",
        "\n",
        "knn = KNeighborsClassifier(n_neighbors=15)\n",
        "knn.fit(X_imdb_filtered_train, y_imdb_filtered_train)\n",
        "\n",
        "predictions = knn.predict(X_imdb_filtered_test)\n",
        "knnAccuracy = np.sum(y_imdb_filtered_test == predictions) / len(y_imdb_filtered_test)\n",
        "print(\"KNN prediction accuracy for z-score filtered features: \", knnAccuracy)"
      ]
    },
    {
      "cell_type": "code",
      "execution_count": 213,
      "metadata": {
        "colab": {
          "base_uri": "https://localhost:8080/"
        },
        "id": "yh4FYtPSmV0j",
        "outputId": "3e4d2189-e870-4782-8723-5375a7088480"
      },
      "outputs": [
        {
          "output_type": "stream",
          "name": "stdout",
          "text": [
            "{'LogisticRegression': {'fpr': array([0.     , 0.17976, 1.     ]), 'tpr': array([0.     , 0.86072, 1.     ]), 'auroc': 0.84048}, 'Decision Tree': {'fpr': array([0.     , 0.29368, 1.     ]), 'tpr': array([0.    , 0.7164, 1.    ]), 'auroc': 0.7113600000000001}, 'K-Nearest Neighbors': {'fpr': array([0.     , 0.48128, 1.     ]), 'tpr': array([0.    , 0.8604, 1.    ]), 'auroc': 0.6895600000000001}}\n"
          ]
        }
      ],
      "source": [
        "from sklearn.metrics import roc_curve, roc_auc_score\n",
        "from sklearn.tree import DecisionTreeClassifier\n",
        "from sklearn.neighbors import KNeighborsClassifier\n",
        "\n",
        "perf = {}\n",
        "\n",
        "classifier = LogisticRegression(learningRate=best_valid_alpha_logistic, maxIterations=1000)\n",
        "classifier.fit(X_imdb_filtered_train, y_imdb_filtered_train)\n",
        "probabilities, predictionClasses = classifier.predict(X_imdb_filtered_test)\n",
        "fpr, tpr, _ = roc_curve(y_imdb_filtered_test, predictionClasses)\n",
        "auroc = roc_auc_score(y_imdb_filtered_test, predictionClasses)\n",
        "perf[\"LogisticRegression\"] = {'fpr':fpr, 'tpr':tpr, 'auroc':auroc}\n",
        "\n",
        "dt = DecisionTreeClassifier(max_depth=1000)\n",
        "dt.fit(X_imdb_filtered_train, y_imdb_filtered_train)\n",
        "predictions = dt.predict(X_imdb_filtered_test)\n",
        "fpr, tpr, _ = roc_curve(y_imdb_filtered_test, predictions)\n",
        "auroc = roc_auc_score(y_imdb_filtered_test, predictions)\n",
        "perf[\"Decision Tree\"] = {'fpr':fpr, 'tpr':tpr, 'auroc':auroc}\n",
        "\n",
        "knn = KNeighborsClassifier(n_neighbors=15)\n",
        "knn.fit(X_imdb_filtered_train, y_imdb_filtered_train)\n",
        "predictions = knn.predict(X_imdb_filtered_test)\n",
        "fpr, tpr, _ = roc_curve(y_imdb_filtered_test, predictions)\n",
        "auroc = roc_auc_score(y_imdb_filtered_test, predictions)\n",
        "perf[\"K-Nearest Neighbors\"] = {'fpr':fpr, 'tpr':tpr, 'auroc':auroc}\n",
        "\n",
        "print(perf)"
      ]
    },
    {
      "cell_type": "code",
      "execution_count": 214,
      "metadata": {
        "colab": {
          "base_uri": "https://localhost:8080/",
          "height": 0
        },
        "id": "9tzs6k8zo3Gj",
        "outputId": "da33c792-6fd4-46ee-d760-dda757d47bd0"
      },
      "outputs": [
        {
          "output_type": "stream",
          "name": "stdout",
          "text": [
            "LogisticRegression {'fpr': array([0.     , 0.17976, 1.     ]), 'tpr': array([0.     , 0.86072, 1.     ]), 'auroc': 0.84048}\n",
            "Decision Tree {'fpr': array([0.     , 0.29368, 1.     ]), 'tpr': array([0.    , 0.7164, 1.    ]), 'auroc': 0.7113600000000001}\n",
            "K-Nearest Neighbors {'fpr': array([0.     , 0.48128, 1.     ]), 'tpr': array([0.    , 0.8604, 1.    ]), 'auroc': 0.6895600000000001}\n"
          ]
        },
        {
          "output_type": "display_data",
          "data": {
            "text/plain": [
              "<Figure size 432x288 with 1 Axes>"
            ],
            "image/png": "[encoded data removed]"
          },
          "metadata": {
            "needs_background": "light"
          }
        }
      ],
      "source": [
        "plt.clf()\n",
        "\n",
        "i = 0\n",
        "for modelName, modelPerf in perf.items():\n",
        "  print(modelName, modelPerf)\n",
        "  plt.plot(modelPerf['fpr'], modelPerf['tpr'], label=modelName)\n",
        "  plt.text(0.4, i+0.1, modelName + ': AUC = '+ str(round(modelPerf['auroc'], 2)))\n",
        "  i += 0.1\n",
        "\n",
        "plt.plot([0, 1], [0, 1], color=\"navy\", lw=2, linestyle=\"--\")\n",
        "plt.xlim([0.0, 1.0])\n",
        "plt.ylim([0.0, 1.05])\n",
        "\n",
        "plt.xlabel(\"False Positive Rate\")\n",
        "plt.ylabel(\"True Positive Rate\")\n",
        "plt.title('IMDB Reviews ROC')\n",
        "plt.legend(bbox_to_anchor=(1.04, 0.5), loc=\"upper left\")\n",
        "plt.show()"
      ]
    },
    {
      "cell_type": "markdown",
      "metadata": {
        "id": "MOKWoi_6-e6n"
      },
      "source": [
        "## **Part 4 - A bar plot showing the AUROC of Logistic Regression and Sklearn K-NN on the test data as a function of 20%, 40%, 60%, 80%, 100% training data.**"
      ]
    },
    {
      "cell_type": "code",
      "execution_count": 215,
      "metadata": {
        "id": "bGq1Rmtn1Rsy"
      },
      "outputs": [],
      "source": [
        "# X_imdb_filtered_train, y_imdb_filtered_train\n",
        "X_20_train, _, y_20_train, _ = model_selection.train_test_split(X_imdb_filtered_train, y_imdb_filtered_train, train_size=0.2, random_state=11, shuffle=True)\n",
        "X_40_train, _, y_40_train, _ = model_selection.train_test_split(X_imdb_filtered_train, y_imdb_filtered_train, train_size=0.4, random_state=11, shuffle=True)\n",
        "X_60_train, _, y_60_train, _ = model_selection.train_test_split(X_imdb_filtered_train, y_imdb_filtered_train, train_size=0.6, random_state=11, shuffle=True)\n",
        "X_80_train, _, y_80_train, _ = model_selection.train_test_split(X_imdb_filtered_train, y_imdb_filtered_train, train_size=0.8, random_state=11, shuffle=True)\n",
        "datasets = [(X_20_train, y_20_train), (X_40_train, y_40_train), (X_60_train, y_60_train), (X_80_train, y_80_train), (X_imdb_filtered_train, y_imdb_filtered_train)]\n",
        "\n",
        "percentages = [20, 40, 60, 80, 100]\n",
        "LR_aurocs = []\n",
        "KNN_aurocs = []\n",
        "LR_classifier = LogisticRegression(learningRate=best_valid_alpha_logistic, maxIterations=1000)\n",
        "KNN_classifier = KNeighborsClassifier(n_neighbors=15)\n",
        "auroc = roc_auc_score(y_imdb_filtered_test, predictions)\n",
        "for X, y in datasets:\n",
        "    LR_classifier.fit(X, y)\n",
        "    KNN_classifier.fit(X, y)\n",
        "    probabilities, predictionClasses = LR_classifier.predict(X_imdb_filtered_test)\n",
        "    predictions = KNN_classifier.predict(X_imdb_filtered_test)\n",
        "\n",
        "    LR_auroc = roc_auc_score(y_imdb_filtered_test, predictionClasses)\n",
        "    KNN_auroc = roc_auc_score(y_imdb_filtered_test, predictions)\n",
        "\n",
        "    LR_aurocs.append(LR_auroc)\n",
        "    KNN_aurocs.append(KNN_auroc)"
      ]
    },
    {
      "cell_type": "code",
      "execution_count": 216,
      "metadata": {
        "colab": {
          "base_uri": "https://localhost:8080/",
          "height": 0
        },
        "id": "UW-NNj0zlz-O",
        "outputId": "c4aaf735-9c3f-4eff-c3b1-953900fd13c3"
      },
      "outputs": [
        {
          "output_type": "stream",
          "name": "stdout",
          "text": [
            "Logistic Regrresion AUROCs:  [0.83096, 0.83856, 0.8383200000000001, 0.8393200000000001, 0.84048]\n",
            "\n"
          ]
        },
        {
          "output_type": "display_data",
          "data": {
            "text/plain": [
              "<Figure size 360x360 with 1 Axes>"
            ],
            "image/png": "[encoded data removed]"
          },
          "metadata": {
            "needs_background": "light"
          }
        }
      ],
      "source": [
        "print(\"Logistic Regrresion AUROCs: \", LR_aurocs)\n",
        "print()\n",
        "plt.figure(figsize=(5, 5))\n",
        "plt.bar(percentages, LR_aurocs, 10)\n",
        " \n",
        "# Add title and axis names\n",
        "plt.title('AUROC of Logistic Regression on IMDB Dataset')\n",
        "plt.xlabel('Percentage of training data')\n",
        "plt.ylabel('AUROC')\n",
        " \n",
        "# Show graph\n",
        "plt.show()"
      ]
    },
    {
      "cell_type": "code",
      "execution_count": 217,
      "metadata": {
        "colab": {
          "base_uri": "https://localhost:8080/",
          "height": 0
        },
        "id": "d8wk_hhKnzQQ",
        "outputId": "7af81d9f-c4ae-4c5c-d477-e16fee7254d4"
      },
      "outputs": [
        {
          "output_type": "stream",
          "name": "stdout",
          "text": [
            "K-Nearest Neighbors AUROCs:  [0.6430400000000001, 0.67232, 0.6846, 0.6859999999999999, 0.6895600000000001]\n"
          ]
        },
        {
          "output_type": "display_data",
          "data": {
            "text/plain": [
              "<Figure size 360x360 with 1 Axes>"
            ],
            "image/png": "[encoded data removed]"
          },
          "metadata": {
            "needs_background": "light"
          }
        }
      ],
      "source": [
        "print(\"K-Nearest Neighbors AUROCs: \", KNN_aurocs)\n",
        "plt.figure(figsize=(5, 5))\n",
        "plt.bar(percentages, KNN_aurocs, 10)\n",
        " \n",
        "# Add title and axis names\n",
        "plt.title('AUROC of K-Nearest Neighbors on IMDB Dataset')\n",
        "plt.xlabel('Percentage of training data')\n",
        "plt.ylabel('AUROC')\n",
        " \n",
        "# Show graph\n",
        "plt.show()"
      ]
    },
    {
      "cell_type": "markdown",
      "metadata": {
        "id": "rKagQk8c-ooh"
      },
      "source": [
        "## **Part 5 - A bar plot showing the AUROC of Multiclass Regression and Sklearn K-NN on the test data as a function of 20%, 40%, 60%, 80%, 100% training data.**\n",
        "\n"
      ]
    },
    {
      "cell_type": "markdown",
      "source": [
        "Note: if Part 5 breaks with a NaN error. Rerun it again it should work. "
      ],
      "metadata": {
        "id": "YAVbqQuLbiRF"
      }
    },
    {
      "cell_type": "code",
      "execution_count": 218,
      "metadata": {
        "id": "3jI5tkK2664_"
      },
      "outputs": [],
      "source": [
        "X_20_train_twenty_news_dataset, _, y_20_train_twenty_news_dataset, _ = model_selection.train_test_split(X_train_twenty, y_train_twenty_one_hot, train_size=0.2, random_state=42, shuffle=True)\n",
        "X_40_train_twenty_news_dataset, _, y_40_train_twenty_news_dataset, _ = model_selection.train_test_split(X_train_twenty, y_train_twenty_one_hot, train_size=0.4, random_state=42, shuffle=True)\n",
        "X_60_train_twenty_news_dataset, _, y_60_train_twenty_news_dataset, _ = model_selection.train_test_split(X_train_twenty, y_train_twenty_one_hot, train_size=0.6, random_state=42, shuffle=True)\n",
        "X_80_train_twenty_news_dataset, _, y_80_train_twenty_news_dataset, _ = model_selection.train_test_split(X_train_twenty, y_train_twenty_one_hot, train_size=0.8, random_state=42, shuffle=True)\n",
        "datasets_twenty_news_dataset = [(X_20_train_twenty_news_dataset, y_20_train_twenty_news_dataset), (X_40_train_twenty_news_dataset, y_40_train_twenty_news_dataset), (X_60_train_twenty_news_dataset, y_60_train_twenty_news_dataset), (X_80_train_twenty_news_dataset, y_80_train_twenty_news_dataset), (X_train_twenty, y_train_twenty_one_hot)]\n",
        "\n",
        "percentages = [20, 40, 60, 80, 100]\n",
        "MLR_aurocs_twenty_news = []\n",
        "KNN_aurocs_twenty_news = []\n",
        "\n",
        "def mlr_knn_AUROC(X, y):\n",
        "    # Multiclass Logistic Regression Classifier.\n",
        "    N, C = y.shape\n",
        "    X = preprocessing.scale(X) # standardize input data\n",
        "    D = X.shape[1]\n",
        "    MLR_classifier = MultiClassLogisticRegression(D, C)\n",
        "    ce_train, ce_valid, final_niter = MLR_classifier.fit(X, y, lr=0.0001, niter=250)\n",
        "    predictions = MLR_classifier.predict(X_test_twenty)\n",
        "    MLR_auroc = roc_auc_score(y_test_twenty_one_hot, predictions)\n",
        "    MLR_aurocs_twenty_news.append(MLR_auroc)\n",
        "\n",
        "    # K-Nearest Neighbours Classifier.\n",
        "    KNN_classifier = KNeighborsClassifier(n_neighbors=15)\n",
        "    KNN_classifier.fit(X, y)\n",
        "    predictions = KNN_classifier.predict(X_test_twenty)\n",
        "    KNN_auroc = roc_auc_score(y_test_twenty_one_hot, predictions)\n",
        "    KNN_aurocs_twenty_news.append(KNN_auroc)\n",
        "\n",
        "for X, y in datasets_twenty_news_dataset:\n",
        "    mlr_knn_AUROC(X, y)"
      ]
    },
    {
      "cell_type": "code",
      "execution_count": 219,
      "metadata": {
        "id": "wnp14Agi0gFu",
        "colab": {
          "base_uri": "https://localhost:8080/",
          "height": 385
        },
        "outputId": "5980c862-c82e-44bd-941b-42573492654a"
      },
      "outputs": [
        {
          "output_type": "stream",
          "name": "stdout",
          "text": [
            "Multiclass Logistic Regrresion AUROCs on 20 News Group Dataset:  [0.8956292197217983, 0.9123435943305978, 0.9298818223404228, 0.9341605456056808, 0.9305567311062839]\n",
            "\n"
          ]
        },
        {
          "output_type": "display_data",
          "data": {
            "text/plain": [
              "<Figure size 360x360 with 1 Axes>"
            ],
            "image/png": "[encoded data removed]"
          },
          "metadata": {
            "needs_background": "light"
          }
        }
      ],
      "source": [
        "print(\"Multiclass Logistic Regrresion AUROCs on 20 News Group Dataset: \", MLR_aurocs_twenty_news)\n",
        "print()\n",
        "plt.figure(figsize=(5, 5))\n",
        "plt.bar(percentages, MLR_aurocs_twenty_news, 10)\n",
        "plt.yticks([0.0, 0.1, 0.2, 0.3, 0.4, 0.5, 0.6, 0.7, 0.8, 0.9, 1.0])\n",
        " \n",
        "# Add title and axis names\n",
        "plt.title('AUROC of Multiclass Logistic Regression on 20 News Group Dataset')\n",
        "plt.xlabel('Percentage of training data')\n",
        "plt.ylabel('AUROC')\n",
        "\n",
        "# Show graph\n",
        "plt.show()"
      ]
    },
    {
      "cell_type": "code",
      "execution_count": 220,
      "metadata": {
        "id": "96bwedkO0jzn",
        "colab": {
          "base_uri": "https://localhost:8080/",
          "height": 367
        },
        "outputId": "729ac4e6-3dd2-4d15-f930-3246b7f2b716"
      },
      "outputs": [
        {
          "output_type": "stream",
          "name": "stdout",
          "text": [
            "K-Nearest Neighbors AUROCs on 20 News Group Dataset:  [0.6276629186920689, 0.678286138663283, 0.7203381199003984, 0.7342988225552844, 0.7535529507254872]\n"
          ]
        },
        {
          "output_type": "display_data",
          "data": {
            "text/plain": [
              "<Figure size 360x360 with 1 Axes>"
            ],
            "image/png": "[encoded data removed]"
          },
          "metadata": {
            "needs_background": "light"
          }
        }
      ],
      "source": [
        "print(\"K-Nearest Neighbors AUROCs on 20 News Group Dataset: \", KNN_aurocs_twenty_news)\n",
        "plt.figure(figsize=(5, 5))\n",
        "plt.bar(percentages, KNN_aurocs_twenty_news, 10)\n",
        "plt.yticks([0.0, 0.1, 0.2, 0.3, 0.4, 0.5, 0.6, 0.7, 0.8, 0.9, 1.0])\n",
        " \n",
        "# Add title and axis names\n",
        "plt.title('AUROC of K-Nearest Neighbors on 20 News Group Dataset')\n",
        "plt.xlabel('Percentage of training data')\n",
        "plt.ylabel('AUROC')\n",
        " \n",
        "# Show graph\n",
        "plt.show()"
      ]
    },
    {
      "cell_type": "markdown",
      "metadata": {
        "id": "xp4rqXqp-1qG"
      },
      "source": [
        "## **Part 6 - A horizontal bar plot showing the top 20 features (10 most positive and 10 most negative) from the logistic regression on the IMDB data with the coefficient as the x-axis and the feature names (i.e., words) as the y-axis.**\n"
      ]
    },
    {
      "cell_type": "code",
      "source": [
        "classifier = LogisticRegression(learningRate=best_valid_alpha_logistic, maxIterations=1000, addBias=False)\n",
        "classifier.fit(X_imdb_filtered_train, y_imdb_filtered_train)\n",
        "probabilities, predictionClasses = classifier.predict(X_imdb_filtered_test)\n",
        "accuracy = np.sum(y_imdb_filtered_test == predictionClasses) / len(y_imdb_filtered_test)\n",
        "ws = classifier.w\n",
        "print(\"Logistic Regression prediction accuracy for z-score filtered features: \", accuracy)"
      ],
      "metadata": {
        "id": "beSRoeWXbrw9",
        "colab": {
          "base_uri": "https://localhost:8080/"
        },
        "outputId": "d24fc67e-2dfe-4755-a1ce-7cba2e9fe0df"
      },
      "execution_count": 221,
      "outputs": [
        {
          "output_type": "stream",
          "name": "stdout",
          "text": [
            "Logistic Regression prediction accuracy for z-score filtered features:  0.83944\n"
          ]
        }
      ]
    },
    {
      "cell_type": "code",
      "source": [
        "features = final_features\n",
        "weights = ws.tolist()\n",
        "print(len(features), len(weights))\n",
        "\n",
        "features_weights = list(zip(features, weights))\n",
        "sorted_features_weights = sorted(features_weights, key=lambda t: t[1])\n",
        "lowestWeights = sorted_features_weights[:10]\n",
        "highestWeights = sorted_features_weights[-10:]\n",
        "lowest_highest_Weighsts = lowestWeights + highestWeights\n",
        "print(lowestWeights)\n",
        "print(highestWeights)\n",
        "features = list(list(zip(*lowest_highest_Weighsts))[0])\n",
        "weights = list(list(zip(*lowest_highest_Weighsts))[1])\n",
        "print(features)\n",
        "print(weights)"
      ],
      "metadata": {
        "id": "IaAwLMxQb3qT",
        "colab": {
          "base_uri": "https://localhost:8080/"
        },
        "outputId": "3658ff8b-2d46-4e73-f8bf-a0a61b95f2f3"
      },
      "execution_count": 222,
      "outputs": [
        {
          "output_type": "stream",
          "name": "stdout",
          "text": [
            "257 257\n",
            "[('rather', -1.492390741376359), ('style', -1.4174254066170064), ('moments', -1.2371614943112959), ('sit', -1.024972685168511), ('classic', -0.9007058731369336), ('went', -0.890906775605656), ('side', -0.860632686894706), ('understand', -0.8235363100783613), ('hero', -0.8185214634670972), ('comments', -0.8151611783521016)]\n",
            "[('enjoyed', 0.6944012551018395), ('showed', 0.7030989767481385), ('using', 0.758624432269798), ('several', 0.7616229505549175), ('baby', 0.8004527976805019), ('history', 0.8102945211249731), ('face', 0.8458613756364561), ('awful', 0.8510532979983505), ('town', 0.874789621549261), ('special', 1.0613378152887818)]\n",
            "['rather', 'style', 'moments', 'sit', 'classic', 'went', 'side', 'understand', 'hero', 'comments', 'enjoyed', 'showed', 'using', 'several', 'baby', 'history', 'face', 'awful', 'town', 'special']\n",
            "[-1.492390741376359, -1.4174254066170064, -1.2371614943112959, -1.024972685168511, -0.9007058731369336, -0.890906775605656, -0.860632686894706, -0.8235363100783613, -0.8185214634670972, -0.8151611783521016, 0.6944012551018395, 0.7030989767481385, 0.758624432269798, 0.7616229505549175, 0.8004527976805019, 0.8102945211249731, 0.8458613756364561, 0.8510532979983505, 0.874789621549261, 1.0613378152887818]\n"
          ]
        }
      ]
    },
    {
      "cell_type": "code",
      "source": [
        "weightData = {\"Features\": features, \"Weights\": weights}\n",
        "weightDF = pd.DataFrame(data=weightData);\n",
        "weightDF.plot.barh(x='Features', y='Weights', title=\"IMDB Reviews Top 20 Features\");\n",
        "\n",
        "# Show graph\n",
        "plt.show(block=True)"
      ],
      "metadata": {
        "id": "khQGCVUaZB3m",
        "colab": {
          "base_uri": "https://localhost:8080/",
          "height": 0
        },
        "outputId": "9a22c8ab-8204-4de8-aa0c-0ab1c850dc07"
      },
      "execution_count": 223,
      "outputs": [
        {
          "output_type": "display_data",
          "data": {
            "text/plain": [
              "<Figure size 432x288 with 1 Axes>"
            ],
            "image/png": "[encoded data removed]"
          },
          "metadata": {
            "needs_background": "light"
          }
        }
      ]
    },
    {
      "cell_type": "markdown",
      "metadata": {
        "id": "PcVYwJgm6gZb"
      },
      "source": [
        "## **Part 7 - A heatmap plot showing the 5 most positive features as rows for each chosen Newsgroup.**\n"
      ]
    },
    {
      "cell_type": "code",
      "execution_count": 224,
      "metadata": {
        "id": "esJTHap97zXt",
        "colab": {
          "base_uri": "https://localhost:8080/",
          "height": 0
        },
        "outputId": "dcd8569d-28a9-4038-83ce-56b8df5ba47e"
      },
      "outputs": [
        {
          "output_type": "display_data",
          "data": {
            "text/plain": [
              "<Figure size 720x720 with 2 Axes>"
            ],
            "image/png": "[encoded data removed]"
          },
          "metadata": {
            "needs_background": "light"
          }
        }
      ],
      "source": [
        "from seaborn import heatmap\n",
        "\n",
        "# Extracting weights for top 20 features for the 20 news group dataset.\n",
        "weights = mlr.W\n",
        "cat_0_weights = []\n",
        "cat_1_weights = []\n",
        "cat_2_weights = []\n",
        "cat_3_weights = []\n",
        "\n",
        "for w in weights:\n",
        "  cat_0_weights.append(w[0])\n",
        "  cat_1_weights.append(w[1])\n",
        "  cat_2_weights.append(w[2])\n",
        "  cat_3_weights.append(w[3])\n",
        "\n",
        "cat_0_weights_sorted = cat_0_weights.copy()\n",
        "cat_1_weights_sorted = cat_1_weights.copy()\n",
        "cat_2_weights_sorted = cat_2_weights.copy()\n",
        "cat_3_weights_sorted = cat_3_weights.copy()\n",
        "\n",
        "cat_0_weights_sorted.sort(reverse=True)\n",
        "cat_1_weights_sorted.sort(reverse=True)\n",
        "cat_2_weights_sorted.sort(reverse=True)\n",
        "cat_3_weights_sorted.sort(reverse=True)\n",
        "\n",
        "cat_0_weights_top_5_indexes = []\n",
        "cat_1_weights_top_5_indexes = []\n",
        "cat_2_weights_top_5_indexes = []\n",
        "cat_3_weights_top_5_indexes = []\n",
        "\n",
        "def top_5_indexes(sorted_weights, unsorted_weigths, index_arr):\n",
        "  for w in sorted_weights[0:5]:\n",
        "    index_arr.append(unsorted_weigths.index(w))\n",
        "\n",
        "top_5_indexes(cat_0_weights_sorted, cat_0_weights, cat_0_weights_top_5_indexes)\n",
        "top_5_indexes(cat_1_weights_sorted, cat_1_weights, cat_1_weights_top_5_indexes)\n",
        "top_5_indexes(cat_2_weights_sorted, cat_2_weights, cat_2_weights_top_5_indexes)\n",
        "top_5_indexes(cat_3_weights_sorted, cat_3_weights, cat_3_weights_top_5_indexes)\n",
        "cat_weights_top_5_indexes = cat_0_weights_top_5_indexes + cat_1_weights_top_5_indexes + cat_2_weights_top_5_indexes + cat_3_weights_top_5_indexes\n",
        "\n",
        "\n",
        "top_20_twenty_features_names = [twenty_filtered_column_names[x] for x in cat_weights_top_5_indexes]\n",
        "\n",
        "weights = [weights[x] for x in cat_weights_top_5_indexes]\n",
        "W_hat = weights # remove the intercept\n",
        "\n",
        "# Creating the heatmap.\n",
        "W_hat_transformed_df = pd.DataFrame(W_hat, columns=categories, index=top_20_twenty_features_names)\n",
        "plt.figure(figsize = (10,10))\n",
        "hmp = heatmap(W_hat_transformed_df, cmap='RdBu_r')\n",
        "fig = hmp.get_figure()"
      ]
    },
    {
      "cell_type": "markdown",
      "metadata": {
        "id": "nA9TxNpHTUD8"
      },
      "source": [
        "## **Part 8 - Ridge and LASSO Regression**\n"
      ]
    },
    {
      "cell_type": "code",
      "execution_count": 225,
      "metadata": {
        "id": "kxqxZBDCeV5Y"
      },
      "outputs": [],
      "source": [
        "from sklearn.linear_model import LinearRegression\n",
        "from sklearn.linear_model import Ridge\n",
        "from sklearn.linear_model import Lasso\n",
        "from sklearn.metrics import r2_score, mean_squared_error\n",
        "alphas = [0.01, 0.05, 0.1, 1, 50, 100, 200, 500, 1000]"
      ]
    },
    {
      "cell_type": "markdown",
      "metadata": {
        "id": "ybV2VVeJwqBp"
      },
      "source": [
        "### IMDB Review Dataset Mostly-Causal Features\n"
      ]
    },
    {
      "cell_type": "code",
      "execution_count": 226,
      "metadata": {
        "id": "A0DzjXXJKLoD",
        "colab": {
          "base_uri": "https://localhost:8080/"
        },
        "outputId": "513aab47-f38d-48c0-a3a6-04e6892b860d"
      },
      "outputs": [
        {
          "output_type": "stream",
          "name": "stdout",
          "text": [
            "(20000, 257) (20000,)\n"
          ]
        }
      ],
      "source": [
        "X_train, X_valid, y_train, y_valid = model_selection.train_test_split(X_imdb_filtered_train, y_imdb_filtered_train, train_size=0.8, test_size=0.2, random_state=11, shuffle=True)\n",
        "print(X_train.shape, y_train.shape)"
      ]
    },
    {
      "cell_type": "code",
      "execution_count": 227,
      "metadata": {
        "id": "AcXnA-qiLNVI",
        "colab": {
          "base_uri": "https://localhost:8080/"
        },
        "outputId": "66efb883-4e7b-46ed-8b07-6ddc84f48945"
      },
      "outputs": [
        {
          "output_type": "stream",
          "name": "stdout",
          "text": [
            "[(0.01, 0.8386), (0.05, 0.8386), (0.1, 0.8386), (1, 0.8386), (50, 0.8396), (100, 0.8392), (200, 0.8406), (500, 0.839), (1000, 0.8356)]\n"
          ]
        },
        {
          "output_type": "execute_result",
          "data": {
            "text/plain": [
              "200"
            ]
          },
          "metadata": {},
          "execution_count": 227
        }
      ],
      "source": [
        "# Find best alpha for Ridge regression\n",
        "alpha_accuracies = []\n",
        "for a in alphas:\n",
        "    ridgeRegression = Ridge(alpha=a)\n",
        "    ridgeRegression.fit(X_train, y_train)\n",
        "    y_valid_pred = ridgeRegression.predict(X_valid)\n",
        "    y_valid_pred_classes = [1 if probability > 0.5 else 0 for probability in y_valid_pred]\n",
        "    accuracy = np.sum(y_valid_pred_classes == y_valid)/len(y_valid)\n",
        "    alpha_accuracies.append((a, accuracy))\n",
        "print(alpha_accuracies)\n",
        "best_valid_alpha_ridge = sorted(alpha_accuracies, key=lambda x: x[1], reverse=True)[0][0]\n",
        "best_valid_alpha_ridge"
      ]
    },
    {
      "cell_type": "code",
      "execution_count": 228,
      "metadata": {
        "id": "VTVBw1zyzJIK",
        "colab": {
          "base_uri": "https://localhost:8080/"
        },
        "outputId": "ea43038d-d240-4d98-e85e-d95931cdd311"
      },
      "outputs": [
        {
          "output_type": "stream",
          "name": "stdout",
          "text": [
            "Ridge prediction accuracy with N>>D:  0.83552\n"
          ]
        }
      ],
      "source": [
        "ridgeRegression = Ridge(alpha=best_valid_alpha_ridge)\n",
        "\n",
        "ridgeRegression.fit(X_imdb_filtered_train, y_imdb_filtered_train)\n",
        "ridgeRegressionPredictions = ridgeRegression.predict(X_imdb_filtered_test)\n",
        "predictionClasses = [1 if probability > 0.5 else 0 for probability in ridgeRegressionPredictions]\n",
        "print(\"Ridge prediction accuracy with N>>D: \", np.sum(predictionClasses == y_imdb_filtered_test)/len(y_imdb_filtered_test))"
      ]
    },
    {
      "cell_type": "code",
      "execution_count": 229,
      "metadata": {
        "id": "IvNp58ukCtA-",
        "colab": {
          "base_uri": "https://localhost:8080/"
        },
        "outputId": "890f9cab-cd7f-4390-8cb9-cb308372ee81"
      },
      "outputs": [
        {
          "output_type": "stream",
          "name": "stdout",
          "text": [
            "(25, 257)\n",
            "Ridge prediction accuracy with N<<D:  0.5024\n"
          ]
        }
      ],
      "source": [
        "X_5_train, _, y_5_train, _ = model_selection.train_test_split(X_imdb_filtered_train, y_imdb_filtered_train, train_size=0.001, random_state=11, shuffle=True)\n",
        "print(X_5_train.shape)\n",
        "ridgeRegression.fit(X_5_train, y_5_train)\n",
        "ridgeRegressionPredictions = ridgeRegression.predict(X_imdb_filtered_test)\n",
        "predictionClasses = [1 if probability > 0.5 else 0 for probability in ridgeRegressionPredictions]\n",
        "print(\"Ridge prediction accuracy with N<<D: \", np.sum(predictionClasses == y_imdb_filtered_test)/len(y_imdb_filtered_test))"
      ]
    },
    {
      "cell_type": "code",
      "execution_count": 230,
      "metadata": {
        "id": "bmP3IxfSRpdk",
        "colab": {
          "base_uri": "https://localhost:8080/"
        },
        "outputId": "de5c3189-d031-407f-d08a-2c3cd2b7556b"
      },
      "outputs": [
        {
          "output_type": "stream",
          "name": "stdout",
          "text": [
            "[(0.01, 0.7596), (0.05, 0.5352), (0.1, 0.4986), (1, 0.4986), (50, 0.4986), (100, 0.4986), (200, 0.4986), (500, 0.4986), (1000, 0.4986)]\n"
          ]
        },
        {
          "output_type": "execute_result",
          "data": {
            "text/plain": [
              "0.01"
            ]
          },
          "metadata": {},
          "execution_count": 230
        }
      ],
      "source": [
        "# Find best alpha for LASSO regression\n",
        "alpha_accuracies = []\n",
        "for a in alphas:\n",
        "    lassoRegression = Lasso(alpha=a)\n",
        "    lassoRegression.fit(X_train, y_train)\n",
        "    y_valid_pred = lassoRegression.predict(X_valid)\n",
        "    y_valid_pred_classes = [1 if probability > 0.5 else 0 for probability in y_valid_pred]\n",
        "    accuracy = np.sum(y_valid_pred_classes == y_valid)/len(y_valid)\n",
        "    alpha_accuracies.append((a, accuracy))\n",
        "print(alpha_accuracies)\n",
        "best_valid_alpha_lasso = sorted(alpha_accuracies, key=lambda x: x[1], reverse=True)[0][0]\n",
        "best_valid_alpha_lasso"
      ]
    },
    {
      "cell_type": "code",
      "execution_count": 231,
      "metadata": {
        "id": "fcuo-E46R5m0",
        "colab": {
          "base_uri": "https://localhost:8080/"
        },
        "outputId": "4d163519-c520-4165-bcff-1b47bb621b2d"
      },
      "outputs": [
        {
          "output_type": "stream",
          "name": "stdout",
          "text": [
            "Lasso prediction accuracy with N>>D:  0.75264\n"
          ]
        }
      ],
      "source": [
        "lassoRegression = Lasso(alpha=best_valid_alpha_lasso)\n",
        "\n",
        "lassoRegression.fit(X_imdb_filtered_train, y_imdb_filtered_train)\n",
        "lassoRegressionPredictions = lassoRegression.predict(X_imdb_filtered_test)\n",
        "predictionClasses = [1 if probability > 0.5 else 0 for probability in lassoRegressionPredictions]\n",
        "print(\"Lasso prediction accuracy with N>>D: \", np.sum(predictionClasses == y_imdb_filtered_test)/len(y_imdb_filtered_test))"
      ]
    },
    {
      "cell_type": "code",
      "execution_count": 232,
      "metadata": {
        "id": "tMBfevO9SWFT",
        "colab": {
          "base_uri": "https://localhost:8080/"
        },
        "outputId": "681dba12-6627-4a82-e2a9-c337b733b3a2"
      },
      "outputs": [
        {
          "output_type": "stream",
          "name": "stdout",
          "text": [
            "(25, 257)\n",
            "Lasso prediction accuracy with N<<D:  0.556\n"
          ]
        }
      ],
      "source": [
        "X_5_train, _, y_5_train, _ = model_selection.train_test_split(X_imdb_filtered_train, y_imdb_filtered_train, train_size=0.001, random_state=11, shuffle=True)\n",
        "print(X_5_train.shape)\n",
        "lassoRegression.fit(X_5_train, y_5_train)\n",
        "lassoRegressionPredictions = lassoRegression.predict(X_imdb_filtered_test)\n",
        "predictionClasses = [1 if probability > 0.5 else 0 for probability in lassoRegressionPredictions]\n",
        "print(\"Lasso prediction accuracy with N<<D: \", np.sum(predictionClasses == y_imdb_filtered_test)/len(y_imdb_filtered_test))"
      ]
    },
    {
      "cell_type": "markdown",
      "metadata": {
        "id": "y9q24TZtwxzg"
      },
      "source": [
        "### IMDB Reviews Dataset Including Irrelevant Features \n"
      ]
    },
    {
      "cell_type": "code",
      "execution_count": 233,
      "metadata": {
        "id": "YpNEzbRUeSej"
      },
      "outputs": [],
      "source": [
        "numRowsTrain, numColsTrain = np.shape(train_numpy_data_imdb)\n",
        "numRowsTest, numColsTest = np.shape(test_numpy_data_imdb)\n",
        "\n",
        "X_imdb_train = train_numpy_data_imdb[:, 0: numColsTrain-1]\n",
        "y_imdb_train = train_numpy_data_imdb[:, numColsTrain-1]\n",
        "\n",
        "X_imdb_test = train_numpy_data_imdb[:, 0: numColsTest-1]\n",
        "y_imdb_test = train_numpy_data_imdb[:, numColsTest-1]"
      ]
    },
    {
      "cell_type": "code",
      "execution_count": 234,
      "metadata": {
        "id": "gv-CQLBTeSe8",
        "colab": {
          "base_uri": "https://localhost:8080/"
        },
        "outputId": "719892eb-fdab-4757-c5f0-bb3d71ae2cbc"
      },
      "outputs": [
        {
          "output_type": "stream",
          "name": "stdout",
          "text": [
            "(20000, 1299) (20000,)\n",
            "(25, 1299) (25,)\n"
          ]
        }
      ],
      "source": [
        "X_train, X_valid, y_train, y_valid = model_selection.train_test_split(X_imdb_train, y_imdb_train, train_size=0.8, test_size=0.2, random_state=11, shuffle=True)\n",
        "X_small_train, _, y_small_train, _ = model_selection.train_test_split(X_imdb_train, y_imdb_train, train_size=0.001, random_state=11, shuffle=True)\n",
        "print(X_train.shape, y_train.shape)\n",
        "print(X_small_train.shape, y_small_train.shape)"
      ]
    },
    {
      "cell_type": "code",
      "execution_count": 235,
      "metadata": {
        "id": "xFqOaUCTeSe9",
        "colab": {
          "base_uri": "https://localhost:8080/"
        },
        "outputId": "36b141b9-39b3-4655-f6c1-f7c0e4a4c7a7"
      },
      "outputs": [
        {
          "output_type": "stream",
          "name": "stdout",
          "text": [
            "[(0.01, 0.84), (0.05, 0.8398), (0.1, 0.8398), (1, 0.8402), (50, 0.8436), (100, 0.8452), (200, 0.8494), (500, 0.8512), (1000, 0.8496)]\n"
          ]
        },
        {
          "output_type": "execute_result",
          "data": {
            "text/plain": [
              "500"
            ]
          },
          "metadata": {},
          "execution_count": 235
        }
      ],
      "source": [
        "# Find best alpha for Ridge regression\n",
        "alpha_accuracies = []\n",
        "for a in alphas:\n",
        "    ridgeRegression = Ridge(alpha=a)\n",
        "    ridgeRegression.fit(X_train, y_train)\n",
        "    y_valid_pred = ridgeRegression.predict(X_valid)\n",
        "    y_valid_pred_classes = [1 if probability > 0.5 else 0 for probability in y_valid_pred]\n",
        "    accuracy = np.sum(y_valid_pred_classes == y_valid)/len(y_valid)\n",
        "    alpha_accuracies.append((a, accuracy))\n",
        "print(alpha_accuracies)\n",
        "best_valid_alpha_ridge = sorted(alpha_accuracies, key=lambda x: x[1], reverse=True)[0][0]\n",
        "best_valid_alpha_ridge"
      ]
    },
    {
      "cell_type": "code",
      "execution_count": 236,
      "metadata": {
        "id": "F4Xot7EgeSe9",
        "colab": {
          "base_uri": "https://localhost:8080/"
        },
        "outputId": "609b7547-2fef-4af2-ed16-889390619bdd"
      },
      "outputs": [
        {
          "output_type": "stream",
          "name": "stdout",
          "text": [
            "Ridge prediction accuracy with N>>D:  0.86972\n"
          ]
        }
      ],
      "source": [
        "ridgeRegression = Ridge(alpha=best_valid_alpha_ridge)\n",
        "\n",
        "ridgeRegression.fit(X_imdb_train, y_imdb_train)\n",
        "ridgeRegressionPredictions = ridgeRegression.predict(X_imdb_test)\n",
        "predictionClasses = [1 if probability > 0.5 else 0 for probability in ridgeRegressionPredictions]\n",
        "print(\"Ridge prediction accuracy with N>>D: \", np.sum(predictionClasses == y_imdb_test)/len(y_imdb_test))"
      ]
    },
    {
      "cell_type": "code",
      "execution_count": 237,
      "metadata": {
        "id": "KhxDHbgHeSe-",
        "colab": {
          "base_uri": "https://localhost:8080/"
        },
        "outputId": "19b4d449-9fc7-47dc-a5da-a72b67d0620e"
      },
      "outputs": [
        {
          "output_type": "stream",
          "name": "stdout",
          "text": [
            "(25, 1299)\n",
            "Lasso prediction accuracy with N<<D:  0.50024\n"
          ]
        }
      ],
      "source": [
        "X_5_train, _, y_5_train, _ = model_selection.train_test_split(X_imdb_train, y_imdb_train, train_size=0.001, random_state=11, shuffle=True)\n",
        "print(X_5_train.shape)\n",
        "ridgeRegression.fit(X_5_train, y_5_train)\n",
        "ridgeRegressionPredictions = ridgeRegression.predict(X_imdb_test)\n",
        "predictionClasses = [1 if probability > 0.5 else 0 for probability in ridgeRegressionPredictions]\n",
        "print(\"Lasso prediction accuracy with N<<D: \", np.sum(predictionClasses == y_imdb_test)/len(y_imdb_test))"
      ]
    },
    {
      "cell_type": "code",
      "execution_count": 238,
      "metadata": {
        "id": "oJKFuLITeSe-",
        "colab": {
          "base_uri": "https://localhost:8080/"
        },
        "outputId": "1898e94d-1b70-4280-fe92-192a7d5337b7"
      },
      "outputs": [
        {
          "output_type": "stream",
          "name": "stdout",
          "text": [
            "(20000, 1299)\n",
            "[(0.01, 0.7576), (0.05, 0.5352), (0.1, 0.4986), (1, 0.4986), (50, 0.4986), (100, 0.4986), (200, 0.4986), (500, 0.4986), (1000, 0.4986)]\n"
          ]
        },
        {
          "output_type": "execute_result",
          "data": {
            "text/plain": [
              "0.01"
            ]
          },
          "metadata": {},
          "execution_count": 238
        }
      ],
      "source": [
        "# Find best alpha for LASSO regression\n",
        "alpha_accuracies = []\n",
        "print(X_train.shape)\n",
        "for a in alphas:\n",
        "    lassoRegression = Lasso(alpha=a)\n",
        "    lassoRegression.fit(X_train, y_train)\n",
        "    y_valid_pred = lassoRegression.predict(X_valid)\n",
        "    y_valid_pred_classes = [1 if probability > 0.5 else 0 for probability in y_valid_pred]\n",
        "    accuracy = np.sum(y_valid_pred_classes == y_valid)/len(y_valid)\n",
        "    alpha_accuracies.append((a, accuracy))\n",
        "print(alpha_accuracies)\n",
        "best_valid_alpha_lasso = sorted(alpha_accuracies, key=lambda x: x[1], reverse=True)[0][0]\n",
        "best_valid_alpha_lasso"
      ]
    },
    {
      "cell_type": "code",
      "execution_count": 239,
      "metadata": {
        "id": "4xQOUr4jeSe-",
        "colab": {
          "base_uri": "https://localhost:8080/"
        },
        "outputId": "347b34f5-f7fb-4f6f-bff3-2073652b056e"
      },
      "outputs": [
        {
          "output_type": "stream",
          "name": "stdout",
          "text": [
            "Lasso prediction accuracy with N>>D:  0.7556\n"
          ]
        }
      ],
      "source": [
        "lassoRegression = Lasso(alpha=best_valid_alpha_lasso)\n",
        "\n",
        "lassoRegression.fit(X_imdb_train, y_imdb_train)\n",
        "lassoRegressionPredictions = lassoRegression.predict(X_imdb_train)\n",
        "predictionClasses = [1 if probability > 0.5 else 0 for probability in lassoRegressionPredictions]\n",
        "print(\"Lasso prediction accuracy with N>>D: \", np.sum(predictionClasses == y_imdb_train)/len(y_imdb_train))"
      ]
    },
    {
      "cell_type": "code",
      "execution_count": 240,
      "metadata": {
        "id": "5GW5N3rkeSe_",
        "colab": {
          "base_uri": "https://localhost:8080/"
        },
        "outputId": "c52f153a-0cee-43bb-f924-25580c951feb"
      },
      "outputs": [
        {
          "output_type": "stream",
          "name": "stdout",
          "text": [
            "(25, 1299)\n",
            "Lasso prediction accuracy with N<<D:  0.53948\n"
          ]
        }
      ],
      "source": [
        "X_5_train, _, y_5_train, _ = model_selection.train_test_split(X_imdb_train, y_imdb_train, train_size=0.001, random_state=11, shuffle=True)\n",
        "print(X_5_train.shape)\n",
        "lassoRegression.fit(X_5_train, y_5_train)\n",
        "lassoRegressionPredictions = lassoRegression.predict(X_imdb_train)\n",
        "predictionClasses = [1 if probability > 0.5 else 0 for probability in lassoRegressionPredictions]\n",
        "print(\"Lasso prediction accuracy with N<<D: \", np.sum(predictionClasses == y_imdb_train)/len(y_imdb_train))"
      ]
    },
    {
      "cell_type": "markdown",
      "metadata": {
        "id": "eUm5KRzMYtu-"
      },
      "source": [
        "## **Part 9 - IMDB Reviews Feature different feature filtering technique.**"
      ]
    },
    {
      "cell_type": "markdown",
      "metadata": {
        "id": "9s6zuAn6Ze6R"
      },
      "source": [
        "Create two lists of positive and negative words from the following text files."
      ]
    },
    {
      "cell_type": "code",
      "execution_count": 241,
      "metadata": {
        "id": "WnnUkhtnX-2e"
      },
      "outputs": [],
      "source": [
        "from urllib.request import urlopen\n",
        "\n",
        "positiveData, negativeData = (list(urlopen('https://ptrckprry.com/course/ssd/data/positive-words.txt')), list(urlopen('https://ptrckprry.com/course/ssd/data/negative-words.txt')))\n",
        "positiveWords = positiveData[36:]\n",
        "positiveWords = [lineByte.decode('latin-1').strip() for lineByte in positiveWords]\n",
        "\n",
        "data = list(urlopen('https://ptrckprry.com/course/ssd/data/negative-words.txt'))\n",
        "negativeWords = negativeData[36:]\n",
        "negativeWords = [lineByte.decode('latin-1').strip() for lineByte in negativeWords]"
      ]
    },
    {
      "cell_type": "markdown",
      "metadata": {
        "id": "_yEkp0I7lalp"
      },
      "source": [
        "Generating the new dataframe from the sentiment vocabulary."
      ]
    },
    {
      "cell_type": "code",
      "execution_count": 242,
      "metadata": {
        "id": "VRR835-qbPK4",
        "colab": {
          "base_uri": "https://localhost:8080/"
        },
        "outputId": "73269b2a-8f41-460d-b553-556874383a4b"
      },
      "outputs": [
        {
          "output_type": "stream",
          "name": "stdout",
          "text": [
            "(25000, 244)\n",
            "(25000, 244)\n"
          ]
        }
      ],
      "source": [
        "columns = list(train_df_imdb.columns)\n",
        "new_y_train_df_imdb = (train_df_imdb.iloc[: , -1]).to_numpy()\n",
        "new_y_test_df_imdb = (test_df_imdb.iloc[: , -1]).to_numpy()\n",
        "\n",
        "dropColumns = []\n",
        "for word in columns:\n",
        "  if word not in positiveWords and word not in negativeWords:\n",
        "    dropColumns.append(word)\n",
        "\n",
        "new_X_train_imdb = (train_df_imdb.drop(dropColumns, axis=1)).to_numpy() # y_imdb_train\n",
        "new_X_test_imdb = (test_df_imdb.drop(dropColumns, axis=1)).to_numpy() # y_imdb_test\n",
        "\n",
        "print(new_X_train_imdb.shape)\n",
        "print(new_X_test_imdb.shape)"
      ]
    },
    {
      "cell_type": "code",
      "execution_count": 243,
      "metadata": {
        "id": "es3RsK8Yhczz",
        "colab": {
          "base_uri": "https://localhost:8080/"
        },
        "outputId": "34c51bee-676d-40fd-eb5b-e34feb574423"
      },
      "outputs": [
        {
          "output_type": "stream",
          "name": "stdout",
          "text": [
            "Logistic Regression prediction for newly filtered features:  0.7106\n"
          ]
        }
      ],
      "source": [
        "classifier = LogisticRegression(learningRate=best_valid_alpha_logistic, maxIterations=1000)\n",
        "classifier.fit(new_X_train_imdb, new_y_train_df_imdb)\n",
        "probabilities, predictionClasses = classifier.predict(new_X_test_imdb)\n",
        "accuracy = np.sum(new_y_test_df_imdb == predictionClasses) / len(new_y_test_df_imdb)\n",
        "print(\"Logistic Regression prediction for newly filtered features: \", accuracy)"
      ]
    },
    {
      "cell_type": "code",
      "execution_count": 248,
      "metadata": {
        "id": "iUUnIgR_lXxk",
        "colab": {
          "base_uri": "https://localhost:8080/",
          "height": 265
        },
        "outputId": "12593e70-a0b2-4ac0-ae8a-29dcddab6936"
      },
      "outputs": [
        {
          "output_type": "display_data",
          "data": {
            "text/plain": [
              "<Figure size 432x288 with 1 Axes>"
            ],
            "image/png": "[encoded data removed]"
          },
          "metadata": {
            "needs_background": "light"
          }
        }
      ],
      "source": [
        "# Calculate Z-Score of Train set\n",
        "initialFeatures = list(train_df_imdb.drop(dropColumns, axis=1).columns)\n",
        "numRows = new_X_train_imdb.shape[0]\n",
        "X_imdb_standardized = (new_X_train_imdb - new_X_train_imdb.mean(axis=0)) / new_X_train_imdb.std(axis=0)\n",
        "y_imdb_standardized = (new_y_train_df_imdb - y_imdb_train.mean(axis=0)) / new_y_train_df_imdb.std(axis=0)\n",
        "\n",
        "z_scores_train = (X_imdb_standardized.T @ y_imdb_standardized) / np.sqrt(numRows)\n",
        "plt.plot(z_scores_train)\n",
        "index_features_zscores = []\n",
        "for index, (feature, zscore) in enumerate(zip(initialFeatures, z_scores_train)):\n",
        "    index_features_zscores.append((index, feature, zscore))\n",
        "keptIndices, indicesForRemoval = filter(z_scores_train, 7, -7)\n",
        "\n",
        "final_features_index_features_zscores = []\n",
        "for index, item in enumerate(index_features_zscores):\n",
        "    if index in keptIndices:\n",
        "        final_features_index_features_zscores.append(item)\n",
        "sorted_final_features_index_features_zscores = sorted(final_features_index_features_zscores, key=lambda tup: tup[2])\n",
        "most_positive_final_features_index_features_zscores = sorted_final_features_index_features_zscores[-10:]\n",
        "most_negative_final_features_index_features_zscores = sorted_final_features_index_features_zscores[:10]\n",
        "top_zscores = most_negative_final_features_index_features_zscores + most_positive_final_features_index_features_zscores"
      ]
    },
    {
      "cell_type": "code",
      "execution_count": 245,
      "metadata": {
        "id": "P7gPFqODoqOD",
        "colab": {
          "base_uri": "https://localhost:8080/",
          "height": 281
        },
        "outputId": "0ea591f1-5e82-4293-861a-87e55320f26d"
      },
      "outputs": [
        {
          "output_type": "display_data",
          "data": {
            "text/plain": [
              "<Figure size 432x288 with 1 Axes>"
            ],
            "image/png": "[encoded data removed]"
          },
          "metadata": {
            "needs_background": "light"
          }
        }
      ],
      "source": [
        "features = list(list(zip(*top_zscores))[1])\n",
        "zscores = list(list(zip(*top_zscores))[2])\n",
        "\n",
        "# Create data frame\n",
        "zscoreData = {\"Features\": features, \"Z-scores\": zscores}\n",
        "zscoreDF = pd.DataFrame(data=zscoreData);\n",
        " \n",
        "# Plot graph\n",
        "zscoreDF.plot.barh(x='Features', y='Z-scores', title=\"IMDB Reviews Top 20 Features\");\n",
        "plt.show(block=True)"
      ]
    },
    {
      "cell_type": "code",
      "execution_count": 246,
      "metadata": {
        "id": "qB-w5G7alI6K"
      },
      "outputs": [],
      "source": [
        "# Feature-scaled train datasets\n",
        "X_imdb_filtered_train_part9 = removeColumns(new_X_train_imdb, keptIndices)\n",
        "y_imdb_filtered_train_part9 = new_y_train_df_imdb\n",
        "\n",
        "X_imdb_filtered_test_part9 = removeColumns(new_X_test_imdb, keptIndices)\n",
        "y_imdb_filtered_test_part9 = new_y_test_df_imdb"
      ]
    },
    {
      "cell_type": "code",
      "execution_count": 247,
      "metadata": {
        "id": "QhcrOeJwpXDc",
        "colab": {
          "base_uri": "https://localhost:8080/"
        },
        "outputId": "c5111ead-e599-4d8a-ec94-d560b373007b"
      },
      "outputs": [
        {
          "output_type": "stream",
          "name": "stdout",
          "text": [
            "Logistic Regression prediction accuracy for newly filtered features z-score filtered features:  0.69032\n"
          ]
        }
      ],
      "source": [
        "classifier = LogisticRegression(learningRate=best_valid_alpha_logistic, maxIterations=1000)\n",
        "classifier.fit(X_imdb_filtered_train_part9, y_imdb_filtered_train_part9)\n",
        "probabilities, predictionClasses = classifier.predict(X_imdb_filtered_test_part9)\n",
        "accuracy = np.sum(y_imdb_filtered_test_part9 == predictionClasses) / len(y_imdb_filtered_test_part9)\n",
        "print(\"Logistic Regression prediction accuracy for newly filtered features z-score filtered features: \", accuracy)"
      ]
    }
  ],
  "metadata": {
    "colab": {
      "collapsed_sections": [
        "kLA7ZVmQhuPV",
        "BCCzGY-qjvoF",
        "G_dvR-_Gj7M8",
        "i2yifnmAkLeU",
        "emuoUWfWq6hL",
        "Ccce12ad6Pf8",
        "0vLQpFmV93hA",
        "MOKWoi_6-e6n",
        "rKagQk8c-ooh",
        "xp4rqXqp-1qG",
        "PcVYwJgm6gZb",
        "nA9TxNpHTUD8"
      ],
      "provenance": []
    },
    "kernelspec": {
      "display_name": "Python 3",
      "name": "python3"
    },
    "language_info": {
      "name": "python"
    }
  },
  "nbformat": 4,
  "nbformat_minor": 0
}